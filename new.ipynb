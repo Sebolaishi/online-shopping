{
 "cells": [
  {
   "cell_type": "code",
   "execution_count": 2,
   "metadata": {},
   "outputs": [],
   "source": [
    "import pandas as pd"
   ]
  },
  {
   "cell_type": "code",
   "execution_count": 3,
   "metadata": {},
   "outputs": [],
   "source": [
    "#data_1 =  pd.read_csv('ibs_rectypes.csv')\n"
   ]
  },
  {
   "cell_type": "code",
   "execution_count": 13,
   "metadata": {},
   "outputs": [],
   "source": [
    "\n",
    "data_2 =  pd.read_csv('loyalty_product_catalogue.csv')\n"
   ]
  },
  {
   "cell_type": "code",
   "execution_count": 16,
   "metadata": {},
   "outputs": [],
   "source": [
    "data_4 =  pd.read_csv('subscriber_types.dsv')\n"
   ]
  },
  {
   "cell_type": "code",
   "execution_count": null,
   "metadata": {},
   "outputs": [],
   "source": []
  },
  {
   "cell_type": "code",
   "execution_count": 4,
   "metadata": {},
   "outputs": [],
   "source": [
    "new_data = pd.read_csv(\"watson_20180712.dsv\")"
   ]
  },
  {
   "cell_type": "code",
   "execution_count": 5,
   "metadata": {},
   "outputs": [
    {
     "data": {
      "text/html": [
       "<div>\n",
       "<style scoped>\n",
       "    .dataframe tbody tr th:only-of-type {\n",
       "        vertical-align: middle;\n",
       "    }\n",
       "\n",
       "    .dataframe tbody tr th {\n",
       "        vertical-align: top;\n",
       "    }\n",
       "\n",
       "    .dataframe thead th {\n",
       "        text-align: right;\n",
       "    }\n",
       "</style>\n",
       "<table border=\"1\" class=\"dataframe\">\n",
       "  <thead>\n",
       "    <tr style=\"text-align: right;\">\n",
       "      <th></th>\n",
       "      <th>EDR_VERSION</th>\n",
       "      <th>EDR_ID</th>\n",
       "      <th>SOURCE_CHANNEL</th>\n",
       "      <th>DESTINATION_CHANNEL</th>\n",
       "      <th>REC_TYPE</th>\n",
       "      <th>SUB_TYPE</th>\n",
       "      <th>SUBMIT_DATE_TIME</th>\n",
       "      <th>PROCESSED_DATE_TIME</th>\n",
       "      <th>WALLET</th>\n",
       "      <th>COMMAND</th>\n",
       "      <th>...</th>\n",
       "      <th>UNIT_OF_MEASURE</th>\n",
       "      <th>ORDER_TRACKING_NUMBER</th>\n",
       "      <th>GENERAL1</th>\n",
       "      <th>GENERAL2</th>\n",
       "      <th>GENERAL3</th>\n",
       "      <th>GENERAL4</th>\n",
       "      <th>GENERAL5</th>\n",
       "      <th>CDR_CORRECTED</th>\n",
       "      <th>ADJUSTMENTOFFERS</th>\n",
       "      <th>EFFECTIVERATE</th>\n",
       "    </tr>\n",
       "  </thead>\n",
       "  <tbody>\n",
       "    <tr>\n",
       "      <th>0</th>\n",
       "      <td>TMIPCHARGE</td>\n",
       "      <td>127552521300</td>\n",
       "      <td>nledip01.mtn.co.za</td>\n",
       "      <td>CNCCN04</td>\n",
       "      <td>61</td>\n",
       "      <td>1</td>\n",
       "      <td>12-JUL-2018 00:53:48</td>\n",
       "      <td>12-JUL-2018 00:53:48</td>\n",
       "      <td>LOYSMS</td>\n",
       "      <td>SWAdjust</td>\n",
       "      <td>...</td>\n",
       "      <td>U</td>\n",
       "      <td>NaN</td>\n",
       "      <td>NaN</td>\n",
       "      <td>NaN</td>\n",
       "      <td>NaN</td>\n",
       "      <td>NaN</td>\n",
       "      <td>NaN</td>\n",
       "      <td>NaN</td>\n",
       "      <td>NaN</td>\n",
       "      <td>NaN</td>\n",
       "    </tr>\n",
       "    <tr>\n",
       "      <th>1</th>\n",
       "      <td>TPROVISION</td>\n",
       "      <td>2026577983</td>\n",
       "      <td>VRXML:SAAE</td>\n",
       "      <td>PPMED</td>\n",
       "      <td>23</td>\n",
       "      <td>1</td>\n",
       "      <td>12-JUL-2018 00:43:00</td>\n",
       "      <td>12-JUL-2018 00:43:00</td>\n",
       "      <td>SMILE</td>\n",
       "      <td>PPMEDADJUST</td>\n",
       "      <td>...</td>\n",
       "      <td>Points</td>\n",
       "      <td>2026577983-20180712004300.160</td>\n",
       "      <td>NaN</td>\n",
       "      <td>NaN</td>\n",
       "      <td>NaN</td>\n",
       "      <td>NaN</td>\n",
       "      <td>NaN</td>\n",
       "      <td>NaN</td>\n",
       "      <td>NaN</td>\n",
       "      <td>NaN</td>\n",
       "    </tr>\n",
       "    <tr>\n",
       "      <th>2</th>\n",
       "      <td>TMIPCHARGE</td>\n",
       "      <td>129959681800</td>\n",
       "      <td>geedip01.mtn.co.za</td>\n",
       "      <td>GECCN1</td>\n",
       "      <td>61</td>\n",
       "      <td>1</td>\n",
       "      <td>12-JUL-2018 00:53:19</td>\n",
       "      <td>12-JUL-2018 00:53:19</td>\n",
       "      <td>LOYSMS</td>\n",
       "      <td>SWAdjust</td>\n",
       "      <td>...</td>\n",
       "      <td>U</td>\n",
       "      <td>NaN</td>\n",
       "      <td>NaN</td>\n",
       "      <td>NaN</td>\n",
       "      <td>NaN</td>\n",
       "      <td>NaN</td>\n",
       "      <td>NaN</td>\n",
       "      <td>NaN</td>\n",
       "      <td>NaN</td>\n",
       "      <td>NaN</td>\n",
       "    </tr>\n",
       "    <tr>\n",
       "      <th>3</th>\n",
       "      <td>TMIPCHARGE</td>\n",
       "      <td>129959686900</td>\n",
       "      <td>geedip01.mtn.co.za</td>\n",
       "      <td>GECCN1</td>\n",
       "      <td>61</td>\n",
       "      <td>1</td>\n",
       "      <td>12-JUL-2018 00:53:32</td>\n",
       "      <td>12-JUL-2018 00:53:32</td>\n",
       "      <td>LOYSMS</td>\n",
       "      <td>SWAdjust</td>\n",
       "      <td>...</td>\n",
       "      <td>U</td>\n",
       "      <td>NaN</td>\n",
       "      <td>NaN</td>\n",
       "      <td>NaN</td>\n",
       "      <td>NaN</td>\n",
       "      <td>NaN</td>\n",
       "      <td>NaN</td>\n",
       "      <td>NaN</td>\n",
       "      <td>NaN</td>\n",
       "      <td>NaN</td>\n",
       "    </tr>\n",
       "    <tr>\n",
       "      <th>4</th>\n",
       "      <td>TMIPCHARGE</td>\n",
       "      <td>129959692100</td>\n",
       "      <td>geedip01.mtn.co.za</td>\n",
       "      <td>GECCN1</td>\n",
       "      <td>61</td>\n",
       "      <td>5</td>\n",
       "      <td>12-JUL-2018 00:53:44</td>\n",
       "      <td>12-JUL-2018 00:53:44</td>\n",
       "      <td>LOYSMS</td>\n",
       "      <td>SWAdjust</td>\n",
       "      <td>...</td>\n",
       "      <td>U</td>\n",
       "      <td>NaN</td>\n",
       "      <td>NaN</td>\n",
       "      <td>NaN</td>\n",
       "      <td>NaN</td>\n",
       "      <td>NaN</td>\n",
       "      <td>NaN</td>\n",
       "      <td>NaN</td>\n",
       "      <td>NaN</td>\n",
       "      <td>NaN</td>\n",
       "    </tr>\n",
       "    <tr>\n",
       "      <th>5</th>\n",
       "      <td>TPROVISION</td>\n",
       "      <td>2026579002</td>\n",
       "      <td>VRXML:SAAE</td>\n",
       "      <td>PPMED</td>\n",
       "      <td>23</td>\n",
       "      <td>5</td>\n",
       "      <td>12-JUL-2018 00:51:51</td>\n",
       "      <td>12-JUL-2018 00:51:51</td>\n",
       "      <td>SMILE</td>\n",
       "      <td>PPMEDADJUST</td>\n",
       "      <td>...</td>\n",
       "      <td>Points</td>\n",
       "      <td>2026579002-20180712005151.397</td>\n",
       "      <td>NaN</td>\n",
       "      <td>NaN</td>\n",
       "      <td>NaN</td>\n",
       "      <td>NaN</td>\n",
       "      <td>NaN</td>\n",
       "      <td>NaN</td>\n",
       "      <td>NaN</td>\n",
       "      <td>NaN</td>\n",
       "    </tr>\n",
       "    <tr>\n",
       "      <th>6</th>\n",
       "      <td>TMIPCHARGE</td>\n",
       "      <td>83549520700</td>\n",
       "      <td>geedip01.mtn.co.za</td>\n",
       "      <td>CNCCN02</td>\n",
       "      <td>61</td>\n",
       "      <td>1</td>\n",
       "      <td>12-JUL-2018 00:52:11</td>\n",
       "      <td>12-JUL-2018 00:52:11</td>\n",
       "      <td>LOYSMS</td>\n",
       "      <td>SWAdjust</td>\n",
       "      <td>...</td>\n",
       "      <td>U</td>\n",
       "      <td>NaN</td>\n",
       "      <td>NaN</td>\n",
       "      <td>NaN</td>\n",
       "      <td>NaN</td>\n",
       "      <td>NaN</td>\n",
       "      <td>NaN</td>\n",
       "      <td>NaN</td>\n",
       "      <td>NaN</td>\n",
       "      <td>NaN</td>\n",
       "    </tr>\n",
       "    <tr>\n",
       "      <th>7</th>\n",
       "      <td>TPROVISION</td>\n",
       "      <td>2026578605</td>\n",
       "      <td>VRXML:SAAE</td>\n",
       "      <td>PPMED</td>\n",
       "      <td>23</td>\n",
       "      <td>1</td>\n",
       "      <td>12-JUL-2018 00:48:19</td>\n",
       "      <td>12-JUL-2018 00:48:19</td>\n",
       "      <td>SMILE</td>\n",
       "      <td>PPMEDADJUST</td>\n",
       "      <td>...</td>\n",
       "      <td>Points</td>\n",
       "      <td>2026578605-20180712004819.290</td>\n",
       "      <td>NaN</td>\n",
       "      <td>NaN</td>\n",
       "      <td>NaN</td>\n",
       "      <td>NaN</td>\n",
       "      <td>NaN</td>\n",
       "      <td>NaN</td>\n",
       "      <td>NaN</td>\n",
       "      <td>NaN</td>\n",
       "    </tr>\n",
       "    <tr>\n",
       "      <th>8</th>\n",
       "      <td>TPROVISION</td>\n",
       "      <td>2026578626</td>\n",
       "      <td>VRXML:SAAE</td>\n",
       "      <td>PPMED</td>\n",
       "      <td>23</td>\n",
       "      <td>1</td>\n",
       "      <td>12-JUL-2018 00:48:30</td>\n",
       "      <td>12-JUL-2018 00:48:30</td>\n",
       "      <td>SMILE</td>\n",
       "      <td>PPMEDADJUST</td>\n",
       "      <td>...</td>\n",
       "      <td>Points</td>\n",
       "      <td>2026578626-20180712004830.266</td>\n",
       "      <td>NaN</td>\n",
       "      <td>NaN</td>\n",
       "      <td>NaN</td>\n",
       "      <td>NaN</td>\n",
       "      <td>NaN</td>\n",
       "      <td>NaN</td>\n",
       "      <td>NaN</td>\n",
       "      <td>NaN</td>\n",
       "    </tr>\n",
       "    <tr>\n",
       "      <th>9</th>\n",
       "      <td>TMIPCHARGE</td>\n",
       "      <td>83549593300</td>\n",
       "      <td>nledip01.mtn.co.za</td>\n",
       "      <td>CNCCN02</td>\n",
       "      <td>61</td>\n",
       "      <td>1</td>\n",
       "      <td>12-JUL-2018 00:59:57</td>\n",
       "      <td>12-JUL-2018 00:59:57</td>\n",
       "      <td>LOYSMS</td>\n",
       "      <td>SWAdjust</td>\n",
       "      <td>...</td>\n",
       "      <td>U</td>\n",
       "      <td>NaN</td>\n",
       "      <td>NaN</td>\n",
       "      <td>NaN</td>\n",
       "      <td>NaN</td>\n",
       "      <td>NaN</td>\n",
       "      <td>NaN</td>\n",
       "      <td>NaN</td>\n",
       "      <td>NaN</td>\n",
       "      <td>NaN</td>\n",
       "    </tr>\n",
       "    <tr>\n",
       "      <th>10</th>\n",
       "      <td>TMIPCHARGE</td>\n",
       "      <td>83549594100</td>\n",
       "      <td>nledip01.mtn.co.za</td>\n",
       "      <td>CNCCN02</td>\n",
       "      <td>61</td>\n",
       "      <td>1</td>\n",
       "      <td>12-JUL-2018 01:00:02</td>\n",
       "      <td>12-JUL-2018 01:00:02</td>\n",
       "      <td>LOYSMS</td>\n",
       "      <td>SWAdjust</td>\n",
       "      <td>...</td>\n",
       "      <td>U</td>\n",
       "      <td>NaN</td>\n",
       "      <td>NaN</td>\n",
       "      <td>NaN</td>\n",
       "      <td>NaN</td>\n",
       "      <td>NaN</td>\n",
       "      <td>NaN</td>\n",
       "      <td>NaN</td>\n",
       "      <td>NaN</td>\n",
       "      <td>NaN</td>\n",
       "    </tr>\n",
       "    <tr>\n",
       "      <th>11</th>\n",
       "      <td>TMIPCHARGE</td>\n",
       "      <td>83549594800</td>\n",
       "      <td>nledip01.mtn.co.za</td>\n",
       "      <td>CNCCN02</td>\n",
       "      <td>61</td>\n",
       "      <td>1</td>\n",
       "      <td>12-JUL-2018 01:00:06</td>\n",
       "      <td>12-JUL-2018 01:00:06</td>\n",
       "      <td>LOYSMS</td>\n",
       "      <td>SWAdjust</td>\n",
       "      <td>...</td>\n",
       "      <td>U</td>\n",
       "      <td>NaN</td>\n",
       "      <td>NaN</td>\n",
       "      <td>NaN</td>\n",
       "      <td>NaN</td>\n",
       "      <td>NaN</td>\n",
       "      <td>NaN</td>\n",
       "      <td>NaN</td>\n",
       "      <td>NaN</td>\n",
       "      <td>NaN</td>\n",
       "    </tr>\n",
       "    <tr>\n",
       "      <th>12</th>\n",
       "      <td>TMIPCHARGE</td>\n",
       "      <td>83598021600</td>\n",
       "      <td>nledip01.mtn.co.za</td>\n",
       "      <td>CNCCN02</td>\n",
       "      <td>61</td>\n",
       "      <td>1</td>\n",
       "      <td>12-JUL-2018 00:51:46</td>\n",
       "      <td>12-JUL-2018 00:51:46</td>\n",
       "      <td>LOYSMS</td>\n",
       "      <td>SWAdjust</td>\n",
       "      <td>...</td>\n",
       "      <td>U</td>\n",
       "      <td>NaN</td>\n",
       "      <td>NaN</td>\n",
       "      <td>NaN</td>\n",
       "      <td>NaN</td>\n",
       "      <td>NaN</td>\n",
       "      <td>NaN</td>\n",
       "      <td>NaN</td>\n",
       "      <td>NaN</td>\n",
       "      <td>NaN</td>\n",
       "    </tr>\n",
       "    <tr>\n",
       "      <th>13</th>\n",
       "      <td>TPROVISION</td>\n",
       "      <td>2028062692</td>\n",
       "      <td>VRXML:SAAE</td>\n",
       "      <td>PPMED</td>\n",
       "      <td>23</td>\n",
       "      <td>1</td>\n",
       "      <td>12-JUL-2018 00:48:26</td>\n",
       "      <td>12-JUL-2018 00:48:26</td>\n",
       "      <td>SMILE</td>\n",
       "      <td>PPMEDADJUST</td>\n",
       "      <td>...</td>\n",
       "      <td>Points</td>\n",
       "      <td>2028062692-20180712004826.629</td>\n",
       "      <td>NaN</td>\n",
       "      <td>NaN</td>\n",
       "      <td>NaN</td>\n",
       "      <td>NaN</td>\n",
       "      <td>NaN</td>\n",
       "      <td>NaN</td>\n",
       "      <td>NaN</td>\n",
       "      <td>NaN</td>\n",
       "    </tr>\n",
       "    <tr>\n",
       "      <th>14</th>\n",
       "      <td>TPROVISION</td>\n",
       "      <td>2028062697</td>\n",
       "      <td>VRXML:SAAE</td>\n",
       "      <td>PPMED</td>\n",
       "      <td>23</td>\n",
       "      <td>1</td>\n",
       "      <td>12-JUL-2018 00:48:31</td>\n",
       "      <td>12-JUL-2018 00:48:31</td>\n",
       "      <td>SMILE</td>\n",
       "      <td>PPMEDADJUST</td>\n",
       "      <td>...</td>\n",
       "      <td>Points</td>\n",
       "      <td>2028062697-20180712004831.461</td>\n",
       "      <td>NaN</td>\n",
       "      <td>NaN</td>\n",
       "      <td>NaN</td>\n",
       "      <td>NaN</td>\n",
       "      <td>NaN</td>\n",
       "      <td>NaN</td>\n",
       "      <td>NaN</td>\n",
       "      <td>NaN</td>\n",
       "    </tr>\n",
       "    <tr>\n",
       "      <th>15</th>\n",
       "      <td>TPROVISION</td>\n",
       "      <td>2028062698</td>\n",
       "      <td>VRXML:SAAE</td>\n",
       "      <td>PPMED</td>\n",
       "      <td>23</td>\n",
       "      <td>1</td>\n",
       "      <td>12-JUL-2018 00:48:32</td>\n",
       "      <td>12-JUL-2018 00:48:32</td>\n",
       "      <td>SMILE</td>\n",
       "      <td>PPMEDADJUST</td>\n",
       "      <td>...</td>\n",
       "      <td>Points</td>\n",
       "      <td>2028062698-20180712004832.424</td>\n",
       "      <td>NaN</td>\n",
       "      <td>NaN</td>\n",
       "      <td>NaN</td>\n",
       "      <td>NaN</td>\n",
       "      <td>NaN</td>\n",
       "      <td>NaN</td>\n",
       "      <td>NaN</td>\n",
       "      <td>NaN</td>\n",
       "    </tr>\n",
       "    <tr>\n",
       "      <th>16</th>\n",
       "      <td>TPROVISION</td>\n",
       "      <td>2028062719</td>\n",
       "      <td>VRXML:SAAE</td>\n",
       "      <td>PPMED</td>\n",
       "      <td>23</td>\n",
       "      <td>1</td>\n",
       "      <td>12-JUL-2018 00:48:42</td>\n",
       "      <td>12-JUL-2018 00:48:42</td>\n",
       "      <td>SMILE</td>\n",
       "      <td>PPMEDADJUST</td>\n",
       "      <td>...</td>\n",
       "      <td>Points</td>\n",
       "      <td>2028062719-20180712004842.520</td>\n",
       "      <td>NaN</td>\n",
       "      <td>NaN</td>\n",
       "      <td>NaN</td>\n",
       "      <td>NaN</td>\n",
       "      <td>NaN</td>\n",
       "      <td>NaN</td>\n",
       "      <td>NaN</td>\n",
       "      <td>NaN</td>\n",
       "    </tr>\n",
       "    <tr>\n",
       "      <th>17</th>\n",
       "      <td>TPROVISION</td>\n",
       "      <td>2028062724</td>\n",
       "      <td>VRXML:SAAE</td>\n",
       "      <td>PPMED</td>\n",
       "      <td>23</td>\n",
       "      <td>1</td>\n",
       "      <td>12-JUL-2018 00:48:44</td>\n",
       "      <td>12-JUL-2018 00:48:44</td>\n",
       "      <td>SMILE</td>\n",
       "      <td>PPMEDADJUST</td>\n",
       "      <td>...</td>\n",
       "      <td>Points</td>\n",
       "      <td>2028062724-20180712004844.743</td>\n",
       "      <td>NaN</td>\n",
       "      <td>NaN</td>\n",
       "      <td>NaN</td>\n",
       "      <td>NaN</td>\n",
       "      <td>NaN</td>\n",
       "      <td>NaN</td>\n",
       "      <td>NaN</td>\n",
       "      <td>NaN</td>\n",
       "    </tr>\n",
       "    <tr>\n",
       "      <th>18</th>\n",
       "      <td>TPROVISION</td>\n",
       "      <td>2028063207</td>\n",
       "      <td>VRXML:SAAE</td>\n",
       "      <td>PPMED</td>\n",
       "      <td>23</td>\n",
       "      <td>1</td>\n",
       "      <td>12-JUL-2018 00:52:51</td>\n",
       "      <td>12-JUL-2018 00:52:51</td>\n",
       "      <td>SMILE</td>\n",
       "      <td>PPMEDADJUST</td>\n",
       "      <td>...</td>\n",
       "      <td>Points</td>\n",
       "      <td>2028063207-20180712005251.830</td>\n",
       "      <td>NaN</td>\n",
       "      <td>NaN</td>\n",
       "      <td>NaN</td>\n",
       "      <td>NaN</td>\n",
       "      <td>NaN</td>\n",
       "      <td>NaN</td>\n",
       "      <td>NaN</td>\n",
       "      <td>NaN</td>\n",
       "    </tr>\n",
       "    <tr>\n",
       "      <th>19</th>\n",
       "      <td>TPROVISION</td>\n",
       "      <td>2028063208</td>\n",
       "      <td>VRXML:SAAE</td>\n",
       "      <td>PPMED</td>\n",
       "      <td>23</td>\n",
       "      <td>1</td>\n",
       "      <td>12-JUL-2018 00:52:51</td>\n",
       "      <td>12-JUL-2018 00:52:51</td>\n",
       "      <td>SMILE</td>\n",
       "      <td>PPMEDADJUST</td>\n",
       "      <td>...</td>\n",
       "      <td>Points</td>\n",
       "      <td>2028063208-20180712005251.888</td>\n",
       "      <td>NaN</td>\n",
       "      <td>NaN</td>\n",
       "      <td>NaN</td>\n",
       "      <td>NaN</td>\n",
       "      <td>NaN</td>\n",
       "      <td>NaN</td>\n",
       "      <td>NaN</td>\n",
       "      <td>NaN</td>\n",
       "    </tr>\n",
       "    <tr>\n",
       "      <th>20</th>\n",
       "      <td>TPROVISION</td>\n",
       "      <td>2028063287</td>\n",
       "      <td>VRXML:SAAE</td>\n",
       "      <td>PPMED</td>\n",
       "      <td>23</td>\n",
       "      <td>1</td>\n",
       "      <td>12-JUL-2018 00:53:28</td>\n",
       "      <td>12-JUL-2018 00:53:28</td>\n",
       "      <td>SMILE</td>\n",
       "      <td>PPMEDADJUST</td>\n",
       "      <td>...</td>\n",
       "      <td>Points</td>\n",
       "      <td>2028063287-20180712005328.328</td>\n",
       "      <td>NaN</td>\n",
       "      <td>NaN</td>\n",
       "      <td>NaN</td>\n",
       "      <td>NaN</td>\n",
       "      <td>NaN</td>\n",
       "      <td>NaN</td>\n",
       "      <td>NaN</td>\n",
       "      <td>NaN</td>\n",
       "    </tr>\n",
       "    <tr>\n",
       "      <th>21</th>\n",
       "      <td>TPROVISION</td>\n",
       "      <td>2028063318</td>\n",
       "      <td>VRXML:SAAE</td>\n",
       "      <td>PPMED</td>\n",
       "      <td>23</td>\n",
       "      <td>1</td>\n",
       "      <td>12-JUL-2018 00:53:44</td>\n",
       "      <td>12-JUL-2018 00:53:44</td>\n",
       "      <td>SMILE</td>\n",
       "      <td>PPMEDADJUST</td>\n",
       "      <td>...</td>\n",
       "      <td>Points</td>\n",
       "      <td>2028063318-20180712005344.436</td>\n",
       "      <td>NaN</td>\n",
       "      <td>NaN</td>\n",
       "      <td>NaN</td>\n",
       "      <td>NaN</td>\n",
       "      <td>NaN</td>\n",
       "      <td>NaN</td>\n",
       "      <td>NaN</td>\n",
       "      <td>NaN</td>\n",
       "    </tr>\n",
       "    <tr>\n",
       "      <th>22</th>\n",
       "      <td>TMIPCHARGE</td>\n",
       "      <td>83933459300</td>\n",
       "      <td>geedip01.mtn.co.za</td>\n",
       "      <td>CNCCN02</td>\n",
       "      <td>61</td>\n",
       "      <td>1</td>\n",
       "      <td>12-JUL-2018 00:59:53</td>\n",
       "      <td>12-JUL-2018 00:59:53</td>\n",
       "      <td>LOYSMS</td>\n",
       "      <td>SWAdjust</td>\n",
       "      <td>...</td>\n",
       "      <td>U</td>\n",
       "      <td>NaN</td>\n",
       "      <td>NaN</td>\n",
       "      <td>NaN</td>\n",
       "      <td>NaN</td>\n",
       "      <td>NaN</td>\n",
       "      <td>NaN</td>\n",
       "      <td>NaN</td>\n",
       "      <td>NaN</td>\n",
       "      <td>NaN</td>\n",
       "    </tr>\n",
       "    <tr>\n",
       "      <th>23</th>\n",
       "      <td>TPROVISION</td>\n",
       "      <td>2026578262</td>\n",
       "      <td>VRXML:SAAE</td>\n",
       "      <td>PPMED</td>\n",
       "      <td>23</td>\n",
       "      <td>1</td>\n",
       "      <td>12-JUL-2018 00:45:31</td>\n",
       "      <td>12-JUL-2018 00:45:31</td>\n",
       "      <td>SMILE</td>\n",
       "      <td>PPMEDADJUST</td>\n",
       "      <td>...</td>\n",
       "      <td>Points</td>\n",
       "      <td>2026578262-20180712004531.189</td>\n",
       "      <td>NaN</td>\n",
       "      <td>NaN</td>\n",
       "      <td>NaN</td>\n",
       "      <td>NaN</td>\n",
       "      <td>NaN</td>\n",
       "      <td>NaN</td>\n",
       "      <td>NaN</td>\n",
       "      <td>NaN</td>\n",
       "    </tr>\n",
       "    <tr>\n",
       "      <th>24</th>\n",
       "      <td>TPROVISION</td>\n",
       "      <td>2026578456</td>\n",
       "      <td>VRXML:SAAE</td>\n",
       "      <td>PPMED</td>\n",
       "      <td>23</td>\n",
       "      <td>1</td>\n",
       "      <td>12-JUL-2018 00:47:07</td>\n",
       "      <td>12-JUL-2018 00:47:07</td>\n",
       "      <td>SMILE</td>\n",
       "      <td>PPMEDADJUST</td>\n",
       "      <td>...</td>\n",
       "      <td>Points</td>\n",
       "      <td>2026578456-20180712004707.887</td>\n",
       "      <td>NaN</td>\n",
       "      <td>NaN</td>\n",
       "      <td>NaN</td>\n",
       "      <td>NaN</td>\n",
       "      <td>NaN</td>\n",
       "      <td>NaN</td>\n",
       "      <td>NaN</td>\n",
       "      <td>NaN</td>\n",
       "    </tr>\n",
       "    <tr>\n",
       "      <th>25</th>\n",
       "      <td>TPROVISION</td>\n",
       "      <td>2026578466</td>\n",
       "      <td>VRXML:SAAE</td>\n",
       "      <td>PPMED</td>\n",
       "      <td>23</td>\n",
       "      <td>1</td>\n",
       "      <td>12-JUL-2018 00:47:14</td>\n",
       "      <td>12-JUL-2018 00:47:14</td>\n",
       "      <td>SMILE</td>\n",
       "      <td>PPMEDADJUST</td>\n",
       "      <td>...</td>\n",
       "      <td>Points</td>\n",
       "      <td>2026578466-20180712004714.746</td>\n",
       "      <td>NaN</td>\n",
       "      <td>NaN</td>\n",
       "      <td>NaN</td>\n",
       "      <td>NaN</td>\n",
       "      <td>NaN</td>\n",
       "      <td>NaN</td>\n",
       "      <td>NaN</td>\n",
       "      <td>NaN</td>\n",
       "    </tr>\n",
       "    <tr>\n",
       "      <th>26</th>\n",
       "      <td>TPROVISION</td>\n",
       "      <td>2026578482</td>\n",
       "      <td>VRXML:SAAE</td>\n",
       "      <td>PPMED</td>\n",
       "      <td>23</td>\n",
       "      <td>1</td>\n",
       "      <td>12-JUL-2018 00:47:25</td>\n",
       "      <td>12-JUL-2018 00:47:25</td>\n",
       "      <td>SMILE</td>\n",
       "      <td>PPMEDADJUST</td>\n",
       "      <td>...</td>\n",
       "      <td>Points</td>\n",
       "      <td>2026578482-20180712004725.837</td>\n",
       "      <td>NaN</td>\n",
       "      <td>NaN</td>\n",
       "      <td>NaN</td>\n",
       "      <td>NaN</td>\n",
       "      <td>NaN</td>\n",
       "      <td>NaN</td>\n",
       "      <td>NaN</td>\n",
       "      <td>NaN</td>\n",
       "    </tr>\n",
       "    <tr>\n",
       "      <th>27</th>\n",
       "      <td>TMIPCHARGE</td>\n",
       "      <td>127552538900</td>\n",
       "      <td>geedip01.mtn.co.za</td>\n",
       "      <td>CNCCN04</td>\n",
       "      <td>61</td>\n",
       "      <td>1</td>\n",
       "      <td>12-JUL-2018 00:54:36</td>\n",
       "      <td>12-JUL-2018 00:54:36</td>\n",
       "      <td>LOYSMS</td>\n",
       "      <td>SWAdjust</td>\n",
       "      <td>...</td>\n",
       "      <td>U</td>\n",
       "      <td>NaN</td>\n",
       "      <td>NaN</td>\n",
       "      <td>NaN</td>\n",
       "      <td>NaN</td>\n",
       "      <td>NaN</td>\n",
       "      <td>NaN</td>\n",
       "      <td>NaN</td>\n",
       "      <td>NaN</td>\n",
       "      <td>NaN</td>\n",
       "    </tr>\n",
       "    <tr>\n",
       "      <th>28</th>\n",
       "      <td>TPROVISION</td>\n",
       "      <td>2026578051</td>\n",
       "      <td>VRXML:SAAE</td>\n",
       "      <td>PPMED</td>\n",
       "      <td>23</td>\n",
       "      <td>1</td>\n",
       "      <td>12-JUL-2018 00:43:40</td>\n",
       "      <td>12-JUL-2018 00:43:40</td>\n",
       "      <td>SMILE</td>\n",
       "      <td>PPMEDADJUST</td>\n",
       "      <td>...</td>\n",
       "      <td>Points</td>\n",
       "      <td>2026578051-20180712004340.427</td>\n",
       "      <td>NaN</td>\n",
       "      <td>NaN</td>\n",
       "      <td>NaN</td>\n",
       "      <td>NaN</td>\n",
       "      <td>NaN</td>\n",
       "      <td>NaN</td>\n",
       "      <td>NaN</td>\n",
       "      <td>NaN</td>\n",
       "    </tr>\n",
       "    <tr>\n",
       "      <th>29</th>\n",
       "      <td>TPROVISION</td>\n",
       "      <td>2026578053</td>\n",
       "      <td>VRXML:SAAE</td>\n",
       "      <td>PPMED</td>\n",
       "      <td>23</td>\n",
       "      <td>1</td>\n",
       "      <td>12-JUL-2018 00:43:41</td>\n",
       "      <td>12-JUL-2018 00:43:41</td>\n",
       "      <td>SMILE</td>\n",
       "      <td>PPMEDADJUST</td>\n",
       "      <td>...</td>\n",
       "      <td>Points</td>\n",
       "      <td>2026578053-20180712004341.840</td>\n",
       "      <td>NaN</td>\n",
       "      <td>NaN</td>\n",
       "      <td>NaN</td>\n",
       "      <td>NaN</td>\n",
       "      <td>NaN</td>\n",
       "      <td>NaN</td>\n",
       "      <td>NaN</td>\n",
       "      <td>NaN</td>\n",
       "    </tr>\n",
       "    <tr>\n",
       "      <th>...</th>\n",
       "      <td>...</td>\n",
       "      <td>...</td>\n",
       "      <td>...</td>\n",
       "      <td>...</td>\n",
       "      <td>...</td>\n",
       "      <td>...</td>\n",
       "      <td>...</td>\n",
       "      <td>...</td>\n",
       "      <td>...</td>\n",
       "      <td>...</td>\n",
       "      <td>...</td>\n",
       "      <td>...</td>\n",
       "      <td>...</td>\n",
       "      <td>...</td>\n",
       "      <td>...</td>\n",
       "      <td>...</td>\n",
       "      <td>...</td>\n",
       "      <td>...</td>\n",
       "      <td>...</td>\n",
       "      <td>...</td>\n",
       "      <td>...</td>\n",
       "    </tr>\n",
       "    <tr>\n",
       "      <th>2501099</th>\n",
       "      <td>TPROVISION</td>\n",
       "      <td>3058985</td>\n",
       "      <td>PPVS:USSD</td>\n",
       "      <td>PPMED</td>\n",
       "      <td>23</td>\n",
       "      <td>5</td>\n",
       "      <td>12-JUL-2018 17:38:15</td>\n",
       "      <td>12-JUL-2018 17:38:15</td>\n",
       "      <td>SMILE</td>\n",
       "      <td>PPMEDADJUST</td>\n",
       "      <td>...</td>\n",
       "      <td>Points</td>\n",
       "      <td>ge14101-15314098955271</td>\n",
       "      <td>NaN</td>\n",
       "      <td>NaN</td>\n",
       "      <td>NaN</td>\n",
       "      <td>NaN</td>\n",
       "      <td>NaN</td>\n",
       "      <td>NaN</td>\n",
       "      <td>NaN</td>\n",
       "      <td>NaN</td>\n",
       "    </tr>\n",
       "    <tr>\n",
       "      <th>2501100</th>\n",
       "      <td>TSMILE</td>\n",
       "      <td>4473284</td>\n",
       "      <td>USSDXML:USRT141</td>\n",
       "      <td>IBS</td>\n",
       "      <td>29</td>\n",
       "      <td>1</td>\n",
       "      <td>12-JUL-2018 17:38:16</td>\n",
       "      <td>12-JUL-2018 17:38:16</td>\n",
       "      <td>SMILE</td>\n",
       "      <td>PPMEDADJUST</td>\n",
       "      <td>...</td>\n",
       "      <td>Points</td>\n",
       "      <td>4473284-20180712173816.944</td>\n",
       "      <td>LOYS001</td>\n",
       "      <td>NaN</td>\n",
       "      <td>NaN</td>\n",
       "      <td>NaN</td>\n",
       "      <td>NaN</td>\n",
       "      <td>NaN</td>\n",
       "      <td>NaN</td>\n",
       "      <td>NaN</td>\n",
       "    </tr>\n",
       "    <tr>\n",
       "      <th>2501101</th>\n",
       "      <td>TPROVISION</td>\n",
       "      <td>3564365</td>\n",
       "      <td>VRXML:SAAE</td>\n",
       "      <td>PPMED</td>\n",
       "      <td>23</td>\n",
       "      <td>1</td>\n",
       "      <td>12-JUL-2018 17:31:16</td>\n",
       "      <td>12-JUL-2018 17:31:16</td>\n",
       "      <td>SMILE</td>\n",
       "      <td>PPMEDADJUST</td>\n",
       "      <td>...</td>\n",
       "      <td>Points</td>\n",
       "      <td>3564365-20180712173116.935</td>\n",
       "      <td>NaN</td>\n",
       "      <td>NaN</td>\n",
       "      <td>NaN</td>\n",
       "      <td>NaN</td>\n",
       "      <td>NaN</td>\n",
       "      <td>NaN</td>\n",
       "      <td>NaN</td>\n",
       "      <td>NaN</td>\n",
       "    </tr>\n",
       "    <tr>\n",
       "      <th>2501102</th>\n",
       "      <td>TPROVISION</td>\n",
       "      <td>3564367</td>\n",
       "      <td>VRXML:SAAE</td>\n",
       "      <td>PPMED</td>\n",
       "      <td>23</td>\n",
       "      <td>1</td>\n",
       "      <td>12-JUL-2018 17:31:16</td>\n",
       "      <td>12-JUL-2018 17:31:16</td>\n",
       "      <td>SMILE</td>\n",
       "      <td>PPMEDADJUST</td>\n",
       "      <td>...</td>\n",
       "      <td>Points</td>\n",
       "      <td>3564367-20180712173116.951</td>\n",
       "      <td>NaN</td>\n",
       "      <td>NaN</td>\n",
       "      <td>NaN</td>\n",
       "      <td>NaN</td>\n",
       "      <td>NaN</td>\n",
       "      <td>NaN</td>\n",
       "      <td>NaN</td>\n",
       "      <td>NaN</td>\n",
       "    </tr>\n",
       "    <tr>\n",
       "      <th>2501103</th>\n",
       "      <td>TPROVISION</td>\n",
       "      <td>3564374</td>\n",
       "      <td>VRXML:SAAE</td>\n",
       "      <td>PPMED</td>\n",
       "      <td>23</td>\n",
       "      <td>1</td>\n",
       "      <td>12-JUL-2018 17:31:17</td>\n",
       "      <td>12-JUL-2018 17:31:17</td>\n",
       "      <td>SMILE</td>\n",
       "      <td>PPMEDADJUST</td>\n",
       "      <td>...</td>\n",
       "      <td>Points</td>\n",
       "      <td>3564374-20180712173117.106</td>\n",
       "      <td>NaN</td>\n",
       "      <td>NaN</td>\n",
       "      <td>NaN</td>\n",
       "      <td>NaN</td>\n",
       "      <td>NaN</td>\n",
       "      <td>NaN</td>\n",
       "      <td>NaN</td>\n",
       "      <td>NaN</td>\n",
       "    </tr>\n",
       "    <tr>\n",
       "      <th>2501104</th>\n",
       "      <td>TPROVISION</td>\n",
       "      <td>4459195</td>\n",
       "      <td>USSDXML:ge14101</td>\n",
       "      <td>PPMED</td>\n",
       "      <td>23</td>\n",
       "      <td>1</td>\n",
       "      <td>12-JUL-2018 17:35:21</td>\n",
       "      <td>12-JUL-2018 17:35:21</td>\n",
       "      <td>SMILE</td>\n",
       "      <td>PPMEDADJUST</td>\n",
       "      <td>...</td>\n",
       "      <td>Points</td>\n",
       "      <td>4459195-20180712173521.584</td>\n",
       "      <td>NaN</td>\n",
       "      <td>NaN</td>\n",
       "      <td>NaN</td>\n",
       "      <td>NaN</td>\n",
       "      <td>NaN</td>\n",
       "      <td>NaN</td>\n",
       "      <td>NaN</td>\n",
       "      <td>NaN</td>\n",
       "    </tr>\n",
       "    <tr>\n",
       "      <th>2501105</th>\n",
       "      <td>TPROVISION</td>\n",
       "      <td>5358301</td>\n",
       "      <td>USSDXML:USRT141</td>\n",
       "      <td>NLSDPE</td>\n",
       "      <td>23</td>\n",
       "      <td>1</td>\n",
       "      <td>12-JUL-2018 17:39:13</td>\n",
       "      <td>12-JUL-2018 17:39:13</td>\n",
       "      <td>LOYSMS</td>\n",
       "      <td>PPAdjust</td>\n",
       "      <td>...</td>\n",
       "      <td>Units</td>\n",
       "      <td>5358301-20180712173913.550</td>\n",
       "      <td>NaN</td>\n",
       "      <td>NaN</td>\n",
       "      <td>NaN</td>\n",
       "      <td>NaN</td>\n",
       "      <td>NaN</td>\n",
       "      <td>NaN</td>\n",
       "      <td>NaN</td>\n",
       "      <td>NaN</td>\n",
       "    </tr>\n",
       "    <tr>\n",
       "      <th>2501106</th>\n",
       "      <td>TPROVISION</td>\n",
       "      <td>5358317</td>\n",
       "      <td>USSDXML:nl14101</td>\n",
       "      <td>PPMED</td>\n",
       "      <td>23</td>\n",
       "      <td>1</td>\n",
       "      <td>12-JUL-2018 17:39:13</td>\n",
       "      <td>12-JUL-2018 17:39:13</td>\n",
       "      <td>SMILE</td>\n",
       "      <td>PPMEDADJUST</td>\n",
       "      <td>...</td>\n",
       "      <td>Points</td>\n",
       "      <td>5358317-20180712173913.554</td>\n",
       "      <td>NaN</td>\n",
       "      <td>NaN</td>\n",
       "      <td>NaN</td>\n",
       "      <td>NaN</td>\n",
       "      <td>NaN</td>\n",
       "      <td>NaN</td>\n",
       "      <td>NaN</td>\n",
       "      <td>NaN</td>\n",
       "    </tr>\n",
       "    <tr>\n",
       "      <th>2501107</th>\n",
       "      <td>TPROVISION</td>\n",
       "      <td>3565544</td>\n",
       "      <td>VRXML:SAAE</td>\n",
       "      <td>PPMED</td>\n",
       "      <td>23</td>\n",
       "      <td>1</td>\n",
       "      <td>12-JUL-2018 17:32:11</td>\n",
       "      <td>12-JUL-2018 17:32:11</td>\n",
       "      <td>SMILE</td>\n",
       "      <td>PPMEDADJUST</td>\n",
       "      <td>...</td>\n",
       "      <td>Points</td>\n",
       "      <td>3565544-20180712173211.911</td>\n",
       "      <td>NaN</td>\n",
       "      <td>NaN</td>\n",
       "      <td>NaN</td>\n",
       "      <td>NaN</td>\n",
       "      <td>NaN</td>\n",
       "      <td>NaN</td>\n",
       "      <td>NaN</td>\n",
       "      <td>NaN</td>\n",
       "    </tr>\n",
       "    <tr>\n",
       "      <th>2501108</th>\n",
       "      <td>TPROVISION</td>\n",
       "      <td>4462212</td>\n",
       "      <td>USSDXML:nl14101</td>\n",
       "      <td>PPMED</td>\n",
       "      <td>23</td>\n",
       "      <td>1</td>\n",
       "      <td>12-JUL-2018 17:35:59</td>\n",
       "      <td>12-JUL-2018 17:35:59</td>\n",
       "      <td>SMILE</td>\n",
       "      <td>PPMEDADJUST</td>\n",
       "      <td>...</td>\n",
       "      <td>Points</td>\n",
       "      <td>4462212-20180712173559.151</td>\n",
       "      <td>NaN</td>\n",
       "      <td>NaN</td>\n",
       "      <td>NaN</td>\n",
       "      <td>NaN</td>\n",
       "      <td>NaN</td>\n",
       "      <td>NaN</td>\n",
       "      <td>NaN</td>\n",
       "      <td>NaN</td>\n",
       "    </tr>\n",
       "    <tr>\n",
       "      <th>2501109</th>\n",
       "      <td>TPROVISION</td>\n",
       "      <td>4462272</td>\n",
       "      <td>USSDXML:nl14101</td>\n",
       "      <td>PPMED</td>\n",
       "      <td>23</td>\n",
       "      <td>1</td>\n",
       "      <td>12-JUL-2018 17:35:59</td>\n",
       "      <td>12-JUL-2018 17:35:59</td>\n",
       "      <td>SMILE</td>\n",
       "      <td>PPMEDADJUST</td>\n",
       "      <td>...</td>\n",
       "      <td>Points</td>\n",
       "      <td>4462272-20180712173559.440</td>\n",
       "      <td>NaN</td>\n",
       "      <td>NaN</td>\n",
       "      <td>NaN</td>\n",
       "      <td>NaN</td>\n",
       "      <td>NaN</td>\n",
       "      <td>NaN</td>\n",
       "      <td>NaN</td>\n",
       "      <td>NaN</td>\n",
       "    </tr>\n",
       "    <tr>\n",
       "      <th>2501110</th>\n",
       "      <td>TPROVISION</td>\n",
       "      <td>4462231</td>\n",
       "      <td>USSDXML:jh14101</td>\n",
       "      <td>PPMED</td>\n",
       "      <td>23</td>\n",
       "      <td>5</td>\n",
       "      <td>12-JUL-2018 17:35:59</td>\n",
       "      <td>12-JUL-2018 17:35:59</td>\n",
       "      <td>SMILE</td>\n",
       "      <td>PPMEDADJUST</td>\n",
       "      <td>...</td>\n",
       "      <td>Points</td>\n",
       "      <td>4462231-20180712173559.243</td>\n",
       "      <td>NaN</td>\n",
       "      <td>NaN</td>\n",
       "      <td>NaN</td>\n",
       "      <td>NaN</td>\n",
       "      <td>NaN</td>\n",
       "      <td>NaN</td>\n",
       "      <td>NaN</td>\n",
       "      <td>NaN</td>\n",
       "    </tr>\n",
       "    <tr>\n",
       "      <th>2501111</th>\n",
       "      <td>TPROVISION</td>\n",
       "      <td>4462315</td>\n",
       "      <td>USSDXML:ge14102</td>\n",
       "      <td>PPMED</td>\n",
       "      <td>23</td>\n",
       "      <td>1</td>\n",
       "      <td>12-JUL-2018 17:35:59</td>\n",
       "      <td>12-JUL-2018 17:35:59</td>\n",
       "      <td>SMILE</td>\n",
       "      <td>PPMEDADJUST</td>\n",
       "      <td>...</td>\n",
       "      <td>Points</td>\n",
       "      <td>4462315-20180712173559.869</td>\n",
       "      <td>NaN</td>\n",
       "      <td>NaN</td>\n",
       "      <td>NaN</td>\n",
       "      <td>NaN</td>\n",
       "      <td>NaN</td>\n",
       "      <td>NaN</td>\n",
       "      <td>NaN</td>\n",
       "      <td>NaN</td>\n",
       "    </tr>\n",
       "    <tr>\n",
       "      <th>2501112</th>\n",
       "      <td>TSMILE</td>\n",
       "      <td>4462366</td>\n",
       "      <td>USSDXML:USRT141</td>\n",
       "      <td>IBS</td>\n",
       "      <td>29</td>\n",
       "      <td>1</td>\n",
       "      <td>12-JUL-2018 17:36:00</td>\n",
       "      <td>12-JUL-2018 17:36:00</td>\n",
       "      <td>SMILE</td>\n",
       "      <td>PPMEDADJUST</td>\n",
       "      <td>...</td>\n",
       "      <td>Points</td>\n",
       "      <td>4462366-20180712173600.493</td>\n",
       "      <td>LOYS001</td>\n",
       "      <td>NaN</td>\n",
       "      <td>NaN</td>\n",
       "      <td>NaN</td>\n",
       "      <td>NaN</td>\n",
       "      <td>NaN</td>\n",
       "      <td>NaN</td>\n",
       "      <td>NaN</td>\n",
       "    </tr>\n",
       "    <tr>\n",
       "      <th>2501113</th>\n",
       "      <td>TSMILE</td>\n",
       "      <td>4462367</td>\n",
       "      <td>USSDXML:USRT141</td>\n",
       "      <td>IBS</td>\n",
       "      <td>29</td>\n",
       "      <td>1</td>\n",
       "      <td>12-JUL-2018 17:36:00</td>\n",
       "      <td>12-JUL-2018 17:36:00</td>\n",
       "      <td>SMILE</td>\n",
       "      <td>PPMEDADJUST</td>\n",
       "      <td>...</td>\n",
       "      <td>Points</td>\n",
       "      <td>4462367-20180712173600.495</td>\n",
       "      <td>LOYA005</td>\n",
       "      <td>NaN</td>\n",
       "      <td>NaN</td>\n",
       "      <td>NaN</td>\n",
       "      <td>NaN</td>\n",
       "      <td>NaN</td>\n",
       "      <td>NaN</td>\n",
       "      <td>NaN</td>\n",
       "    </tr>\n",
       "    <tr>\n",
       "      <th>2501114</th>\n",
       "      <td>TPROVISION</td>\n",
       "      <td>4462356</td>\n",
       "      <td>USSDXML:USRT141</td>\n",
       "      <td>JHSDPC</td>\n",
       "      <td>23</td>\n",
       "      <td>1</td>\n",
       "      <td>12-JUL-2018 17:36:00</td>\n",
       "      <td>12-JUL-2018 17:36:00</td>\n",
       "      <td>LOYAIRTIME</td>\n",
       "      <td>PPAdjust</td>\n",
       "      <td>...</td>\n",
       "      <td>Money</td>\n",
       "      <td>4462356-20180712173600.455</td>\n",
       "      <td>NaN</td>\n",
       "      <td>NaN</td>\n",
       "      <td>NaN</td>\n",
       "      <td>NaN</td>\n",
       "      <td>NaN</td>\n",
       "      <td>NaN</td>\n",
       "      <td>NaN</td>\n",
       "      <td>NaN</td>\n",
       "    </tr>\n",
       "    <tr>\n",
       "      <th>2501115</th>\n",
       "      <td>TPROVISION</td>\n",
       "      <td>4462367</td>\n",
       "      <td>USSDXML:USRT141</td>\n",
       "      <td>JHSDPD</td>\n",
       "      <td>23</td>\n",
       "      <td>1</td>\n",
       "      <td>12-JUL-2018 17:36:00</td>\n",
       "      <td>12-JUL-2018 17:36:00</td>\n",
       "      <td>LOYAIRTIME</td>\n",
       "      <td>PPAdjust</td>\n",
       "      <td>...</td>\n",
       "      <td>Money</td>\n",
       "      <td>4462367-20180712173600.495</td>\n",
       "      <td>NaN</td>\n",
       "      <td>NaN</td>\n",
       "      <td>NaN</td>\n",
       "      <td>NaN</td>\n",
       "      <td>NaN</td>\n",
       "      <td>NaN</td>\n",
       "      <td>NaN</td>\n",
       "      <td>NaN</td>\n",
       "    </tr>\n",
       "    <tr>\n",
       "      <th>2501116</th>\n",
       "      <td>TPROVISION</td>\n",
       "      <td>4462366</td>\n",
       "      <td>USSDXML:USRT141</td>\n",
       "      <td>NLSDPE</td>\n",
       "      <td>23</td>\n",
       "      <td>1</td>\n",
       "      <td>12-JUL-2018 17:36:00</td>\n",
       "      <td>12-JUL-2018 17:36:00</td>\n",
       "      <td>LOYSMS</td>\n",
       "      <td>PPAdjust</td>\n",
       "      <td>...</td>\n",
       "      <td>Units</td>\n",
       "      <td>4462366-20180712173600.493</td>\n",
       "      <td>NaN</td>\n",
       "      <td>NaN</td>\n",
       "      <td>NaN</td>\n",
       "      <td>NaN</td>\n",
       "      <td>NaN</td>\n",
       "      <td>NaN</td>\n",
       "      <td>NaN</td>\n",
       "      <td>NaN</td>\n",
       "    </tr>\n",
       "    <tr>\n",
       "      <th>2501117</th>\n",
       "      <td>TDISCON</td>\n",
       "      <td>2096910790</td>\n",
       "      <td>PROVIDENT:tertioprod</td>\n",
       "      <td>IBS</td>\n",
       "      <td>26</td>\n",
       "      <td>1</td>\n",
       "      <td>12-JUL-2018 17:39:26</td>\n",
       "      <td>12-JUL-2018 17:39:26</td>\n",
       "      <td>SMILE</td>\n",
       "      <td>PPMEDADJUST</td>\n",
       "      <td>...</td>\n",
       "      <td>Points</td>\n",
       "      <td>2096910790-20180712173926.274</td>\n",
       "      <td>NaN</td>\n",
       "      <td>NaN</td>\n",
       "      <td>NaN</td>\n",
       "      <td>NaN</td>\n",
       "      <td>NaN</td>\n",
       "      <td>NaN</td>\n",
       "      <td>NaN</td>\n",
       "      <td>NaN</td>\n",
       "    </tr>\n",
       "    <tr>\n",
       "      <th>2501118</th>\n",
       "      <td>TMIPCHARGE</td>\n",
       "      <td>75610631300</td>\n",
       "      <td>geedip01.mtn.co.za</td>\n",
       "      <td>GECCN3</td>\n",
       "      <td>61</td>\n",
       "      <td>1</td>\n",
       "      <td>12-JUL-2018 17:51:32</td>\n",
       "      <td>12-JUL-2018 17:51:32</td>\n",
       "      <td>LOYSMS</td>\n",
       "      <td>SWAdjust</td>\n",
       "      <td>...</td>\n",
       "      <td>U</td>\n",
       "      <td>NaN</td>\n",
       "      <td>NaN</td>\n",
       "      <td>NaN</td>\n",
       "      <td>NaN</td>\n",
       "      <td>NaN</td>\n",
       "      <td>NaN</td>\n",
       "      <td>NaN</td>\n",
       "      <td>NaN</td>\n",
       "      <td>NaN</td>\n",
       "    </tr>\n",
       "    <tr>\n",
       "      <th>2501119</th>\n",
       "      <td>TMIPCHARGE</td>\n",
       "      <td>75610632900</td>\n",
       "      <td>nledip01.mtn.co.za</td>\n",
       "      <td>GECCN3</td>\n",
       "      <td>61</td>\n",
       "      <td>1</td>\n",
       "      <td>12-JUL-2018 17:51:33</td>\n",
       "      <td>12-JUL-2018 17:51:33</td>\n",
       "      <td>LOYSMS</td>\n",
       "      <td>SWAdjust</td>\n",
       "      <td>...</td>\n",
       "      <td>U</td>\n",
       "      <td>NaN</td>\n",
       "      <td>NaN</td>\n",
       "      <td>NaN</td>\n",
       "      <td>NaN</td>\n",
       "      <td>NaN</td>\n",
       "      <td>NaN</td>\n",
       "      <td>NaN</td>\n",
       "      <td>NaN</td>\n",
       "      <td>NaN</td>\n",
       "    </tr>\n",
       "    <tr>\n",
       "      <th>2501120</th>\n",
       "      <td>TMIPCHARGE</td>\n",
       "      <td>75610635300</td>\n",
       "      <td>geedip01.mtn.co.za</td>\n",
       "      <td>GECCN3</td>\n",
       "      <td>61</td>\n",
       "      <td>1</td>\n",
       "      <td>12-JUL-2018 17:51:33</td>\n",
       "      <td>12-JUL-2018 17:51:33</td>\n",
       "      <td>LOYSMS</td>\n",
       "      <td>SWAdjust</td>\n",
       "      <td>...</td>\n",
       "      <td>U</td>\n",
       "      <td>NaN</td>\n",
       "      <td>NaN</td>\n",
       "      <td>NaN</td>\n",
       "      <td>NaN</td>\n",
       "      <td>NaN</td>\n",
       "      <td>NaN</td>\n",
       "      <td>NaN</td>\n",
       "      <td>NaN</td>\n",
       "      <td>NaN</td>\n",
       "    </tr>\n",
       "    <tr>\n",
       "      <th>2501121</th>\n",
       "      <td>TMIPCHARGE</td>\n",
       "      <td>75610637000</td>\n",
       "      <td>nledip01.mtn.co.za</td>\n",
       "      <td>GECCN3</td>\n",
       "      <td>61</td>\n",
       "      <td>1</td>\n",
       "      <td>12-JUL-2018 17:51:34</td>\n",
       "      <td>12-JUL-2018 17:51:34</td>\n",
       "      <td>LOYSMS</td>\n",
       "      <td>SWAdjust</td>\n",
       "      <td>...</td>\n",
       "      <td>U</td>\n",
       "      <td>NaN</td>\n",
       "      <td>NaN</td>\n",
       "      <td>NaN</td>\n",
       "      <td>NaN</td>\n",
       "      <td>NaN</td>\n",
       "      <td>NaN</td>\n",
       "      <td>NaN</td>\n",
       "      <td>NaN</td>\n",
       "      <td>NaN</td>\n",
       "    </tr>\n",
       "    <tr>\n",
       "      <th>2501122</th>\n",
       "      <td>TPROVISION</td>\n",
       "      <td>3567336</td>\n",
       "      <td>VRXML:SAAE</td>\n",
       "      <td>PPMED</td>\n",
       "      <td>23</td>\n",
       "      <td>1</td>\n",
       "      <td>12-JUL-2018 17:33:29</td>\n",
       "      <td>12-JUL-2018 17:33:29</td>\n",
       "      <td>SMILE</td>\n",
       "      <td>PPMEDADJUST</td>\n",
       "      <td>...</td>\n",
       "      <td>Points</td>\n",
       "      <td>3567336-20180712173329.322</td>\n",
       "      <td>NaN</td>\n",
       "      <td>NaN</td>\n",
       "      <td>NaN</td>\n",
       "      <td>NaN</td>\n",
       "      <td>NaN</td>\n",
       "      <td>NaN</td>\n",
       "      <td>NaN</td>\n",
       "      <td>NaN</td>\n",
       "    </tr>\n",
       "    <tr>\n",
       "      <th>2501123</th>\n",
       "      <td>TPROVISION</td>\n",
       "      <td>3567507</td>\n",
       "      <td>VRXML:SAAE</td>\n",
       "      <td>PPMED</td>\n",
       "      <td>23</td>\n",
       "      <td>1</td>\n",
       "      <td>12-JUL-2018 17:33:36</td>\n",
       "      <td>12-JUL-2018 17:33:36</td>\n",
       "      <td>SMILE</td>\n",
       "      <td>PPMEDADJUST</td>\n",
       "      <td>...</td>\n",
       "      <td>Points</td>\n",
       "      <td>3567507-20180712173336.450</td>\n",
       "      <td>NaN</td>\n",
       "      <td>NaN</td>\n",
       "      <td>NaN</td>\n",
       "      <td>NaN</td>\n",
       "      <td>NaN</td>\n",
       "      <td>NaN</td>\n",
       "      <td>NaN</td>\n",
       "      <td>NaN</td>\n",
       "    </tr>\n",
       "    <tr>\n",
       "      <th>2501124</th>\n",
       "      <td>TPROVISION</td>\n",
       "      <td>3567624</td>\n",
       "      <td>VRXML:SAAE</td>\n",
       "      <td>PPMED</td>\n",
       "      <td>23</td>\n",
       "      <td>1</td>\n",
       "      <td>12-JUL-2018 17:33:42</td>\n",
       "      <td>12-JUL-2018 17:33:42</td>\n",
       "      <td>SMILE</td>\n",
       "      <td>PPMEDADJUST</td>\n",
       "      <td>...</td>\n",
       "      <td>Points</td>\n",
       "      <td>3567624-20180712173342.669</td>\n",
       "      <td>NaN</td>\n",
       "      <td>NaN</td>\n",
       "      <td>NaN</td>\n",
       "      <td>NaN</td>\n",
       "      <td>NaN</td>\n",
       "      <td>NaN</td>\n",
       "      <td>NaN</td>\n",
       "      <td>NaN</td>\n",
       "    </tr>\n",
       "    <tr>\n",
       "      <th>2501125</th>\n",
       "      <td>TPROVISION</td>\n",
       "      <td>3567626</td>\n",
       "      <td>VRXML:SAAE</td>\n",
       "      <td>PPMED</td>\n",
       "      <td>23</td>\n",
       "      <td>5</td>\n",
       "      <td>12-JUL-2018 17:33:43</td>\n",
       "      <td>12-JUL-2018 17:33:43</td>\n",
       "      <td>SMILE</td>\n",
       "      <td>PPMEDADJUST</td>\n",
       "      <td>...</td>\n",
       "      <td>Points</td>\n",
       "      <td>3567626-20180712173343.151</td>\n",
       "      <td>NaN</td>\n",
       "      <td>NaN</td>\n",
       "      <td>NaN</td>\n",
       "      <td>NaN</td>\n",
       "      <td>NaN</td>\n",
       "      <td>NaN</td>\n",
       "      <td>NaN</td>\n",
       "      <td>NaN</td>\n",
       "    </tr>\n",
       "    <tr>\n",
       "      <th>2501126</th>\n",
       "      <td>TPROVISION</td>\n",
       "      <td>4465918</td>\n",
       "      <td>USSDXML:ge14102</td>\n",
       "      <td>PPMED</td>\n",
       "      <td>23</td>\n",
       "      <td>1</td>\n",
       "      <td>12-JUL-2018 17:36:43</td>\n",
       "      <td>12-JUL-2018 17:36:43</td>\n",
       "      <td>SMILE</td>\n",
       "      <td>PPMEDADJUST</td>\n",
       "      <td>...</td>\n",
       "      <td>Points</td>\n",
       "      <td>4465918-20180712173643.206</td>\n",
       "      <td>NaN</td>\n",
       "      <td>NaN</td>\n",
       "      <td>NaN</td>\n",
       "      <td>NaN</td>\n",
       "      <td>NaN</td>\n",
       "      <td>NaN</td>\n",
       "      <td>NaN</td>\n",
       "      <td>NaN</td>\n",
       "    </tr>\n",
       "    <tr>\n",
       "      <th>2501127</th>\n",
       "      <td>TPROVISION</td>\n",
       "      <td>4465954</td>\n",
       "      <td>USSDXML:USRT141</td>\n",
       "      <td>RBSDPE</td>\n",
       "      <td>23</td>\n",
       "      <td>1</td>\n",
       "      <td>12-JUL-2018 17:36:44</td>\n",
       "      <td>12-JUL-2018 17:36:44</td>\n",
       "      <td>LOYAIRTIME</td>\n",
       "      <td>PPAdjust</td>\n",
       "      <td>...</td>\n",
       "      <td>Money</td>\n",
       "      <td>4465954-20180712173644.93</td>\n",
       "      <td>NaN</td>\n",
       "      <td>NaN</td>\n",
       "      <td>NaN</td>\n",
       "      <td>NaN</td>\n",
       "      <td>NaN</td>\n",
       "      <td>NaN</td>\n",
       "      <td>NaN</td>\n",
       "      <td>NaN</td>\n",
       "    </tr>\n",
       "    <tr>\n",
       "      <th>2501128</th>\n",
       "      <td>TPROVISION</td>\n",
       "      <td>4465990</td>\n",
       "      <td>USSDXML:USRT141</td>\n",
       "      <td>GESDPB</td>\n",
       "      <td>23</td>\n",
       "      <td>1</td>\n",
       "      <td>12-JUL-2018 17:36:44</td>\n",
       "      <td>12-JUL-2018 17:36:44</td>\n",
       "      <td>LOYSMS</td>\n",
       "      <td>PPAdjust</td>\n",
       "      <td>...</td>\n",
       "      <td>Units</td>\n",
       "      <td>4465990-20180712173644.272</td>\n",
       "      <td>NaN</td>\n",
       "      <td>NaN</td>\n",
       "      <td>NaN</td>\n",
       "      <td>NaN</td>\n",
       "      <td>NaN</td>\n",
       "      <td>NaN</td>\n",
       "      <td>NaN</td>\n",
       "      <td>NaN</td>\n",
       "    </tr>\n",
       "  </tbody>\n",
       "</table>\n",
       "<p>2501129 rows × 43 columns</p>\n",
       "</div>"
      ],
      "text/plain": [
       "        EDR_VERSION        EDR_ID        SOURCE_CHANNEL DESTINATION_CHANNEL  \\\n",
       "0        TMIPCHARGE  127552521300    nledip01.mtn.co.za             CNCCN04   \n",
       "1        TPROVISION    2026577983            VRXML:SAAE               PPMED   \n",
       "2        TMIPCHARGE  129959681800    geedip01.mtn.co.za              GECCN1   \n",
       "3        TMIPCHARGE  129959686900    geedip01.mtn.co.za              GECCN1   \n",
       "4        TMIPCHARGE  129959692100    geedip01.mtn.co.za              GECCN1   \n",
       "5        TPROVISION    2026579002            VRXML:SAAE               PPMED   \n",
       "6        TMIPCHARGE   83549520700    geedip01.mtn.co.za             CNCCN02   \n",
       "7        TPROVISION    2026578605            VRXML:SAAE               PPMED   \n",
       "8        TPROVISION    2026578626            VRXML:SAAE               PPMED   \n",
       "9        TMIPCHARGE   83549593300    nledip01.mtn.co.za             CNCCN02   \n",
       "10       TMIPCHARGE   83549594100    nledip01.mtn.co.za             CNCCN02   \n",
       "11       TMIPCHARGE   83549594800    nledip01.mtn.co.za             CNCCN02   \n",
       "12       TMIPCHARGE   83598021600    nledip01.mtn.co.za             CNCCN02   \n",
       "13       TPROVISION    2028062692            VRXML:SAAE               PPMED   \n",
       "14       TPROVISION    2028062697            VRXML:SAAE               PPMED   \n",
       "15       TPROVISION    2028062698            VRXML:SAAE               PPMED   \n",
       "16       TPROVISION    2028062719            VRXML:SAAE               PPMED   \n",
       "17       TPROVISION    2028062724            VRXML:SAAE               PPMED   \n",
       "18       TPROVISION    2028063207            VRXML:SAAE               PPMED   \n",
       "19       TPROVISION    2028063208            VRXML:SAAE               PPMED   \n",
       "20       TPROVISION    2028063287            VRXML:SAAE               PPMED   \n",
       "21       TPROVISION    2028063318            VRXML:SAAE               PPMED   \n",
       "22       TMIPCHARGE   83933459300    geedip01.mtn.co.za             CNCCN02   \n",
       "23       TPROVISION    2026578262            VRXML:SAAE               PPMED   \n",
       "24       TPROVISION    2026578456            VRXML:SAAE               PPMED   \n",
       "25       TPROVISION    2026578466            VRXML:SAAE               PPMED   \n",
       "26       TPROVISION    2026578482            VRXML:SAAE               PPMED   \n",
       "27       TMIPCHARGE  127552538900    geedip01.mtn.co.za             CNCCN04   \n",
       "28       TPROVISION    2026578051            VRXML:SAAE               PPMED   \n",
       "29       TPROVISION    2026578053            VRXML:SAAE               PPMED   \n",
       "...             ...           ...                   ...                 ...   \n",
       "2501099  TPROVISION       3058985             PPVS:USSD               PPMED   \n",
       "2501100      TSMILE       4473284       USSDXML:USRT141                 IBS   \n",
       "2501101  TPROVISION       3564365            VRXML:SAAE               PPMED   \n",
       "2501102  TPROVISION       3564367            VRXML:SAAE               PPMED   \n",
       "2501103  TPROVISION       3564374            VRXML:SAAE               PPMED   \n",
       "2501104  TPROVISION       4459195       USSDXML:ge14101               PPMED   \n",
       "2501105  TPROVISION       5358301       USSDXML:USRT141              NLSDPE   \n",
       "2501106  TPROVISION       5358317       USSDXML:nl14101               PPMED   \n",
       "2501107  TPROVISION       3565544            VRXML:SAAE               PPMED   \n",
       "2501108  TPROVISION       4462212       USSDXML:nl14101               PPMED   \n",
       "2501109  TPROVISION       4462272       USSDXML:nl14101               PPMED   \n",
       "2501110  TPROVISION       4462231       USSDXML:jh14101               PPMED   \n",
       "2501111  TPROVISION       4462315       USSDXML:ge14102               PPMED   \n",
       "2501112      TSMILE       4462366       USSDXML:USRT141                 IBS   \n",
       "2501113      TSMILE       4462367       USSDXML:USRT141                 IBS   \n",
       "2501114  TPROVISION       4462356       USSDXML:USRT141              JHSDPC   \n",
       "2501115  TPROVISION       4462367       USSDXML:USRT141              JHSDPD   \n",
       "2501116  TPROVISION       4462366       USSDXML:USRT141              NLSDPE   \n",
       "2501117     TDISCON    2096910790  PROVIDENT:tertioprod                 IBS   \n",
       "2501118  TMIPCHARGE   75610631300    geedip01.mtn.co.za              GECCN3   \n",
       "2501119  TMIPCHARGE   75610632900    nledip01.mtn.co.za              GECCN3   \n",
       "2501120  TMIPCHARGE   75610635300    geedip01.mtn.co.za              GECCN3   \n",
       "2501121  TMIPCHARGE   75610637000    nledip01.mtn.co.za              GECCN3   \n",
       "2501122  TPROVISION       3567336            VRXML:SAAE               PPMED   \n",
       "2501123  TPROVISION       3567507            VRXML:SAAE               PPMED   \n",
       "2501124  TPROVISION       3567624            VRXML:SAAE               PPMED   \n",
       "2501125  TPROVISION       3567626            VRXML:SAAE               PPMED   \n",
       "2501126  TPROVISION       4465918       USSDXML:ge14102               PPMED   \n",
       "2501127  TPROVISION       4465954       USSDXML:USRT141              RBSDPE   \n",
       "2501128  TPROVISION       4465990       USSDXML:USRT141              GESDPB   \n",
       "\n",
       "         REC_TYPE  SUB_TYPE      SUBMIT_DATE_TIME   PROCESSED_DATE_TIME  \\\n",
       "0              61         1  12-JUL-2018 00:53:48  12-JUL-2018 00:53:48   \n",
       "1              23         1  12-JUL-2018 00:43:00  12-JUL-2018 00:43:00   \n",
       "2              61         1  12-JUL-2018 00:53:19  12-JUL-2018 00:53:19   \n",
       "3              61         1  12-JUL-2018 00:53:32  12-JUL-2018 00:53:32   \n",
       "4              61         5  12-JUL-2018 00:53:44  12-JUL-2018 00:53:44   \n",
       "5              23         5  12-JUL-2018 00:51:51  12-JUL-2018 00:51:51   \n",
       "6              61         1  12-JUL-2018 00:52:11  12-JUL-2018 00:52:11   \n",
       "7              23         1  12-JUL-2018 00:48:19  12-JUL-2018 00:48:19   \n",
       "8              23         1  12-JUL-2018 00:48:30  12-JUL-2018 00:48:30   \n",
       "9              61         1  12-JUL-2018 00:59:57  12-JUL-2018 00:59:57   \n",
       "10             61         1  12-JUL-2018 01:00:02  12-JUL-2018 01:00:02   \n",
       "11             61         1  12-JUL-2018 01:00:06  12-JUL-2018 01:00:06   \n",
       "12             61         1  12-JUL-2018 00:51:46  12-JUL-2018 00:51:46   \n",
       "13             23         1  12-JUL-2018 00:48:26  12-JUL-2018 00:48:26   \n",
       "14             23         1  12-JUL-2018 00:48:31  12-JUL-2018 00:48:31   \n",
       "15             23         1  12-JUL-2018 00:48:32  12-JUL-2018 00:48:32   \n",
       "16             23         1  12-JUL-2018 00:48:42  12-JUL-2018 00:48:42   \n",
       "17             23         1  12-JUL-2018 00:48:44  12-JUL-2018 00:48:44   \n",
       "18             23         1  12-JUL-2018 00:52:51  12-JUL-2018 00:52:51   \n",
       "19             23         1  12-JUL-2018 00:52:51  12-JUL-2018 00:52:51   \n",
       "20             23         1  12-JUL-2018 00:53:28  12-JUL-2018 00:53:28   \n",
       "21             23         1  12-JUL-2018 00:53:44  12-JUL-2018 00:53:44   \n",
       "22             61         1  12-JUL-2018 00:59:53  12-JUL-2018 00:59:53   \n",
       "23             23         1  12-JUL-2018 00:45:31  12-JUL-2018 00:45:31   \n",
       "24             23         1  12-JUL-2018 00:47:07  12-JUL-2018 00:47:07   \n",
       "25             23         1  12-JUL-2018 00:47:14  12-JUL-2018 00:47:14   \n",
       "26             23         1  12-JUL-2018 00:47:25  12-JUL-2018 00:47:25   \n",
       "27             61         1  12-JUL-2018 00:54:36  12-JUL-2018 00:54:36   \n",
       "28             23         1  12-JUL-2018 00:43:40  12-JUL-2018 00:43:40   \n",
       "29             23         1  12-JUL-2018 00:43:41  12-JUL-2018 00:43:41   \n",
       "...           ...       ...                   ...                   ...   \n",
       "2501099        23         5  12-JUL-2018 17:38:15  12-JUL-2018 17:38:15   \n",
       "2501100        29         1  12-JUL-2018 17:38:16  12-JUL-2018 17:38:16   \n",
       "2501101        23         1  12-JUL-2018 17:31:16  12-JUL-2018 17:31:16   \n",
       "2501102        23         1  12-JUL-2018 17:31:16  12-JUL-2018 17:31:16   \n",
       "2501103        23         1  12-JUL-2018 17:31:17  12-JUL-2018 17:31:17   \n",
       "2501104        23         1  12-JUL-2018 17:35:21  12-JUL-2018 17:35:21   \n",
       "2501105        23         1  12-JUL-2018 17:39:13  12-JUL-2018 17:39:13   \n",
       "2501106        23         1  12-JUL-2018 17:39:13  12-JUL-2018 17:39:13   \n",
       "2501107        23         1  12-JUL-2018 17:32:11  12-JUL-2018 17:32:11   \n",
       "2501108        23         1  12-JUL-2018 17:35:59  12-JUL-2018 17:35:59   \n",
       "2501109        23         1  12-JUL-2018 17:35:59  12-JUL-2018 17:35:59   \n",
       "2501110        23         5  12-JUL-2018 17:35:59  12-JUL-2018 17:35:59   \n",
       "2501111        23         1  12-JUL-2018 17:35:59  12-JUL-2018 17:35:59   \n",
       "2501112        29         1  12-JUL-2018 17:36:00  12-JUL-2018 17:36:00   \n",
       "2501113        29         1  12-JUL-2018 17:36:00  12-JUL-2018 17:36:00   \n",
       "2501114        23         1  12-JUL-2018 17:36:00  12-JUL-2018 17:36:00   \n",
       "2501115        23         1  12-JUL-2018 17:36:00  12-JUL-2018 17:36:00   \n",
       "2501116        23         1  12-JUL-2018 17:36:00  12-JUL-2018 17:36:00   \n",
       "2501117        26         1  12-JUL-2018 17:39:26  12-JUL-2018 17:39:26   \n",
       "2501118        61         1  12-JUL-2018 17:51:32  12-JUL-2018 17:51:32   \n",
       "2501119        61         1  12-JUL-2018 17:51:33  12-JUL-2018 17:51:33   \n",
       "2501120        61         1  12-JUL-2018 17:51:33  12-JUL-2018 17:51:33   \n",
       "2501121        61         1  12-JUL-2018 17:51:34  12-JUL-2018 17:51:34   \n",
       "2501122        23         1  12-JUL-2018 17:33:29  12-JUL-2018 17:33:29   \n",
       "2501123        23         1  12-JUL-2018 17:33:36  12-JUL-2018 17:33:36   \n",
       "2501124        23         1  12-JUL-2018 17:33:42  12-JUL-2018 17:33:42   \n",
       "2501125        23         5  12-JUL-2018 17:33:43  12-JUL-2018 17:33:43   \n",
       "2501126        23         1  12-JUL-2018 17:36:43  12-JUL-2018 17:36:43   \n",
       "2501127        23         1  12-JUL-2018 17:36:44  12-JUL-2018 17:36:44   \n",
       "2501128        23         1  12-JUL-2018 17:36:44  12-JUL-2018 17:36:44   \n",
       "\n",
       "             WALLET      COMMAND      ...       UNIT_OF_MEASURE  \\\n",
       "0            LOYSMS     SWAdjust      ...                     U   \n",
       "1             SMILE  PPMEDADJUST      ...                Points   \n",
       "2            LOYSMS     SWAdjust      ...                     U   \n",
       "3            LOYSMS     SWAdjust      ...                     U   \n",
       "4            LOYSMS     SWAdjust      ...                     U   \n",
       "5             SMILE  PPMEDADJUST      ...                Points   \n",
       "6            LOYSMS     SWAdjust      ...                     U   \n",
       "7             SMILE  PPMEDADJUST      ...                Points   \n",
       "8             SMILE  PPMEDADJUST      ...                Points   \n",
       "9            LOYSMS     SWAdjust      ...                     U   \n",
       "10           LOYSMS     SWAdjust      ...                     U   \n",
       "11           LOYSMS     SWAdjust      ...                     U   \n",
       "12           LOYSMS     SWAdjust      ...                     U   \n",
       "13            SMILE  PPMEDADJUST      ...                Points   \n",
       "14            SMILE  PPMEDADJUST      ...                Points   \n",
       "15            SMILE  PPMEDADJUST      ...                Points   \n",
       "16            SMILE  PPMEDADJUST      ...                Points   \n",
       "17            SMILE  PPMEDADJUST      ...                Points   \n",
       "18            SMILE  PPMEDADJUST      ...                Points   \n",
       "19            SMILE  PPMEDADJUST      ...                Points   \n",
       "20            SMILE  PPMEDADJUST      ...                Points   \n",
       "21            SMILE  PPMEDADJUST      ...                Points   \n",
       "22           LOYSMS     SWAdjust      ...                     U   \n",
       "23            SMILE  PPMEDADJUST      ...                Points   \n",
       "24            SMILE  PPMEDADJUST      ...                Points   \n",
       "25            SMILE  PPMEDADJUST      ...                Points   \n",
       "26            SMILE  PPMEDADJUST      ...                Points   \n",
       "27           LOYSMS     SWAdjust      ...                     U   \n",
       "28            SMILE  PPMEDADJUST      ...                Points   \n",
       "29            SMILE  PPMEDADJUST      ...                Points   \n",
       "...             ...          ...      ...                   ...   \n",
       "2501099       SMILE  PPMEDADJUST      ...                Points   \n",
       "2501100       SMILE  PPMEDADJUST      ...                Points   \n",
       "2501101       SMILE  PPMEDADJUST      ...                Points   \n",
       "2501102       SMILE  PPMEDADJUST      ...                Points   \n",
       "2501103       SMILE  PPMEDADJUST      ...                Points   \n",
       "2501104       SMILE  PPMEDADJUST      ...                Points   \n",
       "2501105      LOYSMS     PPAdjust      ...                 Units   \n",
       "2501106       SMILE  PPMEDADJUST      ...                Points   \n",
       "2501107       SMILE  PPMEDADJUST      ...                Points   \n",
       "2501108       SMILE  PPMEDADJUST      ...                Points   \n",
       "2501109       SMILE  PPMEDADJUST      ...                Points   \n",
       "2501110       SMILE  PPMEDADJUST      ...                Points   \n",
       "2501111       SMILE  PPMEDADJUST      ...                Points   \n",
       "2501112       SMILE  PPMEDADJUST      ...                Points   \n",
       "2501113       SMILE  PPMEDADJUST      ...                Points   \n",
       "2501114  LOYAIRTIME     PPAdjust      ...                 Money   \n",
       "2501115  LOYAIRTIME     PPAdjust      ...                 Money   \n",
       "2501116      LOYSMS     PPAdjust      ...                 Units   \n",
       "2501117       SMILE  PPMEDADJUST      ...                Points   \n",
       "2501118      LOYSMS     SWAdjust      ...                     U   \n",
       "2501119      LOYSMS     SWAdjust      ...                     U   \n",
       "2501120      LOYSMS     SWAdjust      ...                     U   \n",
       "2501121      LOYSMS     SWAdjust      ...                     U   \n",
       "2501122       SMILE  PPMEDADJUST      ...                Points   \n",
       "2501123       SMILE  PPMEDADJUST      ...                Points   \n",
       "2501124       SMILE  PPMEDADJUST      ...                Points   \n",
       "2501125       SMILE  PPMEDADJUST      ...                Points   \n",
       "2501126       SMILE  PPMEDADJUST      ...                Points   \n",
       "2501127  LOYAIRTIME     PPAdjust      ...                 Money   \n",
       "2501128      LOYSMS     PPAdjust      ...                 Units   \n",
       "\n",
       "                 ORDER_TRACKING_NUMBER  GENERAL1  GENERAL2 GENERAL3 GENERAL4  \\\n",
       "0                                  NaN       NaN       NaN      NaN      NaN   \n",
       "1        2026577983-20180712004300.160       NaN       NaN      NaN      NaN   \n",
       "2                                  NaN       NaN       NaN      NaN      NaN   \n",
       "3                                  NaN       NaN       NaN      NaN      NaN   \n",
       "4                                  NaN       NaN       NaN      NaN      NaN   \n",
       "5        2026579002-20180712005151.397       NaN       NaN      NaN      NaN   \n",
       "6                                  NaN       NaN       NaN      NaN      NaN   \n",
       "7        2026578605-20180712004819.290       NaN       NaN      NaN      NaN   \n",
       "8        2026578626-20180712004830.266       NaN       NaN      NaN      NaN   \n",
       "9                                  NaN       NaN       NaN      NaN      NaN   \n",
       "10                                 NaN       NaN       NaN      NaN      NaN   \n",
       "11                                 NaN       NaN       NaN      NaN      NaN   \n",
       "12                                 NaN       NaN       NaN      NaN      NaN   \n",
       "13       2028062692-20180712004826.629       NaN       NaN      NaN      NaN   \n",
       "14       2028062697-20180712004831.461       NaN       NaN      NaN      NaN   \n",
       "15       2028062698-20180712004832.424       NaN       NaN      NaN      NaN   \n",
       "16       2028062719-20180712004842.520       NaN       NaN      NaN      NaN   \n",
       "17       2028062724-20180712004844.743       NaN       NaN      NaN      NaN   \n",
       "18       2028063207-20180712005251.830       NaN       NaN      NaN      NaN   \n",
       "19       2028063208-20180712005251.888       NaN       NaN      NaN      NaN   \n",
       "20       2028063287-20180712005328.328       NaN       NaN      NaN      NaN   \n",
       "21       2028063318-20180712005344.436       NaN       NaN      NaN      NaN   \n",
       "22                                 NaN       NaN       NaN      NaN      NaN   \n",
       "23       2026578262-20180712004531.189       NaN       NaN      NaN      NaN   \n",
       "24       2026578456-20180712004707.887       NaN       NaN      NaN      NaN   \n",
       "25       2026578466-20180712004714.746       NaN       NaN      NaN      NaN   \n",
       "26       2026578482-20180712004725.837       NaN       NaN      NaN      NaN   \n",
       "27                                 NaN       NaN       NaN      NaN      NaN   \n",
       "28       2026578051-20180712004340.427       NaN       NaN      NaN      NaN   \n",
       "29       2026578053-20180712004341.840       NaN       NaN      NaN      NaN   \n",
       "...                                ...       ...       ...      ...      ...   \n",
       "2501099         ge14101-15314098955271       NaN       NaN      NaN      NaN   \n",
       "2501100     4473284-20180712173816.944   LOYS001       NaN      NaN      NaN   \n",
       "2501101     3564365-20180712173116.935       NaN       NaN      NaN      NaN   \n",
       "2501102     3564367-20180712173116.951       NaN       NaN      NaN      NaN   \n",
       "2501103     3564374-20180712173117.106       NaN       NaN      NaN      NaN   \n",
       "2501104     4459195-20180712173521.584       NaN       NaN      NaN      NaN   \n",
       "2501105     5358301-20180712173913.550       NaN       NaN      NaN      NaN   \n",
       "2501106     5358317-20180712173913.554       NaN       NaN      NaN      NaN   \n",
       "2501107     3565544-20180712173211.911       NaN       NaN      NaN      NaN   \n",
       "2501108     4462212-20180712173559.151       NaN       NaN      NaN      NaN   \n",
       "2501109     4462272-20180712173559.440       NaN       NaN      NaN      NaN   \n",
       "2501110     4462231-20180712173559.243       NaN       NaN      NaN      NaN   \n",
       "2501111     4462315-20180712173559.869       NaN       NaN      NaN      NaN   \n",
       "2501112     4462366-20180712173600.493   LOYS001       NaN      NaN      NaN   \n",
       "2501113     4462367-20180712173600.495   LOYA005       NaN      NaN      NaN   \n",
       "2501114     4462356-20180712173600.455       NaN       NaN      NaN      NaN   \n",
       "2501115     4462367-20180712173600.495       NaN       NaN      NaN      NaN   \n",
       "2501116     4462366-20180712173600.493       NaN       NaN      NaN      NaN   \n",
       "2501117  2096910790-20180712173926.274       NaN       NaN      NaN      NaN   \n",
       "2501118                            NaN       NaN       NaN      NaN      NaN   \n",
       "2501119                            NaN       NaN       NaN      NaN      NaN   \n",
       "2501120                            NaN       NaN       NaN      NaN      NaN   \n",
       "2501121                            NaN       NaN       NaN      NaN      NaN   \n",
       "2501122     3567336-20180712173329.322       NaN       NaN      NaN      NaN   \n",
       "2501123     3567507-20180712173336.450       NaN       NaN      NaN      NaN   \n",
       "2501124     3567624-20180712173342.669       NaN       NaN      NaN      NaN   \n",
       "2501125     3567626-20180712173343.151       NaN       NaN      NaN      NaN   \n",
       "2501126     4465918-20180712173643.206       NaN       NaN      NaN      NaN   \n",
       "2501127      4465954-20180712173644.93       NaN       NaN      NaN      NaN   \n",
       "2501128     4465990-20180712173644.272       NaN       NaN      NaN      NaN   \n",
       "\n",
       "         GENERAL5  CDR_CORRECTED  ADJUSTMENTOFFERS  EFFECTIVERATE  \n",
       "0             NaN            NaN               NaN            NaN  \n",
       "1             NaN            NaN               NaN            NaN  \n",
       "2             NaN            NaN               NaN            NaN  \n",
       "3             NaN            NaN               NaN            NaN  \n",
       "4             NaN            NaN               NaN            NaN  \n",
       "5             NaN            NaN               NaN            NaN  \n",
       "6             NaN            NaN               NaN            NaN  \n",
       "7             NaN            NaN               NaN            NaN  \n",
       "8             NaN            NaN               NaN            NaN  \n",
       "9             NaN            NaN               NaN            NaN  \n",
       "10            NaN            NaN               NaN            NaN  \n",
       "11            NaN            NaN               NaN            NaN  \n",
       "12            NaN            NaN               NaN            NaN  \n",
       "13            NaN            NaN               NaN            NaN  \n",
       "14            NaN            NaN               NaN            NaN  \n",
       "15            NaN            NaN               NaN            NaN  \n",
       "16            NaN            NaN               NaN            NaN  \n",
       "17            NaN            NaN               NaN            NaN  \n",
       "18            NaN            NaN               NaN            NaN  \n",
       "19            NaN            NaN               NaN            NaN  \n",
       "20            NaN            NaN               NaN            NaN  \n",
       "21            NaN            NaN               NaN            NaN  \n",
       "22            NaN            NaN               NaN            NaN  \n",
       "23            NaN            NaN               NaN            NaN  \n",
       "24            NaN            NaN               NaN            NaN  \n",
       "25            NaN            NaN               NaN            NaN  \n",
       "26            NaN            NaN               NaN            NaN  \n",
       "27            NaN            NaN               NaN            NaN  \n",
       "28            NaN            NaN               NaN            NaN  \n",
       "29            NaN            NaN               NaN            NaN  \n",
       "...           ...            ...               ...            ...  \n",
       "2501099       NaN            NaN               NaN            NaN  \n",
       "2501100       NaN            NaN               NaN            NaN  \n",
       "2501101       NaN            NaN               NaN            NaN  \n",
       "2501102       NaN            NaN               NaN            NaN  \n",
       "2501103       NaN            NaN               NaN            NaN  \n",
       "2501104       NaN            NaN               NaN            NaN  \n",
       "2501105       NaN            NaN               NaN            NaN  \n",
       "2501106       NaN            NaN               NaN            NaN  \n",
       "2501107       NaN            NaN               NaN            NaN  \n",
       "2501108       NaN            NaN               NaN            NaN  \n",
       "2501109       NaN            NaN               NaN            NaN  \n",
       "2501110       NaN            NaN               NaN            NaN  \n",
       "2501111       NaN            NaN               NaN            NaN  \n",
       "2501112       NaN            NaN               NaN            NaN  \n",
       "2501113       NaN            NaN               NaN            NaN  \n",
       "2501114       NaN            NaN               NaN            NaN  \n",
       "2501115       NaN            NaN               NaN            NaN  \n",
       "2501116       NaN            NaN               NaN            NaN  \n",
       "2501117       NaN            NaN               NaN            NaN  \n",
       "2501118       NaN            NaN               NaN            NaN  \n",
       "2501119       NaN            NaN               NaN            NaN  \n",
       "2501120       NaN            NaN               NaN            NaN  \n",
       "2501121       NaN            NaN               NaN            NaN  \n",
       "2501122       NaN            NaN               NaN            NaN  \n",
       "2501123       NaN            NaN               NaN            NaN  \n",
       "2501124       NaN            NaN               NaN            NaN  \n",
       "2501125       NaN            NaN               NaN            NaN  \n",
       "2501126       NaN            NaN               NaN            NaN  \n",
       "2501127       NaN            NaN               NaN            NaN  \n",
       "2501128       NaN            NaN               NaN            NaN  \n",
       "\n",
       "[2501129 rows x 43 columns]"
      ]
     },
     "execution_count": 5,
     "metadata": {},
     "output_type": "execute_result"
    }
   ],
   "source": [
    "new_data"
   ]
  },
  {
   "cell_type": "code",
   "execution_count": 6,
   "metadata": {},
   "outputs": [],
   "source": [
    "new = new_data[['WALLET','COMMAND','DEBIT_CREDIT','REASON_FOR_DEBIT_CREDIT','OPEN_BAL','AMOUNT','CLOSE_BAL','NO_OF_SMS','SMS_DISCOUNT_FACTOR','UNIT_OF_MEASURE']]"
   ]
  },
  {
   "cell_type": "code",
   "execution_count": null,
   "metadata": {},
   "outputs": [],
   "source": []
  },
  {
   "cell_type": "code",
   "execution_count": 16,
   "metadata": {},
   "outputs": [
    {
     "data": {
      "text/plain": [
       "array(['D', 'C'], dtype=object)"
      ]
     },
     "execution_count": 16,
     "metadata": {},
     "output_type": "execute_result"
    }
   ],
   "source": [
    "new['DEBIT_CREDIT'].unique()"
   ]
  },
  {
   "cell_type": "code",
   "execution_count": 18,
   "metadata": {},
   "outputs": [
    {
     "data": {
      "text/plain": [
       "<matplotlib.axes._subplots.AxesSubplot at 0x1205d9b70>"
      ]
     },
     "execution_count": 18,
     "metadata": {},
     "output_type": "execute_result"
    }
   ],
   "source": [
    "import seaborn as sns\n",
    "sns.heatmap(new.isnull(),yticklabels=False,cbar=False,cmap='viridis')"
   ]
  },
  {
   "cell_type": "code",
   "execution_count": 20,
   "metadata": {},
   "outputs": [
    {
     "name": "stderr",
     "output_type": "stream",
     "text": [
      "/Users/academy_intern/anaconda3/lib/python3.7/site-packages/pandas/core/generic.py:5434: SettingWithCopyWarning: \n",
      "A value is trying to be set on a copy of a slice from a DataFrame\n",
      "\n",
      "See the caveats in the documentation: http://pandas.pydata.org/pandas-docs/stable/indexing.html#indexing-view-versus-copy\n",
      "  self._update_inplace(new_data)\n"
     ]
    }
   ],
   "source": [
    "new['NO_OF_SMS'].fillna(value = 0, inplace=True)"
   ]
  },
  {
   "cell_type": "code",
   "execution_count": 22,
   "metadata": {},
   "outputs": [
    {
     "data": {
      "text/plain": [
       "<matplotlib.axes._subplots.AxesSubplot at 0x1175c7ac8>"
      ]
     },
     "execution_count": 22,
     "metadata": {},
     "output_type": "execute_result"
    },
    {
     "data": {
      "image/png": "[encoded data removed]",
      "text/plain": [
       "<Figure size 432x288 with 1 Axes>"
      ]
     },
     "metadata": {
      "needs_background": "light"
     },
     "output_type": "display_data"
    }
   ],
   "source": [
    "sns.heatmap(new.isnull(), yticklabels=False, cbar=False, cmap= 'viridis')"
   ]
  },
  {
   "cell_type": "code",
   "execution_count": 29,
   "metadata": {},
   "outputs": [
    {
     "name": "stderr",
     "output_type": "stream",
     "text": [
      "/Users/academy_intern/anaconda3/lib/python3.7/site-packages/ipykernel_launcher.py:1: SettingWithCopyWarning: \n",
      "A value is trying to be set on a copy of a slice from a DataFrame\n",
      "\n",
      "See the caveats in the documentation: http://pandas.pydata.org/pandas-docs/stable/indexing.html#indexing-view-versus-copy\n",
      "  \"\"\"Entry point for launching an IPython kernel.\n"
     ]
    }
   ],
   "source": [
    "new.dropna(subset=['UNIT_OF_MEASURE'], inplace=True)"
   ]
  },
  {
   "cell_type": "code",
   "execution_count": 30,
   "metadata": {
    "scrolled": false
   },
   "outputs": [
    {
     "data": {
      "text/plain": [
       "<matplotlib.axes._subplots.AxesSubplot at 0x1176b9400>"
      ]
     },
     "execution_count": 30,
     "metadata": {},
     "output_type": "execute_result"
    },
    {
     "data": {
      "image/png": "[encoded data removed]",
      "text/plain": [
       "<Figure size 432x288 with 1 Axes>"
      ]
     },
     "metadata": {
      "needs_background": "light"
     },
     "output_type": "display_data"
    }
   ],
   "source": [
    "sns.heatmap(new.isnull(), yticklabels=False,cbar=False,cmap='viridis')"
   ]
  },
  {
   "cell_type": "code",
   "execution_count": 34,
   "metadata": {},
   "outputs": [],
   "source": [
    "for_Ana= new.drop(['WALLET','COMMAND','DEBIT_CREDIT','REASON_FOR_DEBIT_CREDIT','UNIT_OF_MEASURE'],axis=1)"
   ]
  },
  {
   "cell_type": "code",
   "execution_count": 35,
   "metadata": {},
   "outputs": [
    {
     "data": {
      "text/plain": [
       "array([ 0,  1, 20, 45, 25, 90, 50, 35, 30, 95, 55, 40, 60,  5, 85, 65, 70,\n",
       "       75, 10, 80])"
      ]
     },
     "execution_count": 35,
     "metadata": {},
     "output_type": "execute_result"
    }
   ],
   "source": [
    "new['SMS_DISCOUNT_FACTOR'].unique()"
   ]
  },
  {
   "cell_type": "code",
   "execution_count": 50,
   "metadata": {},
   "outputs": [
    {
     "data": {
      "text/html": [
       "<div>\n",
       "<style scoped>\n",
       "    .dataframe tbody tr th:only-of-type {\n",
       "        vertical-align: middle;\n",
       "    }\n",
       "\n",
       "    .dataframe tbody tr th {\n",
       "        vertical-align: top;\n",
       "    }\n",
       "\n",
       "    .dataframe thead th {\n",
       "        text-align: right;\n",
       "    }\n",
       "</style>\n",
       "<table border=\"1\" class=\"dataframe\">\n",
       "  <thead>\n",
       "    <tr style=\"text-align: right;\">\n",
       "      <th></th>\n",
       "      <th>WALLET</th>\n",
       "      <th>COMMAND</th>\n",
       "      <th>DEBIT_CREDIT</th>\n",
       "      <th>REASON_FOR_DEBIT_CREDIT</th>\n",
       "      <th>OPEN_BAL</th>\n",
       "      <th>AMOUNT</th>\n",
       "      <th>CLOSE_BAL</th>\n",
       "      <th>NO_OF_SMS</th>\n",
       "      <th>SMS_DISCOUNT_FACTOR</th>\n",
       "      <th>UNIT_OF_MEASURE</th>\n",
       "    </tr>\n",
       "  </thead>\n",
       "  <tbody>\n",
       "    <tr>\n",
       "      <th>0</th>\n",
       "      <td>LOYSMS</td>\n",
       "      <td>SWAdjust</td>\n",
       "      <td>D</td>\n",
       "      <td>TEXT</td>\n",
       "      <td>1.0</td>\n",
       "      <td>1.0</td>\n",
       "      <td>0.0</td>\n",
       "      <td>1.0</td>\n",
       "      <td>0</td>\n",
       "      <td>U</td>\n",
       "    </tr>\n",
       "    <tr>\n",
       "      <th>1</th>\n",
       "      <td>SMILE</td>\n",
       "      <td>PPMEDADJUST</td>\n",
       "      <td>C</td>\n",
       "      <td>XT1D50MB</td>\n",
       "      <td>119.0</td>\n",
       "      <td>8.0</td>\n",
       "      <td>127.0</td>\n",
       "      <td>0.0</td>\n",
       "      <td>0</td>\n",
       "      <td>Points</td>\n",
       "    </tr>\n",
       "    <tr>\n",
       "      <th>2</th>\n",
       "      <td>LOYSMS</td>\n",
       "      <td>SWAdjust</td>\n",
       "      <td>D</td>\n",
       "      <td>TEXT</td>\n",
       "      <td>1.0</td>\n",
       "      <td>1.0</td>\n",
       "      <td>0.0</td>\n",
       "      <td>1.0</td>\n",
       "      <td>0</td>\n",
       "      <td>U</td>\n",
       "    </tr>\n",
       "    <tr>\n",
       "      <th>3</th>\n",
       "      <td>LOYSMS</td>\n",
       "      <td>SWAdjust</td>\n",
       "      <td>D</td>\n",
       "      <td>TEXT</td>\n",
       "      <td>32.0</td>\n",
       "      <td>1.0</td>\n",
       "      <td>31.0</td>\n",
       "      <td>1.0</td>\n",
       "      <td>0</td>\n",
       "      <td>U</td>\n",
       "    </tr>\n",
       "    <tr>\n",
       "      <th>4</th>\n",
       "      <td>LOYSMS</td>\n",
       "      <td>SWAdjust</td>\n",
       "      <td>D</td>\n",
       "      <td>TEXT</td>\n",
       "      <td>183.0</td>\n",
       "      <td>1.0</td>\n",
       "      <td>182.0</td>\n",
       "      <td>1.0</td>\n",
       "      <td>0</td>\n",
       "      <td>U</td>\n",
       "    </tr>\n",
       "  </tbody>\n",
       "</table>\n",
       "</div>"
      ],
      "text/plain": [
       "   WALLET      COMMAND DEBIT_CREDIT REASON_FOR_DEBIT_CREDIT  OPEN_BAL  AMOUNT  \\\n",
       "0  LOYSMS     SWAdjust            D                    TEXT       1.0     1.0   \n",
       "1   SMILE  PPMEDADJUST            C                XT1D50MB     119.0     8.0   \n",
       "2  LOYSMS     SWAdjust            D                    TEXT       1.0     1.0   \n",
       "3  LOYSMS     SWAdjust            D                    TEXT      32.0     1.0   \n",
       "4  LOYSMS     SWAdjust            D                    TEXT     183.0     1.0   \n",
       "\n",
       "   CLOSE_BAL  NO_OF_SMS  SMS_DISCOUNT_FACTOR UNIT_OF_MEASURE  \n",
       "0        0.0        1.0                    0               U  \n",
       "1      127.0        0.0                    0          Points  \n",
       "2        0.0        1.0                    0               U  \n",
       "3       31.0        1.0                    0               U  \n",
       "4      182.0        1.0                    0               U  "
      ]
     },
     "execution_count": 50,
     "metadata": {},
     "output_type": "execute_result"
    }
   ],
   "source": [
    "new.head()"
   ]
  },
  {
   "cell_type": "code",
   "execution_count": 111,
   "metadata": {},
   "outputs": [
    {
     "data": {
      "text/plain": [
       "2489633"
      ]
     },
     "execution_count": 111,
     "metadata": {},
     "output_type": "execute_result"
    }
   ],
   "source": [
    "for_Ana['NO_OF_SMS'].count()"
   ]
  },
  {
   "cell_type": "code",
   "execution_count": 112,
   "metadata": {},
   "outputs": [],
   "source": [
    "Ana_1 = for_Ana.loc[for_Ana['NO_OF_SMS']>0]"
   ]
  },
  {
   "cell_type": "code",
   "execution_count": 114,
   "metadata": {},
   "outputs": [
    {
     "data": {
      "text/plain": [
       "680478"
      ]
     },
     "execution_count": 114,
     "metadata": {},
     "output_type": "execute_result"
    }
   ],
   "source": [
    "Ana_1['NO_OF_SMS'].count()"
   ]
  },
  {
   "cell_type": "code",
   "execution_count": 115,
   "metadata": {},
   "outputs": [
    {
     "data": {
      "text/plain": [
       "1.0711470466348656"
      ]
     },
     "execution_count": 115,
     "metadata": {},
     "output_type": "execute_result"
    }
   ],
   "source": [
    "Ana_1['NO_OF_SMS'].mean()"
   ]
  },
  {
   "cell_type": "code",
   "execution_count": 116,
   "metadata": {},
   "outputs": [
    {
     "data": {
      "text/plain": [
       "0.38541541930573536"
      ]
     },
     "execution_count": 116,
     "metadata": {},
     "output_type": "execute_result"
    }
   ],
   "source": [
    "Ana_1['NO_OF_SMS'].std()"
   ]
  },
  {
   "cell_type": "code",
   "execution_count": 454,
   "metadata": {},
   "outputs": [
    {
     "data": {
      "text/plain": [
       "array(['LOYSMS', 'SMILE', 'LOYAIRTIME', 'LOYDATA', 'LOYANYTIME',\n",
       "       'FMSMILE', 'LOYONNET'], dtype=object)"
      ]
     },
     "execution_count": 454,
     "metadata": {},
     "output_type": "execute_result"
    }
   ],
   "source": [
    "new_data['WALLET'].unique()"
   ]
  },
  {
   "cell_type": "code",
   "execution_count": null,
   "metadata": {},
   "outputs": [],
   "source": []
  },
  {
   "cell_type": "code",
   "execution_count": 109,
   "metadata": {},
   "outputs": [],
   "source": [
    "op = new.nlargest(10, 'NO_OF_SMS')"
   ]
  },
  {
   "cell_type": "code",
   "execution_count": 110,
   "metadata": {},
   "outputs": [
    {
     "data": {
      "text/html": [
       "<div>\n",
       "<style scoped>\n",
       "    .dataframe tbody tr th:only-of-type {\n",
       "        vertical-align: middle;\n",
       "    }\n",
       "\n",
       "    .dataframe tbody tr th {\n",
       "        vertical-align: top;\n",
       "    }\n",
       "\n",
       "    .dataframe thead th {\n",
       "        text-align: right;\n",
       "    }\n",
       "</style>\n",
       "<table border=\"1\" class=\"dataframe\">\n",
       "  <thead>\n",
       "    <tr style=\"text-align: right;\">\n",
       "      <th></th>\n",
       "      <th>WALLET</th>\n",
       "      <th>COMMAND</th>\n",
       "      <th>DEBIT_CREDIT</th>\n",
       "      <th>REASON_FOR_DEBIT_CREDIT</th>\n",
       "      <th>OPEN_BAL</th>\n",
       "      <th>AMOUNT</th>\n",
       "      <th>CLOSE_BAL</th>\n",
       "      <th>NO_OF_SMS</th>\n",
       "      <th>SMS_DISCOUNT_FACTOR</th>\n",
       "      <th>UNIT_OF_MEASURE</th>\n",
       "    </tr>\n",
       "  </thead>\n",
       "  <tbody>\n",
       "    <tr>\n",
       "      <th>2124455</th>\n",
       "      <td>LOYSMS</td>\n",
       "      <td>SWAdjust</td>\n",
       "      <td>D</td>\n",
       "      <td>TEXT</td>\n",
       "      <td>15.0</td>\n",
       "      <td>15.0</td>\n",
       "      <td>0.0</td>\n",
       "      <td>100.0</td>\n",
       "      <td>1</td>\n",
       "      <td>U</td>\n",
       "    </tr>\n",
       "    <tr>\n",
       "      <th>2222919</th>\n",
       "      <td>LOYSMS</td>\n",
       "      <td>SWAdjust</td>\n",
       "      <td>D</td>\n",
       "      <td>TEXT</td>\n",
       "      <td>30.0</td>\n",
       "      <td>30.0</td>\n",
       "      <td>0.0</td>\n",
       "      <td>47.0</td>\n",
       "      <td>0</td>\n",
       "      <td>U</td>\n",
       "    </tr>\n",
       "    <tr>\n",
       "      <th>2152636</th>\n",
       "      <td>LOYSMS</td>\n",
       "      <td>SWAdjust</td>\n",
       "      <td>D</td>\n",
       "      <td>TEXT</td>\n",
       "      <td>100.0</td>\n",
       "      <td>41.0</td>\n",
       "      <td>59.0</td>\n",
       "      <td>41.0</td>\n",
       "      <td>0</td>\n",
       "      <td>U</td>\n",
       "    </tr>\n",
       "    <tr>\n",
       "      <th>938420</th>\n",
       "      <td>LOYSMS</td>\n",
       "      <td>SWAdjust</td>\n",
       "      <td>D</td>\n",
       "      <td>TEXT</td>\n",
       "      <td>55.0</td>\n",
       "      <td>30.0</td>\n",
       "      <td>25.0</td>\n",
       "      <td>30.0</td>\n",
       "      <td>0</td>\n",
       "      <td>U</td>\n",
       "    </tr>\n",
       "    <tr>\n",
       "      <th>844095</th>\n",
       "      <td>LOYSMS</td>\n",
       "      <td>SWAdjust</td>\n",
       "      <td>D</td>\n",
       "      <td>TEXT</td>\n",
       "      <td>25.0</td>\n",
       "      <td>23.0</td>\n",
       "      <td>2.0</td>\n",
       "      <td>23.0</td>\n",
       "      <td>0</td>\n",
       "      <td>U</td>\n",
       "    </tr>\n",
       "    <tr>\n",
       "      <th>1483841</th>\n",
       "      <td>LOYSMS</td>\n",
       "      <td>SWAdjust</td>\n",
       "      <td>D</td>\n",
       "      <td>TEXT</td>\n",
       "      <td>10.0</td>\n",
       "      <td>10.0</td>\n",
       "      <td>0.0</td>\n",
       "      <td>22.0</td>\n",
       "      <td>35</td>\n",
       "      <td>U</td>\n",
       "    </tr>\n",
       "    <tr>\n",
       "      <th>210264</th>\n",
       "      <td>LOYSMS</td>\n",
       "      <td>SWAdjust</td>\n",
       "      <td>D</td>\n",
       "      <td>TEXT</td>\n",
       "      <td>58.0</td>\n",
       "      <td>19.0</td>\n",
       "      <td>39.0</td>\n",
       "      <td>19.0</td>\n",
       "      <td>0</td>\n",
       "      <td>U</td>\n",
       "    </tr>\n",
       "    <tr>\n",
       "      <th>245192</th>\n",
       "      <td>LOYSMS</td>\n",
       "      <td>SWAdjust</td>\n",
       "      <td>D</td>\n",
       "      <td>TEXT</td>\n",
       "      <td>23.0</td>\n",
       "      <td>18.0</td>\n",
       "      <td>5.0</td>\n",
       "      <td>18.0</td>\n",
       "      <td>0</td>\n",
       "      <td>U</td>\n",
       "    </tr>\n",
       "    <tr>\n",
       "      <th>305570</th>\n",
       "      <td>LOYSMS</td>\n",
       "      <td>SWAdjust</td>\n",
       "      <td>D</td>\n",
       "      <td>TEXT</td>\n",
       "      <td>14.0</td>\n",
       "      <td>14.0</td>\n",
       "      <td>0.0</td>\n",
       "      <td>15.0</td>\n",
       "      <td>35</td>\n",
       "      <td>U</td>\n",
       "    </tr>\n",
       "    <tr>\n",
       "      <th>2218088</th>\n",
       "      <td>LOYSMS</td>\n",
       "      <td>SWAdjust</td>\n",
       "      <td>D</td>\n",
       "      <td>TEXT</td>\n",
       "      <td>16.0</td>\n",
       "      <td>15.0</td>\n",
       "      <td>1.0</td>\n",
       "      <td>15.0</td>\n",
       "      <td>0</td>\n",
       "      <td>U</td>\n",
       "    </tr>\n",
       "  </tbody>\n",
       "</table>\n",
       "</div>"
      ],
      "text/plain": [
       "         WALLET   COMMAND DEBIT_CREDIT REASON_FOR_DEBIT_CREDIT  OPEN_BAL  \\\n",
       "2124455  LOYSMS  SWAdjust            D                    TEXT      15.0   \n",
       "2222919  LOYSMS  SWAdjust            D                    TEXT      30.0   \n",
       "2152636  LOYSMS  SWAdjust            D                    TEXT     100.0   \n",
       "938420   LOYSMS  SWAdjust            D                    TEXT      55.0   \n",
       "844095   LOYSMS  SWAdjust            D                    TEXT      25.0   \n",
       "1483841  LOYSMS  SWAdjust            D                    TEXT      10.0   \n",
       "210264   LOYSMS  SWAdjust            D                    TEXT      58.0   \n",
       "245192   LOYSMS  SWAdjust            D                    TEXT      23.0   \n",
       "305570   LOYSMS  SWAdjust            D                    TEXT      14.0   \n",
       "2218088  LOYSMS  SWAdjust            D                    TEXT      16.0   \n",
       "\n",
       "         AMOUNT  CLOSE_BAL  NO_OF_SMS  SMS_DISCOUNT_FACTOR UNIT_OF_MEASURE  \n",
       "2124455    15.0        0.0      100.0                    1               U  \n",
       "2222919    30.0        0.0       47.0                    0               U  \n",
       "2152636    41.0       59.0       41.0                    0               U  \n",
       "938420     30.0       25.0       30.0                    0               U  \n",
       "844095     23.0        2.0       23.0                    0               U  \n",
       "1483841    10.0        0.0       22.0                   35               U  \n",
       "210264     19.0       39.0       19.0                    0               U  \n",
       "245192     18.0        5.0       18.0                    0               U  \n",
       "305570     14.0        0.0       15.0                   35               U  \n",
       "2218088    15.0        1.0       15.0                    0               U  "
      ]
     },
     "execution_count": 110,
     "metadata": {},
     "output_type": "execute_result"
    }
   ],
   "source": [
    "op"
   ]
  },
  {
   "cell_type": "code",
   "execution_count": 123,
   "metadata": {},
   "outputs": [
    {
     "data": {
      "text/plain": [
       "33.0"
      ]
     },
     "execution_count": 123,
     "metadata": {},
     "output_type": "execute_result"
    }
   ],
   "source": [
    "op['NO_OF_SMS'].mean()"
   ]
  },
  {
   "cell_type": "code",
   "execution_count": 124,
   "metadata": {},
   "outputs": [
    {
     "data": {
      "text/plain": [
       "25.92296279363144"
      ]
     },
     "execution_count": 124,
     "metadata": {},
     "output_type": "execute_result"
    }
   ],
   "source": [
    "op['NO_OF_SMS'].std()"
   ]
  },
  {
   "cell_type": "code",
   "execution_count": null,
   "metadata": {},
   "outputs": [],
   "source": [
    "#"
   ]
  },
  {
   "cell_type": "code",
   "execution_count": 128,
   "metadata": {},
   "outputs": [
    {
     "data": {
      "text/plain": [
       "<matplotlib.axes._subplots.AxesSubplot at 0x116fcd048>"
      ]
     },
     "execution_count": 128,
     "metadata": {},
     "output_type": "execute_result"
    },
    {
     "data": {
      "image/png": "[encoded data removed]",
      "text/plain": [
       "<Figure size 432x288 with 1 Axes>"
      ]
     },
     "metadata": {},
     "output_type": "display_data"
    }
   ],
   "source": [
    "sns.set_style('whitegrid')\n",
    "sns.countplot(x='DEBIT_CREDIT',data=new,palette='RdBu_r')"
   ]
  },
  {
   "cell_type": "code",
   "execution_count": null,
   "metadata": {},
   "outputs": [],
   "source": [
    "# Linear Regression model"
   ]
  },
  {
   "cell_type": "code",
   "execution_count": null,
   "metadata": {},
   "outputs": [],
   "source": []
  },
  {
   "cell_type": "code",
   "execution_count": 159,
   "metadata": {},
   "outputs": [],
   "source": [
    "debit = new_data.loc[new_data['DEBIT_CREDIT'] == 'D']\n"
   ]
  },
  {
   "cell_type": "code",
   "execution_count": 241,
   "metadata": {},
   "outputs": [],
   "source": [
    "deb = debit[['WALLET','PROCESSED_DATE_TIME','A_MSISDN','COMMAND','DEBIT_CREDIT','REASON_FOR_DEBIT_CREDIT','OPEN_BAL','AMOUNT','CLOSE_BAL','NO_OF_SMS','SMS_DISCOUNT_FACTOR','UNIT_OF_MEASURE']]"
   ]
  },
  {
   "cell_type": "code",
   "execution_count": 164,
   "metadata": {},
   "outputs": [
    {
     "name": "stderr",
     "output_type": "stream",
     "text": [
      "/Users/academy_intern/anaconda3/lib/python3.7/site-packages/pandas/core/generic.py:5434: SettingWithCopyWarning: \n",
      "A value is trying to be set on a copy of a slice from a DataFrame\n",
      "\n",
      "See the caveats in the documentation: http://pandas.pydata.org/pandas-docs/stable/indexing.html#indexing-view-versus-copy\n",
      "  self._update_inplace(new_data)\n"
     ]
    }
   ],
   "source": [
    "deb['NO_OF_SMS'].fillna(value = 0, inplace=True)"
   ]
  },
  {
   "cell_type": "code",
   "execution_count": null,
   "metadata": {},
   "outputs": [],
   "source": []
  },
  {
   "cell_type": "code",
   "execution_count": null,
   "metadata": {},
   "outputs": [],
   "source": []
  },
  {
   "cell_type": "code",
   "execution_count": null,
   "metadata": {},
   "outputs": [],
   "source": []
  },
  {
   "cell_type": "code",
   "execution_count": 242,
   "metadata": {},
   "outputs": [],
   "source": [
    "e = deb.nlargest(10, 'NO_OF_SMS')"
   ]
  },
  {
   "cell_type": "code",
   "execution_count": 243,
   "metadata": {},
   "outputs": [
    {
     "data": {
      "text/html": [
       "<div>\n",
       "<style scoped>\n",
       "    .dataframe tbody tr th:only-of-type {\n",
       "        vertical-align: middle;\n",
       "    }\n",
       "\n",
       "    .dataframe tbody tr th {\n",
       "        vertical-align: top;\n",
       "    }\n",
       "\n",
       "    .dataframe thead th {\n",
       "        text-align: right;\n",
       "    }\n",
       "</style>\n",
       "<table border=\"1\" class=\"dataframe\">\n",
       "  <thead>\n",
       "    <tr style=\"text-align: right;\">\n",
       "      <th></th>\n",
       "      <th>WALLET</th>\n",
       "      <th>PROCESSED_DATE_TIME</th>\n",
       "      <th>A_MSISDN</th>\n",
       "      <th>COMMAND</th>\n",
       "      <th>DEBIT_CREDIT</th>\n",
       "      <th>REASON_FOR_DEBIT_CREDIT</th>\n",
       "      <th>OPEN_BAL</th>\n",
       "      <th>AMOUNT</th>\n",
       "      <th>CLOSE_BAL</th>\n",
       "      <th>NO_OF_SMS</th>\n",
       "      <th>SMS_DISCOUNT_FACTOR</th>\n",
       "      <th>UNIT_OF_MEASURE</th>\n",
       "    </tr>\n",
       "  </thead>\n",
       "  <tbody>\n",
       "    <tr>\n",
       "      <th>2124455</th>\n",
       "      <td>LOYSMS</td>\n",
       "      <td>12-JUL-2018 00:41:30</td>\n",
       "      <td>3674468809</td>\n",
       "      <td>SWAdjust</td>\n",
       "      <td>D</td>\n",
       "      <td>TEXT</td>\n",
       "      <td>15.0</td>\n",
       "      <td>15.0</td>\n",
       "      <td>0.0</td>\n",
       "      <td>100.0</td>\n",
       "      <td>1</td>\n",
       "      <td>U</td>\n",
       "    </tr>\n",
       "    <tr>\n",
       "      <th>2222919</th>\n",
       "      <td>LOYSMS</td>\n",
       "      <td>12-JUL-2018 23:44:59</td>\n",
       "      <td>4048309421</td>\n",
       "      <td>SWAdjust</td>\n",
       "      <td>D</td>\n",
       "      <td>TEXT</td>\n",
       "      <td>30.0</td>\n",
       "      <td>30.0</td>\n",
       "      <td>0.0</td>\n",
       "      <td>47.0</td>\n",
       "      <td>0</td>\n",
       "      <td>U</td>\n",
       "    </tr>\n",
       "    <tr>\n",
       "      <th>2152636</th>\n",
       "      <td>LOYSMS</td>\n",
       "      <td>12-JUL-2018 11:42:44</td>\n",
       "      <td>2644965991</td>\n",
       "      <td>SWAdjust</td>\n",
       "      <td>D</td>\n",
       "      <td>TEXT</td>\n",
       "      <td>100.0</td>\n",
       "      <td>41.0</td>\n",
       "      <td>59.0</td>\n",
       "      <td>41.0</td>\n",
       "      <td>0</td>\n",
       "      <td>U</td>\n",
       "    </tr>\n",
       "    <tr>\n",
       "      <th>938420</th>\n",
       "      <td>LOYSMS</td>\n",
       "      <td>12-JUL-2018 16:37:34</td>\n",
       "      <td>3952563735</td>\n",
       "      <td>SWAdjust</td>\n",
       "      <td>D</td>\n",
       "      <td>TEXT</td>\n",
       "      <td>55.0</td>\n",
       "      <td>30.0</td>\n",
       "      <td>25.0</td>\n",
       "      <td>30.0</td>\n",
       "      <td>0</td>\n",
       "      <td>U</td>\n",
       "    </tr>\n",
       "    <tr>\n",
       "      <th>844095</th>\n",
       "      <td>LOYSMS</td>\n",
       "      <td>12-JUL-2018 10:55:50</td>\n",
       "      <td>3562527919</td>\n",
       "      <td>SWAdjust</td>\n",
       "      <td>D</td>\n",
       "      <td>TEXT</td>\n",
       "      <td>25.0</td>\n",
       "      <td>23.0</td>\n",
       "      <td>2.0</td>\n",
       "      <td>23.0</td>\n",
       "      <td>0</td>\n",
       "      <td>U</td>\n",
       "    </tr>\n",
       "    <tr>\n",
       "      <th>1483841</th>\n",
       "      <td>LOYSMS</td>\n",
       "      <td>12-JUL-2018 08:21:11</td>\n",
       "      <td>2655205851</td>\n",
       "      <td>SWAdjust</td>\n",
       "      <td>D</td>\n",
       "      <td>TEXT</td>\n",
       "      <td>10.0</td>\n",
       "      <td>10.0</td>\n",
       "      <td>0.0</td>\n",
       "      <td>22.0</td>\n",
       "      <td>35</td>\n",
       "      <td>U</td>\n",
       "    </tr>\n",
       "    <tr>\n",
       "      <th>210264</th>\n",
       "      <td>LOYSMS</td>\n",
       "      <td>12-JUL-2018 06:42:43</td>\n",
       "      <td>1623761445</td>\n",
       "      <td>SWAdjust</td>\n",
       "      <td>D</td>\n",
       "      <td>TEXT</td>\n",
       "      <td>58.0</td>\n",
       "      <td>19.0</td>\n",
       "      <td>39.0</td>\n",
       "      <td>19.0</td>\n",
       "      <td>0</td>\n",
       "      <td>U</td>\n",
       "    </tr>\n",
       "    <tr>\n",
       "      <th>245192</th>\n",
       "      <td>LOYSMS</td>\n",
       "      <td>12-JUL-2018 01:16:47</td>\n",
       "      <td>3073428936</td>\n",
       "      <td>SWAdjust</td>\n",
       "      <td>D</td>\n",
       "      <td>TEXT</td>\n",
       "      <td>23.0</td>\n",
       "      <td>18.0</td>\n",
       "      <td>5.0</td>\n",
       "      <td>18.0</td>\n",
       "      <td>0</td>\n",
       "      <td>U</td>\n",
       "    </tr>\n",
       "    <tr>\n",
       "      <th>305570</th>\n",
       "      <td>LOYSMS</td>\n",
       "      <td>12-JUL-2018 02:41:06</td>\n",
       "      <td>4244767463</td>\n",
       "      <td>SWAdjust</td>\n",
       "      <td>D</td>\n",
       "      <td>TEXT</td>\n",
       "      <td>14.0</td>\n",
       "      <td>14.0</td>\n",
       "      <td>0.0</td>\n",
       "      <td>15.0</td>\n",
       "      <td>35</td>\n",
       "      <td>U</td>\n",
       "    </tr>\n",
       "    <tr>\n",
       "      <th>2218088</th>\n",
       "      <td>LOYSMS</td>\n",
       "      <td>12-JUL-2018 21:57:45</td>\n",
       "      <td>891443533</td>\n",
       "      <td>SWAdjust</td>\n",
       "      <td>D</td>\n",
       "      <td>TEXT</td>\n",
       "      <td>16.0</td>\n",
       "      <td>15.0</td>\n",
       "      <td>1.0</td>\n",
       "      <td>15.0</td>\n",
       "      <td>0</td>\n",
       "      <td>U</td>\n",
       "    </tr>\n",
       "  </tbody>\n",
       "</table>\n",
       "</div>"
      ],
      "text/plain": [
       "         WALLET   PROCESSED_DATE_TIME    A_MSISDN   COMMAND DEBIT_CREDIT  \\\n",
       "2124455  LOYSMS  12-JUL-2018 00:41:30  3674468809  SWAdjust            D   \n",
       "2222919  LOYSMS  12-JUL-2018 23:44:59  4048309421  SWAdjust            D   \n",
       "2152636  LOYSMS  12-JUL-2018 11:42:44  2644965991  SWAdjust            D   \n",
       "938420   LOYSMS  12-JUL-2018 16:37:34  3952563735  SWAdjust            D   \n",
       "844095   LOYSMS  12-JUL-2018 10:55:50  3562527919  SWAdjust            D   \n",
       "1483841  LOYSMS  12-JUL-2018 08:21:11  2655205851  SWAdjust            D   \n",
       "210264   LOYSMS  12-JUL-2018 06:42:43  1623761445  SWAdjust            D   \n",
       "245192   LOYSMS  12-JUL-2018 01:16:47  3073428936  SWAdjust            D   \n",
       "305570   LOYSMS  12-JUL-2018 02:41:06  4244767463  SWAdjust            D   \n",
       "2218088  LOYSMS  12-JUL-2018 21:57:45   891443533  SWAdjust            D   \n",
       "\n",
       "        REASON_FOR_DEBIT_CREDIT  OPEN_BAL  AMOUNT  CLOSE_BAL  NO_OF_SMS  \\\n",
       "2124455                    TEXT      15.0    15.0        0.0      100.0   \n",
       "2222919                    TEXT      30.0    30.0        0.0       47.0   \n",
       "2152636                    TEXT     100.0    41.0       59.0       41.0   \n",
       "938420                     TEXT      55.0    30.0       25.0       30.0   \n",
       "844095                     TEXT      25.0    23.0        2.0       23.0   \n",
       "1483841                    TEXT      10.0    10.0        0.0       22.0   \n",
       "210264                     TEXT      58.0    19.0       39.0       19.0   \n",
       "245192                     TEXT      23.0    18.0        5.0       18.0   \n",
       "305570                     TEXT      14.0    14.0        0.0       15.0   \n",
       "2218088                    TEXT      16.0    15.0        1.0       15.0   \n",
       "\n",
       "         SMS_DISCOUNT_FACTOR UNIT_OF_MEASURE  \n",
       "2124455                    1               U  \n",
       "2222919                    0               U  \n",
       "2152636                    0               U  \n",
       "938420                     0               U  \n",
       "844095                     0               U  \n",
       "1483841                   35               U  \n",
       "210264                     0               U  \n",
       "245192                     0               U  \n",
       "305570                    35               U  \n",
       "2218088                    0               U  "
      ]
     },
     "execution_count": 243,
     "metadata": {},
     "output_type": "execute_result"
    }
   ],
   "source": [
    "e"
   ]
  },
  {
   "cell_type": "code",
   "execution_count": 255,
   "metadata": {},
   "outputs": [],
   "source": [
    "d = new_data.loc[new_data['A_MSISDN']==3562527919]"
   ]
  },
  {
   "cell_type": "code",
   "execution_count": 256,
   "metadata": {},
   "outputs": [
    {
     "data": {
      "text/html": [
       "<div>\n",
       "<style scoped>\n",
       "    .dataframe tbody tr th:only-of-type {\n",
       "        vertical-align: middle;\n",
       "    }\n",
       "\n",
       "    .dataframe tbody tr th {\n",
       "        vertical-align: top;\n",
       "    }\n",
       "\n",
       "    .dataframe thead th {\n",
       "        text-align: right;\n",
       "    }\n",
       "</style>\n",
       "<table border=\"1\" class=\"dataframe\">\n",
       "  <thead>\n",
       "    <tr style=\"text-align: right;\">\n",
       "      <th></th>\n",
       "      <th>WALLET</th>\n",
       "      <th>REASON_FOR_DEBIT_CREDIT</th>\n",
       "      <th>OPEN_BAL</th>\n",
       "      <th>AMOUNT</th>\n",
       "      <th>CLOSE_BAL</th>\n",
       "      <th>NO_OF_SMS</th>\n",
       "    </tr>\n",
       "  </thead>\n",
       "  <tbody>\n",
       "    <tr>\n",
       "      <th>844095</th>\n",
       "      <td>LOYSMS</td>\n",
       "      <td>TEXT</td>\n",
       "      <td>25.0</td>\n",
       "      <td>23.0</td>\n",
       "      <td>2.0</td>\n",
       "      <td>23.0</td>\n",
       "    </tr>\n",
       "    <tr>\n",
       "      <th>1500125</th>\n",
       "      <td>SMILE</td>\n",
       "      <td>LOYS030</td>\n",
       "      <td>324.0</td>\n",
       "      <td>200.0</td>\n",
       "      <td>124.0</td>\n",
       "      <td>NaN</td>\n",
       "    </tr>\n",
       "    <tr>\n",
       "      <th>1500127</th>\n",
       "      <td>LOYSMS</td>\n",
       "      <td>LOYS030</td>\n",
       "      <td>0.0</td>\n",
       "      <td>30.0</td>\n",
       "      <td>30.0</td>\n",
       "      <td>NaN</td>\n",
       "    </tr>\n",
       "    <tr>\n",
       "      <th>2147139</th>\n",
       "      <td>LOYSMS</td>\n",
       "      <td>TEXT</td>\n",
       "      <td>30.0</td>\n",
       "      <td>5.0</td>\n",
       "      <td>25.0</td>\n",
       "      <td>5.0</td>\n",
       "    </tr>\n",
       "  </tbody>\n",
       "</table>\n",
       "</div>"
      ],
      "text/plain": [
       "         WALLET REASON_FOR_DEBIT_CREDIT  OPEN_BAL  AMOUNT  CLOSE_BAL  \\\n",
       "844095   LOYSMS                    TEXT      25.0    23.0        2.0   \n",
       "1500125   SMILE                 LOYS030     324.0   200.0      124.0   \n",
       "1500127  LOYSMS                 LOYS030       0.0    30.0       30.0   \n",
       "2147139  LOYSMS                    TEXT      30.0     5.0       25.0   \n",
       "\n",
       "         NO_OF_SMS  \n",
       "844095        23.0  \n",
       "1500125        NaN  \n",
       "1500127        NaN  \n",
       "2147139        5.0  "
      ]
     },
     "execution_count": 256,
     "metadata": {},
     "output_type": "execute_result"
    }
   ],
   "source": [
    "d[['WALLET','REASON_FOR_DEBIT_CREDIT','OPEN_BAL','AMOUNT','CLOSE_BAL','NO_OF_SMS',]]"
   ]
  },
  {
   "cell_type": "code",
   "execution_count": 249,
   "metadata": {},
   "outputs": [],
   "source": [
    "a = new_data.loc[new_data['A_MSISDN']==4048309421]"
   ]
  },
  {
   "cell_type": "code",
   "execution_count": 250,
   "metadata": {},
   "outputs": [
    {
     "data": {
      "text/html": [
       "<div>\n",
       "<style scoped>\n",
       "    .dataframe tbody tr th:only-of-type {\n",
       "        vertical-align: middle;\n",
       "    }\n",
       "\n",
       "    .dataframe tbody tr th {\n",
       "        vertical-align: top;\n",
       "    }\n",
       "\n",
       "    .dataframe thead th {\n",
       "        text-align: right;\n",
       "    }\n",
       "</style>\n",
       "<table border=\"1\" class=\"dataframe\">\n",
       "  <thead>\n",
       "    <tr style=\"text-align: right;\">\n",
       "      <th></th>\n",
       "      <th>WALLET</th>\n",
       "      <th>REASON_FOR_DEBIT_CREDIT</th>\n",
       "      <th>OPEN_BAL</th>\n",
       "      <th>AMOUNT</th>\n",
       "      <th>CLOSE_BAL</th>\n",
       "      <th>NO_OF_SMS</th>\n",
       "    </tr>\n",
       "  </thead>\n",
       "  <tbody>\n",
       "    <tr>\n",
       "      <th>389615</th>\n",
       "      <td>SMILE</td>\n",
       "      <td>Provision</td>\n",
       "      <td>215.0</td>\n",
       "      <td>15.0</td>\n",
       "      <td>230.0</td>\n",
       "      <td>NaN</td>\n",
       "    </tr>\n",
       "    <tr>\n",
       "      <th>2221022</th>\n",
       "      <td>SMILE</td>\n",
       "      <td>LOYS030</td>\n",
       "      <td>234.0</td>\n",
       "      <td>200.0</td>\n",
       "      <td>34.0</td>\n",
       "      <td>NaN</td>\n",
       "    </tr>\n",
       "    <tr>\n",
       "      <th>2222919</th>\n",
       "      <td>LOYSMS</td>\n",
       "      <td>TEXT</td>\n",
       "      <td>30.0</td>\n",
       "      <td>30.0</td>\n",
       "      <td>0.0</td>\n",
       "      <td>47.0</td>\n",
       "    </tr>\n",
       "    <tr>\n",
       "      <th>2346364</th>\n",
       "      <td>LOYSMS</td>\n",
       "      <td>LOYS030</td>\n",
       "      <td>0.0</td>\n",
       "      <td>30.0</td>\n",
       "      <td>30.0</td>\n",
       "      <td>NaN</td>\n",
       "    </tr>\n",
       "  </tbody>\n",
       "</table>\n",
       "</div>"
      ],
      "text/plain": [
       "         WALLET REASON_FOR_DEBIT_CREDIT  OPEN_BAL  AMOUNT  CLOSE_BAL  \\\n",
       "389615    SMILE               Provision     215.0    15.0      230.0   \n",
       "2221022   SMILE                 LOYS030     234.0   200.0       34.0   \n",
       "2222919  LOYSMS                    TEXT      30.0    30.0        0.0   \n",
       "2346364  LOYSMS                 LOYS030       0.0    30.0       30.0   \n",
       "\n",
       "         NO_OF_SMS  \n",
       "389615         NaN  \n",
       "2221022        NaN  \n",
       "2222919       47.0  \n",
       "2346364        NaN  "
      ]
     },
     "execution_count": 250,
     "metadata": {},
     "output_type": "execute_result"
    }
   ],
   "source": [
    "a[['WALLET','REASON_FOR_DEBIT_CREDIT','OPEN_BAL','AMOUNT','CLOSE_BAL','NO_OF_SMS',]]"
   ]
  },
  {
   "cell_type": "code",
   "execution_count": 238,
   "metadata": {},
   "outputs": [],
   "source": [
    "d = e.loc[e['NO_OF_SMS']>0]"
   ]
  },
  {
   "cell_type": "code",
   "execution_count": 183,
   "metadata": {},
   "outputs": [
    {
     "data": {
      "text/plain": [
       "10"
      ]
     },
     "execution_count": 183,
     "metadata": {},
     "output_type": "execute_result"
    }
   ],
   "source": [
    "d['AMOUNT'].count()"
   ]
  },
  {
   "cell_type": "code",
   "execution_count": 239,
   "metadata": {},
   "outputs": [
    {
     "data": {
      "text/plain": [
       "33.0"
      ]
     },
     "execution_count": 239,
     "metadata": {},
     "output_type": "execute_result"
    }
   ],
   "source": [
    "d['NO_OF_SMS'].mean()"
   ]
  },
  {
   "cell_type": "code",
   "execution_count": 240,
   "metadata": {},
   "outputs": [
    {
     "data": {
      "text/plain": [
       "25.92296279363144"
      ]
     },
     "execution_count": 240,
     "metadata": {},
     "output_type": "execute_result"
    }
   ],
   "source": [
    "d['NO_OF_SMS'].std()"
   ]
  },
  {
   "cell_type": "code",
   "execution_count": null,
   "metadata": {},
   "outputs": [],
   "source": []
  },
  {
   "cell_type": "code",
   "execution_count": 267,
   "metadata": {},
   "outputs": [],
   "source": [
    "credit = new_data.loc[new_data['DEBIT_CREDIT'] == 'C']"
   ]
  },
  {
   "cell_type": "code",
   "execution_count": 268,
   "metadata": {},
   "outputs": [],
   "source": [
    "cre = credit[['WALLET','COMMAND','DEBIT_CREDIT','REASON_FOR_DEBIT_CREDIT','OPEN_BAL','AMOUNT','CLOSE_BAL','NO_OF_SMS','SMS_DISCOUNT_FACTOR','UNIT_OF_MEASURE']]"
   ]
  },
  {
   "cell_type": "code",
   "execution_count": 281,
   "metadata": {},
   "outputs": [],
   "source": [
    "#cre"
   ]
  },
  {
   "cell_type": "code",
   "execution_count": null,
   "metadata": {},
   "outputs": [],
   "source": []
  },
  {
   "cell_type": "code",
   "execution_count": 22,
   "metadata": {},
   "outputs": [],
   "source": [
    "from sklearn.model_selection import train_test_split\n",
    "from sklearn import metrics\n",
    "import numpy as np\n",
    "import matplotlib.pyplot as mat\n",
    "%matplotlib inline"
   ]
  },
  {
   "cell_type": "code",
   "execution_count": null,
   "metadata": {},
   "outputs": [],
   "source": [
    "x = for_Ana[['']]"
   ]
  },
  {
   "cell_type": "code",
   "execution_count": null,
   "metadata": {},
   "outputs": [],
   "source": []
  },
  {
   "cell_type": "code",
   "execution_count": null,
   "metadata": {},
   "outputs": [],
   "source": [
    "#credit analysis"
   ]
  },
  {
   "cell_type": "code",
   "execution_count": null,
   "metadata": {},
   "outputs": [],
   "source": []
  },
  {
   "cell_type": "code",
   "execution_count": null,
   "metadata": {},
   "outputs": [],
   "source": []
  },
  {
   "cell_type": "code",
   "execution_count": 270,
   "metadata": {},
   "outputs": [
    {
     "name": "stderr",
     "output_type": "stream",
     "text": [
      "/Users/academy_intern/anaconda3/lib/python3.7/site-packages/pandas/core/generic.py:5434: SettingWithCopyWarning: \n",
      "A value is trying to be set on a copy of a slice from a DataFrame\n",
      "\n",
      "See the caveats in the documentation: http://pandas.pydata.org/pandas-docs/stable/indexing.html#indexing-view-versus-copy\n",
      "  self._update_inplace(new_data)\n"
     ]
    }
   ],
   "source": [
    "cre['NO_OF_SMS'].fillna(value = 0, inplace=True)"
   ]
  },
  {
   "cell_type": "code",
   "execution_count": null,
   "metadata": {},
   "outputs": [],
   "source": []
  },
  {
   "cell_type": "code",
   "execution_count": 300,
   "metadata": {},
   "outputs": [],
   "source": [
    "cre_Ana = cre[['WALLET','OPEN_BAL','AMOUNT','CLOSE_BAL','NO_OF_SMS']]"
   ]
  },
  {
   "cell_type": "code",
   "execution_count": null,
   "metadata": {},
   "outputs": [],
   "source": []
  },
  {
   "cell_type": "code",
   "execution_count": 359,
   "metadata": {},
   "outputs": [],
   "source": [
    "e = cre_Ana.nlargest(10, 'OPEN_BAL')"
   ]
  },
  {
   "cell_type": "code",
   "execution_count": 360,
   "metadata": {},
   "outputs": [
    {
     "data": {
      "text/html": [
       "<div>\n",
       "<style scoped>\n",
       "    .dataframe tbody tr th:only-of-type {\n",
       "        vertical-align: middle;\n",
       "    }\n",
       "\n",
       "    .dataframe tbody tr th {\n",
       "        vertical-align: top;\n",
       "    }\n",
       "\n",
       "    .dataframe thead th {\n",
       "        text-align: right;\n",
       "    }\n",
       "</style>\n",
       "<table border=\"1\" class=\"dataframe\">\n",
       "  <thead>\n",
       "    <tr style=\"text-align: right;\">\n",
       "      <th></th>\n",
       "      <th>WALLET</th>\n",
       "      <th>OPEN_BAL</th>\n",
       "      <th>AMOUNT</th>\n",
       "      <th>CLOSE_BAL</th>\n",
       "      <th>NO_OF_SMS</th>\n",
       "    </tr>\n",
       "  </thead>\n",
       "  <tbody>\n",
       "    <tr>\n",
       "      <th>2315750</th>\n",
       "      <td>LOYDATA</td>\n",
       "      <td>1.288495e+10</td>\n",
       "      <td>2.147484e+09</td>\n",
       "      <td>1.503243e+10</td>\n",
       "      <td>0.0</td>\n",
       "    </tr>\n",
       "    <tr>\n",
       "      <th>2344646</th>\n",
       "      <td>LOYDATA</td>\n",
       "      <td>1.073746e+10</td>\n",
       "      <td>2.147484e+09</td>\n",
       "      <td>1.288495e+10</td>\n",
       "      <td>0.0</td>\n",
       "    </tr>\n",
       "    <tr>\n",
       "      <th>357413</th>\n",
       "      <td>LOYDATA</td>\n",
       "      <td>1.073742e+10</td>\n",
       "      <td>2.147484e+09</td>\n",
       "      <td>1.288490e+10</td>\n",
       "      <td>0.0</td>\n",
       "    </tr>\n",
       "    <tr>\n",
       "      <th>2167142</th>\n",
       "      <td>LOYDATA</td>\n",
       "      <td>8.589980e+09</td>\n",
       "      <td>2.147484e+09</td>\n",
       "      <td>1.073746e+10</td>\n",
       "      <td>0.0</td>\n",
       "    </tr>\n",
       "    <tr>\n",
       "      <th>397571</th>\n",
       "      <td>LOYDATA</td>\n",
       "      <td>8.589935e+09</td>\n",
       "      <td>2.147484e+09</td>\n",
       "      <td>1.073742e+10</td>\n",
       "      <td>0.0</td>\n",
       "    </tr>\n",
       "    <tr>\n",
       "      <th>2312504</th>\n",
       "      <td>LOYDATA</td>\n",
       "      <td>6.442496e+09</td>\n",
       "      <td>2.147484e+09</td>\n",
       "      <td>8.589980e+09</td>\n",
       "      <td>0.0</td>\n",
       "    </tr>\n",
       "    <tr>\n",
       "      <th>1164753</th>\n",
       "      <td>LOYDATA</td>\n",
       "      <td>6.442451e+09</td>\n",
       "      <td>2.147484e+09</td>\n",
       "      <td>8.589935e+09</td>\n",
       "      <td>0.0</td>\n",
       "    </tr>\n",
       "    <tr>\n",
       "      <th>2284901</th>\n",
       "      <td>LOYDATA</td>\n",
       "      <td>4.295012e+09</td>\n",
       "      <td>2.147484e+09</td>\n",
       "      <td>6.442496e+09</td>\n",
       "      <td>0.0</td>\n",
       "    </tr>\n",
       "    <tr>\n",
       "      <th>1195956</th>\n",
       "      <td>LOYDATA</td>\n",
       "      <td>4.294967e+09</td>\n",
       "      <td>2.147484e+09</td>\n",
       "      <td>6.442451e+09</td>\n",
       "      <td>0.0</td>\n",
       "    </tr>\n",
       "    <tr>\n",
       "      <th>2410791</th>\n",
       "      <td>LOYDATA</td>\n",
       "      <td>2.354946e+09</td>\n",
       "      <td>1.048576e+08</td>\n",
       "      <td>2.459804e+09</td>\n",
       "      <td>0.0</td>\n",
       "    </tr>\n",
       "  </tbody>\n",
       "</table>\n",
       "</div>"
      ],
      "text/plain": [
       "          WALLET      OPEN_BAL        AMOUNT     CLOSE_BAL  NO_OF_SMS\n",
       "2315750  LOYDATA  1.288495e+10  2.147484e+09  1.503243e+10        0.0\n",
       "2344646  LOYDATA  1.073746e+10  2.147484e+09  1.288495e+10        0.0\n",
       "357413   LOYDATA  1.073742e+10  2.147484e+09  1.288490e+10        0.0\n",
       "2167142  LOYDATA  8.589980e+09  2.147484e+09  1.073746e+10        0.0\n",
       "397571   LOYDATA  8.589935e+09  2.147484e+09  1.073742e+10        0.0\n",
       "2312504  LOYDATA  6.442496e+09  2.147484e+09  8.589980e+09        0.0\n",
       "1164753  LOYDATA  6.442451e+09  2.147484e+09  8.589935e+09        0.0\n",
       "2284901  LOYDATA  4.295012e+09  2.147484e+09  6.442496e+09        0.0\n",
       "1195956  LOYDATA  4.294967e+09  2.147484e+09  6.442451e+09        0.0\n",
       "2410791  LOYDATA  2.354946e+09  1.048576e+08  2.459804e+09        0.0"
      ]
     },
     "execution_count": 360,
     "metadata": {},
     "output_type": "execute_result"
    }
   ],
   "source": [
    "e"
   ]
  },
  {
   "cell_type": "code",
   "execution_count": 367,
   "metadata": {},
   "outputs": [],
   "source": [
    "c = e.loc[e['CLOSE_BAL']>0]"
   ]
  },
  {
   "cell_type": "code",
   "execution_count": 321,
   "metadata": {},
   "outputs": [
    {
     "data": {
      "text/plain": [
       "10"
      ]
     },
     "execution_count": 321,
     "metadata": {},
     "output_type": "execute_result"
    }
   ],
   "source": [
    "c['OPEN_BAL'].count()"
   ]
  },
  {
   "cell_type": "code",
   "execution_count": 368,
   "metadata": {},
   "outputs": [
    {
     "data": {
      "text/plain": [
       "9480182579.2"
      ]
     },
     "execution_count": 368,
     "metadata": {},
     "output_type": "execute_result"
    }
   ],
   "source": [
    "c['CLOSE_BAL'].mean()"
   ]
  },
  {
   "cell_type": "code",
   "execution_count": 369,
   "metadata": {},
   "outputs": [
    {
     "data": {
      "text/plain": [
       "3749066025.481956"
      ]
     },
     "execution_count": 369,
     "metadata": {},
     "output_type": "execute_result"
    }
   ],
   "source": [
    "c['CLOSE_BAL'].std()"
   ]
  },
  {
   "cell_type": "code",
   "execution_count": null,
   "metadata": {},
   "outputs": [],
   "source": []
  },
  {
   "cell_type": "code",
   "execution_count": null,
   "metadata": {},
   "outputs": [],
   "source": [
    "#Linear model"
   ]
  },
  {
   "cell_type": "code",
   "execution_count": null,
   "metadata": {},
   "outputs": [],
   "source": []
  },
  {
   "cell_type": "code",
   "execution_count": 407,
   "metadata": {},
   "outputs": [
    {
     "data": {
      "text/plain": [
       "array(['U', 'Points', 'R', nan, 'Money', 'Bytes', 'Units'], dtype=object)"
      ]
     },
     "execution_count": 407,
     "metadata": {},
     "output_type": "execute_result"
    }
   ],
   "source": [
    "deb['UNIT_OF_MEASURE'].unique()"
   ]
  },
  {
   "cell_type": "code",
   "execution_count": 408,
   "metadata": {},
   "outputs": [
    {
     "data": {
      "text/plain": [
       "<matplotlib.axes._subplots.AxesSubplot at 0x117f82ba8>"
      ]
     },
     "execution_count": 408,
     "metadata": {},
     "output_type": "execute_result"
    },
    {
     "data": {
      "image/png": "[encoded data removed]",
      "text/plain": [
       "<Figure size 432x288 with 1 Axes>"
      ]
     },
     "metadata": {},
     "output_type": "display_data"
    }
   ],
   "source": [
    "sns.heatmap(deb.isnull(), yticklabels = False, cbar = False, cmap = 'viridis')"
   ]
  },
  {
   "cell_type": "code",
   "execution_count": 409,
   "metadata": {},
   "outputs": [],
   "source": [
    "a = deb[['OPEN_BAL','AMOUNT','CLOSE_BAL','UNIT_OF_MEASURE']]"
   ]
  },
  {
   "cell_type": "code",
   "execution_count": 410,
   "metadata": {},
   "outputs": [
    {
     "name": "stderr",
     "output_type": "stream",
     "text": [
      "/Users/academy_intern/anaconda3/lib/python3.7/site-packages/ipykernel_launcher.py:1: SettingWithCopyWarning: \n",
      "A value is trying to be set on a copy of a slice from a DataFrame\n",
      "\n",
      "See the caveats in the documentation: http://pandas.pydata.org/pandas-docs/stable/indexing.html#indexing-view-versus-copy\n",
      "  \"\"\"Entry point for launching an IPython kernel.\n"
     ]
    }
   ],
   "source": [
    "a.dropna(inplace = True)"
   ]
  },
  {
   "cell_type": "code",
   "execution_count": 411,
   "metadata": {},
   "outputs": [
    {
     "data": {
      "text/plain": [
       "array(['U', 'Points', 'R', 'Money', 'Bytes', 'Units'], dtype=object)"
      ]
     },
     "execution_count": 411,
     "metadata": {},
     "output_type": "execute_result"
    }
   ],
   "source": [
    "a['UNIT_OF_MEASURE'].unique()"
   ]
  },
  {
   "cell_type": "code",
   "execution_count": 412,
   "metadata": {},
   "outputs": [],
   "source": [
    "def unit(value):\n",
    "    if value == 'U':\n",
    "        return 0\n",
    "    elif value == 'Points':\n",
    "        return 1\n",
    "    elif value == 'R':\n",
    "        return 2\n",
    "    elif value == 'Money':\n",
    "        return 3\n",
    "    elif value == 'Bytes':\n",
    "        return 4\n",
    "    else:\n",
    "        return 5\n",
    "    "
   ]
  },
  {
   "cell_type": "code",
   "execution_count": 413,
   "metadata": {},
   "outputs": [
    {
     "name": "stderr",
     "output_type": "stream",
     "text": [
      "/Users/academy_intern/anaconda3/lib/python3.7/site-packages/ipykernel_launcher.py:1: SettingWithCopyWarning: \n",
      "A value is trying to be set on a copy of a slice from a DataFrame.\n",
      "Try using .loc[row_indexer,col_indexer] = value instead\n",
      "\n",
      "See the caveats in the documentation: http://pandas.pydata.org/pandas-docs/stable/indexing.html#indexing-view-versus-copy\n",
      "  \"\"\"Entry point for launching an IPython kernel.\n"
     ]
    }
   ],
   "source": [
    "a['UNIT_OF_MEASURE'] = a['UNIT_OF_MEASURE'].apply(unit)"
   ]
  },
  {
   "cell_type": "code",
   "execution_count": 414,
   "metadata": {},
   "outputs": [
    {
     "data": {
      "text/plain": [
       "<matplotlib.axes._subplots.AxesSubplot at 0x117fd2470>"
      ]
     },
     "execution_count": 414,
     "metadata": {},
     "output_type": "execute_result"
    },
    {
     "data": {
      "image/png": "[encoded data removed]",
      "text/plain": [
       "<Figure size 432x288 with 1 Axes>"
      ]
     },
     "metadata": {},
     "output_type": "display_data"
    }
   ],
   "source": [
    "sns.heatmap(a.isnull(), yticklabels = False, cbar = False, cmap = 'viridis')"
   ]
  },
  {
   "cell_type": "code",
   "execution_count": 417,
   "metadata": {},
   "outputs": [
    {
     "name": "stderr",
     "output_type": "stream",
     "text": [
      "/Users/academy_intern/anaconda3/lib/python3.7/site-packages/ipykernel_launcher.py:1: SettingWithCopyWarning: \n",
      "A value is trying to be set on a copy of a slice from a DataFrame\n",
      "\n",
      "See the caveats in the documentation: http://pandas.pydata.org/pandas-docs/stable/indexing.html#indexing-view-versus-copy\n",
      "  \"\"\"Entry point for launching an IPython kernel.\n"
     ]
    }
   ],
   "source": [
    "a.dropna(inplace=True)"
   ]
  },
  {
   "cell_type": "code",
   "execution_count": 418,
   "metadata": {},
   "outputs": [],
   "source": [
    "line = a[['OPEN_BAL','AMOUNT','CLOSE_BAL','UNIT_OF_MEASURE']]"
   ]
  },
  {
   "cell_type": "code",
   "execution_count": 419,
   "metadata": {},
   "outputs": [],
   "source": [
    "x = line[['OPEN_BAL','AMOUNT','CLOSE_BAL']]"
   ]
  },
  {
   "cell_type": "code",
   "execution_count": 420,
   "metadata": {},
   "outputs": [],
   "source": [
    "y = line['UNIT_OF_MEASURE']"
   ]
  },
  {
   "cell_type": "code",
   "execution_count": 421,
   "metadata": {},
   "outputs": [],
   "source": [
    "x_train, x_test, y_train, y_test = train_test_split(x, y, test_size=0.5)"
   ]
  },
  {
   "cell_type": "code",
   "execution_count": 91,
   "metadata": {},
   "outputs": [],
   "source": [
    "from sklearn.linear_model import LinearRegression"
   ]
  },
  {
   "cell_type": "code",
   "execution_count": 423,
   "metadata": {},
   "outputs": [],
   "source": [
    "model = LinearRegression()"
   ]
  },
  {
   "cell_type": "code",
   "execution_count": 424,
   "metadata": {},
   "outputs": [
    {
     "data": {
      "text/plain": [
       "LinearRegression(copy_X=True, fit_intercept=True, n_jobs=1, normalize=False)"
      ]
     },
     "execution_count": 424,
     "metadata": {},
     "output_type": "execute_result"
    }
   ],
   "source": [
    "model.fit(x_train,y_train)"
   ]
  },
  {
   "cell_type": "code",
   "execution_count": 425,
   "metadata": {},
   "outputs": [
    {
     "data": {
      "text/plain": [
       "array([-83520.72085953,  83520.72085953,  83520.72090463])"
      ]
     },
     "execution_count": 425,
     "metadata": {},
     "output_type": "execute_result"
    }
   ],
   "source": [
    "model.coef_"
   ]
  },
  {
   "cell_type": "code",
   "execution_count": 426,
   "metadata": {},
   "outputs": [
    {
     "data": {
      "text/html": [
       "<div>\n",
       "<style scoped>\n",
       "    .dataframe tbody tr th:only-of-type {\n",
       "        vertical-align: middle;\n",
       "    }\n",
       "\n",
       "    .dataframe tbody tr th {\n",
       "        vertical-align: top;\n",
       "    }\n",
       "\n",
       "    .dataframe thead th {\n",
       "        text-align: right;\n",
       "    }\n",
       "</style>\n",
       "<table border=\"1\" class=\"dataframe\">\n",
       "  <thead>\n",
       "    <tr style=\"text-align: right;\">\n",
       "      <th></th>\n",
       "      <th>Coefficient</th>\n",
       "    </tr>\n",
       "  </thead>\n",
       "  <tbody>\n",
       "    <tr>\n",
       "      <th>OPEN_BAL</th>\n",
       "      <td>-83520.720860</td>\n",
       "    </tr>\n",
       "    <tr>\n",
       "      <th>AMOUNT</th>\n",
       "      <td>83520.720860</td>\n",
       "    </tr>\n",
       "    <tr>\n",
       "      <th>CLOSE_BAL</th>\n",
       "      <td>83520.720905</td>\n",
       "    </tr>\n",
       "  </tbody>\n",
       "</table>\n",
       "</div>"
      ],
      "text/plain": [
       "            Coefficient\n",
       "OPEN_BAL  -83520.720860\n",
       "AMOUNT     83520.720860\n",
       "CLOSE_BAL  83520.720905"
      ]
     },
     "execution_count": 426,
     "metadata": {},
     "output_type": "execute_result"
    }
   ],
   "source": [
    "#coefficients\n",
    "coeff_line_3 = pd.DataFrame(model.coef_,x.columns,columns=['Coefficient'])\n",
    "coeff_line_3"
   ]
  },
  {
   "cell_type": "code",
   "execution_count": 427,
   "metadata": {},
   "outputs": [],
   "source": [
    "predictions = model.predict(x_test)"
   ]
  },
  {
   "cell_type": "code",
   "execution_count": 428,
   "metadata": {},
   "outputs": [
    {
     "data": {
      "text/plain": [
       "Text(0,0.5,'Predicted Y')"
      ]
     },
     "execution_count": 428,
     "metadata": {},
     "output_type": "execute_result"
    },
    {
     "data": {
      "image/png": "[encoded data removed]",
      "text/plain": [
       "<Figure size 432x288 with 1 Axes>"
      ]
     },
     "metadata": {},
     "output_type": "display_data"
    }
   ],
   "source": [
    "mat.scatter(y_test, predictions)\n",
    "mat.xlabel('Y Test')\n",
    "mat.ylabel('Predicted Y')"
   ]
  },
  {
   "cell_type": "code",
   "execution_count": 429,
   "metadata": {},
   "outputs": [
    {
     "name": "stdout",
     "output_type": "stream",
     "text": [
      "MAE: 0.5006311029669416\n",
      "MSE: 0.2754022657378295\n",
      "RMSE: 0.5247878292584819\n"
     ]
    }
   ],
   "source": [
    "print('MAE:', metrics.mean_absolute_error(y_test, predictions))\n",
    "print('MSE:', metrics.mean_squared_error(y_test, predictions))\n",
    "print('RMSE:', np.sqrt(metrics.mean_squared_error(y_test, predictions)))"
   ]
  },
  {
   "cell_type": "code",
   "execution_count": 430,
   "metadata": {},
   "outputs": [
    {
     "data": {
      "text/plain": [
       "0.003456298119650758"
      ]
     },
     "execution_count": 430,
     "metadata": {},
     "output_type": "execute_result"
    }
   ],
   "source": [
    "metrics.r2_score(y_test, predictions)"
   ]
  },
  {
   "cell_type": "code",
   "execution_count": null,
   "metadata": {},
   "outputs": [],
   "source": []
  },
  {
   "cell_type": "code",
   "execution_count": null,
   "metadata": {},
   "outputs": [],
   "source": [
    "#Linear Model for overall"
   ]
  },
  {
   "cell_type": "code",
   "execution_count": 437,
   "metadata": {},
   "outputs": [],
   "source": [
    "ov = new_data[['OPEN_BAL','AMOUNT','CLOSE_BAL','UNIT_OF_MEASURE']]"
   ]
  },
  {
   "cell_type": "code",
   "execution_count": null,
   "metadata": {},
   "outputs": [],
   "source": []
  },
  {
   "cell_type": "code",
   "execution_count": 438,
   "metadata": {},
   "outputs": [
    {
     "data": {
      "text/plain": [
       "<matplotlib.axes._subplots.AxesSubplot at 0x1186d5908>"
      ]
     },
     "execution_count": 438,
     "metadata": {},
     "output_type": "execute_result"
    },
    {
     "data": {
      "image/png": "[encoded data removed]",
      "text/plain": [
       "<Figure size 432x288 with 1 Axes>"
      ]
     },
     "metadata": {},
     "output_type": "display_data"
    }
   ],
   "source": [
    "sns.heatmap(ov.isnull(), yticklabels = False, cbar = False, cmap = 'viridis')"
   ]
  },
  {
   "cell_type": "code",
   "execution_count": 439,
   "metadata": {},
   "outputs": [
    {
     "name": "stderr",
     "output_type": "stream",
     "text": [
      "/Users/academy_intern/anaconda3/lib/python3.7/site-packages/ipykernel_launcher.py:1: SettingWithCopyWarning: \n",
      "A value is trying to be set on a copy of a slice from a DataFrame\n",
      "\n",
      "See the caveats in the documentation: http://pandas.pydata.org/pandas-docs/stable/indexing.html#indexing-view-versus-copy\n",
      "  \"\"\"Entry point for launching an IPython kernel.\n"
     ]
    }
   ],
   "source": [
    "ov.dropna(inplace = True)"
   ]
  },
  {
   "cell_type": "code",
   "execution_count": 440,
   "metadata": {},
   "outputs": [
    {
     "data": {
      "text/plain": [
       "array(['U', 'Points', 'Units', 'R', 'Money', 'Bytes', 'Seconds'],\n",
       "      dtype=object)"
      ]
     },
     "execution_count": 440,
     "metadata": {},
     "output_type": "execute_result"
    }
   ],
   "source": [
    "ov['UNIT_OF_MEASURE'].unique()"
   ]
  },
  {
   "cell_type": "code",
   "execution_count": 441,
   "metadata": {},
   "outputs": [],
   "source": [
    "def unitt(value):\n",
    "    if value == 'U':\n",
    "        return 0\n",
    "    elif value == 'Points':\n",
    "        return 1\n",
    "    elif value == 'Units':\n",
    "        return 2\n",
    "    elif value == 'R':\n",
    "        return 3\n",
    "    elif value == 'Money':\n",
    "        return 4\n",
    "    elif value == 'Bytes':\n",
    "        return 5\n",
    "    else:\n",
    "        return 6"
   ]
  },
  {
   "cell_type": "code",
   "execution_count": 442,
   "metadata": {},
   "outputs": [
    {
     "name": "stderr",
     "output_type": "stream",
     "text": [
      "/Users/academy_intern/anaconda3/lib/python3.7/site-packages/ipykernel_launcher.py:1: SettingWithCopyWarning: \n",
      "A value is trying to be set on a copy of a slice from a DataFrame.\n",
      "Try using .loc[row_indexer,col_indexer] = value instead\n",
      "\n",
      "See the caveats in the documentation: http://pandas.pydata.org/pandas-docs/stable/indexing.html#indexing-view-versus-copy\n",
      "  \"\"\"Entry point for launching an IPython kernel.\n"
     ]
    }
   ],
   "source": [
    "ov['UNIT_OF_MEASURE'] = ov['UNIT_OF_MEASURE'].apply(unitt)"
   ]
  },
  {
   "cell_type": "code",
   "execution_count": 165,
   "metadata": {},
   "outputs": [],
   "source": [
    "x = dab[['AMOUNT']]"
   ]
  },
  {
   "cell_type": "code",
   "execution_count": 166,
   "metadata": {},
   "outputs": [],
   "source": [
    "y = dab['REASON_FOR_DEBIT_CREDIT']"
   ]
  },
  {
   "cell_type": "code",
   "execution_count": 167,
   "metadata": {},
   "outputs": [],
   "source": [
    "x_train, x_test, y_train, y_test = train_test_split(x, y, test_size=0.9)"
   ]
  },
  {
   "cell_type": "code",
   "execution_count": 168,
   "metadata": {},
   "outputs": [],
   "source": [
    "model = LinearRegression()"
   ]
  },
  {
   "cell_type": "code",
   "execution_count": 169,
   "metadata": {},
   "outputs": [
    {
     "data": {
      "text/plain": [
       "LinearRegression(copy_X=True, fit_intercept=True, n_jobs=1, normalize=False)"
      ]
     },
     "execution_count": 169,
     "metadata": {},
     "output_type": "execute_result"
    }
   ],
   "source": [
    "model.fit(x_train,y_train)"
   ]
  },
  {
   "cell_type": "code",
   "execution_count": 170,
   "metadata": {},
   "outputs": [
    {
     "data": {
      "text/plain": [
       "array([0.00957243])"
      ]
     },
     "execution_count": 170,
     "metadata": {},
     "output_type": "execute_result"
    }
   ],
   "source": [
    "model.coef_"
   ]
  },
  {
   "cell_type": "code",
   "execution_count": 171,
   "metadata": {},
   "outputs": [
    {
     "data": {
      "text/html": [
       "<div>\n",
       "<style scoped>\n",
       "    .dataframe tbody tr th:only-of-type {\n",
       "        vertical-align: middle;\n",
       "    }\n",
       "\n",
       "    .dataframe tbody tr th {\n",
       "        vertical-align: top;\n",
       "    }\n",
       "\n",
       "    .dataframe thead th {\n",
       "        text-align: right;\n",
       "    }\n",
       "</style>\n",
       "<table border=\"1\" class=\"dataframe\">\n",
       "  <thead>\n",
       "    <tr style=\"text-align: right;\">\n",
       "      <th></th>\n",
       "      <th>Coefficient</th>\n",
       "    </tr>\n",
       "  </thead>\n",
       "  <tbody>\n",
       "    <tr>\n",
       "      <th>AMOUNT</th>\n",
       "      <td>0.009572</td>\n",
       "    </tr>\n",
       "  </tbody>\n",
       "</table>\n",
       "</div>"
      ],
      "text/plain": [
       "        Coefficient\n",
       "AMOUNT     0.009572"
      ]
     },
     "execution_count": 171,
     "metadata": {},
     "output_type": "execute_result"
    }
   ],
   "source": [
    "#coefficients\n",
    "coeff_line_3 = pd.DataFrame(model.coef_,x.columns,columns=['Coefficient'])\n",
    "coeff_line_3"
   ]
  },
  {
   "cell_type": "code",
   "execution_count": 172,
   "metadata": {},
   "outputs": [],
   "source": [
    "predictions = model.predict(x_test)"
   ]
  },
  {
   "cell_type": "code",
   "execution_count": 173,
   "metadata": {},
   "outputs": [
    {
     "data": {
      "text/plain": [
       "Text(0,0.5,'Predicted Y')"
      ]
     },
     "execution_count": 173,
     "metadata": {},
     "output_type": "execute_result"
    },
    {
     "data": {
      "image/png": "[encoded data removed]",
      "text/plain": [
       "<Figure size 432x288 with 1 Axes>"
      ]
     },
     "metadata": {
      "needs_background": "light"
     },
     "output_type": "display_data"
    }
   ],
   "source": [
    "mat.scatter(y_test, predictions)\n",
    "mat.xlabel('Y Test')\n",
    "mat.ylabel('Predicted Y')"
   ]
  },
  {
   "cell_type": "code",
   "execution_count": 154,
   "metadata": {},
   "outputs": [
    {
     "name": "stdout",
     "output_type": "stream",
     "text": [
      "MAE: 16.89124691711619\n",
      "MSE: 7499.154082540835\n",
      "RMSE: 86.59765633399576\n"
     ]
    }
   ],
   "source": [
    "print('MAE:', metrics.mean_absolute_error(y_test, predictions))\n",
    "print('MSE:', metrics.mean_squared_error(y_test, predictions))\n",
    "print('RMSE:', np.sqrt(metrics.mean_squared_error(y_test, predictions)))"
   ]
  },
  {
   "cell_type": "code",
   "execution_count": 155,
   "metadata": {},
   "outputs": [
    {
     "data": {
      "text/plain": [
       "0.0009676648426907297"
      ]
     },
     "execution_count": 155,
     "metadata": {},
     "output_type": "execute_result"
    }
   ],
   "source": [
    "metrics.r2_score(y_test, predictions)"
   ]
  },
  {
   "cell_type": "code",
   "execution_count": null,
   "metadata": {},
   "outputs": [],
   "source": []
  },
  {
   "cell_type": "code",
   "execution_count": null,
   "metadata": {},
   "outputs": [],
   "source": [
    "# Wallets"
   ]
  },
  {
   "cell_type": "code",
   "execution_count": 604,
   "metadata": {},
   "outputs": [
    {
     "data": {
      "text/plain": [
       "SMILE         1366541\n",
       "LOYSMS         952842\n",
       "LOYAIRTIME     158160\n",
       "LOYDATA         23397\n",
       "LOYANYTIME        164\n",
       "FMSMILE            20\n",
       "LOYONNET            5\n",
       "Name: WALLET, dtype: int64"
      ]
     },
     "execution_count": 604,
     "metadata": {},
     "output_type": "execute_result"
    }
   ],
   "source": [
    "new_data['WALLET'].value_counts()"
   ]
  },
  {
   "cell_type": "code",
   "execution_count": 459,
   "metadata": {},
   "outputs": [],
   "source": [
    "da = new_data.loc[new_data['WALLET'].isin(['LOYSMS','LOYAIRTIME', 'LOYDATA', 'LOYANYTIME','LOYONNET'])]"
   ]
  },
  {
   "cell_type": "code",
   "execution_count": 461,
   "metadata": {},
   "outputs": [
    {
     "data": {
      "text/plain": [
       "1134568"
      ]
     },
     "execution_count": 461,
     "metadata": {},
     "output_type": "execute_result"
    }
   ],
   "source": [
    "da['WALLET'].count()"
   ]
  },
  {
   "cell_type": "code",
   "execution_count": 469,
   "metadata": {},
   "outputs": [],
   "source": [
    "set_1 = da.loc[da['WALLET'] == 'LOYSMS']"
   ]
  },
  {
   "cell_type": "code",
   "execution_count": 470,
   "metadata": {},
   "outputs": [],
   "source": [
    "set_2 = da.loc[da['WALLET'] == 'LOYAIRTIME']"
   ]
  },
  {
   "cell_type": "code",
   "execution_count": 471,
   "metadata": {},
   "outputs": [],
   "source": [
    "set_3 = da.loc[da['WALLET'] == 'LOYDATA']"
   ]
  },
  {
   "cell_type": "code",
   "execution_count": 472,
   "metadata": {},
   "outputs": [],
   "source": [
    "set_4 = da.loc[da['WALLET'] == 'LOYANYTIME']"
   ]
  },
  {
   "cell_type": "code",
   "execution_count": 473,
   "metadata": {},
   "outputs": [],
   "source": [
    "set_5 = da.loc[da['WALLET'] == 'LOYONNET']"
   ]
  },
  {
   "cell_type": "code",
   "execution_count": null,
   "metadata": {},
   "outputs": [],
   "source": []
  },
  {
   "cell_type": "code",
   "execution_count": null,
   "metadata": {},
   "outputs": [],
   "source": [
    "2339522123    49\n",
    "3216414877    48\n",
    "3400020718    37\n",
    "516690301     35\n",
    "1648398136    35"
   ]
  },
  {
   "cell_type": "code",
   "execution_count": null,
   "metadata": {},
   "outputs": [],
   "source": []
  },
  {
   "cell_type": "code",
   "execution_count": 8,
   "metadata": {},
   "outputs": [
    {
     "ename": "NameError",
     "evalue": "name 'set_3' is not defined",
     "output_type": "error",
     "traceback": [
      "\u001b[0;31m---------------------------------------------------------------------------\u001b[0m",
      "\u001b[0;31mNameError\u001b[0m                                 Traceback (most recent call last)",
      "\u001b[0;32m<ipython-input-8-8454dfad521a>\u001b[0m in \u001b[0;36m<module>\u001b[0;34m()\u001b[0m\n\u001b[0;32m----> 1\u001b[0;31m \u001b[0ms\u001b[0m \u001b[0;34m=\u001b[0m \u001b[0mset_3\u001b[0m\u001b[0;34m[\u001b[0m\u001b[0;34m[\u001b[0m\u001b[0;34m'WALLET'\u001b[0m\u001b[0;34m,\u001b[0m\u001b[0;34m'PROCESSED_DATE_TIME'\u001b[0m\u001b[0;34m,\u001b[0m\u001b[0;34m'A_MSISDN'\u001b[0m\u001b[0;34m,\u001b[0m\u001b[0;34m'DEBIT_CREDIT'\u001b[0m\u001b[0;34m,\u001b[0m\u001b[0;34m'REASON_FOR_DEBIT_CREDIT'\u001b[0m\u001b[0;34m,\u001b[0m\u001b[0;34m'OPEN_BAL'\u001b[0m\u001b[0;34m,\u001b[0m\u001b[0;34m'AMOUNT'\u001b[0m\u001b[0;34m,\u001b[0m\u001b[0;34m'CLOSE_BAL'\u001b[0m\u001b[0;34m,\u001b[0m\u001b[0;34m'NO_OF_SMS'\u001b[0m\u001b[0;34m,\u001b[0m\u001b[0;34m'UNIT_OF_MEASURE'\u001b[0m\u001b[0;34m]\u001b[0m\u001b[0;34m]\u001b[0m\u001b[0;34m\u001b[0m\u001b[0m\n\u001b[0m",
      "\u001b[0;31mNameError\u001b[0m: name 'set_3' is not defined"
     ]
    }
   ],
   "source": [
    "s = set_3[['WALLET','PROCESSED_DATE_TIME','A_MSISDN','DEBIT_CREDIT','REASON_FOR_DEBIT_CREDIT','OPEN_BAL','AMOUNT','CLOSE_BAL','NO_OF_SMS','UNIT_OF_MEASURE']]"
   ]
  },
  {
   "cell_type": "code",
   "execution_count": 611,
   "metadata": {},
   "outputs": [],
   "source": [
    "Ana = s.loc[s['DEBIT_CREDIT'] == 'D']"
   ]
  },
  {
   "cell_type": "code",
   "execution_count": null,
   "metadata": {},
   "outputs": [],
   "source": []
  },
  {
   "cell_type": "code",
   "execution_count": 606,
   "metadata": {},
   "outputs": [],
   "source": [
    "Ana_1 = Ana.sort_values(by=['A_MSISDN'])"
   ]
  },
  {
   "cell_type": "code",
   "execution_count": 613,
   "metadata": {},
   "outputs": [
    {
     "data": {
      "text/html": [
       "<div>\n",
       "<style scoped>\n",
       "    .dataframe tbody tr th:only-of-type {\n",
       "        vertical-align: middle;\n",
       "    }\n",
       "\n",
       "    .dataframe tbody tr th {\n",
       "        vertical-align: top;\n",
       "    }\n",
       "\n",
       "    .dataframe thead th {\n",
       "        text-align: right;\n",
       "    }\n",
       "</style>\n",
       "<table border=\"1\" class=\"dataframe\">\n",
       "  <thead>\n",
       "    <tr style=\"text-align: right;\">\n",
       "      <th></th>\n",
       "      <th>WALLET</th>\n",
       "      <th>PROCESSED_DATE_TIME</th>\n",
       "      <th>A_MSISDN</th>\n",
       "      <th>DEBIT_CREDIT</th>\n",
       "      <th>REASON_FOR_DEBIT_CREDIT</th>\n",
       "      <th>OPEN_BAL</th>\n",
       "      <th>AMOUNT</th>\n",
       "      <th>CLOSE_BAL</th>\n",
       "      <th>NO_OF_SMS</th>\n",
       "      <th>UNIT_OF_MEASURE</th>\n",
       "    </tr>\n",
       "  </thead>\n",
       "  <tbody>\n",
       "  </tbody>\n",
       "</table>\n",
       "</div>"
      ],
      "text/plain": [
       "Empty DataFrame\n",
       "Columns: [WALLET, PROCESSED_DATE_TIME, A_MSISDN, DEBIT_CREDIT, REASON_FOR_DEBIT_CREDIT, OPEN_BAL, AMOUNT, CLOSE_BAL, NO_OF_SMS, UNIT_OF_MEASURE]\n",
       "Index: []"
      ]
     },
     "execution_count": 613,
     "metadata": {},
     "output_type": "execute_result"
    }
   ],
   "source": [
    "Ana_1"
   ]
  },
  {
   "cell_type": "code",
   "execution_count": 607,
   "metadata": {},
   "outputs": [],
   "source": [
    "Ana_1['PROCESSED_DATE_TIME'] = pd.to_datetime(Ana_1['PROCESSED_DATE_TIME'])"
   ]
  },
  {
   "cell_type": "code",
   "execution_count": 608,
   "metadata": {},
   "outputs": [],
   "source": [
    "Ana_2 = Ana_1.sort_values(by=['PROCESSED_DATE_TIME'])"
   ]
  },
  {
   "cell_type": "code",
   "execution_count": null,
   "metadata": {},
   "outputs": [],
   "source": []
  },
  {
   "cell_type": "code",
   "execution_count": 596,
   "metadata": {},
   "outputs": [
    {
     "data": {
      "text/html": [
       "<div>\n",
       "<style scoped>\n",
       "    .dataframe tbody tr th:only-of-type {\n",
       "        vertical-align: middle;\n",
       "    }\n",
       "\n",
       "    .dataframe tbody tr th {\n",
       "        vertical-align: top;\n",
       "    }\n",
       "\n",
       "    .dataframe thead th {\n",
       "        text-align: right;\n",
       "    }\n",
       "</style>\n",
       "<table border=\"1\" class=\"dataframe\">\n",
       "  <thead>\n",
       "    <tr style=\"text-align: right;\">\n",
       "      <th></th>\n",
       "      <th>WALLET</th>\n",
       "      <th>PROCESSED_DATE_TIME</th>\n",
       "      <th>A_MSISDN</th>\n",
       "      <th>DEBIT_CREDIT</th>\n",
       "      <th>REASON_FOR_DEBIT_CREDIT</th>\n",
       "      <th>OPEN_BAL</th>\n",
       "      <th>AMOUNT</th>\n",
       "      <th>CLOSE_BAL</th>\n",
       "      <th>NO_OF_SMS</th>\n",
       "      <th>UNIT_OF_MEASURE</th>\n",
       "    </tr>\n",
       "  </thead>\n",
       "  <tbody>\n",
       "    <tr>\n",
       "      <th>188242</th>\n",
       "      <td>LOYDATA</td>\n",
       "      <td>2018-07-12 03:02:06</td>\n",
       "      <td>719667200</td>\n",
       "      <td>D</td>\n",
       "      <td>clearedDedicatedAccount</td>\n",
       "      <td>0.0</td>\n",
       "      <td>0.0</td>\n",
       "      <td>0.0</td>\n",
       "      <td>NaN</td>\n",
       "      <td>NaN</td>\n",
       "    </tr>\n",
       "  </tbody>\n",
       "</table>\n",
       "</div>"
      ],
      "text/plain": [
       "         WALLET PROCESSED_DATE_TIME   A_MSISDN DEBIT_CREDIT  \\\n",
       "188242  LOYDATA 2018-07-12 03:02:06  719667200            D   \n",
       "\n",
       "        REASON_FOR_DEBIT_CREDIT  OPEN_BAL  AMOUNT  CLOSE_BAL  NO_OF_SMS  \\\n",
       "188242  clearedDedicatedAccount       0.0     0.0        0.0        NaN   \n",
       "\n",
       "       UNIT_OF_MEASURE  \n",
       "188242             NaN  "
      ]
     },
     "execution_count": 596,
     "metadata": {},
     "output_type": "execute_result"
    }
   ],
   "source": [
    "Ana_2.loc[(Ana_2['A_MSISDN'] == 719667200)]"
   ]
  },
  {
   "cell_type": "code",
   "execution_count": null,
   "metadata": {},
   "outputs": [],
   "source": []
  },
  {
   "cell_type": "code",
   "execution_count": null,
   "metadata": {},
   "outputs": [],
   "source": [
    "2965392343    184\n",
    "3116279020    166\n",
    "4213887978    156\n",
    "671257486     155\n",
    "1308320249    138"
   ]
  },
  {
   "cell_type": "code",
   "execution_count": null,
   "metadata": {},
   "outputs": [],
   "source": []
  },
  {
   "cell_type": "code",
   "execution_count": 558,
   "metadata": {},
   "outputs": [
    {
     "data": {
      "text/plain": [
       "WALLET                     0\n",
       "PROCESSED_DATE_TIME        0\n",
       "A_MSISDN                   0\n",
       "DEBIT_CREDIT               0\n",
       "REASON_FOR_DEBIT_CREDIT    0\n",
       "OPEN_BAL                   0\n",
       "AMOUNT                     0\n",
       "CLOSE_BAL                  0\n",
       "NO_OF_SMS                  0\n",
       "UNIT_OF_MEASURE            0\n",
       "dtype: int64"
      ]
     },
     "execution_count": 558,
     "metadata": {},
     "output_type": "execute_result"
    }
   ],
   "source": [
    "Ana_2.loc[Ana_2['A_MSISDN'] == 671257486].count()"
   ]
  },
  {
   "cell_type": "code",
   "execution_count": 597,
   "metadata": {},
   "outputs": [
    {
     "data": {
      "text/html": [
       "<div>\n",
       "<style scoped>\n",
       "    .dataframe tbody tr th:only-of-type {\n",
       "        vertical-align: middle;\n",
       "    }\n",
       "\n",
       "    .dataframe tbody tr th {\n",
       "        vertical-align: top;\n",
       "    }\n",
       "\n",
       "    .dataframe thead th {\n",
       "        text-align: right;\n",
       "    }\n",
       "</style>\n",
       "<table border=\"1\" class=\"dataframe\">\n",
       "  <thead>\n",
       "    <tr style=\"text-align: right;\">\n",
       "      <th></th>\n",
       "      <th>WALLET</th>\n",
       "      <th>PROCESSED_DATE_TIME</th>\n",
       "      <th>A_MSISDN</th>\n",
       "      <th>DEBIT_CREDIT</th>\n",
       "      <th>REASON_FOR_DEBIT_CREDIT</th>\n",
       "      <th>OPEN_BAL</th>\n",
       "      <th>AMOUNT</th>\n",
       "      <th>CLOSE_BAL</th>\n",
       "      <th>NO_OF_SMS</th>\n",
       "      <th>UNIT_OF_MEASURE</th>\n",
       "    </tr>\n",
       "  </thead>\n",
       "  <tbody>\n",
       "    <tr>\n",
       "      <th>104474</th>\n",
       "      <td>LOYDATA</td>\n",
       "      <td>2018-07-12 03:00:23</td>\n",
       "      <td>2477799503</td>\n",
       "      <td>D</td>\n",
       "      <td>clearedDedicatedAccount</td>\n",
       "      <td>40960.0</td>\n",
       "      <td>40960.0</td>\n",
       "      <td>0.0</td>\n",
       "      <td>NaN</td>\n",
       "      <td>NaN</td>\n",
       "    </tr>\n",
       "  </tbody>\n",
       "</table>\n",
       "</div>"
      ],
      "text/plain": [
       "         WALLET PROCESSED_DATE_TIME    A_MSISDN DEBIT_CREDIT  \\\n",
       "104474  LOYDATA 2018-07-12 03:00:23  2477799503            D   \n",
       "\n",
       "        REASON_FOR_DEBIT_CREDIT  OPEN_BAL   AMOUNT  CLOSE_BAL  NO_OF_SMS  \\\n",
       "104474  clearedDedicatedAccount   40960.0  40960.0        0.0        NaN   \n",
       "\n",
       "       UNIT_OF_MEASURE  \n",
       "104474             NaN  "
      ]
     },
     "execution_count": 597,
     "metadata": {},
     "output_type": "execute_result"
    }
   ],
   "source": [
    "Ana_2.loc[Ana_2['A_MSISDN'] == 2477799503]"
   ]
  },
  {
   "cell_type": "code",
   "execution_count": null,
   "metadata": {},
   "outputs": [],
   "source": []
  },
  {
   "cell_type": "code",
   "execution_count": null,
   "metadata": {},
   "outputs": [],
   "source": []
  },
  {
   "cell_type": "code",
   "execution_count": null,
   "metadata": {},
   "outputs": [],
   "source": []
  },
  {
   "cell_type": "code",
   "execution_count": null,
   "metadata": {},
   "outputs": [],
   "source": []
  },
  {
   "cell_type": "code",
   "execution_count": 499,
   "metadata": {},
   "outputs": [
    {
     "data": {
      "text/plain": [
       "184763    3472434383\n",
       "399906     475599000\n",
       "417140    2370982096\n",
       "951760    1554260927\n",
       "984909    2923515718\n",
       "Name: A_MSISDN, dtype: int64"
      ]
     },
     "execution_count": 499,
     "metadata": {},
     "output_type": "execute_result"
    }
   ],
   "source": [
    "set_5['A_MSISDN']"
   ]
  },
  {
   "cell_type": "code",
   "execution_count": 17,
   "metadata": {},
   "outputs": [],
   "source": [
    "def alloc(hat):\n",
    "    for hat in set_1['A_MSISDN']:\n",
    "        if (hat == hat):\n",
    "            set_1['AMOUNT'] = set_1['AMOUNT'] + set_1['AMOUNT']\n",
    "            "
   ]
  },
  {
   "cell_type": "code",
   "execution_count": 564,
   "metadata": {},
   "outputs": [
    {
     "data": {
      "text/html": [
       "<div>\n",
       "<style scoped>\n",
       "    .dataframe tbody tr th:only-of-type {\n",
       "        vertical-align: middle;\n",
       "    }\n",
       "\n",
       "    .dataframe tbody tr th {\n",
       "        vertical-align: top;\n",
       "    }\n",
       "\n",
       "    .dataframe thead th {\n",
       "        text-align: right;\n",
       "    }\n",
       "</style>\n",
       "<table border=\"1\" class=\"dataframe\">\n",
       "  <thead>\n",
       "    <tr style=\"text-align: right;\">\n",
       "      <th></th>\n",
       "      <th>WALLET</th>\n",
       "      <th>PROCESSED_DATE_TIME</th>\n",
       "      <th>A_MSISDN</th>\n",
       "      <th>DEBIT_CREDIT</th>\n",
       "      <th>REASON_FOR_DEBIT_CREDIT</th>\n",
       "      <th>OPEN_BAL</th>\n",
       "      <th>AMOUNT</th>\n",
       "      <th>CLOSE_BAL</th>\n",
       "      <th>NO_OF_SMS</th>\n",
       "      <th>UNIT_OF_MEASURE</th>\n",
       "    </tr>\n",
       "  </thead>\n",
       "  <tbody>\n",
       "  </tbody>\n",
       "</table>\n",
       "</div>"
      ],
      "text/plain": [
       "Empty DataFrame\n",
       "Columns: [WALLET, PROCESSED_DATE_TIME, A_MSISDN, DEBIT_CREDIT, REASON_FOR_DEBIT_CREDIT, OPEN_BAL, AMOUNT, CLOSE_BAL, NO_OF_SMS, UNIT_OF_MEASURE]\n",
       "Index: []"
      ]
     },
     "execution_count": 564,
     "metadata": {},
     "output_type": "execute_result"
    }
   ],
   "source": [
    "Ana_2.loc[Ana_2['A_MSISDN'] == 671257486]"
   ]
  },
  {
   "cell_type": "code",
   "execution_count": null,
   "metadata": {},
   "outputs": [],
   "source": []
  },
  {
   "cell_type": "code",
   "execution_count": null,
   "metadata": {},
   "outputs": [],
   "source": [
    "new_data['REASON_FOR_DEBIT_CREDIT'].value_counts()"
   ]
  },
  {
   "cell_type": "code",
   "execution_count": 629,
   "metadata": {},
   "outputs": [
    {
     "data": {
      "text/plain": [
       "SMILE         1366541\n",
       "LOYSMS         952842\n",
       "LOYAIRTIME     158160\n",
       "LOYDATA         23397\n",
       "LOYANYTIME        164\n",
       "FMSMILE            20\n",
       "LOYONNET            5\n",
       "Name: WALLET, dtype: int64"
      ]
     },
     "execution_count": 629,
     "metadata": {},
     "output_type": "execute_result"
    }
   ],
   "source": [
    "new_data['WALLET'].value_counts()"
   ]
  },
  {
   "cell_type": "code",
   "execution_count": 9,
   "metadata": {},
   "outputs": [],
   "source": [
    "fa = new_data[['WALLET','PROCESSED_DATE_TIME','A_MSISDN','DEBIT_CREDIT','REASON_FOR_DEBIT_CREDIT','OPEN_BAL','AMOUNT','CLOSE_BAL','NO_OF_SMS','UNIT_OF_MEASURE']]"
   ]
  },
  {
   "cell_type": "code",
   "execution_count": 10,
   "metadata": {},
   "outputs": [],
   "source": [
    "f = fa[fa['DEBIT_CREDIT'] == 'C']"
   ]
  },
  {
   "cell_type": "code",
   "execution_count": 763,
   "metadata": {},
   "outputs": [],
   "source": [
    "web = f.loc[f['A_MSISDN']== 1542493433]"
   ]
  },
  {
   "cell_type": "code",
   "execution_count": 764,
   "metadata": {},
   "outputs": [
    {
     "data": {
      "text/plain": [
       "12000.0"
      ]
     },
     "execution_count": 764,
     "metadata": {},
     "output_type": "execute_result"
    }
   ],
   "source": [
    "web['AMOUNT'].sum()"
   ]
  },
  {
   "cell_type": "code",
   "execution_count": 765,
   "metadata": {},
   "outputs": [
    {
     "data": {
      "text/plain": [
       "Me2UPrepaid2Prepaid    23\n",
       "Name: REASON_FOR_DEBIT_CREDIT, dtype: int64"
      ]
     },
     "execution_count": 765,
     "metadata": {},
     "output_type": "execute_result"
    }
   ],
   "source": [
    "web['REASON_FOR_DEBIT_CREDIT'].value_counts()"
   ]
  },
  {
   "cell_type": "code",
   "execution_count": 768,
   "metadata": {},
   "outputs": [],
   "source": [
    "d = web.loc[web['REASON_FOR_DEBIT_CREDIT']== 'Me2UPrepaid2Prepaid']"
   ]
  },
  {
   "cell_type": "code",
   "execution_count": 769,
   "metadata": {},
   "outputs": [
    {
     "data": {
      "text/plain": [
       "12000.0"
      ]
     },
     "execution_count": 769,
     "metadata": {},
     "output_type": "execute_result"
    }
   ],
   "source": [
    "d['AMOUNT'].sum()"
   ]
  },
  {
   "cell_type": "code",
   "execution_count": null,
   "metadata": {},
   "outputs": [],
   "source": [
    "#"
   ]
  },
  {
   "cell_type": "code",
   "execution_count": 11,
   "metadata": {},
   "outputs": [
    {
     "name": "stderr",
     "output_type": "stream",
     "text": [
      "/Users/academy_intern/anaconda3/lib/python3.7/site-packages/ipykernel_launcher.py:1: SettingWithCopyWarning: \n",
      "A value is trying to be set on a copy of a slice from a DataFrame.\n",
      "Try using .loc[row_indexer,col_indexer] = value instead\n",
      "\n",
      "See the caveats in the documentation: http://pandas.pydata.org/pandas-docs/stable/indexing.html#indexing-view-versus-copy\n",
      "  \"\"\"Entry point for launching an IPython kernel.\n"
     ]
    }
   ],
   "source": [
    "f['PROCESSED_DATE_TIME'] = pd.to_datetime(f['PROCESSED_DATE_TIME'])"
   ]
  },
  {
   "cell_type": "code",
   "execution_count": null,
   "metadata": {},
   "outputs": [],
   "source": []
  },
  {
   "cell_type": "code",
   "execution_count": null,
   "metadata": {},
   "outputs": [],
   "source": []
  },
  {
   "cell_type": "code",
   "execution_count": 13,
   "metadata": {},
   "outputs": [],
   "source": [
    "#groups"
   ]
  },
  {
   "cell_type": "code",
   "execution_count": 14,
   "metadata": {},
   "outputs": [],
   "source": [
    "def group(value):\n",
    "    if ((value > pd.to_datetime('2018-07-12 00:00:00', format='%Y-%m-%d %H:%M:%S.%f')) \n",
    "            and (value < pd.to_datetime('2018-07-12 04:00:00', format='%Y-%m-%d %H:%M:%S.%f'))):\n",
    "        return 'Group 1'\n",
    "    elif ((value > pd.to_datetime('2018-07-12 03:59:59', format='%Y-%m-%d %H:%M:%S.%f')) \n",
    "             and (value < pd.to_datetime('2018-07-12 11:00:00', format='%Y-%m-%d %H:%M:%S.%f'))):\n",
    "        return 'Group 2'\n",
    "    elif ((value > pd.to_datetime('2018-07-12 10:59:59', format='%Y-%m-%d %H:%M:%S.%f')) \n",
    "            and (value < pd.to_datetime('2018-07-12 15:00:00', format='%Y-%m-%d %H:%M:%S.%f'))):\n",
    "        return 'Group 3'\n",
    "    elif ((value > pd.to_datetime('2018-07-12 14:59:59', format='%Y-%m-%d %H:%M:%S.%f')) \n",
    "             and (value < pd.to_datetime('2018-07-12 18:00:00', format='%Y-%m-%d %H:%M:%S.%f'))):\n",
    "        return 'Group 4'\n",
    "    else:\n",
    "        return 'Group 5'"
   ]
  },
  {
   "cell_type": "code",
   "execution_count": 37,
   "metadata": {},
   "outputs": [],
   "source": [
    "def group(value):\n",
    "    if ((value > pd.to_datetime('2018-07-12 00:00:00', format='%Y-%m-%d %H:%M:%S.%f')) \n",
    "            and (value < pd.to_datetime('2018-07-12 04:00:00', format='%Y-%m-%d %H:%M:%S.%f'))):\n",
    "        return 1\n",
    "    elif ((value > pd.to_datetime('2018-07-12 03:59:59', format='%Y-%m-%d %H:%M:%S.%f')) \n",
    "             and (value < pd.to_datetime('2018-07-12 11:00:00', format='%Y-%m-%d %H:%M:%S.%f'))):\n",
    "        return 2\n",
    "    elif ((value > pd.to_datetime('2018-07-12 10:59:59', format='%Y-%m-%d %H:%M:%S.%f')) \n",
    "            and (value < pd.to_datetime('2018-07-12 15:00:00', format='%Y-%m-%d %H:%M:%S.%f'))):\n",
    "        return 3\n",
    "    elif ((value > pd.to_datetime('2018-07-12 14:59:59', format='%Y-%m-%d %H:%M:%S.%f')) \n",
    "             and (value < pd.to_datetime('2018-07-12 18:00:00', format='%Y-%m-%d %H:%M:%S.%f'))):\n",
    "        return 4\n",
    "    else:\n",
    "        return 5"
   ]
  },
  {
   "cell_type": "code",
   "execution_count": 38,
   "metadata": {},
   "outputs": [
    {
     "name": "stderr",
     "output_type": "stream",
     "text": [
      "/Users/academy_intern/anaconda3/lib/python3.7/site-packages/ipykernel_launcher.py:1: SettingWithCopyWarning: \n",
      "A value is trying to be set on a copy of a slice from a DataFrame.\n",
      "Try using .loc[row_indexer,col_indexer] = value instead\n",
      "\n",
      "See the caveats in the documentation: http://pandas.pydata.org/pandas-docs/stable/indexing.html#indexing-view-versus-copy\n",
      "  \"\"\"Entry point for launching an IPython kernel.\n"
     ]
    }
   ],
   "source": [
    "f['GROUPS'] = f['PROCESSED_DATE_TIME'].apply(group)"
   ]
  },
  {
   "cell_type": "code",
   "execution_count": 20,
   "metadata": {},
   "outputs": [
    {
     "data": {
      "text/plain": [
       "<matplotlib.axes._subplots.AxesSubplot at 0x121ee7780>"
      ]
     },
     "execution_count": 20,
     "metadata": {},
     "output_type": "execute_result"
    },
    {
     "data": {
      "image/png": "[encoded data removed]",
      "text/plain": [
       "<Figure size 432x288 with 1 Axes>"
      ]
     },
     "metadata": {},
     "output_type": "display_data"
    }
   ],
   "source": [
    "sns.set_style('whitegrid')\n",
    "sns.countplot(x='GROUPS',data=f,palette='RdBu_r')"
   ]
  },
  {
   "cell_type": "code",
   "execution_count": 27,
   "metadata": {},
   "outputs": [
    {
     "data": {
      "image/png": "[encoded data removed]",
      "text/plain": [
       "<Figure size 432x288 with 1 Axes>"
      ]
     },
     "metadata": {},
     "output_type": "display_data"
    }
   ],
   "source": [
    "explode = (0.1, 0.1, 0.1, 0.1, 0.8)\n",
    "\n",
    "f['GROUPS'].value_counts().plot.pie(autopct='%1.1f%%',explode=explode, shadow=True, startangle=90)\n",
    "\n",
    "mat.gca().set_aspect('equal')"
   ]
  },
  {
   "cell_type": "code",
   "execution_count": 31,
   "metadata": {},
   "outputs": [
    {
     "data": {
      "text/plain": [
       "<matplotlib.collections.PathCollection at 0x1251df358>"
      ]
     },
     "execution_count": 31,
     "metadata": {},
     "output_type": "execute_result"
    },
    {
     "data": {
      "image/png": "[encoded data removed]",
      "text/plain": [
       "<Figure size 432x288 with 1 Axes>"
      ]
     },
     "metadata": {
      "needs_background": "light"
     },
     "output_type": "display_data"
    }
   ],
   "source": [
    "mat.scatter(f['GROUPS'],f['AMOUNT'])"
   ]
  },
  {
   "cell_type": "code",
   "execution_count": null,
   "metadata": {},
   "outputs": [],
   "source": [
    "f['PROCESSED_DATE_TIME'] > pd.to_datetime('2018-07-12 14:59:59', format='%Y-%m-%d %H:%M:%S.%f')) \n",
    "             \n",
    "              &\n",
    "              \n",
    "              (f['PROCESSED_DATE_TIME'] < pd.to_datetime('2018-07-12 18:00:00', format='%Y-%m-%d %H:%M:%S.%f'))\n",
    "             "
   ]
  },
  {
   "cell_type": "code",
   "execution_count": null,
   "metadata": {},
   "outputs": [],
   "source": [
    "f['PROCESSED_DATE_TIME'].between_time()       "
   ]
  },
  {
   "cell_type": "code",
   "execution_count": 857,
   "metadata": {},
   "outputs": [],
   "source": [
    "night = f.loc[(f['PROCESSED_DATE_TIME'] > pd.to_datetime('2018-07-12 00:00:00', format='%Y-%m-%d %H:%M:%S.%f')) \n",
    "             \n",
    "              &\n",
    "              \n",
    "              (f['PROCESSED_DATE_TIME'] < pd.to_datetime('2018-07-12 04:00:00', format='%Y-%m-%d %H:%M:%S.%f'))\n",
    "             \n",
    "             ]\n",
    "             "
   ]
  },
  {
   "cell_type": "code",
   "execution_count": 19,
   "metadata": {},
   "outputs": [],
   "source": [
    "#evening['REASON_FOR_DEBIT_CREDIT'].value_counts()"
   ]
  },
  {
   "cell_type": "code",
   "execution_count": 860,
   "metadata": {},
   "outputs": [],
   "source": [
    "morning = f.loc[(f['PROCESSED_DATE_TIME'] > pd.to_datetime('2018-07-12 03:59:59', format='%Y-%m-%d %H:%M:%S.%f')) \n",
    "             \n",
    "              &\n",
    "              \n",
    "              (f['PROCESSED_DATE_TIME'] < pd.to_datetime('2018-07-12 11:00:00', format='%Y-%m-%d %H:%M:%S.%f'))\n",
    "             \n",
    "             ]"
   ]
  },
  {
   "cell_type": "code",
   "execution_count": 863,
   "metadata": {},
   "outputs": [],
   "source": [
    "midday = f.loc[(f['PROCESSED_DATE_TIME'] > pd.to_datetime('2018-07-12 10:59:59', format='%Y-%m-%d %H:%M:%S.%f')) \n",
    "             \n",
    "              &\n",
    "              \n",
    "              (f['PROCESSED_DATE_TIME'] < pd.to_datetime('2018-07-12 15:00:00', format='%Y-%m-%d %H:%M:%S.%f'))\n",
    "             \n",
    "             ]"
   ]
  },
  {
   "cell_type": "code",
   "execution_count": 864,
   "metadata": {},
   "outputs": [],
   "source": [
    "afternoon = f.loc[(f['PROCESSED_DATE_TIME'] > pd.to_datetime('2018-07-12 14:59:59', format='%Y-%m-%d %H:%M:%S.%f')) \n",
    "             \n",
    "              &\n",
    "              \n",
    "              (f['PROCESSED_DATE_TIME'] < pd.to_datetime('2018-07-12 18:00:00', format='%Y-%m-%d %H:%M:%S.%f'))\n",
    "             \n",
    "             ]"
   ]
  },
  {
   "cell_type": "code",
   "execution_count": 867,
   "metadata": {},
   "outputs": [],
   "source": [
    "evening = f.loc[(f['PROCESSED_DATE_TIME'] > pd.to_datetime('2018-07-12 17:59:59', format='%Y-%m-%d %H:%M:%S.%f')) \n",
    "             \n",
    "              &\n",
    "              \n",
    "              (f['PROCESSED_DATE_TIME'] < pd.to_datetime('2018-07-12 23:59:59', format='%Y-%m-%d %H:%M:%S.%f'))\n",
    "             \n",
    "             ]"
   ]
  },
  {
   "cell_type": "code",
   "execution_count": 174,
   "metadata": {},
   "outputs": [],
   "source": [
    "ad = f[['AMOUNT','REASON_FOR_DEBIT_CREDIT','UNIT_OF_MEASURE']]"
   ]
  },
  {
   "cell_type": "code",
   "execution_count": 229,
   "metadata": {},
   "outputs": [],
   "source": [
    "def switch(cols):\n",
    "    REASON_FOR_DEBIT_CREDIT = cols[0]\n",
    "    UNIT_OF_MEASURE = cols[1]\n",
    "    \n",
    "    if UNIT_OF_MEASURE == 'Points':\n",
    "        return Points\n",
    "    else:\n",
    "        return SMS1\n",
    "\n",
    "    return REASON_FOR_DEBIT_CREDIT"
   ]
  },
  {
   "cell_type": "code",
   "execution_count": 230,
   "metadata": {},
   "outputs": [
    {
     "ename": "NameError",
     "evalue": "(\"name 'Points' is not defined\", 'occurred at index 1')",
     "output_type": "error",
     "traceback": [
      "\u001b[0;31m---------------------------------------------------------------------------\u001b[0m",
      "\u001b[0;31mNameError\u001b[0m                                 Traceback (most recent call last)",
      "\u001b[0;32m<ipython-input-230-645cb41742b2>\u001b[0m in \u001b[0;36m<module>\u001b[0;34m()\u001b[0m\n\u001b[0;32m----> 1\u001b[0;31m \u001b[0mad\u001b[0m\u001b[0;34m[\u001b[0m\u001b[0;34m'REASON_FOR_DEBIT_CREDIT'\u001b[0m\u001b[0;34m]\u001b[0m \u001b[0;34m=\u001b[0m \u001b[0mad\u001b[0m\u001b[0;34m[\u001b[0m\u001b[0;34m[\u001b[0m\u001b[0;34m'REASON_FOR_DEBIT_CREDIT'\u001b[0m\u001b[0;34m,\u001b[0m\u001b[0;34m'UNIT_OF_MEASURE'\u001b[0m\u001b[0;34m]\u001b[0m\u001b[0;34m]\u001b[0m\u001b[0;34m.\u001b[0m\u001b[0mapply\u001b[0m\u001b[0;34m(\u001b[0m\u001b[0mswitch\u001b[0m\u001b[0;34m,\u001b[0m \u001b[0maxis\u001b[0m\u001b[0;34m=\u001b[0m\u001b[0;36m1\u001b[0m\u001b[0;34m)\u001b[0m\u001b[0;34m\u001b[0m\u001b[0m\n\u001b[0m",
      "\u001b[0;32m~/anaconda3/lib/python3.7/site-packages/pandas/core/frame.py\u001b[0m in \u001b[0;36mapply\u001b[0;34m(self, func, axis, broadcast, raw, reduce, result_type, args, **kwds)\u001b[0m\n\u001b[1;32m   6012\u001b[0m                          \u001b[0margs\u001b[0m\u001b[0;34m=\u001b[0m\u001b[0margs\u001b[0m\u001b[0;34m,\u001b[0m\u001b[0;34m\u001b[0m\u001b[0m\n\u001b[1;32m   6013\u001b[0m                          kwds=kwds)\n\u001b[0;32m-> 6014\u001b[0;31m         \u001b[0;32mreturn\u001b[0m \u001b[0mop\u001b[0m\u001b[0;34m.\u001b[0m\u001b[0mget_result\u001b[0m\u001b[0;34m(\u001b[0m\u001b[0;34m)\u001b[0m\u001b[0;34m\u001b[0m\u001b[0m\n\u001b[0m\u001b[1;32m   6015\u001b[0m \u001b[0;34m\u001b[0m\u001b[0m\n\u001b[1;32m   6016\u001b[0m     \u001b[0;32mdef\u001b[0m \u001b[0mapplymap\u001b[0m\u001b[0;34m(\u001b[0m\u001b[0mself\u001b[0m\u001b[0;34m,\u001b[0m \u001b[0mfunc\u001b[0m\u001b[0;34m)\u001b[0m\u001b[0;34m:\u001b[0m\u001b[0;34m\u001b[0m\u001b[0m\n",
      "\u001b[0;32m~/anaconda3/lib/python3.7/site-packages/pandas/core/apply.py\u001b[0m in \u001b[0;36mget_result\u001b[0;34m(self)\u001b[0m\n\u001b[1;32m    140\u001b[0m             \u001b[0;32mreturn\u001b[0m \u001b[0mself\u001b[0m\u001b[0;34m.\u001b[0m\u001b[0mapply_raw\u001b[0m\u001b[0;34m(\u001b[0m\u001b[0;34m)\u001b[0m\u001b[0;34m\u001b[0m\u001b[0m\n\u001b[1;32m    141\u001b[0m \u001b[0;34m\u001b[0m\u001b[0m\n\u001b[0;32m--> 142\u001b[0;31m         \u001b[0;32mreturn\u001b[0m \u001b[0mself\u001b[0m\u001b[0;34m.\u001b[0m\u001b[0mapply_standard\u001b[0m\u001b[0;34m(\u001b[0m\u001b[0;34m)\u001b[0m\u001b[0;34m\u001b[0m\u001b[0m\n\u001b[0m\u001b[1;32m    143\u001b[0m \u001b[0;34m\u001b[0m\u001b[0m\n\u001b[1;32m    144\u001b[0m     \u001b[0;32mdef\u001b[0m \u001b[0mapply_empty_result\u001b[0m\u001b[0;34m(\u001b[0m\u001b[0mself\u001b[0m\u001b[0;34m)\u001b[0m\u001b[0;34m:\u001b[0m\u001b[0;34m\u001b[0m\u001b[0m\n",
      "\u001b[0;32m~/anaconda3/lib/python3.7/site-packages/pandas/core/apply.py\u001b[0m in \u001b[0;36mapply_standard\u001b[0;34m(self)\u001b[0m\n\u001b[1;32m    246\u001b[0m \u001b[0;34m\u001b[0m\u001b[0m\n\u001b[1;32m    247\u001b[0m         \u001b[0;31m# compute the result using the series generator\u001b[0m\u001b[0;34m\u001b[0m\u001b[0;34m\u001b[0m\u001b[0m\n\u001b[0;32m--> 248\u001b[0;31m         \u001b[0mself\u001b[0m\u001b[0;34m.\u001b[0m\u001b[0mapply_series_generator\u001b[0m\u001b[0;34m(\u001b[0m\u001b[0;34m)\u001b[0m\u001b[0;34m\u001b[0m\u001b[0m\n\u001b[0m\u001b[1;32m    249\u001b[0m \u001b[0;34m\u001b[0m\u001b[0m\n\u001b[1;32m    250\u001b[0m         \u001b[0;31m# wrap results\u001b[0m\u001b[0;34m\u001b[0m\u001b[0;34m\u001b[0m\u001b[0m\n",
      "\u001b[0;32m~/anaconda3/lib/python3.7/site-packages/pandas/core/apply.py\u001b[0m in \u001b[0;36mapply_series_generator\u001b[0;34m(self)\u001b[0m\n\u001b[1;32m    275\u001b[0m             \u001b[0;32mtry\u001b[0m\u001b[0;34m:\u001b[0m\u001b[0;34m\u001b[0m\u001b[0m\n\u001b[1;32m    276\u001b[0m                 \u001b[0;32mfor\u001b[0m \u001b[0mi\u001b[0m\u001b[0;34m,\u001b[0m \u001b[0mv\u001b[0m \u001b[0;32min\u001b[0m \u001b[0menumerate\u001b[0m\u001b[0;34m(\u001b[0m\u001b[0mseries_gen\u001b[0m\u001b[0;34m)\u001b[0m\u001b[0;34m:\u001b[0m\u001b[0;34m\u001b[0m\u001b[0m\n\u001b[0;32m--> 277\u001b[0;31m                     \u001b[0mresults\u001b[0m\u001b[0;34m[\u001b[0m\u001b[0mi\u001b[0m\u001b[0;34m]\u001b[0m \u001b[0;34m=\u001b[0m \u001b[0mself\u001b[0m\u001b[0;34m.\u001b[0m\u001b[0mf\u001b[0m\u001b[0;34m(\u001b[0m\u001b[0mv\u001b[0m\u001b[0;34m)\u001b[0m\u001b[0;34m\u001b[0m\u001b[0m\n\u001b[0m\u001b[1;32m    278\u001b[0m                     \u001b[0mkeys\u001b[0m\u001b[0;34m.\u001b[0m\u001b[0mappend\u001b[0m\u001b[0;34m(\u001b[0m\u001b[0mv\u001b[0m\u001b[0;34m.\u001b[0m\u001b[0mname\u001b[0m\u001b[0;34m)\u001b[0m\u001b[0;34m\u001b[0m\u001b[0m\n\u001b[1;32m    279\u001b[0m             \u001b[0;32mexcept\u001b[0m \u001b[0mException\u001b[0m \u001b[0;32mas\u001b[0m \u001b[0me\u001b[0m\u001b[0;34m:\u001b[0m\u001b[0;34m\u001b[0m\u001b[0m\n",
      "\u001b[0;32m<ipython-input-229-5d0cf3aef61e>\u001b[0m in \u001b[0;36mswitch\u001b[0;34m(cols)\u001b[0m\n\u001b[1;32m      4\u001b[0m \u001b[0;34m\u001b[0m\u001b[0m\n\u001b[1;32m      5\u001b[0m     \u001b[0;32mif\u001b[0m \u001b[0mUNIT_OF_MEASURE\u001b[0m \u001b[0;34m==\u001b[0m \u001b[0;34m'Points'\u001b[0m\u001b[0;34m:\u001b[0m\u001b[0;34m\u001b[0m\u001b[0m\n\u001b[0;32m----> 6\u001b[0;31m         \u001b[0;32mreturn\u001b[0m \u001b[0mPoints\u001b[0m\u001b[0;34m\u001b[0m\u001b[0m\n\u001b[0m\u001b[1;32m      7\u001b[0m     \u001b[0;32melse\u001b[0m\u001b[0;34m:\u001b[0m\u001b[0;34m\u001b[0m\u001b[0m\n\u001b[1;32m      8\u001b[0m         \u001b[0;32mreturn\u001b[0m \u001b[0mOther\u001b[0m\u001b[0;34m\u001b[0m\u001b[0m\n",
      "\u001b[0;31mNameError\u001b[0m: (\"name 'Points' is not defined\", 'occurred at index 1')"
     ]
    }
   ],
   "source": [
    "ad['REASON_FOR_DEBIT_CREDIT'] = ad[['REASON_FOR_DEBIT_CREDIT','UNIT_OF_MEASURE']].apply(switch, axis=1)"
   ]
  },
  {
   "cell_type": "code",
   "execution_count": 177,
   "metadata": {},
   "outputs": [
    {
     "data": {
      "text/plain": [
       "array(['U', 'Points', 'Units', 'R', 'Money', 'Bytes', nan, 'Seconds'],\n",
       "      dtype=object)"
      ]
     },
     "execution_count": 177,
     "metadata": {},
     "output_type": "execute_result"
    }
   ],
   "source": [
    "new_data['UNIT_OF_MEASURE'].unique()"
   ]
  },
  {
   "cell_type": "code",
   "execution_count": 131,
   "metadata": {},
   "outputs": [],
   "source": [
    "dab = ad.loc[ad['UNIT_OF_MEASURE'] == 'Points']"
   ]
  },
  {
   "cell_type": "code",
   "execution_count": 189,
   "metadata": {},
   "outputs": [
    {
     "data": {
      "text/html": [
       "<div>\n",
       "<style scoped>\n",
       "    .dataframe tbody tr th:only-of-type {\n",
       "        vertical-align: middle;\n",
       "    }\n",
       "\n",
       "    .dataframe tbody tr th {\n",
       "        vertical-align: top;\n",
       "    }\n",
       "\n",
       "    .dataframe thead th {\n",
       "        text-align: right;\n",
       "    }\n",
       "</style>\n",
       "<table border=\"1\" class=\"dataframe\">\n",
       "  <thead>\n",
       "    <tr style=\"text-align: right;\">\n",
       "      <th></th>\n",
       "      <th>AMOUNT</th>\n",
       "      <th>REASON_FOR_DEBIT_CREDIT</th>\n",
       "      <th>UNIT_OF_MEASURE</th>\n",
       "    </tr>\n",
       "  </thead>\n",
       "  <tbody>\n",
       "    <tr>\n",
       "      <th>1</th>\n",
       "      <td>8.0</td>\n",
       "      <td>0</td>\n",
       "      <td>Points</td>\n",
       "    </tr>\n",
       "    <tr>\n",
       "      <th>5</th>\n",
       "      <td>17.0</td>\n",
       "      <td>1</td>\n",
       "      <td>Points</td>\n",
       "    </tr>\n",
       "    <tr>\n",
       "      <th>7</th>\n",
       "      <td>4.0</td>\n",
       "      <td>2</td>\n",
       "      <td>Points</td>\n",
       "    </tr>\n",
       "    <tr>\n",
       "      <th>8</th>\n",
       "      <td>29.0</td>\n",
       "      <td>1</td>\n",
       "      <td>Points</td>\n",
       "    </tr>\n",
       "    <tr>\n",
       "      <th>13</th>\n",
       "      <td>4.0</td>\n",
       "      <td>2</td>\n",
       "      <td>Points</td>\n",
       "    </tr>\n",
       "    <tr>\n",
       "      <th>14</th>\n",
       "      <td>15.0</td>\n",
       "      <td>3</td>\n",
       "      <td>Points</td>\n",
       "    </tr>\n",
       "    <tr>\n",
       "      <th>15</th>\n",
       "      <td>4.0</td>\n",
       "      <td>2</td>\n",
       "      <td>Points</td>\n",
       "    </tr>\n",
       "    <tr>\n",
       "      <th>16</th>\n",
       "      <td>4.0</td>\n",
       "      <td>2</td>\n",
       "      <td>Points</td>\n",
       "    </tr>\n",
       "    <tr>\n",
       "      <th>17</th>\n",
       "      <td>4.0</td>\n",
       "      <td>2</td>\n",
       "      <td>Points</td>\n",
       "    </tr>\n",
       "    <tr>\n",
       "      <th>18</th>\n",
       "      <td>8.0</td>\n",
       "      <td>0</td>\n",
       "      <td>Points</td>\n",
       "    </tr>\n",
       "    <tr>\n",
       "      <th>19</th>\n",
       "      <td>4.0</td>\n",
       "      <td>2</td>\n",
       "      <td>Points</td>\n",
       "    </tr>\n",
       "    <tr>\n",
       "      <th>20</th>\n",
       "      <td>10.0</td>\n",
       "      <td>4</td>\n",
       "      <td>Points</td>\n",
       "    </tr>\n",
       "    <tr>\n",
       "      <th>21</th>\n",
       "      <td>4.0</td>\n",
       "      <td>2</td>\n",
       "      <td>Points</td>\n",
       "    </tr>\n",
       "    <tr>\n",
       "      <th>23</th>\n",
       "      <td>4.0</td>\n",
       "      <td>2</td>\n",
       "      <td>Points</td>\n",
       "    </tr>\n",
       "    <tr>\n",
       "      <th>24</th>\n",
       "      <td>4.0</td>\n",
       "      <td>2</td>\n",
       "      <td>Points</td>\n",
       "    </tr>\n",
       "    <tr>\n",
       "      <th>25</th>\n",
       "      <td>15.0</td>\n",
       "      <td>5</td>\n",
       "      <td>Points</td>\n",
       "    </tr>\n",
       "    <tr>\n",
       "      <th>26</th>\n",
       "      <td>4.0</td>\n",
       "      <td>2</td>\n",
       "      <td>Points</td>\n",
       "    </tr>\n",
       "    <tr>\n",
       "      <th>28</th>\n",
       "      <td>4.0</td>\n",
       "      <td>2</td>\n",
       "      <td>Points</td>\n",
       "    </tr>\n",
       "    <tr>\n",
       "      <th>29</th>\n",
       "      <td>10.0</td>\n",
       "      <td>4</td>\n",
       "      <td>Points</td>\n",
       "    </tr>\n",
       "    <tr>\n",
       "      <th>34</th>\n",
       "      <td>4.0</td>\n",
       "      <td>2</td>\n",
       "      <td>Points</td>\n",
       "    </tr>\n",
       "    <tr>\n",
       "      <th>35</th>\n",
       "      <td>4.0</td>\n",
       "      <td>2</td>\n",
       "      <td>Points</td>\n",
       "    </tr>\n",
       "    <tr>\n",
       "      <th>43</th>\n",
       "      <td>20.0</td>\n",
       "      <td>1</td>\n",
       "      <td>Points</td>\n",
       "    </tr>\n",
       "    <tr>\n",
       "      <th>44</th>\n",
       "      <td>4.0</td>\n",
       "      <td>2</td>\n",
       "      <td>Points</td>\n",
       "    </tr>\n",
       "    <tr>\n",
       "      <th>47</th>\n",
       "      <td>4.0</td>\n",
       "      <td>2</td>\n",
       "      <td>Points</td>\n",
       "    </tr>\n",
       "    <tr>\n",
       "      <th>48</th>\n",
       "      <td>4.0</td>\n",
       "      <td>2</td>\n",
       "      <td>Points</td>\n",
       "    </tr>\n",
       "    <tr>\n",
       "      <th>49</th>\n",
       "      <td>4.0</td>\n",
       "      <td>2</td>\n",
       "      <td>Points</td>\n",
       "    </tr>\n",
       "    <tr>\n",
       "      <th>50</th>\n",
       "      <td>17.0</td>\n",
       "      <td>1</td>\n",
       "      <td>Points</td>\n",
       "    </tr>\n",
       "    <tr>\n",
       "      <th>51</th>\n",
       "      <td>4.0</td>\n",
       "      <td>2</td>\n",
       "      <td>Points</td>\n",
       "    </tr>\n",
       "    <tr>\n",
       "      <th>52</th>\n",
       "      <td>149.0</td>\n",
       "      <td>1</td>\n",
       "      <td>Points</td>\n",
       "    </tr>\n",
       "    <tr>\n",
       "      <th>53</th>\n",
       "      <td>4.0</td>\n",
       "      <td>2</td>\n",
       "      <td>Points</td>\n",
       "    </tr>\n",
       "    <tr>\n",
       "      <th>...</th>\n",
       "      <td>...</td>\n",
       "      <td>...</td>\n",
       "      <td>...</td>\n",
       "    </tr>\n",
       "    <tr>\n",
       "      <th>2501051</th>\n",
       "      <td>30.0</td>\n",
       "      <td>9</td>\n",
       "      <td>Points</td>\n",
       "    </tr>\n",
       "    <tr>\n",
       "      <th>2501055</th>\n",
       "      <td>5.0</td>\n",
       "      <td>53</td>\n",
       "      <td>Points</td>\n",
       "    </tr>\n",
       "    <tr>\n",
       "      <th>2501066</th>\n",
       "      <td>25.0</td>\n",
       "      <td>1</td>\n",
       "      <td>Points</td>\n",
       "    </tr>\n",
       "    <tr>\n",
       "      <th>2501068</th>\n",
       "      <td>7.0</td>\n",
       "      <td>98</td>\n",
       "      <td>Points</td>\n",
       "    </tr>\n",
       "    <tr>\n",
       "      <th>2501069</th>\n",
       "      <td>8.0</td>\n",
       "      <td>1</td>\n",
       "      <td>Points</td>\n",
       "    </tr>\n",
       "    <tr>\n",
       "      <th>2501070</th>\n",
       "      <td>5.0</td>\n",
       "      <td>9</td>\n",
       "      <td>Points</td>\n",
       "    </tr>\n",
       "    <tr>\n",
       "      <th>2501073</th>\n",
       "      <td>3.0</td>\n",
       "      <td>37</td>\n",
       "      <td>Points</td>\n",
       "    </tr>\n",
       "    <tr>\n",
       "      <th>2501074</th>\n",
       "      <td>15.0</td>\n",
       "      <td>5</td>\n",
       "      <td>Points</td>\n",
       "    </tr>\n",
       "    <tr>\n",
       "      <th>2501075</th>\n",
       "      <td>2.0</td>\n",
       "      <td>10</td>\n",
       "      <td>Points</td>\n",
       "    </tr>\n",
       "    <tr>\n",
       "      <th>2501077</th>\n",
       "      <td>10.0</td>\n",
       "      <td>33</td>\n",
       "      <td>Points</td>\n",
       "    </tr>\n",
       "    <tr>\n",
       "      <th>2501078</th>\n",
       "      <td>3.0</td>\n",
       "      <td>30</td>\n",
       "      <td>Points</td>\n",
       "    </tr>\n",
       "    <tr>\n",
       "      <th>2501079</th>\n",
       "      <td>4.0</td>\n",
       "      <td>2</td>\n",
       "      <td>Points</td>\n",
       "    </tr>\n",
       "    <tr>\n",
       "      <th>2501080</th>\n",
       "      <td>12.0</td>\n",
       "      <td>1</td>\n",
       "      <td>Points</td>\n",
       "    </tr>\n",
       "    <tr>\n",
       "      <th>2501097</th>\n",
       "      <td>15.0</td>\n",
       "      <td>19</td>\n",
       "      <td>Points</td>\n",
       "    </tr>\n",
       "    <tr>\n",
       "      <th>2501099</th>\n",
       "      <td>20.0</td>\n",
       "      <td>1</td>\n",
       "      <td>Points</td>\n",
       "    </tr>\n",
       "    <tr>\n",
       "      <th>2501101</th>\n",
       "      <td>15.0</td>\n",
       "      <td>3</td>\n",
       "      <td>Points</td>\n",
       "    </tr>\n",
       "    <tr>\n",
       "      <th>2501102</th>\n",
       "      <td>15.0</td>\n",
       "      <td>3</td>\n",
       "      <td>Points</td>\n",
       "    </tr>\n",
       "    <tr>\n",
       "      <th>2501103</th>\n",
       "      <td>4.0</td>\n",
       "      <td>2</td>\n",
       "      <td>Points</td>\n",
       "    </tr>\n",
       "    <tr>\n",
       "      <th>2501104</th>\n",
       "      <td>25.0</td>\n",
       "      <td>1</td>\n",
       "      <td>Points</td>\n",
       "    </tr>\n",
       "    <tr>\n",
       "      <th>2501106</th>\n",
       "      <td>15.0</td>\n",
       "      <td>19</td>\n",
       "      <td>Points</td>\n",
       "    </tr>\n",
       "    <tr>\n",
       "      <th>2501107</th>\n",
       "      <td>4.0</td>\n",
       "      <td>2</td>\n",
       "      <td>Points</td>\n",
       "    </tr>\n",
       "    <tr>\n",
       "      <th>2501108</th>\n",
       "      <td>3.0</td>\n",
       "      <td>48</td>\n",
       "      <td>Points</td>\n",
       "    </tr>\n",
       "    <tr>\n",
       "      <th>2501109</th>\n",
       "      <td>15.0</td>\n",
       "      <td>19</td>\n",
       "      <td>Points</td>\n",
       "    </tr>\n",
       "    <tr>\n",
       "      <th>2501110</th>\n",
       "      <td>110.0</td>\n",
       "      <td>1</td>\n",
       "      <td>Points</td>\n",
       "    </tr>\n",
       "    <tr>\n",
       "      <th>2501111</th>\n",
       "      <td>8.0</td>\n",
       "      <td>1</td>\n",
       "      <td>Points</td>\n",
       "    </tr>\n",
       "    <tr>\n",
       "      <th>2501122</th>\n",
       "      <td>4.0</td>\n",
       "      <td>2</td>\n",
       "      <td>Points</td>\n",
       "    </tr>\n",
       "    <tr>\n",
       "      <th>2501123</th>\n",
       "      <td>4.0</td>\n",
       "      <td>2</td>\n",
       "      <td>Points</td>\n",
       "    </tr>\n",
       "    <tr>\n",
       "      <th>2501124</th>\n",
       "      <td>4.0</td>\n",
       "      <td>2</td>\n",
       "      <td>Points</td>\n",
       "    </tr>\n",
       "    <tr>\n",
       "      <th>2501125</th>\n",
       "      <td>110.0</td>\n",
       "      <td>1</td>\n",
       "      <td>Points</td>\n",
       "    </tr>\n",
       "    <tr>\n",
       "      <th>2501126</th>\n",
       "      <td>17.0</td>\n",
       "      <td>1</td>\n",
       "      <td>Points</td>\n",
       "    </tr>\n",
       "  </tbody>\n",
       "</table>\n",
       "<p>898897 rows × 3 columns</p>\n",
       "</div>"
      ],
      "text/plain": [
       "         AMOUNT  REASON_FOR_DEBIT_CREDIT UNIT_OF_MEASURE\n",
       "1           8.0                        0          Points\n",
       "5          17.0                        1          Points\n",
       "7           4.0                        2          Points\n",
       "8          29.0                        1          Points\n",
       "13          4.0                        2          Points\n",
       "14         15.0                        3          Points\n",
       "15          4.0                        2          Points\n",
       "16          4.0                        2          Points\n",
       "17          4.0                        2          Points\n",
       "18          8.0                        0          Points\n",
       "19          4.0                        2          Points\n",
       "20         10.0                        4          Points\n",
       "21          4.0                        2          Points\n",
       "23          4.0                        2          Points\n",
       "24          4.0                        2          Points\n",
       "25         15.0                        5          Points\n",
       "26          4.0                        2          Points\n",
       "28          4.0                        2          Points\n",
       "29         10.0                        4          Points\n",
       "34          4.0                        2          Points\n",
       "35          4.0                        2          Points\n",
       "43         20.0                        1          Points\n",
       "44          4.0                        2          Points\n",
       "47          4.0                        2          Points\n",
       "48          4.0                        2          Points\n",
       "49          4.0                        2          Points\n",
       "50         17.0                        1          Points\n",
       "51          4.0                        2          Points\n",
       "52        149.0                        1          Points\n",
       "53          4.0                        2          Points\n",
       "...         ...                      ...             ...\n",
       "2501051    30.0                        9          Points\n",
       "2501055     5.0                       53          Points\n",
       "2501066    25.0                        1          Points\n",
       "2501068     7.0                       98          Points\n",
       "2501069     8.0                        1          Points\n",
       "2501070     5.0                        9          Points\n",
       "2501073     3.0                       37          Points\n",
       "2501074    15.0                        5          Points\n",
       "2501075     2.0                       10          Points\n",
       "2501077    10.0                       33          Points\n",
       "2501078     3.0                       30          Points\n",
       "2501079     4.0                        2          Points\n",
       "2501080    12.0                        1          Points\n",
       "2501097    15.0                       19          Points\n",
       "2501099    20.0                        1          Points\n",
       "2501101    15.0                        3          Points\n",
       "2501102    15.0                        3          Points\n",
       "2501103     4.0                        2          Points\n",
       "2501104    25.0                        1          Points\n",
       "2501106    15.0                       19          Points\n",
       "2501107     4.0                        2          Points\n",
       "2501108     3.0                       48          Points\n",
       "2501109    15.0                       19          Points\n",
       "2501110   110.0                        1          Points\n",
       "2501111     8.0                        1          Points\n",
       "2501122     4.0                        2          Points\n",
       "2501123     4.0                        2          Points\n",
       "2501124     4.0                        2          Points\n",
       "2501125   110.0                        1          Points\n",
       "2501126    17.0                        1          Points\n",
       "\n",
       "[898897 rows x 3 columns]"
      ]
     },
     "execution_count": 189,
     "metadata": {},
     "output_type": "execute_result"
    }
   ],
   "source": [
    "dab"
   ]
  },
  {
   "cell_type": "code",
   "execution_count": 133,
   "metadata": {},
   "outputs": [],
   "source": [
    "arr = ['XT1D50MB', 'Provision', 'XT1D20MB', 'XTW100MB', 'XTW50MB',\n",
    "       'XT1D100MB', 'LOYS015', 'XTD7MIN', 'DTA1GB', 'PPMED', 'RUSH15MB',\n",
    "       'ReProvision', 'DAILYVOICE41MINS0009', 'Airtime', 'LoySMS-1',\n",
    "       'ALLNET20', 'ODNX250', 'ODNX1GB', 'SMS1', 'WIA100',\n",
    "       'DAILYVOICE44MINS0010', 'LoyD-10MB', 'DAILYVOICE17MINS0003',\n",
    "       'XTD35MIN', 'LOYD010', '1DAY20', 'WIR50', 'WIA2GB', '1DAY75',\n",
    "       'DAILYVOICE37MINS0008', 'DAILYVOICE20MINS0004',\n",
    "       'Me2UPrepaid2Prepaid', 'LoyD-350MB', 'WIA50', 'WIR100',\n",
    "       'DAILYVOICE30MINS0007', 'DAILYVOICER15', 'DAILYVOICE15MINS0005',\n",
    "       'Loy-R1', 'DAILYVOICE23MINS0005', 'LOYD300', 'SMS50',\n",
    "       'DAILYVOICE12MINS0006', 'Loy-R5', 'DAILYVOICE33MINS0011',\n",
    "       'DAILYVOICE43MINS0013', 'DAILYVOICE62MINS0013', 'SMS15',\n",
    "       'DAILYVOICER3', 'LOYS030', 'DAILYVOICE52MINS0012',\n",
    "       'DAILYVOICE13MINS0002', 'DAILYVOICE10MINS0005',\n",
    "       'DAILYVOICE22MINS0010', 'DAILYVOICE8MINS0004',\n",
    "       'DAILYVOICE48MINS0011', 'CW300MBR15', 'DAILYVOICE27MINS0006',\n",
    "       'DAILYVOICE4MINS0001', 'PD-OT5', 'LoyD-500MB',\n",
    "       'DAILYVOICE66MINS0014', 'DAILYVOICE86MINS0016',\n",
    "       'DAILYVOICE28MINS0009', 'WIR2GB', 'SMS100', 'FAFRT12', 'CW200MBR8',\n",
    "       'DAILYVOICE18MINS0006', 'RUSH150MB', 'Loy-R30',\n",
    "       'DAILYVOICE8MINS0001', 'Loy-R15', 'DAILYVOICE14MINS0007',\n",
    "       'DAILYVOICE74MINS0015', 'XTD60MIN', 'SMS30', 'RUSH1GB', '1DAY100',\n",
    "       'DAILYVOICE113MINS0020', 'DAILYVOICE211MINS0020',\n",
    "       'DAILYVOICE123MINS0019', 'Me2UCC2Prepaid', 'DAILYVOICE6MINS0003',\n",
    "       'CD180MBR10', 'DAILYVOICE433MINS0022', 'DAILYVOICE27MINS0012',\n",
    "       'AMA25', 'DAILYVOICE4MINS0002', 'CD50MBR2', 'Me2UCC2CC',\n",
    "       'WEEKVOICER30', 'DAILYVOICE36MINS0012', 'ON-VOICE-A-25min',\n",
    "       'Loy-R10', 'DAILYVOICE13MINS0001', 'DAILYVOICER10',\n",
    "       'DAILYVOICE13MINS0004', 'DAILYVOICER7', '1DAY50',\n",
    "       'DAILYVOICE10MINS0003', 'DAILYVOICE18MINS0008',\n",
    "       'DAILYVOICE20MINS0009', 'MONTHVOICER200', 'LOYD075', 'CW900MBR40',\n",
    "       'CM800MBR25', 'DAILYVOICE8MINS0002', 'NEA09', 'Me2UHybrid2CC',\n",
    "       'DAILYVOICE46MINS0014', 'CW600MBR30', 'DTA3GB',\n",
    "       'DAILYVOICE40MINS0015', 'CD120MBR7', 'CD160MBR9', 'XTW140MIN',\n",
    "       'LoyD-75MB', 'DATA-A-100MB', 'DAILYVOICE35MINS0014', 'Carry Over',\n",
    "       'CW2GBR75', 'DAILYVOICE25MINS0008', 'DAILYVOICE24MINS0011',\n",
    "       'CD270MBR14', 'MONTHVOICER150', 'DAILYVOICE20MINS0007',\n",
    "       'DAILYVOICE110MINS0018', 'DAILYVOICE101MINS0017', 'LoyD-100MB',\n",
    "       'LOYD02G', 'DTA10MB', 'FAFRT08', 'Me2UContract2Prepaid',\n",
    "       'DAILYVOICE60MINS0018', 'CD330MBR17', 'CD100MBR6', 'CD45MBR3',\n",
    "       'SMS200', 'CD60MBR4', 'LOYD500', 'DAILYVOICE62MINS0016',\n",
    "       'CW1P5GBR70', 'Loy-R60', 'SMAC30', 'CD240MBR13', 'DTA10GB',\n",
    "       'DTA300', 'DAILYVOICE55MINS0017', 'SMAC15', 'DAILYVOICE8MINS0000',\n",
    "       'PDT5', 'DAILYVOICE154MINS0020', 'DAILYVOICE32MINS0013',\n",
    "       'CM1GBR60', 'WIA300', 'ONA100', 'DAILYVOICE20MINS0000', 'AMA50',\n",
    "       'AutoProvision', 'Me2UCC2Hybrid', 'SMS500', 'LoyD-300MB',\n",
    "       'WEEKVOICER50', 'SMAC100', 'DAILYVOICE31MINS0010', 'LoyD-2GB',\n",
    "       'DAILYVOICE52MINS0015', 'DTA10', 'DTA50', 'CW1P2GBR55', 'AMA100',\n",
    "       'LOYD01G', 'SMAC50', 'DAILYVOICE89MINS0019', 'PDT50', 'PD-OT50',\n",
    "       'WIA500', 'DAILYVOICE72MINS0017', 'BIS', 'DTA2GB', 'CW2P5GBR85',\n",
    "       'CW1GBR45', 'PD-OT20GB', 'WIA1GB', 'DAILYVOICE47MINS0016',\n",
    "       'Loy-R180', 'DAILYVOICE300MINS0021', 'LoyD-1GB', 'DTA500',\n",
    "       'WIR300', 'Me2UPrepaid2CC', 'CW3P5GBR110', 'Me2UHybrid2Prepaid',\n",
    "       'DAILYVOICE167MINS0021', 'DAILYVOICE79MINS0018', 'AMA500', 'BDAP5',\n",
    "       'LOYA001', 'PD-OT10GB', 'STRMIS', 'SMS300', 'PD-OT3GB', 'LOYA060',\n",
    "       'DAILYVOICE217MINS0021', 'MONTHVOICER300', 'XTW250MIN', 'DTA5',\n",
    "       'CW8P7GBR180', 'DTA5GB', 'ONA50', 'DAP1DAY', 'AMA350',\n",
    "       'Me2UPrepaid2Hybrid', 'SMAC300', 'Me2UPrepaid2Contract',\n",
    "       'DAILYVOICE71MINS0019', 'AMA200', 'CW4P6GBR130', 'WEEKVOICER100',\n",
    "       'BDAP3G', 'SMS2000', 'MigrateBundles', 'Me2UHybrid2Hybrid',\n",
    "       'DAILYVOICE317MINS0022', 'ONA350', 'Me2UCC2Contract',\n",
    "       'DAILYVOICE13MINS0000', 'PD-OT5GB', 'Me2UContract2CC', 'WIR1GB',\n",
    "       'CW6P6GBR170', 'BDAP50', 'OT040', 'ONA200', 'LOYS001', 'CM2GBR120',\n",
    "       'SMAC500', 'DTR20GB', 'BDAP75', 'LOYA005', 'LOYD24H',\n",
    "       'DAILYVOICE247MINS0022']"
   ]
  },
  {
   "cell_type": "code",
   "execution_count": 134,
   "metadata": {},
   "outputs": [],
   "source": [
    "\n",
    "def arrayy(values):\n",
    "    count = 0\n",
    "    for a in arr:\n",
    "        \n",
    "        if values == arr[count]:\n",
    "            return count\n",
    "        \n",
    "        count = count + 1\n",
    "    "
   ]
  },
  {
   "cell_type": "code",
   "execution_count": null,
   "metadata": {},
   "outputs": [],
   "source": []
  },
  {
   "cell_type": "code",
   "execution_count": 136,
   "metadata": {},
   "outputs": [
    {
     "name": "stderr",
     "output_type": "stream",
     "text": [
      "/Users/academy_intern/anaconda3/lib/python3.7/site-packages/ipykernel_launcher.py:1: SettingWithCopyWarning: \n",
      "A value is trying to be set on a copy of a slice from a DataFrame.\n",
      "Try using .loc[row_indexer,col_indexer] = value instead\n",
      "\n",
      "See the caveats in the documentation: http://pandas.pydata.org/pandas-docs/stable/indexing.html#indexing-view-versus-copy\n",
      "  \"\"\"Entry point for launching an IPython kernel.\n"
     ]
    }
   ],
   "source": [
    "dab['REASON_FOR_DEBIT_CREDIT'] = dab['REASON_FOR_DEBIT_CREDIT'].apply(arrayy)"
   ]
  },
  {
   "cell_type": "code",
   "execution_count": 137,
   "metadata": {},
   "outputs": [
    {
     "data": {
      "text/plain": [
       "<matplotlib.axes._subplots.AxesSubplot at 0x136ae2048>"
      ]
     },
     "execution_count": 137,
     "metadata": {},
     "output_type": "execute_result"
    },
    {
     "data": {
      "image/png": "[encoded data removed]",
      "text/plain": [
       "<Figure size 432x288 with 2 Axes>"
      ]
     },
     "metadata": {
      "needs_background": "light"
     },
     "output_type": "display_data"
    }
   ],
   "source": [
    "sns.heatmap(dab.corr())"
   ]
  },
  {
   "cell_type": "code",
   "execution_count": 138,
   "metadata": {},
   "outputs": [],
   "source": [
    "ada = dab.loc[dab['AMOUNT'] > 0]"
   ]
  },
  {
   "cell_type": "code",
   "execution_count": 86,
   "metadata": {},
   "outputs": [
    {
     "data": {
      "text/plain": [
       "<matplotlib.collections.PathCollection at 0x125c0c390>"
      ]
     },
     "execution_count": 86,
     "metadata": {},
     "output_type": "execute_result"
    },
    {
     "data": {
      "image/png": "[encoded data removed]",
      "text/plain": [
       "<Figure size 432x288 with 1 Axes>"
      ]
     },
     "metadata": {
      "needs_background": "light"
     },
     "output_type": "display_data"
    }
   ],
   "source": [
    "mat.scatter(dab['AMOUNT'],dab['REASON_FOR_DEBIT_CREDIT'])"
   ]
  },
  {
   "cell_type": "code",
   "execution_count": null,
   "metadata": {},
   "outputs": [],
   "source": []
  },
  {
   "cell_type": "code",
   "execution_count": 190,
   "metadata": {},
   "outputs": [],
   "source": [
    "a = new_data[['A_MSISDN','PROCESSED_DATE_TIME','OPEN_BAL','AMOUNT','REASON_FOR_DEBIT_CREDIT','UNIT_OF_MEASURE']]"
   ]
  },
  {
   "cell_type": "code",
   "execution_count": 192,
   "metadata": {},
   "outputs": [],
   "source": [
    "s = a.loc[a['UNIT_OF_MEASURE'] == 'Points']"
   ]
  },
  {
   "cell_type": "code",
   "execution_count": 211,
   "metadata": {},
   "outputs": [],
   "source": [
    "e = s['REASON_FOR_DEBIT_CREDIT'].value_counts()"
   ]
  },
  {
   "cell_type": "code",
   "execution_count": null,
   "metadata": {},
   "outputs": [],
   "source": []
  },
  {
   "cell_type": "code",
   "execution_count": 209,
   "metadata": {},
   "outputs": [],
   "source": [
    " w = pd.DataFrame(data=[e]).T"
   ]
  },
  {
   "cell_type": "code",
   "execution_count": null,
   "metadata": {},
   "outputs": [],
   "source": []
  },
  {
   "cell_type": "code",
   "execution_count": null,
   "metadata": {},
   "outputs": [],
   "source": []
  },
  {
   "cell_type": "code",
   "execution_count": null,
   "metadata": {},
   "outputs": [],
   "source": []
  },
  {
   "cell_type": "code",
   "execution_count": 213,
   "metadata": {},
   "outputs": [],
   "source": [
    "reason = s['REASON_FOR_DEBIT_CREDIT'].unique()"
   ]
  },
  {
   "cell_type": "code",
   "execution_count": 220,
   "metadata": {},
   "outputs": [],
   "source": [
    "df = pd.DataFrame( columns=['Reason','Number of Times'])"
   ]
  },
  {
   "cell_type": "code",
   "execution_count": 221,
   "metadata": {},
   "outputs": [],
   "source": [
    "for r in reason:\n",
    "    df2 = pd.DataFrame([[r,str(len(s[s['REASON_FOR_DEBIT_CREDIT'] == r]))]], columns=['Reason','Number of Times'])\n",
    "    #print(r + ' ' + str(len(d[d['REASON_FOR_DEBIT_CREDIT'] == r])))\n",
    "    df = df.append(df2)"
   ]
  },
  {
   "cell_type": "code",
   "execution_count": 223,
   "metadata": {},
   "outputs": [],
   "source": [
    "df.to_csv('reasons.csv')"
   ]
  }
 ],
 "metadata": {
  "kernelspec": {
   "display_name": "Python 3",
   "language": "python",
   "name": "python3"
  },
  "language_info": {
   "codemirror_mode": {
    "name": "ipython",
    "version": 3
   },
   "file_extension": ".py",
   "mimetype": "text/x-python",
   "name": "python",
   "nbconvert_exporter": "python",
   "pygments_lexer": "ipython3",
   "version": "3.7.0"
  }
 },
 "nbformat": 4,
 "nbformat_minor": 2
}
