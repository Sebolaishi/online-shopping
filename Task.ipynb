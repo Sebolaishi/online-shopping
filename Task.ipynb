
      "text/plain": [
       "        COUNTRY OPCO_NAME OPCO_BUSINESS_TYPE          UCID      MSISDN  \\\n",
       "0  South Africa        SA             Mobile  8.927000e+18  3238415789   \n",
       "1  South Africa        SA             Mobile  8.927000e+18  3649564471   \n",
       "2  South Africa        SA             Mobile  8.927000e+18  3375328257   \n",
       "3  South Africa        SA             Mobile  8.927000e+18  2435751696   \n",
       "4  South Africa        SA             Mobile  8.927000e+18  2001140033   \n",
       "\n",
       "  SUBSCRIBER_TYPE CUSTOMER_TYPE B2B_TYPE CONS_TYPE TARIFF_TYPE ...   \\\n",
       "0               P      CONSUMER      NaN        VL    MTN Base ...    \n",
       "1               P      CONSUMER      NaN        VL    MTN Base ...    \n",
       "2               P      CONSUMER      NaN        VL    MTN Base ...    \n",
       "3               P      CONSUMER      NaN        VL     MTNZone ...    \n",
       "4               P      CONSUMER      NaN        VL    MTN Base ...    \n",
       "\n",
       "   BAL_DAYS_NEGATIVE BAL_TIMES_LESS_5 BAL_TIMES_NEGATIVE  BAL_LAST_DAY_PERIOD  \\\n",
       "0                NaN              NaN                NaN                  NaN   \n",
       "1                NaN              NaN                NaN                  NaN   \n",
       "2                NaN              NaN                NaN                  NaN   \n",
       "3                NaN              NaN                NaN                  NaN   \n",
       "4                NaN              NaN                NaN                  NaN   \n",
       "\n",
       "  DEL_CVS_SCORE  MSISDN_LOY              REG_DATE SMILE_BALANCE VALID_ID  SEX  \n",
       "0           NaN  3238415789  13-AUG-2018 00:00:00       5198.52        Y    M  \n",
       "1           NaN  3649564471  13-MAY-2018 00:00:00         52.00        Y    F  \n",
       "2           NaN  3375328257  26-AUG-2018 00:00:00        105.63        Y    F  \n",
       "3           NaN  2435751696  21-AUG-2018 00:00:00         35.00        N    F  \n",
       "4           NaN  2001140033  16-MAY-2018 00:00:00         87.00        N    F  \n",
       "\n",
       "[5 rows x 410 columns]"
      ]
     },
     "execution_count": 5,
     "metadata": {},
     "output_type": "execute_result"
    }
   ],
   "source": [
    "clean_data.head()"
   ]
  },
  {
   "cell_type": "code",
   "execution_count": 6,
   "metadata": {},
   "outputs": [
    {
     "data": {
      "text/plain": [
       "<matplotlib.axes._subplots.AxesSubplot at 0x14b473128>"
      ]
     },
     "execution_count": 6,
     "metadata": {},
     "output_type": "execute_result"
    }
   ],
   "source": [
    "import seaborn as sns\n",
    "sns.countplot(x='BTS_MU_PROVINCE',data=clean_data)"
   ]
  },
  {
   "cell_type": "code",
   "execution_count": 7,
   "metadata": {},
   "outputs": [],
   "source": [
    "cons = clean_data.loc[clean_data['BTS_MU_PROVINCE'] == 'NORTHERN CAPE']"
   ]
  },
  {
   "cell_type": "code",
   "execution_count": 8,
   "metadata": {},
   "outputs": [
    {
     "data": {
      "text/plain": [
       "32367"
      ]
     },
     "execution_count": 8,
     "metadata": {},
     "output_type": "execute_result"
    }
   ],
   "source": [
    "cons['CONS_TYPE'].count()"
   ]
  },
  {
   "cell_type": "code",
   "execution_count": 9,
   "metadata": {},
   "outputs": [
    {
     "data": {
      "text/plain": [
       "35.1957773512476"
      ]
     },
     "execution_count": 9,
     "metadata": {},
     "output_type": "execute_result"
    }
   ],
   "source": [
    "cons['LOYALTY_POINTS_REDEEMED'].mean()"
   ]
  },
  {
   "cell_type": "code",
   "execution_count": 10,
   "metadata": {},
   "outputs": [
    {
     "data": {
      "text/plain": [
       "235.09034940987843"
      ]
     },
     "execution_count": 10,
     "metadata": {},
     "output_type": "execute_result"
    }
   ],
   "source": [
    "cons['LOYALTY_POINTS_BALANCE'].mean()"
   ]
  },
  {
   "cell_type": "code",
   "execution_count": 361,
   "metadata": {},
   "outputs": [],
   "source": [
    "lin = clean_data.loc[clean_data['LOYALTY_POINTS_REDEEMED']>0]"
   ]
  },
  {
   "cell_type": "code",
   "execution_count": 362,
   "metadata": {},
   "outputs": [],
   "source": [
    "cons_1 = lin.nlargest(10,'LOYALTY_POINTS_REDEEMED')"
   ]
  },
  {
   "cell_type": "code",
   "execution_count": 363,
   "metadata": {},
   "outputs": [],
   "source": [
    "con = cons_1.loc[cons_1['SEX'] == 'M']"
   ]
  },
  {
   "cell_type": "code",
   "execution_count": null,
   "metadata": {},
   "outputs": [],
   "source": []
  },
  {
   "cell_type": "code",
   "execution_count": 364,
   "metadata": {},
   "outputs": [],
   "source": [
    "date = lin[['FIRST_USAGE_DATE','LAST_USAGE_DATE']].dropna()"
   ]
  },
  {
   "cell_type": "code",
   "execution_count": 365,
   "metadata": {},
   "outputs": [
    {
     "data": {
      "text/plain": [
       "1     17-MAY-2018 00:00:00\n",
       "4     09-MAY-2018 00:00:00\n",
       "8     04-JUL-2018 21:08:30\n",
       "11    06-MAY-2018 00:00:00\n",
       "12    07-JUN-2018 00:00:00\n",
       "Name: FIRST_USAGE_DATE, dtype: object"
      ]
     },
     "execution_count": 365,
     "metadata": {},
     "output_type": "execute_result"
    }
   ],
   "source": [
    "date['FIRST_USAGE_DATE'].head()"
   ]
  },
  {
   "cell_type": "code",
   "execution_count": 8,
   "metadata": {},
   "outputs": [],
   "source": [
    "\n",
    "first = []\n",
    "for x in date['FIRST_USAGE_DATE']:\n",
    "    d = x.split()[0]\n",
    "    first.append(d)\n"
   ]
  },
  {
   "cell_type": "code",
   "execution_count": 9,
   "metadata": {},
   "outputs": [],
   "source": [
    "last = []\n",
    "for x in date['LAST_USAGE_DATE']:\n",
    "    d = x.split()[0]\n",
    "    last.append(d)"
   ]
  },
  {
   "cell_type": "code",
   "execution_count": 25,
   "metadata": {},
   "outputs": [],
   "source": []
  },
  {
   "cell_type": "code",
   "execution_count": 314,
   "metadata": {},
   "outputs": [],
   "source": [
    "date1 = pd.to_datetime(date['FIRST_USAGE_DATE'])"
   ]
  },
  {
   "cell_type": "code",
   "execution_count": 315,
   "metadata": {},
   "outputs": [],
   "source": [
    "date2 = pd.to_datetime(date['LAST_USAGE_DATE'])"
   ]
  },
  {
   "cell_type": "code",
   "execution_count": 366,
   "metadata": {},
   "outputs": [],
   "source": [
    "a = date1.apply(lambda x: x.year)\n",
    "b = date2.apply(lambda x: x.year)\n",
    "clean_data['Duration'] = b - a\n"
   ]
  },
  {
   "cell_type": "code",
   "execution_count": null,
   "metadata": {},
   "outputs": [],
   "source": []
  },
  {
   "cell_type": "code",
   "execution_count": 11,
   "metadata": {},
   "outputs": [],
   "source": [
    "last_1 = []\n",
    "for x in Duration[0]:\n",
    "    d = x.split('-')[2]\n",
    "    last_1.append(d)"
   ]
  },
  {
   "cell_type": "code",
   "execution_count": 12,
   "metadata": {},
   "outputs": [],
   "source": [
    "first_1 = []\n",
    "for x in Duration[1]:\n",
    "    d = x.split('-')[2]\n",
    "    first_1.append(d)"
   ]
  },
  {
   "cell_type": "code",
   "execution_count": null,
   "metadata": {},
   "outputs": [],
   "source": []
  },
  {
   "cell_type": "code",
   "execution_count": 214,
   "metadata": {},
   "outputs": [],
   "source": [
    "last = date['LAST_USAGE_DATE'].apply(dates)"
   ]
  },
  {
   "cell_type": "code",
   "execution_count": 215,
   "metadata": {},
   "outputs": [],
   "source": [
    "Duration = pd.DataFrame(data=[first,last]).T"
   ]
  },
  {
   "cell_type": "code",
   "execution_count": 24,
   "metadata": {},
   "outputs": [],
   "source": []
  },
  {
   "cell_type": "code",
   "execution_count": 367,
   "metadata": {},
   "outputs": [],
   "source": [
    "lin_1 =lin[['LOYALTY_POINTS_BALANCE','TOT_REV','DATA_KB','Duration','HS_MAKE']]"
   ]
  },
  {
   "cell_type": "code",
   "execution_count": 368,
   "metadata": {},
   "outputs": [
    {
     "data": {
      "text/plain": [
       "<matplotlib.axes._subplots.AxesSubplot at 0x178856b70>"
      ]
     },
     "execution_count": 368,
     "metadata": {},
     "output_type": "execute_result"
    },
    {
     "data": {
      "image/png": "iVBORw0KGgoAAAANSUhEUgAAAWQAAAF7CAYAAADlm/FuAAAABHNCSVQICAgIfAhkiAAAAAlwSFlzAAALEgAACxIB0t1+/AAAADl0RVh0U29mdHdhcmUAbWF0cGxvdGxpYiB2ZXJzaW9uIDIuMi4zLCBodHRwOi8vbWF0cGxvdGxpYi5vcmcvIxREBQAAFx9JREFUeJzt3Xu0bWVdxvHnOXIUUFAJ0OQgCmR4wQtpSA6tULFMyRvJYSiKJqWZAnmJGKZY4oWLppm3YXlriKmhSKKcjASveQEVUDNRGVnZRYeeFBDOefpjztVebPbe7oNrrfc31/p+xtjDueZcjPFjynrmO9/5vu90EgEA2tvQugAAQIdABoAiCGQAKIJABoAiCGQAKIJABoAiCGQAKIJABoAiCGQAKIJABoAidtqRLz90w1HMs5a0Zfu79dANR7UuowTOxRLOxRLOxZIt298tSV7Pd2khA0ARBDIAFEEgA0ARBDIAFEEgA0ARBDIAFEEgA0ARBDIAFEEgA0ARBDIAFEEgA0ARBDIAFEEgA0ARBDIAFEEgA0ARBDIAFEEgA0ARBDIAFEEgA0ARBDIAFEEgA0ARBDIAFEEgA0ARBDIAFEEgA0ARBDIAFEEgA0ARBDIAFEEgA0ARBDIAFEEgA0ARBDIAFEEgA0ARBDIAFEEgA0ARBDIAFEEgA0ARBDIAFEEgA0ARBDIAFEEgA0ARBDIAFEEgA0ARBDIAFEEgA0ARBDIAFEEgA0ARBDIAFEEgA0ARBDIAFEEgA0ARBDIAFEEgA0ARBDIAFEEgA0ARBDIAFEEgA0ARBDIAFEEgA0ARBDIAFEEgA0ARBDIAFEEgA0ARBDIAFEEgA0ARBDIAFEEgA0ARBDIAFEEgA0ARBDIAFEEgA0ARBDIAFEEgA0ARBDIAFEEgA0ARBDIAFEEgA0ARBDIAFEEgA0ARBDIAFEEgA0ARBDIAFEEgA0ARBDIAFEEgA0ARBDIAFEEgA0ARBDIAFEEgA0ARBDIAFEEgA0ARBDIAFEEgA0ARBDIAFEEgA0ARBDIAFEEgA0ARBDIAFEEgA0ARBDIAFEEgA0ARBDIAFEEgA0ARBDIAFEEgA0ARBDIAFEEgA0ARBDIAFEEgA0ARBDIAFEEgA0ARBDIAFEEgA0ARBDIAFEEgA0ARBDIAFEEgA0ARBDIAFEEgA0ARBDIAFEEgA0ARBDIAFEEgA0ARBDIAFEEgA0ARBDIAFEEgA0ARBDIAFEEgA0ARBDIAFEEgA0ARBDIAFEEgA0ARBDIAFEEgA0ARBDIAFEEgA0ARBDIAFEEgA0ARBDIAFEEgA0ARBDIAFEEgA0ARBDIAFEEgA0ARBDIAFEEgA0ARBDIAFEEgA0ARBDIAFEEgA0ARBDIAFEEgA0ARBDIAFEEgA0ARBDIAFEEgA0ARBDIAFEEgA0ARBDIAFEEgA0ARBDIAFEEgA0ARBDIAFEEgA0ARBDIAFEEgA0ARBDIAFEEgA0ARBDIAFEEgA0ARBDIAFEEgA0ARBDIAFEEgA0ARBDIAFEEgA0ARBDIAFEEgA0ARBDIAFEEgA0ARBDIAFEEgA0ARBDIAFEEgA0ARBDIAFEEgA0ARBDIAFEEgA0ARBDIAFEEgA0ARBDIAFEEgA0ARBDIAFEEgA0ARBDIAFEEgA0ARBDIAFEEgA0ARBDIAFEEgA0ARBDIAFEEgA0ARBDIAFEEgA0ARBDIAFEEgA0ARBDIAFEEgA0ARBDIAFEEgA0ARBDIAFEEgA0ARBDIAFEEgA0ARBDIAFOEkrWvYIbaPT/LG1nVUwLlYwrlYwrlYMrRzMcQW8vGtCyiEc7GEc7GEc7FkUOdiiIEMAHOJQAaAIoYYyIPpD5oBzsUSzsUSzsWSQZ2LwT3UA4B5NcQWMgDMJQIZAIogkAfA9nNs79u6DgDTVT6Qbd9yjWP7zLKWhvaR9AnbF9l+uu09WxdUke09bbt1HWjD9uFj23deduwxs69ox5V/qGf780kO6bcvSHLESsfmXR80D5J0tKTflPQFSe+UdE6SrS1ra8H2/SW9TNJ3Jf2JpLdL2lNdI+PYJB9qWN7M2d5L0tMk3UnSTqP9SZ7SqqZZW5YVN8iGoWTFTj/5K82Nt3j2WuPYXEt35fyopI/afqakh6gLpNdL2rVlbY38uaQ/knRrSf8g6deTfMr2QeouVAsVyJLeL+liSX8vaVvjWlrxKtsrfS5pCIGcVbZX+jz3bB+srpX8eEn/oy6UFtFOSS6QJNsvTvIpSUrylQXttdg1yfNbF9HY4LNiCIG8t+1nqbvCjbbVf17eYp5Ltn9OXQhvVtf6OVvSEUmubFpYW9vHtq9edmwQP74JO8/2w5N8sHUhDe1v+1x12TDaVv/5zqv/Y3UMoQ/5T9Y6nuQFs6qlFdtXqrsNPzvJl1rXU4HtbZJ+qO7HtoukH40OSdo5ycZWtbVge6ukW0r6saTr+t1Jsnu7qmbL9i+vdTzJR2dVy01VPpAh2b5rki/327dIcu3YsfuPbtfRWX6OsBhsPzTJllWOvXwIXTpDGPb2Utu/s8L+E22/pEVNDfz12PYnlx37i1kWUoXtFe+MbO8u6cMzLqcE20faPqP/e0Trehp4re3fGN9he4Ptt0i6V5uSdkz5QFY3xOtNK+x/dX9sEQz+6fEUPHD5Bdn27dWNNLiwTUnt2H6ZpGdLuqL/e3a/b5EcIenM0Zhj27tIOlfSzSU9smVh6zWEh3rbk2xfvjPJtgWaBDD4p8dTcKSk99g+K8lJ/YPP8yWdnuQNjWtr4eGS7j36rdh+q6RLJP1h06pmKMk3bT9E0odt7y3piZI+neSkxqWt2xAC+RrbByT5+vhO2wdIuqZRTbO2yfar1bWGR9vqPy/KbMUbSHKN7UdLOtv22ZIOk3RCknMal9bSbdRNlJG68dkLxfZo4sfzJL1N0hZJ7xjtT/L5VrWtV/mHen2f0FnqZmN9rt99X0mnSHpOkvNa1TYrtp+01vEkb51VLVXYHrV6Nqr7AV4s6aLR8SRntairFdub1U0UulDdhfpBkk5OcnbTwmbI9lpdVUly+BrHSygfyJJk+17qfnT36Hddpu7W9NJ2VdVge78k32pdx6zZfuFax5OcOqtaqrD9s5Lupy6QP53kPxqXVIbtjUmu+8nfbGsQgQzJ9mHquicuSvKftu+prn/wgUlYCW4Vtk9O8tLWdUyL7YP62YkrrtMwhNv0aemfMf2qpGMkPTLJ7RqX9BOVD2Tbb9LqD66S5EZD4uaN7dMlPULSpZIOlHSepGdIOk3SG5IsSl/6DhvKojI3le03Jjl+ldv1QdymT5rtQ9WF8KMl7SHp9ySdm+R7TQtbhyEE8uNX2L2PuiE+G5PcYcYlzZztKyQd0j/Iuq2kf5N0zyRfa1xaebYvSXKf1nVMm+2dl1+YV9o3z/phkL8l6Sr1KyFK+mySQUyblgYwyiLJu0bbtveTdLKkB0s6QyuPT55HV49+WEm+Z/urhPG61W5xTM4nJC2/E1hp3zw7XtJXJb1O0nl9A2ZQ//+XD2Tp/xfXOUXSoZLOlPT7Q+ign6ADxhZKkaQ7jX9OcmSDmoZirseq95Nh9pG0i+37aOnfd3ct3rKst1c3OWSzpFf13Ti72N4pyfVtS1uf8oFs+51aCuKTJF2v7iTvIklJftCwvFlZPiPxzCZVDITt+yX5TP/x3U2Lmb6HSXqypE3qhoeObNWCLc2aZJu6yUHn295Z3XOXXSV92/ZHkhzTtMB1GEIf8r9q6bZz9L+jVkCS3HH2VdVk+71JHtu6jhZs301LS5R+P8l9G5c0U7Yfm+S9reuoyPZukh4zhPH65VvISTa1rmFA9m9dwCz1zxQ293/XS9pP0n2TfLNlXS0keW8/ieruknYe2//idlXN1thkocEawuJCN2J7P9vPt/2F1rUUU/t2Z4Jsf0LSB9XN1Htckl+QtHURw1iSbL9e3Vtkfl/dHeRR6i5Qi+QMSU+Q9DOSbiVpt7G/WzWsa90GE8i297b9zP6H+FV1J/jJbatCQ/+l7od2Oy29OWZhLkgr+KUkx0r6Xj9L8TBJizZh6BBJF0j6DXUXo49LenGSU4dyp1A+kG0fZ/sCdUN4Nkl6pqR/T/KCJJe0ra6cuR5RMC7Jb0o6WNLnJZ1q+xuSbmv7F9tW1sxovPGPbN9B3VtDBjP+dhKSXJrkD5PcW9Kb1T0Mv8L2YEYhle9DlvRGdWF81CiAhza28Kdl+y1JnryOr5Z/I8IkJfm+pL+U9Jf9couPVzfcad8FnE7+Adu3kXS6uotUtDjj9G/A9l6S7qPugv2vkv6zbUXrN4RRFqMf2mZ1ywu+S9JvL9IPbt6n/94Utk9LsuKwrkVbcMn2Bkn3T/KJ/vMt1L1X8PttK5st28epy4qdJb1H0t8kGUwYSwMI5HHLnqpvkHROkj9uW9X02f6Kun/nFbskFnEBGS5SN2T7k0kOa11HS7a3S/qSuqnT0rJnCkOYQDWoQB7Xjzt9eZJBvJrlp+HujcKf0cqBvKgLyHxB0q9o9YvUd1faP69snyrpi5L+NkP9Uf+UzFun27J91SJMDFmUBXJ2hO1rJX1bq1+kFm1M9lZJt1Q3HvsadeclSXZvWlhBlSdQDeGh3loWZlQBbuQKLlJLkuzWuoYBKXuxHnogD7d5v2OeL3XLKapbDzmSvr5ISytibbYftNL+JBettH/Blc2N8oFs+xytfAKtbkbOIrjQ9iskPUXSt9Q90Nxk+68knbJgK9+N/NlKO/uL1iOTzPuiQss9d2x7Z0m/qO4dlAv3fGHIyvch237wWseTfGRWtbRi+5XqZqWdmGRrv293dVNFr07y7Jb1tWb7ZlpadvFhki5O8ri2VbVle19Jr0iyuXUt1VR+JlM+kFfTv9Dx6CSvbF3LtNn+mqS7LH963gfRV5L8XJvK2upv049RN1X2nyQ9QNL+SX7UtLAC+vfJfTHJwa1racX2RnUvRv72+Hhk20ckuaBdZasr32Uxrn990ePUtYT2l/S+thXNTFYaypRk26LNWhzpl2W9St3bIZ6bZKvtbyxqGNt+jZa69jZIurekhVp8q19g6TVJLrd9a0mflLRN0h62n5PknZJUNYylAQSy7Vuqm5N+jLqr3fsl/XySfZoWNltX2D42ydvGd9p+gqSvNKqptfdKepS6mVnbbL9fhR/WzMBnx7avl/TOJB9vVUwjD0zyu/32cZL+Ocmj+reqnK/uPXulle+ysP1Ddf+xvUjSPyZJ3xJamIVT+v7A90i6Wt2Dmki6n6RdJD06ybcbltfM2GveN0t6uLrXFj1V0geT/G/L2lro13BQkv9qXUsL433Dtv9O0ruTvGX5scqGEMjPVfcmiA3qrnDvknThIg38H00T7h9w3k3dCJPLF+GB5nr1/YW/ru6/lSOS7Nm4pJnoL0ovVLcKotX9Tq5Xd+s+iCUnJ6V/h96Z6iYMXSjpoCT/YXsnSZclOahpgetQPpBHbN9FXUvoaHXLCp6ibi2LK5sWNgNDubq3srxlaHuXJFe3rWo2bJ+o7u7g+CTf6Pftr65v/UOL8NB7pM+IV6t72emrxlrHD1N3kf6DhuWty2ACeVz/dt1j1C3JeafG5Uxd/wDrrNWOJ1n12Lxa1jLcoK51uHAtQ9uXSHpokv9etn8vSRdwIR+W8g/1VvGNJM/VDQfDz7ObqXtDClPFl5ygbpjb/Za3DG2fuEAtw43Lw1jq7hb6bpyFsWykyY0kedYMy7lJygdy/waI0yR9V9JLJL1d0h1sb5P0xMpDWCbo3xep1bdOx2pZyzDJlf3IkwskLUog//gmHptH4yNNTlV3BzUo5bssbH9G3Ym9taTXqpsW+3Hbd5f09kVYE5c+5BuzfVmSe+zosXnTN0x+uNIhdYvUL1QreWSov5nyLWRJOyX5oCTZ/uPR2Mp+8Pei3MKvOX18QdEylJTkZq1rKKp2S3MVQwjk8RO7/Mn5IE/6jlq0xdbX6V62f7DCfqtbXAcYnCF0WWyT9H11P7TdJI1+hJZ0q0W9JQNwQ/0i/aNA21XSaBr9YBbrH0Igr3lLlmRb/73dk6zUYgKAQSgfyOvFSy8BDN2G1gVM0KI84AMwp+YpkOejqQ9gYc1TIAPAoM1TINNlAWDQyj/U619aed3YaIoD1S2z+K0k5459b69FXQcWwHwYQgv5w5IOkCTbB6h7d9rdJJ1k+yWjLxHGAIZuCC3kL41e1Gj7xZL2TPIM27eQ9NlFfokjgPkyhBby+BXjcElbJCnJtZK2N6kIAKZgCGtZXG77Zepey3IXdUsrqn+rLA/yAMyNIbSQf1vS/0o6SNKvJRktNXgPrfEWDQAYmiH0Ib85yVNb1wEA0zaEFvLgFpkGgJtiCH3Iu9o+WKv0Fyf54ozrAYCpGEKXxVZJl2jlQE6SB824JACYiiG0kP+F0AWwCIbQhwwAC2EIgXxy6wIAYBaG0Ie8RauvdZwkD5tlPQAwLUMI5ENX2H1fSc+T9D+8tgnAvCgfyONsP0DSCyTdWtJpST7QuCQAmJghjLKQ7QerC+KoC+ItjUsCgIkr30K2/SlJt5d0uqSLlx9nYgiAeTGEQP6Y1n6oxxhlAHOhfCADwKIo34ds+8i1jo+/Vw8Ahqx8IEs6ao1jkUQgA5gLdFkAQBFDaCHL9l0lPUfS3dW1iq+QdEaSLzctDAAmqPxaFrYfIek8SZ+W9AxJz+y3z7X9yJa1AcAkle+ysH2ppMckuXLZ/v0lnZPkXm0qA4DJKt9ClrRxeRhLUr9vY4N6AGAqhhDI22xvWr7T9r6StjWoBwCmYgiB/CJJH7H9BNt3tX2Q7SdK2tIfA4C5UL4PWZJsH6KlURaWdJmkM5N8rmlhADBBQwnkPSTdUdKVSX7Quh4AmIbyXRa2j5P0VUlvkvS1fhgcAMyd8i1k25dLOjzJd2wfKOntSQ5rXRcATFr5FrKka5N8R5KS/IukmzeuBwCmYghTpzfZPmvs877jn5Oc1KAmAJi4IXRZPHWt40nePKtaAGCaygfyetl+VZITWtcBADfVEPqQ14tXOQEYtHkKZAAYNAIZAIqYp0B26wIA4KdRPpBtP2adX/3zqRYCAFNWfpSF7Q+pW2bzGUm+1boeAJiW8oEsSbYfJ+lPJb1V0uskbR8dY7EhAPNiEIEsSbYPlvQxSVvVBbIlJckdmxYGABNSfuq07ZtLOlnSZklPSvK+xiUBwFSUD2RJX5D0AUmHJPlR62IAYFqGEMhfTvK81kUAwLSVH/Ym6U6tCwCAWRhCC/lmtnfTKhM/GGUBYF6UH2Vh+1pJ39ENAzlilAWAOTOEFvIVSe7TuggAmLYh9CEDwEIYQiCvukaF7TNmWQgATFP5PuS12L6KPmQA82IILeS1sOQmgLlR/qGe7T1WOyQCGcAcKR/Ikj6npWFuy10341oAYGoG3YcMAPNkkH3Itg+wfYrty1rXAgCTMphAtv2ztk+w/U+SLlfX3bK5cVkAMDHluyxsP01d8G6S9Df93/uT3LlpYQAwYUMI5B9L+qSkP0jy2X7flUn2b1sZAEzWEEZZ3EHSUZLOsn07dS3kjW1LAoDJK99CHmd7k6Sj1XVh7CrpnCR/1LYqAJiM8oFse/eV1jy2/fOSjk5yaoOyAGDihhDIX5d0SpKzW9cCANM0hGFvh0t6vO0ttg9sXQwATEv5FvKI7V+T9FZJn5G0fbQ/yZHNigKACRrCKItRf/HzJF0s6bUaC2QAmBflA9n2yyQdqW4c8vmt6wGAaSkfyJK2STokyTWtCwGAaRpEH7LtvSX9nqS7q1uK8wpJf5HkO00LA4AJKj/KwvYD1D3Ik6S3SXpHv/3p/hgAzIXyLWTbn5L09CSXLNt/b0lvSHJom8oAYLLKt5Al7b48jCUpyaWSdmtQDwBMxRAC2bZvu8LOPTSM+gFgXYYQaK+UdIHtX7a9W//3K5LOl/SqtqUBwOSU70OWJNuPUDcxZHyUxelJPtC0MACYoEEE8mpsn5CEVjKAuTD0QL4qyR1b1wEAkzCEPuS1uHUBADApQw/k4TbvAWCZ8mtZ2N6qlYPXknaZcTkAMDWD7kMGgHky9C4LAJgbBDIAFEEgA0ARBDIAFEEgA0AR/werCrb9D277ZAAAAABJRU5ErkJggg==\n",
      "text/plain": [
       "<Figure size 432x288 with 1 Axes>"
      ]
     },
     "metadata": {
      "needs_background": "light"
     },
     "output_type": "display_data"
    }
   ],
   "source": [
    "sns.heatmap(lin_1.isnull(),yticklabels=False,cbar=False,cmap='viridis')"
   ]
  },
  {
   "cell_type": "code",
   "execution_count": 369,
   "metadata": {},
   "outputs": [],
   "source": [
    "clean_data['Duration'].fillna(value=0, inplace=True)"
   ]
  },
  {
   "cell_type": "code",
   "execution_count": 370,
   "metadata": {},
   "outputs": [],
   "source": [
    "clean_data['LOYALTY_POINTS_BALANCE'].fillna(value=0, inplace=True)"
   ]
  },
  {
   "cell_type": "code",
   "execution_count": 371,
   "metadata": {},
   "outputs": [],
   "source": [
    "lin_2 = lin_1.dropna(subset=['HS_MAKE'])"
   ]
  },
  {
   "cell_type": "code",
   "execution_count": 372,
   "metadata": {},
   "outputs": [],
   "source": [
    "line = lin_2[['HS_MAKE','TOT_REV','DATA_KB','Duration','LOYALTY_POINTS_BALANCE']]"
   ]
  },
  {
   "cell_type": "code",
   "execution_count": 373,
   "metadata": {},
   "outputs": [
    {
     "data": {
      "text/plain": [
       "<matplotlib.axes._subplots.AxesSubplot at 0x166a1e320>"
      ]
     },
     "execution_count": 373,
     "metadata": {},
     "output_type": "execute_result"
    },
    {
     "data": {
      "image/png": "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\n",
      "text/plain": [
       "<Figure size 432x288 with 1 Axes>"
      ]
     },
     "metadata": {
      "needs_background": "light"
     },
     "output_type": "display_data"
    }
   ],
   "source": [
    "sns.heatmap(line.isnull(),yticklabels=False,cbar=False,cmap='viridis')"
   ]
  },
  {
   "cell_type": "code",
   "execution_count": 374,
   "metadata": {},
   "outputs": [
    {
     "data": {
      "text/html": [
       "<div>\n",
       "<style scoped>\n",
       "    .dataframe tbody tr th:only-of-type {\n",
       "        vertical-align: middle;\n",
       "    }\n",
       "\n",
       "    .dataframe tbody tr th {\n",
       "        vertical-align: top;\n",
       "    }\n",
       "\n",
       "    .dataframe thead th {\n",
       "        text-align: right;\n",
       "    }\n",
       "</style>\n",
       "<table border=\"1\" class=\"dataframe\">\n",
       "  <thead>\n",
       "    <tr style=\"text-align: right;\">\n",
       "      <th></th>\n",
       "      <th>HS_MAKE</th>\n",
       "      <th>TOT_REV</th>\n",
       "      <th>DATA_KB</th>\n",
       "      <th>Duration</th>\n",
       "      <th>LOYALTY_POINTS_BALANCE</th>\n",
       "    </tr>\n",
       "  </thead>\n",
       "  <tbody>\n",
       "    <tr>\n",
       "      <th>1</th>\n",
       "      <td>Samsung</td>\n",
       "      <td>50.438596</td>\n",
       "      <td>2.450093e+05</td>\n",
       "      <td>0.0</td>\n",
       "      <td>183.00</td>\n",
       "    </tr>\n",
       "    <tr>\n",
       "      <th>4</th>\n",
       "      <td>Mobicel</td>\n",
       "      <td>1775.124338</td>\n",
       "      <td>1.245262e+06</td>\n",
       "      <td>0.0</td>\n",
       "      <td>32.00</td>\n",
       "    </tr>\n",
       "    <tr>\n",
       "      <th>8</th>\n",
       "      <td>Nokia</td>\n",
       "      <td>-6655.759243</td>\n",
       "      <td>4.404340e+04</td>\n",
       "      <td>0.0</td>\n",
       "      <td>412.48</td>\n",
       "    </tr>\n",
       "    <tr>\n",
       "      <th>11</th>\n",
       "      <td>itel</td>\n",
       "      <td>-6865.850082</td>\n",
       "      <td>0.000000e+00</td>\n",
       "      <td>0.0</td>\n",
       "      <td>264.90</td>\n",
       "    </tr>\n",
       "    <tr>\n",
       "      <th>12</th>\n",
       "      <td>MOBICEL</td>\n",
       "      <td>-3215.873152</td>\n",
       "      <td>0.000000e+00</td>\n",
       "      <td>0.0</td>\n",
       "      <td>162.65</td>\n",
       "    </tr>\n",
       "  </tbody>\n",
       "</table>\n",
       "</div>"
      ],
      "text/plain": [
       "    HS_MAKE      TOT_REV       DATA_KB  Duration  LOYALTY_POINTS_BALANCE\n",
       "1   Samsung    50.438596  2.450093e+05       0.0                  183.00\n",
       "4   Mobicel  1775.124338  1.245262e+06       0.0                   32.00\n",
       "8     Nokia -6655.759243  4.404340e+04       0.0                  412.48\n",
       "11     itel -6865.850082  0.000000e+00       0.0                  264.90\n",
       "12  MOBICEL -3215.873152  0.000000e+00       0.0                  162.65"
      ]
     },
     "execution_count": 374,
     "metadata": {},
     "output_type": "execute_result"
    }
   ],
   "source": [
    "line.head()"
   ]
  },
  {
   "cell_type": "code",
   "execution_count": 375,
   "metadata": {},
   "outputs": [],
   "source": [
    "import matplotlib.pyplot as mat\n",
    "%matplotlib inline"
   ]
  },
  {
   "cell_type": "code",
   "execution_count": 55,
   "metadata": {},
   "outputs": [],
   "source": []
  },
  {
   "cell_type": "code",
   "execution_count": 115,
   "metadata": {},
   "outputs": [],
   "source": [
    "def val(x):\n",
    "    values = []\n",
    "    if (x<3000):\n",
    "        values.append(x)\n",
    "    return values"
   ]
  },
  {
   "cell_type": "markdown",
   "metadata": {},
   "source": []
  },
  {
   "cell_type": "code",
   "execution_count": 116,
   "metadata": {},
   "outputs": [],
   "source": [
    "net = line['LOYALTY_POINTS_BALANCE'].apply(val)"
   ]
  },
  {
   "cell_type": "code",
   "execution_count": 376,
   "metadata": {},
   "outputs": [],
   "source": [
    "cons_2 = line.loc[line['LOYALTY_POINTS_BALANCE'] < 3000]"
   ]
  },
  {
   "cell_type": "code",
   "execution_count": 377,
   "metadata": {},
   "outputs": [
    {
     "data": {
      "text/plain": [
       "420114"
      ]
     },
     "execution_count": 377,
     "metadata": {},
     "output_type": "execute_result"
    }
   ],
   "source": [
    "cons_2['LOYALTY_POINTS_BALANCE'].count()"
   ]
  },
  {
   "cell_type": "code",
   "execution_count": 378,
   "metadata": {},
   "outputs": [
    {
     "data": {
      "text/plain": [
       "HS_MAKE                   420305\n",
       "TOT_REV                   420305\n",
       "DATA_KB                   420305\n",
       "Duration                  420305\n",
       "LOYALTY_POINTS_BALANCE    420305\n",
       "dtype: int64"
      ]
     },
     "execution_count": 378,
     "metadata": {},
     "output_type": "execute_result"
    }
   ],
   "source": [
    "line.count()"
   ]
  },
  {
   "cell_type": "code",
   "execution_count": 379,
   "metadata": {},
   "outputs": [
    {
     "name": "stderr",
     "output_type": "stream",
     "text": [
      "/Users/academy_intern/anaconda3/lib/python3.7/site-packages/scipy/stats/stats.py:1713: FutureWarning: Using a non-tuple sequence for multidimensional indexing is deprecated; use `arr[tuple(seq)]` instead of `arr[seq]`. In the future this will be interpreted as an array index, `arr[np.array(seq)]`, which will result either in an error or a different result.\n",
      "  return np.add.reduce(sorted[indexer] * weights, axis=axis) / sumval\n"
     ]
    },
    {
     "data": {
      "text/plain": [
       "<seaborn.axisgrid.FacetGrid at 0x15d181cc0>"
      ]
     },
     "execution_count": 379,
     "metadata": {},
     "output_type": "execute_result"
    },
    {
     "data": {
      "image/png": "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\n",
      "text/plain": [
       "<Figure size 360x360 with 1 Axes>"
      ]
     },
     "metadata": {
      "needs_background": "light"
     },
     "output_type": "display_data"
    }
   ],
   "source": [
    "sns.lmplot(x= 'TOT_REV', y = 'LOYALTY_POINTS_BALANCE',data=line)"
   ]
  },
  {
   "cell_type": "code",
   "execution_count": 381,
   "metadata": {},
   "outputs": [],
   "source": [
    "line_1 = line.loc[line['TOT_REV'] < 35000]"
   ]
  },
  {
   "cell_type": "code",
   "execution_count": 382,
   "metadata": {},
   "outputs": [],
   "source": [
    "line_2 = line_1.loc[line_1['LOYALTY_POINTS_BALANCE'] < 25000]"
   ]
  },
  {
   "cell_type": "code",
   "execution_count": 383,
   "metadata": {},
   "outputs": [
    {
     "data": {
      "text/html": [
       "<div>\n",
       "<style scoped>\n",
       "    .dataframe tbody tr th:only-of-type {\n",
       "        vertical-align: middle;\n",
       "    }\n",
       "\n",
       "    .dataframe tbody tr th {\n",
       "        vertical-align: top;\n",
       "    }\n",
       "\n",
       "    .dataframe thead th {\n",
       "        text-align: right;\n",
       "    }\n",
       "</style>\n",
       "<table border=\"1\" class=\"dataframe\">\n",
       "  <thead>\n",
       "    <tr style=\"text-align: right;\">\n",
       "      <th></th>\n",
       "      <th>HS_MAKE</th>\n",
       "      <th>TOT_REV</th>\n",
       "      <th>DATA_KB</th>\n",
       "      <th>Duration</th>\n",
       "      <th>LOYALTY_POINTS_BALANCE</th>\n",
       "    </tr>\n",
       "  </thead>\n",
       "  <tbody>\n",
       "    <tr>\n",
       "      <th>1</th>\n",
       "      <td>Samsung</td>\n",
       "      <td>50.438596</td>\n",
       "      <td>2.450093e+05</td>\n",
       "      <td>0.0</td>\n",
       "      <td>183.00</td>\n",
       "    </tr>\n",
       "    <tr>\n",
       "      <th>4</th>\n",
       "      <td>Mobicel</td>\n",
       "      <td>1775.124338</td>\n",
       "      <td>1.245262e+06</td>\n",
       "      <td>0.0</td>\n",
       "      <td>32.00</td>\n",
       "    </tr>\n",
       "    <tr>\n",
       "      <th>8</th>\n",
       "      <td>Nokia</td>\n",
       "      <td>-6655.759243</td>\n",
       "      <td>4.404340e+04</td>\n",
       "      <td>0.0</td>\n",
       "      <td>412.48</td>\n",
       "    </tr>\n",
       "    <tr>\n",
       "      <th>11</th>\n",
       "      <td>itel</td>\n",
       "      <td>-6865.850082</td>\n",
       "      <td>0.000000e+00</td>\n",
       "      <td>0.0</td>\n",
       "      <td>264.90</td>\n",
       "    </tr>\n",
       "    <tr>\n",
       "      <th>12</th>\n",
       "      <td>MOBICEL</td>\n",
       "      <td>-3215.873152</td>\n",
       "      <td>0.000000e+00</td>\n",
       "      <td>0.0</td>\n",
       "      <td>162.65</td>\n",
       "    </tr>\n",
       "  </tbody>\n",
       "</table>\n",
       "</div>"
      ],
      "text/plain": [
       "    HS_MAKE      TOT_REV       DATA_KB  Duration  LOYALTY_POINTS_BALANCE\n",
       "1   Samsung    50.438596  2.450093e+05       0.0                  183.00\n",
       "4   Mobicel  1775.124338  1.245262e+06       0.0                   32.00\n",
       "8     Nokia -6655.759243  4.404340e+04       0.0                  412.48\n",
       "11     itel -6865.850082  0.000000e+00       0.0                  264.90\n",
       "12  MOBICEL -3215.873152  0.000000e+00       0.0                  162.65"
      ]
     },
     "execution_count": 383,
     "metadata": {},
     "output_type": "execute_result"
    }
   ],
   "source": [
    "line_2.head()"
   ]
  },
  {
   "cell_type": "code",
   "execution_count": 384,
   "metadata": {},
   "outputs": [
    {
     "name": "stderr",
     "output_type": "stream",
     "text": [
      "/Users/academy_intern/anaconda3/lib/python3.7/site-packages/scipy/stats/stats.py:1713: FutureWarning: Using a non-tuple sequence for multidimensional indexing is deprecated; use `arr[tuple(seq)]` instead of `arr[seq]`. In the future this will be interpreted as an array index, `arr[np.array(seq)]`, which will result either in an error or a different result.\n",
      "  return np.add.reduce(sorted[indexer] * weights, axis=axis) / sumval\n"
     ]
    },
    {
     "data": {
      "text/plain": [
       "<seaborn.axisgrid.FacetGrid at 0x2b4ff8240>"
      ]
     },
     "execution_count": 384,
     "metadata": {},
     "output_type": "execute_result"
    },
    {
     "data": {
      "image/png": "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\n",
      "text/plain": [
       "<Figure size 360x360 with 1 Axes>"
      ]
     },
     "metadata": {
      "needs_background": "light"
     },
     "output_type": "display_data"
    }
   ],
   "source": [
    "sns.lmplot(x= 'TOT_REV', y = 'LOYALTY_POINTS_BALANCE',data=line_2)"
   ]
  },
  {
   "cell_type": "code",
   "execution_count": 385,
   "metadata": {},
   "outputs": [],
   "source": [
    "line_3 = line_2.loc[line_2['TOT_REV'] >= 0]"
   ]
  },
  {
   "cell_type": "code",
   "execution_count": 386,
   "metadata": {},
   "outputs": [],
   "source": []
  },
  {
   "cell_type": "code",
   "execution_count": 387,
   "metadata": {},
   "outputs": [
    {
     "name": "stderr",
     "output_type": "stream",
     "text": [
      "/Users/academy_intern/anaconda3/lib/python3.7/site-packages/scipy/stats/stats.py:1713: FutureWarning: Using a non-tuple sequence for multidimensional indexing is deprecated; use `arr[tuple(seq)]` instead of `arr[seq]`. In the future this will be interpreted as an array index, `arr[np.array(seq)]`, which will result either in an error or a different result.\n",
      "  return np.add.reduce(sorted[indexer] * weights, axis=axis) / sumval\n"
     ]
    },
    {
     "data": {
      "text/plain": [
       "<seaborn.axisgrid.FacetGrid at 0x173f1f748>"
      ]
     },
     "execution_count": 387,
     "metadata": {},
     "output_type": "execute_result"
    },
    {
     "data": {
      "image/png": "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\n",
      "text/plain": [
       "<Figure size 360x360 with 1 Axes>"
      ]
     },
     "metadata": {
      "needs_background": "light"
     },
     "output_type": "display_data"
    }
   ],
   "source": [
    "sns.lmplot(x= 'TOT_REV', y = 'LOYALTY_POINTS_BALANCE',data=line_3)"
   ]
  },
  {
   "cell_type": "code",
   "execution_count": 389,
   "metadata": {},
   "outputs": [],
   "source": [
    "line_4 = line_3.loc[line_3['LOYALTY_POINTS_BALANCE'] < 15000]"
   ]
  },
  {
   "cell_type": "code",
   "execution_count": 391,
   "metadata": {},
   "outputs": [
    {
     "name": "stderr",
     "output_type": "stream",
     "text": [
      "/Users/academy_intern/anaconda3/lib/python3.7/site-packages/scipy/stats/stats.py:1713: FutureWarning: Using a non-tuple sequence for multidimensional indexing is deprecated; use `arr[tuple(seq)]` instead of `arr[seq]`. In the future this will be interpreted as an array index, `arr[np.array(seq)]`, which will result either in an error or a different result.\n",
      "  return np.add.reduce(sorted[indexer] * weights, axis=axis) / sumval\n"
     ]
    },
    {
     "data": {
      "text/plain": [
       "<seaborn.axisgrid.FacetGrid at 0x18c92b630>"
      ]
     },
     "execution_count": 391,
     "metadata": {},
     "output_type": "execute_result"
    },
    {
     "data": {
      "image/png": "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\n",
      "text/plain": [
       "<Figure size 360x360 with 1 Axes>"
      ]
     },
     "metadata": {
      "needs_background": "light"
     },
     "output_type": "display_data"
    }
   ],
   "source": [
    "sns.lmplot(x= 'TOT_REV', y = 'LOYALTY_POINTS_BALANCE',data=line_4)"
   ]
  },
  {
   "cell_type": "code",
   "execution_count": 104,
   "metadata": {},
   "outputs": [],
   "source": [
    "#building a linear regression model"
   ]
  },
  {
   "cell_type": "code",
   "execution_count": 392,
   "metadata": {},
   "outputs": [],
   "source": [
    "from sklearn.model_selection import train_test_split\n",
    "from sklearn import metrics\n",
    "import numpy as np\n",
    "import matplotlib.pyplot as mat\n",
    "%matplotlib inline"
   ]
  },
  {
   "cell_type": "code",
   "execution_count": null,
   "metadata": {},
   "outputs": [],
   "source": []
  },
  {
   "cell_type": "code",
   "execution_count": 393,
   "metadata": {},
   "outputs": [],
   "source": [
    "x = line_4[['TOT_REV','DATA_KB','Duration']]"
   ]
  },
  {
   "cell_type": "code",
   "execution_count": 394,
   "metadata": {},
   "outputs": [],
   "source": [
    "y = line_4['LOYALTY_POINTS_BALANCE']"
   ]
  },
  {
   "cell_type": "code",
   "execution_count": 395,
   "metadata": {},
   "outputs": [],
   "source": [
    "x_train, x_test, y_train, y_test = train_test_split(x, y, test_size=0.5) "
   ]
  },
  {
   "cell_type": "code",
   "execution_count": 396,
   "metadata": {},
   "outputs": [],
   "source": [
    "from sklearn.linear_model import LinearRegression"
   ]
  },
  {
   "cell_type": "code",
   "execution_count": 397,
   "metadata": {},
   "outputs": [],
   "source": [
    "model = LinearRegression()"
   ]
  },
  {
   "cell_type": "code",
   "execution_count": 398,
   "metadata": {},
   "outputs": [
    {
     "data": {
      "text/plain": [
       "LinearRegression(copy_X=True, fit_intercept=True, n_jobs=1, normalize=False)"
      ]
     },
     "execution_count": 398,
     "metadata": {},
     "output_type": "execute_result"
    }
   ],
   "source": [
    "model.fit(x_train,y_train)"
   ]
  },
  {
   "cell_type": "code",
   "execution_count": 399,
   "metadata": {},
   "outputs": [
    {
     "data": {
      "text/plain": [
       "array([1.55874802e-03, 1.23024950e-06, 4.70804370e+00])"
      ]
     },
     "execution_count": 399,
     "metadata": {},
     "output_type": "execute_result"
    }
   ],
   "source": [
    "model.coef_"
   ]
  },
  {
   "cell_type": "code",
   "execution_count": 400,
   "metadata": {},
   "outputs": [
    {
     "data": {
      "text/html": [
       "<div>\n",
       "<style scoped>\n",
       "    .dataframe tbody tr th:only-of-type {\n",
       "        vertical-align: middle;\n",
       "    }\n",
       "\n",
       "    .dataframe tbody tr th {\n",
       "        vertical-align: top;\n",
       "    }\n",
       "\n",
       "    .dataframe thead th {\n",
       "        text-align: right;\n",
       "    }\n",
       "</style>\n",
       "<table border=\"1\" class=\"dataframe\">\n",
       "  <thead>\n",
       "    <tr style=\"text-align: right;\">\n",
       "      <th></th>\n",
       "      <th>Coefficient</th>\n",
       "    </tr>\n",
       "  </thead>\n",
       "  <tbody>\n",
       "    <tr>\n",
       "      <th>TOT_REV</th>\n",
       "      <td>0.001559</td>\n",
       "    </tr>\n",
       "    <tr>\n",
       "      <th>DATA_KB</th>\n",
       "      <td>0.000001</td>\n",
       "    </tr>\n",
       "    <tr>\n",
       "      <th>Duration</th>\n",
       "      <td>4.708044</td>\n",
       "    </tr>\n",
       "  </tbody>\n",
       "</table>\n",
       "</div>"
      ],
      "text/plain": [
       "          Coefficient\n",
       "TOT_REV      0.001559\n",
       "DATA_KB      0.000001\n",
       "Duration     4.708044"
      ]
     },
     "execution_count": 400,
     "metadata": {},
     "output_type": "execute_result"
    }
   ],
   "source": [
    "#coefficients\n",
    "coeff_line_3 = pd.DataFrame(model.coef_,x.columns,columns=['Coefficient'])\n",
    "coeff_line_3"
   ]
  },
  {
   "cell_type": "code",
   "execution_count": 401,
   "metadata": {},
   "outputs": [],
   "source": [
    "predictions = model.predict(x_test)"
   ]
  },
  {
   "cell_type": "code",
   "execution_count": null,
   "metadata": {},
   "outputs": [],
   "source": []
  },
  {
   "cell_type": "code",
   "execution_count": 402,
   "metadata": {},
   "outputs": [
    {
     "data": {
      "text/plain": [
       "Text(0,0.5,'Predicted Y')"
      ]
     },
     "execution_count": 402,
     "metadata": {},
     "output_type": "execute_result"
    },
    {
     "data": {
      "image/png": "iVBORw0KGgoAAAANSUhEUgAAAYgAAAEKCAYAAAAIO8L1AAAABHNCSVQICAgIfAhkiAAAAAlwSFlzAAALEgAACxIB0t1+/AAAADl0RVh0U29mdHdhcmUAbWF0cGxvdGxpYiB2ZXJzaW9uIDIuMi4zLCBodHRwOi8vbWF0cGxvdGxpYi5vcmcvIxREBQAAIABJREFUeJzt3X2UXHWd5/H3J50ONBHpoNFNGpgAi3FgWRLMaJR1VmE04gNExgc4PqDDDrM+nBH0RBOdsxBHFhQVx3UPioMzoIgBxAhGRQRcjzqiwQRChAwRENJhIAoNSBrodL77x73VqVTfqrrVXbequuvzOqdPVf3qVtW3bnXdb93foyICMzOzSjPaHYCZmXUmJwgzM8vkBGFmZpmcIMzMLJMThJmZZXKCMDOzTE4QZmaWyQnCzMwyOUGYmVmmme0OYDKe//znx4IFC9odhpnZlHLbbbf9ISLm1ttuSieIBQsWsH79+naHYWY2pUj6fZ7tXMVkZmaZnCDMzCyTE4SZmWVygjAzs0xOEGZmlmlK92KaqLUbBrnwhi1sHxpmfn8fK5YtZPnigXaHZWbWUbouQazdMMiqazcxPDIKwODQMKuu3QTgJGFmVqbrqpguvGHLWHIoGR4Z5cIbtrQpIjOzztR1CWL70HBD5WZm3arrEsT8/r6Gys3MulXXJYgVyxbS19uzV1lfbw8rli1sU0RmZp2p6xqpSw3R7sVkZlZb1yUISJKEE4KZWW1dV8VkZmb5OEGYmVkmJwgzM8vkBGFmZpmcIMzMLJMThJmZZXKCMDOzTE4QZmaWyQnCzMwyOUGYmVmmrpxqA7yqnJlZPV2ZILyqnJlZfV1ZxeRV5czM6issQUjaV9KvJN0uabOk1Wn5oZJulXSPpDWSZqXl+6S3t6b3LygqNq8qZ2ZWX5FnEM8Ax0fEMcAi4HWSlgKfBi6KiCOAx4Az0u3PAB6LiP8MXJRuVwivKmdmVl9hCSISf0pv9qZ/ARwPXJOWXwYsT6+fnN4mvf8ESSoiNq8qZ2ZWX6FtEJJ6JG0EHgFuBH4HDEXErnSTbUCpVXgAeBAgvf9x4HlFxLV88QDnn3I0A/19CBjo7+P8U452A7WZWZlCezFFxCiwSFI/8B3gz7M2Sy+zzhaiskDSmcCZAIcccsiEY/OqcmZmtbWkF1NEDAE/AZYC/ZJKiekgYHt6fRtwMEB6/wHAoxnPdUlELImIJXPnzi06dDOzrlVkL6a56ZkDkvqAvwLuAm4B3pJudjrw3fT6delt0vtvjohxZxBmZtYaRVYxzQMuk9RDkoiuiojvSfot8C1JnwI2AJem218KfF3SVpIzh1MLjM3MzOooLEFExB3A4ozye4GXZpQ/Dby1qHjMzKwxXTmS2szM6nOCMDOzTE4QZmaWyQnCzMwyOUGYmVkmJwgzM8vkBGFmZpm6dkU5LzdqZlZb1yUILzdqZpZP11UxeblRM7N8ui5BeLlRM7N8ui5BeLlRM7N8ui5BeLlRM7N8uq6RutQQ7V5MZma1dV2CAC83amaWR9dVMZmZWT5OEGZmlskJwszMMjlBmJlZJicIMzPL5ARhZmaZnCDMzCyTE4SZmWVygjAzs0xOEGZmlqmwBCHpYEm3SLpL0mZJH0rLz5U0KGlj+vf6sseskrRV0hZJy4qKzczM6ityLqZdwEci4jeS9gduk3Rjet9FEfHZ8o0lHQmcChwFzAd+LOlFEbH36j5mZtYShZ1BRMRDEfGb9PqTwF1ArRnyTga+FRHPRMR9wFbgpUXFZ2ZmtbWkDULSAmAxcGta9EFJd0j6mqQ5adkA8GDZw7ZRO6GYmVmBCk8Qkp4DfBs4KyKeAC4GDgcWAQ8BnyttmvHwyHi+MyWtl7R+x44dBUVtZmaFJghJvSTJ4YqIuBYgIh6OiNGI2A18lT3VSNuAg8sefhCwvfI5I+KSiFgSEUvmzp1bZPhmZl2tyF5MAi4F7oqIz5eVzyvb7M3Anen164BTJe0j6VDgCOBXRcVnZma1FdmL6TjgXcAmSRvTso8Dp0laRFJ9dD/wdwARsVnSVcBvSXpAfcA9mMzM2qewBBERPyO7XeH7NR5zHnBeUTGZmVl+HkltZmaZnCDMzCyTE4SZmWVygjAzs0xOEGZmlskJwszMMjlBmJlZJicIMzPL5ARhZmaZnCDMzCyTE4SZmWWqmiAkLW1lIGZm1llqnUFcLOkrkvpbFo2ZmXWMWgniJSTrSP9K0rtaFI+ZmXWIqgkiInZHxBeA5cCXJD0p6YnSZetCNDOzdqjZSC3pDOC7wCeA50bEcyNi/4h4bkuiMzOztqm6YJCkX5Cs+PbKiPiPlkVkZmYdodaKcudExI0ti8TMzDpKrTYIJwczsy7mgXJmZpbJCcLMzDLVaqT+cK0HRsTnmx+OmZl1ilqN1PunlwuBvwCuS2+/CfhpkUGZmVn7VU0QEbEaQNKPgGMj4sn09rnA1S2JzszM2iZPG8QhwLNlt58FFhQSjZmZdYw8CeLrJPMxnSvpHOBW4PJ6D5J0sKRbJN0labOkD6XlB0q6UdI96eWctFySvihpq6Q7JB07mTdmZmaTUzdBRMR5wHuBx4Ah4L0R8b9zPPcu4CMR8efAUuADko4EVgI3RcQRwE3pbYATgSPSvzOBixt8L2Zm1kR5u7nuBzwREf8EbJN0aL0HRMRDEfGb9PqTJDPDDgAnA5elm11GMhkgafnlkfgl0C9pXv63YmZmzVQ3QaTVSh8DVqVFvcA3GnkRSQuAxSTVUy+MiIcgSSLAC9LNBoAHyx62LS0zM7M2yHMG8WbgJOApgIjYzp4usHVJeg7wbeCsiKg1TbgyyiLj+c6UtF7S+h07duQNw8zMGpQnQTwbEUF6sJY0O++TS+olSQ5XRMS1afHDpaqj9PKRtHwbcHDZww8Ctlc+Z0RcEhFLImLJ3Llz84ZiZmYNypMgrpL0FZI2gb8Ffgz8c70HSRJwKXBXxajr64DT0+unk6w3USp/d9qbaSnweKkqyszMWq/WSGoAIuKzkl4DPEEyqvp/5Zzp9TjgXcAmSRvTso8DF5AknTOAB4C3pvd9H3g9sBXYSdJzyszM2qRugpD06Yj4GHBjRllVEfEzstsVAE7I2D6AD9SLx8zMWiNPFdNrMspObHYgZmbWWWrN5vo+4P3A4ZLuKLtrf+AXRQdmZmbtVauK6ZvAD4Dz2TPaGeDJiHi00KjMzKztai05+nhE3A/8E/BoRPw+In4PjEh6WasCNDOz9sjTBnEx8Key20/heZLMzKa9PAlCaQ8jACJiNzl6P5mZ2dSWJ0HcK+nvJfWmfx8C7i06MDMza688CeJ/Aq8ABkmmw3gZyXTcZmY2jeUZSf0IcGoLYjEzsw5SaxzERyPiM5L+DxmzqkbE3xcamZmZtVWtM4i70sv1rQjEzMw6S9UEERHXp5eXVdvGzMymr1pVTNeTUbVUEhEnFRKRmZl1hFpVTJ9NL08B/hN7lhk9Dbi/wJjMzKwD1Kpi+n8Akv4xIv6y7K7rJf208MjMzKyt8oyDmCvpsNINSYcCXuvTzGyayzNlxtnATySVRk8vAP6usIjMzKwj5Bko90NJRwAvTovujohnig3LzMzarW4Vk6T9gBXAByPiduAQSW8sPDIzM2urPG0Q/wI8C7w8vb0N+FRhEZmZWUfIkyAOj4jPACMAETEMqNCozMys7fIkiGcl9ZEOmpN0OOA2CDOzaS5PL6ZzgB8CB0u6AjgOeE+RQZmZWfvVTBCSBNxNMpp6KUnV0oci4g8tiK0wazcMcuENW9g+NMz8/j5WLFvI8sUD7Q7LzKyj1EwQERGS1kbES4B1LYqpUGs3DLLq2k0Mj4wCMDg0zKprNwE4SZiZlcnTBvFLSX9ReCQtcuENW8aSQ8nwyCgX3rClTRGZmXWmPAni1SRJ4neS7pC0SdId9R4k6WuSHpF0Z1nZuZIGJW1M/15fdt8qSVslbZG0bGJvp77tQ8MNlZuZdas8jdQnTvC5/xX4EnB5RflFEfHZ8gJJR5Isa3oUMB/4saQXRcQoTTa/v4/BjGQwv7+v2S9lZjalVT2DkLSvpLNIRlG/DhiMiN+X/uo9cUT8FHg0ZxwnA9+KiGci4j5gK/DSnI9tyIplC+nr7dmrrK+3hxXLFhbxcmZmU1atKqbLgCXAJpKziM816TU/mFZVfU3SnLRsAHiwbJttadk4ks6UtF7S+h07djT84ssXD3D+KUcz0N+HgIH+Ps4/5Wg3UJuZVaiVII6MiHdGxFeAtwCvbMLrXQwcDiwCHmJP0skamZ25ml1EXBIRSyJiydy5nnXczKwotdogRkpXImJXMiRiciLi4dJ1SV8Fvpfe3AYcXLbpQcD2Sb9gBndzNTPLp9YZxDGSnkj/ngT+a+m6pCcm8mKS5pXdfDNQ6uF0HXCqpH3SBYmOAH41kdeox91czczyqbXkaE+1+/KQdCXwKuD5kraRTNnxKkmLSKqP7iddeCgiNku6CvgtsAv4QBE9mMDdXM3M8srTzXVCIuK0jOJLa2x/HnBeUfGUuJurmVk+eQbKTSvu5mpmlk9hZxCdqtQQ7cn6zMxq67oEAUmScEIwM6utKxMEeMpvM7N6ujJBeCyEmVl9XddIDR4LYWaWR1cmCI+FMDOrrysTRLUxDwf09bY4EjOzztWVCWLFsoWZb/ypZ3exdsNgy+MxM+tEXZkgAHZnlI2MhtshzMxSXZkgzr1uc9X73A5hZpboum6uazcMMjQ8UvX+ynYIj5cws27VdQli9fXVzx4AnnwmaYdYvnjA4yU6jJO1WWspInPhtilhyZIlsX79+oYes2Dlukm/7kB/Hz9fefykn8fyq0zWkEyyWMRysU5ENt1Jui0iltTbrivbICbL7RSt16rBjaVENDg0TLDnrNG926wbdV0VUzNMZu0I/zqdmFYNbqyViPw5WbfxGcQE7JzgeAn/Op24akm52Qs9eZS92R5OEBPw2M4RVlxze8MH9mZVk6zdMMhxF9zMoSvXcdwFN3dFgmnVQk+tSkRmU0FXVTE180A6Mhp8+KqNY7frVRut3TCYudQpNPbrtJk9q6ZSdVerFnpasWxhZmO4Vxy0btRVvZgWf/JHPLaz+hiIZhtID2LAuINOuTn79XLOm47KdfA77oKbMxNNj8Tn3nZM7gNmK3sFTTVTKXFOdd7X7ZG3F1NXJYhmdHFtVF9vDyLYOZI1ucceAso/iWoH61rvoZEDfLVE4y681ir+kdI+eRNEV1UxtUO1s4ZKlWl6eGSU1ddvHvdF6ZEYrZLUS48597rNY6PFS2cnlc/jxlhrN/cY63xOEB3ssZ0jHLZqHbtjT3VVteRQ/pjK2yuuuX3sdul0fkaVROPGWGsV/0jpfE4QHW53egwvNUbP2a+34XaUkdFg1bV38PTI7rEzlazk0MzG2EbrlkvbDw4Nj50lDbhOuiMU1U4wv78vs5rTP1I6h7u5TiHDI6NEMK67Z77H7h5XjQVJlZVIzlCaVfe7dsMgK665fa/xHrW6BZePD4E9ycvjRNqvyLE7req6bBNXWIKQ9DVJj0i6s6zsQEk3SronvZyTlkvSFyVtlXSHpGOLimuqGxoe4a9fMsBA+iurR5rU841GECSn9Wet2diUcRWrr9/MyOje6WhkNKpOlJhVF13SqWuFd8tYlCKnOFm+eIDzTzmagf6+pv9IseYosorpX4EvAZeXla0EboqICyStTG9/DDgROCL9exlwcXppGdb86kFmzUxye702ibxKzzKYJoqz1mykv6+Xc08a38BdT7UqsGrl9eqcG62TLrrrZNZYlLPWbGT19ZszOwRMZUW3EyxfPDCt9td0U9gZRET8FHi0ovhk4LL0+mXA8rLyyyPxS6Bf0ryiYpvqRnYHTz2br3cUJD2ZJmJoeIQVVzc+YrwRazcMMqPOWVAjddKtmM6k2hnPYztHpl2VmEeWd7dWt0G8MCIeAkgvX5CWDwAPlm23LS0bR9KZktZLWr9jx45Cg50uznnTURNqt4AkGTVandDfl52QKstLB/NaZ0GN1kk3o0qkXvVRrV/PnVolNlFuJ+hundJInfUTMvOoERGXRMSSiFgyd+7cgsOaHlZfv5nhkdEJt1cMDg03VNf+xmOyT/4qy2u1PcDE6qSrHbzzvoc8ZyD1fj1Pp26abifobq3u5vqwpHkR8VBahfRIWr4NOLhsu4OA7S2Obdoq1f1Ppr2i/GAJted9uuXu7DO7yvJqB1IB913whgnFWa3rJOR7D3kGb61YtpAVV9/OyO7s/Tndql/cTtC9Wn0GcR1wenr9dOC7ZeXvTnszLQUeL1VFWWfJU4WSt2GziPrtrCqRSrXeQ57Yly8e4Dn7Zv+2UhqD2XRQZDfXK4F/AxZK2ibpDOAC4DWS7gFek94G+D5wL7AV+Crw/qLismwzGqh9qleFkvfAX0T9dmWVSDXV3kPe2Ieq9MgKvF65TR+FVTFFxGlV7johY9sAPlBULFZbb48gYHdZFdQMoNr0ggEcvur7nPayg/nU8qPH3f/qF8/lG798ILMc9u6GekBfL/v2zmBo50jTuqSWTw1erbqpWiLImu67t0c89cwuDl25bizGalVZA9Osesm6m6fa6HICZs4QwxWzzdaeezZpzyglgcokUasNonIMwdDwCH29PVz09kVN++WdNUtouVpnKZXrTvTv18ufnt41NvlhqQ3jr18ywLdvG/S6ETatdUovJmuTgHHJoRFX3vrguLJa9fhFjswtqdU7Kk8vnOWLB/j5yuO574I3sN+smeMao4dHRrnl7h1jVVmQjGgvvY/pNA7CupvPIGxSRiNYu2GQ1ddvHustVa3uf35/X+4G7MmMhq7VO6rRtS5qxVuKp1kr/Jl1Gp9BdJFqDdGzZ01sEF3JWWs27jWNRlbnz1L1S55G4MmOhm5m76h6z9WKMyKzdnGC6CL7zMz+uHt7Zkx4Oo5asmaKzdNzabIH3Wb2jqr3XF7TwKYzVzF1kaertDUMDY/wzqWHsObXD46bhXUydkeMG/BW2QicVX002YNuZS+m8vaB8vvz2rd3xljCqpzAsNE1DbwGs00lThBdpNYo42/fNsjMGaqbIEqjnA9duS57LpSK18tSb2RuMxaSaUb7QFZvqGd27Z1ks7rFVjtb+Ye1m7jilw/sNXOu2yusk7mKqYvsfHZX1fuGR0Zz9WYqHaTzHKxL4x4a1awqoslWVeV5fN65itZuGNwrOUwkHrNW8xlEF2l0qdJKIjnoH3fBzQwODSOqzKiYuqLKOIl68lRD5dFIVVVW1U/ex+eZq+jCG7ZU3Vd542nVWYarwazECcJyEfCKww/ca3BYvSqmIEkSS/7swIYPMM2YIC5vVVXWAkCrrt1Ef5X1vyfSG6pW+0nl87WzKqravmjFa1vncRXTNDJDyYG8v6+XOfv1jlV5TFaPxDuWHsL9fxyuOT13loC2VaHkraqqVpWUtf73RHtDVUsqlZP7tbsqyt12rZzPIKaRiOxpsktVQhM1GjFuWolGtKvLZ96qqmrxPT48wkVvXzTu8ZDs00aqYLIaswW8Y+khez220aqoZpsq3XZdDdYaThDTSH+VsQwrli1kxTW3T6oLa2nBoYmsKdHO9RHyVFXVqoqqfPxEq2Amm6xK8RStGT3IipbnM3ACaQ5XMU0jf3p6V+Zo4+WLB5g9a/K/BUYjGl66tHeGxn5111vKs10a6TU1mSqY8jmefr7y+MwDVt6qqKJMhSVG630GrViXvFs4QUwjtdaPfnx4cj2YYE8XzvIune9cesjY7Tn79Y6fziO93clf2kaW1Sy6CibrAJ1VFVWUqbDEaL3PwO0ozeMqpmlmcGiYBSvXjVUHDdRZvyCv0q/I8iqXytP4p57ZReUqnCOje5JWvaU8m6nRKoa8vaaKroJpVhffycbQSQmhUr3PYKq0o0wFThDTVKmtYHBomLPXbKzbJbVcKblUJpl6dfHV1PpiNnMW11qxNaurZiMjpyeq0w/Q7VbvM5gK7SiT0cr2FSeILtBos/LuCO7P6A1VrtaaC1mvX62Be4bE2g2DLF880LQDe60qhtLrTPQL1gm/8Ltdvc+gFUm8XVo9TsUJwsbJGkhW/mV89YvnNlxdVa3302jE2D94vQN7XtVi2z403JQvWLVf+O450zq1zrKmcxJv1nckLycIG6dy4FblATVrvemSGYJ5BzTW3lH6B29G3fHaDYNVpwCZ399X2BfMI5A7y3Stpmt1+4p7Mdk4lQO3GhkgV9lInVfpl16WRuqOqw00K3UTLeoL5p4z1grNXAwrDycI20uP9u6n2uiBU9RusK62ql2pGmCyffCrxRskia/aYMID+npZ/MkfsWDlOhasXMei1T9qqAtuO3vOdOr4Emu+Vo9TcYKY5np7VHWN6CynvezgvW43+suk7glEJDGVK+9CO9k++NXiHejvY+2GQf709Pgpz2cInnxm114T8w0Nj7Di6tvbssxpIzp5fIk1X6vHqSgmMHVCp1iyZEmsX78+9/YLVq4rMJrO0yPxubcdAzCuV0eW4w4/kCv+9uV7la3dMNhwN9l6+vt6mb3PzEIaELMW+enr7eH8U44eW2GukpTMY5VloL+Pn688flKvW2RdeLV5tvLGbd1J0m0RsaTedm6knsZGIzh7zUbm9/dx7CEH8Mt7H6s5l9L9fxwe63JasnzxAGet2djUuB4fHmHjOa9t6DF5ewjV6sFydpX3Ues30kSWOW1lz5lWVm25l1b3aUuCkHQ/8CQwCuyKiCWSDgTWAAuA+4G3RcRj7YhvOilVO+TpVVSt583AJEdhV2q02qXRHkLVerBMZDR5o8uctvqA2apBYe6l1Z3a2Qbx6ohYVHaasxK4KSKOAG5Kb1uLZfW8yWoYm6h2LB0KyQHuqWeqL7mapXyiwU7VqkZL99LqTp1UxXQy8Kr0+mXAT4CPtSuYbpa1pCbA6us3N7RsqUimII9IqpVasXRolqz2gXr6+3o596SjOv7Xcauqtjy/UXdqV4II4EeSAvhKRFwCvDAiHgKIiIckvaBNsXW9GRKHrlw37mDz9Mju3M8h4KK3L2rKgWqy1SiNjOWo1rjbyfXvrajamu7zG1m2dlUxHRcRxwInAh+Q9Jd5HyjpTEnrJa3fsWNHcRF2sdGIcV0mV1+/uaFf4AGctWZjU/rlT7YaJe+v3GrP6a6kxVVleQxHZ2vLGUREbE8vH5H0HeClwMOS5qVnD/OAR6o89hLgEki6ubYq5m41PDLKuddtZmiC60k0ozFzstUo+/bOYLjK2U9pWo7yGWsrzxZ2Prur8PlvGjlDacfZTBFVWW747nwtHwchaTYwIyKeTK/fCHwSOAH4Y0RcIGklcGBEfLTWc3kcxNRRr19+UQe9f1i7qebcUZWxrd0wyIqrb2ckx5whInsN8EY1MoYia9veHjF71sxJtfO02toNg3zkqtszu10XOYajk6sKW6mTx0G8EPiOkikdZgLfjIgfSvo1cJWkM4AHgLe2ITYrSK1qniJ/SV5564MNxXbudZtzJQdoXv17IxMIZm07MhpjZ3hT4Vd46fOuNianqIZvn7E0ruVtEBFxb0Qck/4dFRHnpeV/jIgTIuKI9PLRVsdmxal1MC2yC2WtgYFZseWtSmtmV9JGegjlOXh2evfTep0Gimr4dlfdxnkuJitcvYNpkV0oKycfrNTIgb6o+W8amccp78Gzk7uf1oqtyInn3FW3cU4Qlsuc/XrHDpD9fb3jJtyrpkeqezAtcqK7yskHy/X39Y6LbU6V2V7n7NfLz1cez30XvIGfrzy+qVUSjfQQyjtosZO7n1aLLc//ShGv28n7qt2cIKaQGSrmA+vr7eGdSw+ht8pc3L0zxDlvOmrsALnxnNdy4VuOGUsYs2dlH7D6env43NuOqfuFL3I08KeWH807lx6y14y2s2f18IW3L2LjOa8dF9s5bzpqXPLr7Unef1EamaGzcts5+/WO+9w6fXnNap93nv+VIl63k/dVu3XVbK7Q2T2ZSl0u+/t6keCxnSNjazmXumECNbudDvT3seB5ffzi3kf3moRu9qweentm8PjwSNXRzWs3DI577kZGFE+mh0gn9S7ppFjymGrxQvtinor7qgh5ezF1XYIwM+t2eROEq5jMzCyTE4SZmWVygjAzs0xOEGZmlskJwszMMk3pXkySdgC/n+DDnw/8oYnhtNpUjx+m/ntw/O3l+CfuzyJibr2NpnSCmAxJ6/N08+pUUz1+mPrvwfG3l+MvnquYzMwskxOEmZll6uYEcUm7A5ikqR4/TP334Pjby/EXrGvbIMzMrLZuPoMwM7MaujJBSHqdpC2StqbrX3cESQdLukXSXZI2S/pQWn6gpBsl3ZNezknLJemL6fu4Q9KxZc91err9PZJOb+F76JG0QdL30tuHSro1jWONpFlp+T7p7a3p/QvKnmNVWr5F0rJWxZ6+dr+kayTdnX4OL59i+//s9H/nTklXStq3kz8DSV+T9IikO8vKmra/Jb1E0qb0MV+U6qwg1Zz4L0z/f+6Q9B1J/WX3Ze7Xasekap9dy0REV/0BPcDvgMOAWcDtwJHtjiuNbR5wbHp9f+DfgSOBzwAr0/KVwKfT668HfkAyU/hS4Na0/EDg3vRyTnp9Tovew4eBbwLfS29fBZyaXv8y8L70+vuBL6fXTwXWpNePTD+TfYBD08+qp4WfwWXA/0ivzwL6p8r+BwaA+4C+sn3/nk7+DIC/BI4F7iwra9r+Bn4FvDx9zA+AE1sQ/2uBmen1T5fFn7lfqXFMqvbZtez70MoX64S/9J/lhrLbq4BV7Y6rSqzfBV4DbAHmpWXzgC3p9a8Ap5VtvyW9/zTgK2Xle21XYLwHATcBxwPfS7+Ufyj7sozte+AG4OXp9Znpdqr8PMq3a0H8zyU5wKqifKrs/wHgwfRAOTP9DJZ1+mcALKg4wDZlf6f33V1Wvtd2RcVfcd+bgSvS65n7lSrHpFrfn1b9dWMVU+lLVLItLeso6en+YuBW4IUR8RBAevmCdLNq76Vd7/ELwEeB3ent5wFDEbErI46xGNP7H0+3b+fncxiwA/iXtJrsnyXNZors/4gYBD4LPAA8RLJPb2NqfQbQvP09kF6vLG+lvyE5c4HG46/1/WmmM5DaAAAD/ElEQVSJbkwQWXWQHdWVS9JzgG8DZ0XEE7U2zSiLGuWFkfRG4JGIuK28uEYcHRN7mZkk1QUXR8Ri4CmSKo5qOuo9pHX1J5NUX8wHZgMn1oilo+LPodF42/o+JH0C2AVcUSqqEk9Hxg/dmSC2AeUr2R8EbG9TLONI6iVJDldExLVp8cOS5qX3zwMeScurvZd2vMfjgJMk3Q98i6Sa6QtAv6SZGXGMxZjefwDwaJtiL9kGbIuIW9Pb15AkjKmw/wH+CrgvInZExAhwLfAKptZnAM3b39vS65XlhUsbyt8IvCPS+qE6cWaV/4Hqn11LdGOC+DVwRNo7YBZJ49x1bY4JSHppAJcCd0XE58vuug4o9cw4naRtolT+7rR3x1Lg8fSU/AbgtZLmpL8qX5uWFSYiVkXEQRGxgGSf3hwR7wBuAd5SJfbSe3pLun2k5aemPWwOBY4gaWgsXET8B/CgpNIq9icAv2UK7P/UA8BSSful/0ul+KfMZ5AR14T3d3rfk5KWpvvj3WXPVRhJrwM+BpwUETsr3lfWfs08JqWfRbXPrjVa2eDRKX8kvSH+naTnwCfaHU9ZXP+N5BTyDmBj+vd6krrIm4B70ssD0+0F/N/0fWwClpQ9198AW9O/97b4fbyKPb2YDiP5EmwFrgb2Scv3TW9vTe8/rOzxn0jf0xaa3OskR+yLgPXpZ7CWpFfMlNn/wGrgbuBO4OskPWY69jMAriRpLxkh+SV9RjP3N7Ak3Re/A75ERQeEguLfStKmUPoOf7nefqXKManaZ9eqP4+kNjOzTN1YxWRmZjk4QZiZWSYnCDMzy+QEYWZmmZwgzMwskxOEWRVpf/ufSTqxrOxtkn5YdvtWSRslPSBpR3p9o8pmRs35WqdIenHzojebPHdzNatB0n8h6X++mGTWzY3A6yLidxXbvYekX/4HJ/g63wCuiYi1k4vYrHl8BmFWQ0TcCVxPMjL2HODyyuRQjaQTJf2bpN+kc/nPTssvlPTbdL2AT0t6JclAqYsmcvZhVpSZ9Tcx63qrgd8Az5KMzK1L0gtIJvo7ISJ2phO3fUjSpSTJ4KiICEn9ETEk6fv4DMI6jBOEWR0R8ZSkNcCfIuKZnA97BckCMb9IFzGbBfyMZDK83cBXJa0jWbPBrCM5QZjls5s961zkIeCHEfGucXdIS0gWgjoVeB/J5HJmHcdtEGbF+AXw3yUdBiBptqQjJO0PPDcivgecTdL4DfAkyTKzZh3DCcKsABHxMMnMnmsk3U6SMF5EsubCurTsZpI1vCGZFfTjbqS2TuJurmZmlslnEGZmlskJwszMMjlBmJlZJicIMzPL5ARhZmaZnCDMzCyTE4SZmWVygjAzs0z/Hx1E++0XinT3AAAAAElFTkSuQmCC\n",
      "text/plain": [
       "<Figure size 432x288 with 1 Axes>"
      ]
     },
     "metadata": {
      "needs_background": "light"
     },
     "output_type": "display_data"
    }
   ],
   "source": [
    "mat.scatter(y_test, predictions)\n",
    "mat.xlabel('Y Test')\n",
    "mat.ylabel('Predicted Y')"
   ]
  },
  {
   "cell_type": "code",
   "execution_count": 403,
   "metadata": {},
   "outputs": [
    {
     "name": "stdout",
     "output_type": "stream",
     "text": [
      "MAE: 47.17156653006067\n",
      "MSE: 25270.193723183496\n",
      "RMSE: 158.96601436528343\n"
     ]
    }
   ],
   "source": [
    "\n",
    "print('MAE:', metrics.mean_absolute_error(y_test, predictions))\n",
    "print('MSE:', metrics.mean_squared_error(y_test, predictions))\n",
    "print('RMSE:', np.sqrt(metrics.mean_squared_error(y_test, predictions)))"
   ]
  },
  {
   "cell_type": "code",
   "execution_count": 404,
   "metadata": {},
   "outputs": [
    {
     "name": "stderr",
     "output_type": "stream",
     "text": [
      "/Users/academy_intern/anaconda3/lib/python3.7/site-packages/scipy/stats/stats.py:1713: FutureWarning: Using a non-tuple sequence for multidimensional indexing is deprecated; use `arr[tuple(seq)]` instead of `arr[seq]`. In the future this will be interpreted as an array index, `arr[np.array(seq)]`, which will result either in an error or a different result.\n",
      "  return np.add.reduce(sorted[indexer] * weights, axis=axis) / sumval\n"
     ]
    },
    {
     "data": {
      "text/plain": [
       "<matplotlib.axes._subplots.AxesSubplot at 0x165dcbb00>"
      ]
     },
     "execution_count": 404,
     "metadata": {},
     "output_type": "execute_result"
    },
    {
     "data": {
      "image/png": "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\n",
      "text/plain": [
       "<Figure size 432x288 with 1 Axes>"
      ]
     },
     "metadata": {
      "needs_background": "light"
     },
     "output_type": "display_data"
    }
   ],
   "source": [
    "sns.distplot((y_test-predictions),bins=50)"
   ]
  },
  {
   "cell_type": "code",
   "execution_count": 145,
   "metadata": {},
   "outputs": [],
   "source": [
    "sns.distplot()"
   ]
  },
  {
   "cell_type": "code",
   "execution_count": 227,
   "metadata": {},
   "outputs": [],
   "source": [
    "X = line_3[['TOT_REV']]"
   ]
  },
  {
   "cell_type": "code",
   "execution_count": 228,
   "metadata": {},
   "outputs": [],
   "source": [
    "Y = line_3['LOYALTY_POINTS_BALANCE']"
   ]
  },
  {
   "cell_type": "code",
   "execution_count": 233,
   "metadata": {},
   "outputs": [],
   "source": [
    "x_train, x_test, y_train, y_test = train_test_split(x, y, test_size=0.1)"
   ]
  },
  {
   "cell_type": "code",
   "execution_count": 234,
   "metadata": {},
   "outputs": [
    {
     "data": {
      "text/plain": [
       "LinearRegression(copy_X=True, fit_intercept=True, n_jobs=1, normalize=False)"
      ]
     },
     "execution_count": 234,
     "metadata": {},
     "output_type": "execute_result"
    }
   ],
   "source": [
    "model.fit(x_train,y_train)"
   ]
  },
  {
   "cell_type": "code",
   "execution_count": 235,
   "metadata": {},
   "outputs": [
    {
     "data": {
      "text/html": [
       "<div>\n",
       "<style scoped>\n",
       "    .dataframe tbody tr th:only-of-type {\n",
       "        vertical-align: middle;\n",
       "    }\n",
       "\n",
       "    .dataframe tbody tr th {\n",
       "        vertical-align: top;\n",
       "    }\n",
       "\n",
       "    .dataframe thead th {\n",
       "        text-align: right;\n",
       "    }\n",
       "</style>\n",
       "<table border=\"1\" class=\"dataframe\">\n",
       "  <thead>\n",
       "    <tr style=\"text-align: right;\">\n",
       "      <th></th>\n",
       "      <th>Coefficient</th>\n",
       "    </tr>\n",
       "  </thead>\n",
       "  <tbody>\n",
       "    <tr>\n",
       "      <th>TOT_REV</th>\n",
       "      <td>0.001174</td>\n",
       "    </tr>\n",
       "    <tr>\n",
       "      <th>DATA_KB</th>\n",
       "      <td>0.000001</td>\n",
       "    </tr>\n",
       "    <tr>\n",
       "      <th>Duration</th>\n",
       "      <td>4.799639</td>\n",
       "    </tr>\n",
       "  </tbody>\n",
       "</table>\n",
       "</div>"
      ],
      "text/plain": [
       "          Coefficient\n",
       "TOT_REV      0.001174\n",
       "DATA_KB      0.000001\n",
       "Duration     4.799639"
      ]
     },
     "execution_count": 235,
     "metadata": {},
     "output_type": "execute_result"
    }
   ],
   "source": [
    "coeff_line_3 = pd.DataFrame(model.coef_,x.columns,columns=['Coefficient'])\n",
    "coeff_line_3"
   ]
  },
  {
   "cell_type": "code",
   "execution_count": 236,
   "metadata": {},
   "outputs": [],
   "source": [
    "predictions = model.predict(x_test)"
   ]
  },
  {
   "cell_type": "code",
   "execution_count": 237,
   "metadata": {},
   "outputs": [
    {
     "data": {
      "text/plain": [
       "<matplotlib.collections.PathCollection at 0x1501cbda0>"
      ]
     },
     "execution_count": 237,
     "metadata": {},
     "output_type": "execute_result"
    },
    {
     "data": {
      "image/png": "iVBORw0KGgoAAAANSUhEUgAAAXoAAAD8CAYAAAB5Pm/hAAAABHNCSVQICAgIfAhkiAAAAAlwSFlzAAALEgAACxIB0t1+/AAAADl0RVh0U29mdHdhcmUAbWF0cGxvdGxpYiB2ZXJzaW9uIDIuMi4zLCBodHRwOi8vbWF0cGxvdGxpYi5vcmcvIxREBQAAIABJREFUeJztnX+UW+V55z/PyLLRuCkzBsMxA8YOhzWNS8BkDj/We3rAaXECCfEmIcChXU5K4z273W6cZl3GTbaYLGmc9aah3d02cdu06YGA+emY0AZYfmx7vLXpOLYxLrhADMZjiqfYQwsjQJ559g9dyXeke6Ur6V7pvtLzOcdH0qure5+R5EfP+7zP831FVTEMwzC6l75OG2AYhmEkizl6wzCMLsccvWEYRpdjjt4wDKPLMUdvGIbR5ZijNwzD6HLM0RuGYXQ55ugNwzC6HHP0hmEYXc6sThsAcOqpp+qiRYs6bYZhGIZT7Ny5859UdX6941Lh6BctWsTo6GinzTAMw3AKEXk1ynGWujEMw+hyzNEbhmF0OeboDcMwuhxz9IZhGF2OOXrDMIwup66jF5HvicgREXnON7ZRRF4QkWdF5CERGfA9t05EXhKR/SKyMinDS2zZNcbyDU+yeOQRlm94ki27xpK+pGEYhlNEiej/HPhYxdjjwM+r6oeBfwDWAYjIh4DrgaXea/5QRDKxWVvBjX/8t6zZvJuxiTwKjE3kWffgXnP2hmEYPuo6elX9a+Boxdhjqnrce7gdONO7/yngHlV9T1UPAC8BF8dob5mvbtnLtpePVo3nC1NsfHR/Epc0DMNwkjhy9L8K/JV3fwh4zffcIW8sdu7e8Vroc4cn8klc0jAMw0lacvQi8hXgOHBXaSjgsMDdx0VktYiMisjo+Ph4w9eeqrWpuWDpG8MwDI+mHb2I3AR8ArhRtex1DwFn+Q47Ezgc9HpV3aSqw6o6PH9+XamGhlCFNZt389Ute2M5ny34GobhMk05ehH5GHALcI2qTvqe2gpcLyJzRGQxcC7wTOtmNsdd2w+27JS37Bpj3YN7bcHXMAxniVJeeTfwt8ASETkkIjcD/wv4APC4iOwWke8AqOo+4F7g74EfA7+uqlNJGD40kKt7jELLC7MbH91PvjDzT7AFX8MwXKKueqWq3hAw/Kc1jv868PVWjIrC2pVLWLN5d93jxlpcmA1b2LUFX8MwXMHZztjRV6tLK4MQWluYPSNk5hA2bhiGkTacdfQ/2HEw0nFKcWG2chE16gLr2pVLyGVn9nzlshnWrlzStO2GYRjtJBUbjzTDdI3qyiBKi6gl1j24t5x79z+3atnMsv/S442P7ufwRJ4zBnKsXbmk6jjDMIy04qyjbwb/ImrYAmuQA1+1bMgcu2EYztJTjh5qL6LaAqthGN2Iszn6ZjljIGcLrIZh9BQ95eiF4uKqLbAahtFL9FTqRpm52NrKAuuWXWO2QGsYhhP0lKPPiLB45JGyY942sqKp85RkEaJU7RiGYXQaZ1M3c2Y1bvqUaix6NSaLYBiGSzjr6BfOq79wKt6/jFSrJ9dyzPWaqUwWwTAMl3A2dfPikXfqHqNALttHvjAd+HyQY46SljljIBeooWNVO81jax6GkRzORvRRCXPyACfnslVjUdIySVTt9LLmvUlBG0aydL2jr8VEvlDlVKOkZVYtG+Ibnz6foYEcQlEy+RufPr/pCLTXHZ2teRhGsjibuomLytRM1LRMnLIItRxdL6QvbM3DMJLFSUcfd6SbL0zx5Xv3AMW0jD9HD+Fpmbjyyr3u6GzNwzCSxcnUTRJT+ilV1j24l9FXj3JS9sTbMpDLBqZlgtItazbv5sLbHmv4h6jXJRmsU9kwkiXKVoLfE5EjIvKcb+xaEdknItMiMlxx/DoReUlE9ovIyiSMTirSzRemuGv7QY5NFspj77x/nPVb91UtkgalW6CY9280v97rji7uNQ/DMGYSJXXz5xT3iP0L39hzwKeB7/oPFJEPAdcDS4EzgP8jIv8q7n1jw6b6cVApc1+YUibyRcfvz+fX+rFpNL9umvcmBW0YSRJlz9i/FpFFFWPPA0h1I9KngHtU9T3ggIi8BFxMcXPx2Ii6X2wSlJx4vR+bRmcd5ugMw0iKuHP0Q8BrvseHvLEqRGS1iIyKyOj4+HhDF0nKIVb3zwZzeCIfmG7x0yv5dcMw0k/cjj7IVwZu+qeqm1R1WFWH58+fH7MZzXHjpQtrOu8SZwzkynnlwf7qpqteyq8bhpF+4i6vPASc5Xt8JnA45mskwtBAjttXnc/w2fPKufKB/ixvv3ucgm+DWr8TL6VbgsosAZZveLJnc+6GYaSHuB39VuAHIvJ7FBdjzwWeifkasZPtkyrnXSJKrXzQa0zG2DCMtFDX0YvI3cDlwKkicgi4FTgK/E9gPvCIiOxW1ZWquk9E7gX+HjgO/HrcFTeJ4CWcwpx6o845rNP1tof31T2XiXsZhhE3Uapubgh56qGQ478OfL0Vo9pNYUq57eF9vFuYjiUKD6u4OTZZYMuusdDzdftMwH7EDKMzONkZm4TY17HJQlPCWkGqk7Uqbmqdr5vFvXpduM0wOomTjn791n1tu1atevgw53XFeeFVRLXO182aN938I2YYacdJUbNSp2o7qBedBzmvu3e8FvKK2udrRtzLlXRIN/+IGUbacdLRt4tSKeVXt+zl7h2vMaUnyiyHanTG+o8LOl8YjShngls5fVOoNIzO4WTqpi9qC2uD9Gf7qoS1Rl89yp3bD1Y577GJfOROWogm1NWouJdL6ZBeF24zjE7iZEQ/HRwwt8zsWRm2jayYMVbSqQ9CKVZm1jNHoOq8YTRSzulSOsSE2wyjczjp6GulTVrhrXyhKucdloYpoZ49hyfy9IkEHp9UesK1dIgJtxlGZ3AydZPUdP/kXLaqiqYeQwM5to2s4MCGq/nW5y5oa3rC0iGGYUTBSUefRFSYy2YQIXAzkVqv8TvVdm+gYRt2GIYRBSdTN3FRyq8PefniL9XQuM9UpGWGIureJI2lQwzDqIeTEX1clNz22ESeL9+7h1w2+O0YGsjx8jeu4o7rLixHz4ZhGK7Q0xG9nylVJgtKn8ys6imlZ1yqWTeMbsOVxsC00tMRfRDTyozNRObMKr5FYTXr7ZRjMIxexHSSWsccfQDHJk9ILEzkC+UvWRATXkmmYRjJ4FJjYFpxMnXTbseaL0xVLcb6Wb+1ts58UtNOm84avYBLjYFpxUlHf9vD7U+X1GqcmsgXuPGP/5ZX3sxXOd2kcvu2ZmD0Cq41BqaRuqkbEfmeiBwRked8Y/NE5HERedG7HfTGRUT+QEReEpFnReSiJIz2p1bSwraXjwbmEJOadtp01ugVrDGwdaLk6P8c+FjF2AjwhKqeCzzhPQb4OMV9Ys8FVgN/FI+Z7lFyuklNO8PWDFyZzgZt2GIYQVhjYOtE2Urwr0VkUcXwpyjuIwvwfeBp4BZv/C9UVYHtIjIgIgtU9fW4DE6SKAJljVBK48Q97dyyayzUVhems5Z2MhrFGgNbo9mqm9NLztu7Pc0bHwL8u24c8sZiJe6GpVw2wx3XXci3fQ1RGQm+ymB/NvL1S7n6uKedGx/dH+jkheR0gOLE0k6G0V7iLq8M8oGBQbKIrBaRUREZHR8fb+giN166sBnbQjnJ64hdtWyorkDZrZ9cyo2XLqzr7EvOPIlpZ1h6RnEjIrYqCsNoL81W3bxRSsmIyALgiDd+CDjLd9yZwOGgE6jqJmATwPDwcEMZk9tXnc+d2w82bnUIxyYLVamDVcuGGH31aHlnqYwIn/nIUHkKOXz2vBmljVecN5+nXhgPLHWMe9oZlg4aciBtA1ZFYRjtpllHvxW4Cdjg3f7QN/6fROQe4BLgLVfy8/7Uwfqt+6r2pZ1S5YGdYwyfPa/suDsVPTe65WDacN1+w3CNuo5eRO6muPB6qogcAm6l6ODvFZGbgYPAtd7hfwlcBbwETAKfT8DmxBibyLP2vj0UQrawKv0YhDn4qA1MrTY6ub5bk+v2V2KNa/Wx96iziNbZQakdDA8P6+joaEOvWTTySELW1EaAAxuurhr/6pa93LX9YNWCxGB/lls/ubT8pa6sOAk7znCDoM8zl81Y+Z8Pe4+SQ0R2qupwveOc7IztJCfnsiz72mMzmrbmzs7wzvvBG5ZU5v+DKk6CjouKRUqdpVYFkX0ORew96jzm6BvkX947zlRFaifMyZfwf6lrbU8Y9ctfcu5jE/kZ9fRWj95+rIKoPvYedR5Tr2yQSicfldKXOqw+v/K4MPySrVBdu5p0Pbp1tM4krFLIKohOYO9R53HS0bvoXEpf6lriaP7jwghL/fhJKlIyXfBqTIelPvYedR4nHb1rHZT+jtVate5RvvxRnHhSkZJ1tFZjOiz1sfeo8ziZo29Hbq+W/nzg8X3C7IyQL0zPGBeKnbylL3VQDTlEr7oJazYqkWSkZLnWYEyHpT72HnUWJyP6pHN7uWyGGy45q2q6GcZgf5ZvXXsBz/+3j5c3EIfij4UCT70wXk5vBEU3d1x3Ibt+58pI/xGCpsGlrH/SkZLlWg3DTZyM6NeuXMKazbsTObc/svbLHAz0Z3n73eMzmqmCaoFL92upM7YS3XSy2cg6Wg3DTaxhysdALsvuW68EguvTIZqDXb7hyVAtmm0jK2K3u51Y3b5hpIeubphKqsqjpG9T2eVakkb4mZNmMTFZqOvgujmXbblWw3APJyP6sIg5Dgb7s5G3KhzIZVl/zdLy3rClSLcvZCE3iYi+XoRtEbhhdC9dHdEn5eShsf1oJ/JF2YLRV4/ywM6xcu46yMk3k8uO4sRrrQXYTk6GYYCjjl4EUjARAYp15CXN+koyIkyrNhVJR3HS9TRETGMkmEZnOTYrMlzHSUefFidfIqzeflo1UOkyClGcdL21gG5eK2iWRmc5NisyugEn6+jTRph+TSv15VGcdL269oH+bM3ne1G3ptHuXusGNroBJyP6tDGlOkNFEoo5+UWn5Dhn3V+WtyK84ZKzuH3V+ZHOGWW7vVp17Vt2jfH2u8erXp/NSPn5OCPVNKY3gmxqdJZjs6L2kMbvTzdhEX1MKDM7VC9aeDLbXj5aTutMqXLn9oN8dcveSOeLIgRVS0Nk46P7A3fKmjt7Vt38faOkUewszKaTc7VnOa2OG42Txu9Pt9GSoxeRL4rIcyKyT0TWeGPzRORxEXnRux2Mx9T0o5woodz+02OBx9y947VI54oqBLVq2RDbRlZwYMPVbBtZUTd//5bXKxBnpJrG9EaYTSI0pKRoyovJk8bvT7fRdOpGRH4e+AJwMfA+8GMRecQbe0JVN4jICDAC3BKHsS5QcpRhC7SNCKW10pxUL/UTJTUUlTSmN8KuPTFZ4NvXXRg5TdBt+9umkTR+f7qNVnL0PwdsV9VJABH5v8C/BT5FcTNxgO8DTxOzo19+zjy2vXw0zlM2TJi6ZclRhj1fb+ORuKinSxOnbk2cPxpxUcumRn9ArRs4WdL4/ek2WkndPAf8goicIiL9wFXAWcDpqvo6gHd7WutmzuSuL1wW9ykjs/ycebyy4Wq+9bkLak7pb7jkrMDXh43HTb3UT5wa4WlMb6TRJiMY+6ySp+mIXlWfF5FvAo8DbwN7gOoyjxBEZDWwGmDhwoXNmhErc2b1kctmypo3QbzyZjHyqDelL1XXlJqpGq26iYN6kWhckWoa0xtptMkIxj6r5IlN60ZEfhc4BHwRuFxVXxeRBcDTqlrzpzkt6pV+2eHFI49U7ccKxcqaRpqgrGzMMIykiKp102rVzWne7ULg08DdwFbgJu+Qm4AftnKNduJf6W+krC6s8cjKxgzDSAMtRfQi8jfAKUAB+E1VfUJETgHuBRYCB4FrVbXmymmjEf2WXWOJbTwC4QqWQRuNVDYe+Y/b+Oj+wEWmVjRw4sRmG4bhNlEjeidlipd97bGGVCbjYCCX5RMXLOCpF8bLjnHRKbnQ6p+hgRyHvUi+FkE/HnETtolK2A+UOXvDcIOudvRJ5OfrMZDL8t7x6arGjlo0om0/lFBEHTbjOCnbF2hbN+yCZRi9Qlfr0XeCWpU4YRybLJDpE6YCpAgqaUZrJkrqJazrMOwHq51NKpY6Moz2YFo3CTM1rQz2ZxHqN0s10vYddaG3UcfdriYVW6g2jPZhjr4N9M+exYGQJqtKojrmqPogYY57IJftaJOK6ZsYRvswR98GSs7b340aRtSIOqo+SFjX4fprlsbWGdsMpm9iGO3DcvQ1CNOraRS/8y51o4YtkkaNqKPqg9TrOuxUTtz0TQyjfZijDyHbJ1x38Vlsfua1QF33SnLZDBctPJn/9/LRqg1Igpx3q23fjYiSpVGUK05RNcMwauOkox8KiQZjRWD47HkMnz2P9Vv31ay68ZdGNlJJ0ooDdl0fxHX7DcMlnKyjT7oztsRgf5arP7ygLEwWxi9furCtYmWGYRjQJq2bTtGuqO/YZIE7tx+sm6e/c/vByGWBvbght2EYncXJ1E0aKTU7QXg6IsqG3NZEZBhG3Djp6KNusN1O8oUpbnt4H+8WpkMdea3a8aBKnGa6ZQ3DMCpxMnVz146DnTYhkGOThUBHvn7rPpZveDJ0AblUO25NRIZhJIGTEX0K1o8bYiJfqFm1U6odb6SJqBtSPN3wNxiGCzjp6LsJf+141CaibkjxdMPfYBiu4GTqJs3Uli2rPvYzHzlRSx91k+RuSPF0w99gGK7gpKMfyGU7bUIoCjP0Ywb7w21V4KkXxsuP/Vo4tfRnukEnphv+BsNwhZZSNyLyJeDXKPqsvcDngQXAPcA84CfAr6jq+y3aOYP11yxtS8NUM1Ru3BGkaeOn0rFF6ZbtBp2YbvgbDMMVmo7oRWQI+M/AsKr+PJABrge+CXxbVc8FjgE3x2Gon7TmcIPSLKUoPUyLvhnHFjXFk2a64W8wDFdoNXUzC8iJyCygH3gdWAHc7z3/fWBVi9dIjEyA752dkdA3Zfk588oSwyXHXbqtJfO7atlQoBZ9s44taoonzXTD32AYrtB06kZVx0TkfwAHgTzwGLATmFDV495hh4DA/7kishpYDbBw4cKGrh1Xw1RfnzA1daJWU4D3pzR0QXXby0cZGshxx3UXNuyQVi0bYvTVo2XdnIzIjIXYRkmjImWjdMPfYBgu0ErqZhD4FLAYOAOYC3w84NDAqndV3aSqw6o6PH/+/IauHVfDVGFqpmlacRvE2ESetfftaVijZsuuMR7YOVbWzZlS5YGdY6Z1YxhG4rSyGPuLwAFVHQcQkQeBfw0MiMgsL6o/Ezjcupkz6XTDVGFaWbN5d3lBeLA/y62fXFozOq0nf2AYhpEUrTj6g8ClItJPMXXzUWAUeAr4LMXKm5uAH7ZqZNo5Nllg7f17gPCFYisn7AzWfWsYreXod4jI/RRLKI8Du4BNwCPAPSJyuzf2p3EYmnYKUzojOq90MCfnsoEyCFZOmBzWfWsYRVqqo1fVW4FbK4Z/ClzcynnrIdTOo3eKUnQe5GCyGaFPwL8rYTYjVk6YIJYuM4wiTmrdpNHJw4noPMjBVC78lsZue3gfYBFmEli6zDCKOOno04g/Om/EkRybLNRNJ1ieuTms+9YwijipdZM2BvuzbPzsBWXn26gjqSXmVUoDjU3kUU7kma0ssz7WfWsYRczRt0Aum+GO6y5k1+9cOSPCDnIw9VQtw2YBpvLYPNZ9axhFnEzd9Gf7mCxMd9SGoRoplNKYP91yxXnzeWDnWKi4WdgswPLMrWHdt4bhqKP/3U9/uGPqlblsJlJUGORghs+ex/qt+6rKLGulEyzPbBhGq1jqJgIl4bLB/ixzZvXxpc27Wb7hydA8+ZZdYyzf8CSLRx6ZcdyqZUPsvvVK7rjuwsjpBMszG4bRKk5G9O3MTwvw8jeuCm2+GX31KE+9MB6aoqls0olSQVN5zGc+MjTjGlZ1YxhGI4h2WjgGGB4e1tHR0cjHLx55pK219EMDOd5573hgZ2sjzVuD/Vnefvc4BV/XVGUqKGijkqjpIsMwegsR2amqw/WOczJ10+789NhEPtDJQ2PNW8cmCzOcPFRX0FiVjWEYceOko7/ivMZkjdOOv4ImqSqbsHUDwzC6Hydz9JufiUePPi0M9GdZvuHJwOqaEq3MYkzcyzB6Gycj+g6X0MdKNiO8/e7xmk4eYPL9401H4ZYOMozexklH7zLZjDCQy5ZLK+fOnlWVtw+ipInTjLO3pivD6G2cTN24iEBgaeTikUcin6NZiV1rujKM3sYcfRsYGsixbWRF4HNhTjiMZqLwtSuXBJZsWtOVYfQGrWwOvkREdvv+/bOIrBGReSLyuIi86N0OxmkwFLVuXKGeQw3qfK1FM1G4iXsZRm/TylaC+4ELAUQkA4wBDwEjwBOqukFERrzHt8Rga5nCVOdXY5efM4+fHHyrapGzP9vHnGyGiclCpC5WvwDa2ESejAhTqgzksrzz/vEZG5a0EoWbuJdh9C5xpW4+Crysqq+KyKeAy73x7wNPE7ejb6Ofz2aEbJ+U1TIHclnWX7M0spxBFMKccOn8pR8Af6WMOW3DMKISl6O/Hrjbu3+6qr4OoKqvi8hpMV2jbWREmFat67yTjpJL57YaeMMwWqFlRy8is4FrgHUNvm41sBpg4cKFrZoRK9OqHNhwdafNANze4NrVLRCbsdvVv9XoDeKI6D8O/ERV3/AevyEiC7xofgFwJOhFqroJ2ARFUbNGLjh3doZ33g/ewCMO4iw7bNYB+NM2QaS9Bt7Vbtxm7Hb1bzV6hzjKV27gRNoGYCtwk3f/JuCHMVxjBkk6+aAFz2Z1Yprd79X/ujDSXgPvajduM3a7+rcavUNLEb2I9AO/BPx73/AG4F4RuRk4CFzbyjUCr0tjqpGNMGfWzN++VqK1MAdw28P7akb5Qa/z40INvKvduM3Y7erfavQOLTl6VZ0ETqkYe5NiFU5iJKlFP5EvsGbzbtZs3s3QQI7J948HOusv37sHqD2dD4vIj00WODZZlD0O+uGo5SCGvM1NNj66ny9t3t2RfHBlOuqK8+ZXbYzSqW7cVnPlzdjtcuexrS30Bu50HnWAsYl82SFXMqUamobZsmuMtfftiXydfGGKNb7tCcMcRGlD8gd2jjWcDoqLoHTUndsPVtlzxXnz274FYrOpMj/NbN3o6naPcbxfhhuYo2+BsDzsxkf3RxIqq8TvJLMZmfFcNiOsXbmk4/ngemmlkj1PvTDe9m7cON6bZrqIXe087vR3yWgfpnXTIkFpllZys/nCFD/a83p1fkprn7td+eCo1zk8kW97N25c700zdrvYedzp75LRPiyib5GgNEut3Oxgf7auts1EvnrLwcK0svHR/aHnblc+OOp1OpGf7vR74xr2fvUOTjr60z8wu9MmAOF52LUrl5Dtk6rxbEa49ZNLy9P8Rjk8ke94PjiKCFun8tOdfm9cw96v3sHJ1M17x5Osu4nOZz4SPF0vja3fuq+8qfhgf5ZbP7m0/FxJKydIPvikbF/gIvAZA7kZImid6NwMun5Q1U0n0hjNvje9ir1fvYOodt5pDg8P6+joaOTjFzWwWUeS5LKZlhfdghwwEPgD0Oy1wn5QXFgwNAwjHBHZqarD9Y5zMqJPC3FoztRaxIsr0nJZL8cwjNYxR98iSVUoxFnFYdUVhtHbmKNvEeVEKqkyD58WXO7cNIxGsW7faszRx8ixyaJ8wuirR7l91fkznkvyy1fv3LZnrNErmJJoMOboE+DO7QfZ/MxB5s7J8la+wEnZPvK+bbFqffm27Brjtx98tryjlQjceMnCqh8O//H1vthWXWH0CrYeFYw5+oQoTFMurcwH7H1Y0re57eF9qMJb+QIn54o/DP46KNXiDwcQOEv48r17mKqonPK3sZtzN3oJW48KxsmGqW7i2GSBCc+5T1Q4eT9373htxuNSJF/p5EuUInsTrDJ6Cev2DcYcvSNUOvR64mKlzcT9mGCVUaLZzXTSjnX7BmOpG0fIyExJhVpT0Vw2E/oj0OtTWKO7FyxtPSoYc/SOcMMlZ814HFYymRHhG58+P3S/2V6fwhrdv2DpopJo0rSUuhGRARG5X0ReEJHnReQyEZknIo+LyIve7WBcxqaZPoH+7Im3sz/bx0AuiwADuSyD/cX7g/3ZQMGz8nkCxjJ9wvDZ82aMhU1Rv/W5C1i1bMimsEYotmDZe7Qa0f8+8GNV/ayIzAb6gd8GnlDVDSIyAowAt7R4nRn0CTSxr0fDiBSrXuo9P9ifRbW4mJoRYUqVwblzQqeM/rr3Ae+1b+ULnOFtXVgpaDblSRT7z1VvimpTWCMMa6DrPZoWNRORnwX2AB9U30lEZD9wuaq+LiILgKdVtWYYmVZRs1qbkJeeG+zP8va7xwN3lGpGOGzxyCOB1xTgwIarI5/HMMIwkbvuIaqoWSupmw8C48CficguEfkTEZkLnK6qrwN4t6eFGLhaREZFZHR8fLwFM5JDwjMsZWd8bLJ6k5ASzVS5WHmYkTSubn1oNE8rqZtZwEXAb6jqDhH5fYppmkio6iZgExQj+hbsSIw40kNBU+RaxC1XYLofRhC2YNlbtOLoDwGHVHWH9/h+io7+DRFZ4EvdHGnVSNdZ9rXHmJgsRHK0cebWu7mMrpPYj6fhGi1tPCIifwP8mqruF5H1wFzvqTd9i7HzVPW3ap0nrTn6JMhmhLmzZ5UXX5PcnWn5hicDZxRDAzm2jayI5Rpxk3YnavltI020a+OR3wDu8ipufgp8nmLe/14RuRk4CFzb4jW6isKUljVwxibyZR2b0uNGI+5ajtG1MjoXZiDdXoNudCct1dGr6m5VHVbVD6vqKlU9pqpvqupHVfVc7/ZoXMb2Ao0s4JYcY5iejWsLu7WcaFpw7cfTMMC0blJJVKdRzzG61jTlghN17cfTMMAcfSqJ6jTqOUbXyuhccKKu/XgaBpjWTeyUOmObpRGnEaXDMa1ldEFrCy7shGUdx4aLOBnR/+ycTP2D2khGhF++dCGvbLiab33uAjI1tGxq0WjE7Wp0Gba2ADgxA1m1bIhtIys4sOFqto2sSJ19hlGJkxH911adz5rNuxO9Rp8UneY77wfL/Z572lwe/83/vYgHAAAM2ElEQVTLq8ZL/+m/8tDeGa+dOzvD5PtTnJzLUpiaLj83kMuy/prmNhR3NbqstbZgjtMw4sdJR9+OKoxphfePT5PNCIWpE6kYAW68NHwPV2hvuiStqZlauLDoahjdhJOOvlFZgWYpTCsDuSxz58xyKmJOO6aeaBjtxckcfTuZyBdYu3IJZwzkODyR57aH93HhbY91dAs217eBc3VtwTBcxcmIvt341wP8WvGd6Nx0oXu0Hq6uLRiGq5ijb5F8YYov37uH0VePBmrW1NNuaVTbpVta8NO0tpB2fR3DaBVz9DEwpVqlWbP2vj3c8sCzvHd8esa4P/puJjp3YSHTJcfZDTMkw6iH5egTojCtM5x8Cb9EQTPaLmnvHq2nv5M2XNDXMYxWMUffAUoVJ81E52lfyHTNcbowQ/Lj+kK80RnM0XeAjLdHYTPRedr1a1xznGmfIflxbbZkpAfL0XeAkhZOs9ouaVrIrMS1GnkX9HVKdMtCvNF+LKJvknpyNrWeH/KcXtqj82ZIe2qpEpc+A9dmS0Z6aCmiF5FXgH8BpoDjqjosIvOAzcAi4BXgc6p6rDUz20t/to/C1DQFby21T+CyD87jlTfzMypJoBhljU3ky6qVQ77nKvVuoNrppTk6bwYXa+Rd+Qxcmy0Z6SGO1M0VqvpPvscjwBO+PWNHgFtiuE6iZPuEjdde0PB/+HobfbtUahgXrjhO13ApzWSki1Y3B38FGPY7ehHZD1yuqq+LyALgaVWt+U1M0+bgQz3ijA036cXAwQgn6ubgrTr6A8AxQIHvquomEZlQ1QHfMcdUdbDWedLk6EssP2ced33hssSvYxiG0SxRHX2rqZvlqnpYRE4DHheRF6K+UERWA6sBFi5c2KIZ8bPt5aP83H/9K94tTMcSOXUqErMI0DCMlhy9qh72bo+IyEPAxcAbIrLAl7o5EvLaTcAmKEb0rdiRFHlvNTZqW3yYU+1Um33U69qPgWF0N007ehGZC/Sp6r94968EvgZsBW4CNni3P4zD0E5TEi+D4EXWK86bzwM7xwKdaqfqn6Ncd8uuMdbet4fCtJbtXnvfib+zHdgPjWEkSysR/enAQ1Ls8pwF/EBVfywifwfcKyI3AweBa1s3Mx1MqbLuwb2Mvnq0yqnftf0gldOSklPtVP1zlOuu37qv7ORLFKaV9Vv3tS21ZKJihpEsTTdMqepPVfUC799SVf26N/6mqn5UVc/1bo/GZ27nyRemuHvHa1WRcljuqRSlBtEnkmj7er32/i27xpjIFwKPCRuPG9e0cQzDRawztgmmGqhUKqUiKrtFS+dJUqukVpdqKZLuNNbtaRjJY46+CUqiZJVUjpacaqnNPuh1SUavtdr7gyJpP4P92URsqsQlUTHDcBVz9A2Sy2a44ZKzAiPlGy9dGKqZsmrZENMhM4Eko9dVy4bYNrKCAxuuZtvIirI9ta6ZzQi3fnJpYjb5cU0bxzBcxNQr6zDYn0UV3soXytU1T70wTr4wVaVvU2/xME1aJWG2ZETY+NnGpSCaxUVtHMNwDXP0AfzypQu5fdX55cel8r/K6ppSrv6d945HOm+atErCbOmEcqNp4xhGspij9zHYn+XqDy/gqRfGWTzySGB9fFDyZSJfiFQS2Gr0Gme9uUXShtE7tKR1Exdp0boZyGV57/j0jChXCC+drGRoIMe2kRWJ2FZZbw6di8ANo1dJW3NfVK0bW4z1MZEvRK6PDyLJRVWrNzeMzuLyVo7m6GNEga9uSaY23erNDaOzxB1stXOjd8vRx8yd2w9yYPztqt2ogqZ3jUwDw6pk+kTK6wmdnkYaRjcTZ7DVbukPc/QJsO3lE6oPYxN51t6/h/Vb95VLNEtVNo180GtXLmHt/XsoTM1MJpUqf+L+ojTyIxR33rKWCmia8qNGbxFneXS7hQ7N0beBwpSWtWNKDvmkbF/jH3SdBYO4viiNRBtxRyZh5wsSkjPxM6OdxFke3e5UrOXoO0C+MMWxyWDRsLAPeuOj+6tUJht5fSM0kouMO28Zdr4gITlbjDbaSS1JkUZpt/SHRfQpI+yDjurA4/iiNBJtxB2ZhL0uTEjOFqONdhJXc1+7myctoo+Z5efMC1SqrGQgl21I4yWKA4/ri9JItBF3ZBL2ujAhORM/M1wkztlBFMzRN0i2T8j0VTudbJ9wx3UXctcXLpvxAQ72Z8lWHJ/LZlh/zdKGPugg8a9snzDYn439i9KI0FjcomRh5wsTkjPxM8NVwgQHk8DJzlhIrjsWoD/bx5TCe8enZ4wP+Spmbnt4XznPPpDLsv6apYlXpbSz6sSqbgwj/UTtjG3Z0YtIBhgFxlT1EyKyGLgHmAf8BPgVVX2/1jmacfSGYRi9TjslEL4IPO97/E3g26p6LnAMuDmGaxiGYRhN0pKjF5EzgauBP/EeC7ACuN875PvAqlauYRiGYbRGqxH9HcBvAaVk9inAhKqWBNoPAZZENQzD6CBNO3oR+QRwRFV3+ocDDg1cBBCR1SIyKiKj4+PjzZphGIZh1KGViH45cI2IvEJx8XUFxQh/QERKjVhnAoeDXqyqm1R1WFWH58+f34IZhmEYRi1iKa8UkcuB/+JV3dwHPKCq94jId4BnVfUP67x+HHi1ycufCvxTk69tJy7Y6YKN4IadLtgIbtjpgo3QGTvPVtW6kXISEgi3APeIyO3ALuBP670giqFhiMholPKiTuOCnS7YCG7Y6YKN4IadLtgI6bYzFkevqk8DT3v3fwpcHMd5DcMwjNYxCQTDMIwupxsc/aZOGxARF+x0wUZww04XbAQ37HTBRkixnanQujEMwzCSoxsiesMwDKMGTjt6EfmYiOwXkZdEZKTN1/6eiBwRked8Y/NE5HERedG7HfTGRUT+wLPzWRG5yPeam7zjXxSRmxKw8ywReUpEnheRfSLyxbTZKiInicgzIrLHs/E2b3yxiOzwrrdZRGZ743O8xy95zy/ynWudN75fRFbGZaPv/BkR2SUiP0qxja+IyF4R2S0io95Yaj5v3/kHROR+EXnB+35eliY7RWSJ9x6W/v2ziKxJk42RUVUn/wEZ4GXgg8BsYA/woTZe/xeAi4DnfGP/HRjx7o8A3/TuXwX8FcXO4UuBHd74POCn3u2gd38wZjsXABd59z8A/APwoTTZ6l3rZ7z7WWCHd+17geu98e8A/8G7/x+B73j3rwc2e/c/5H0P5gCLve9HJub38zeBHwA/8h6n0cZXgFMrxlLzefts+j7wa9792cBAGu30rpMB/hE4O6021rS/nReL+Y2/DHjU93gdsK7NNixipqPfDyzw7i8A9nv3vwvcUHkccAPwXd/4jOMSsvmHwC+l1Vagn6K89SUUm09mVX7ewKPAZd79Wd5xUvkd8B8Xk21nAk9Q7AL/kXfNVNnonfMVqh19qj5v4GeBA3jrhGm103feK4Ftabax1j+XUzdDwGu+x2kQUDtdVV8H8G5P88bDbG3r3+ClD5ZRjJhTZauXEtkNHAEepxjphgnklW3xnn+LoqBe0u9nIyJ+nbIRivpSj4nIThFZ7Y2l6vOmOBMfB/7MS4X9iYjMTaGdJa4H7vbup9XGUFx29JEF1FJAmK1t+xtE5GeAB4A1qvrPtQ4NsSlRW1V1SlUvpBg1Xwz8XI3rtd1GaVzEr5Of+XJVvQj4OPDrIvILNY7tlJ2zKKY+/0hVlwHvUEyDhNGx99Nbd7kGuK/eoSG2dNxXuezoDwFn+R6HCqi1kTdEZAGAd3vEGw+ztS1/g4hkKTr5u1T1wTTbqqoTFLusLyVcIK9si/f8ycDRhG1sVMSvEzYCoKqHvdsjwEMUfzjT9nkfAg6p6g7v8f0UHX/a7ITiD+ZPVPUN73EabayJy47+74BzvaqH2RSnVls7bNNWoLSifhPFfHhp/N95q/KXAm95U75HgStFZNBbub/SG4sNERGKekPPq+rvpdFWEZkvIgPe/RzwixR3LXsK+GyIjSXbPws8qcXk51bgeq/iZTFwLvBMHDaq6jpVPVNVF1H8rj2pqjemyUYAEZkrIh8o3af4OT1Hij5vAFX9R+A1ESnt7v5R4O/TZqfHDZxI25RsSZuNtWnngkACCyRXUawieRn4SpuvfTfwOlCg+It9M8Uc7BPAi97tPO9YAf63Z+deYNh3nl8FXvL+fT4BO/8NxWnis8Bu799VabIV+DBFAbxnKTql3/HGP0jRCb5Ecdo8xxs/yXv8kvf8B33n+opn+37g4wl99pdzouomVTZ69uzx/u0r/b9I0+ftO/+FFPebfhbYQrEiJVV2UiwOeBM42TeWKhuj/LPOWMMwjC7H5dSNYRiGEQFz9IZhGF2OOXrDMIwuxxy9YRhGl2OO3jAMo8sxR28YhtHlmKM3DMPocszRG4ZhdDn/HyBVMYa6FAUmAAAAAElFTkSuQmCC\n",
      "text/plain": [
       "<Figure size 432x288 with 1 Axes>"
      ]
     },
     "metadata": {
      "needs_background": "light"
     },
     "output_type": "display_data"
    }
   ],
   "source": [
    "mat.scatter(y_test, predictions)"
   ]
  },
  {
   "cell_type": "code",
   "execution_count": 238,
   "metadata": {},
   "outputs": [
    {
     "name": "stdout",
     "output_type": "stream",
     "text": [
      "MAE: 46.95298330626178\n",
      "MSE: 21351.66330930093\n",
      "RMSE: 146.12208357842744\n"
     ]
    }
   ],
   "source": [
    "print('MAE:', metrics.mean_absolute_error(y_test, predictions))\n",
    "print('MSE:', metrics.mean_squared_error(y_test, predictions))\n",
    "print('RMSE:', np.sqrt(metrics.mean_squared_error(y_test, predictions)))"
   ]
  },
  {
   "cell_type": "code",
   "execution_count": 239,
   "metadata": {},
   "outputs": [
    {
     "name": "stderr",
     "output_type": "stream",
     "text": [
      "/Users/academy_intern/anaconda3/lib/python3.7/site-packages/scipy/stats/stats.py:1713: FutureWarning: Using a non-tuple sequence for multidimensional indexing is deprecated; use `arr[tuple(seq)]` instead of `arr[seq]`. In the future this will be interpreted as an array index, `arr[np.array(seq)]`, which will result either in an error or a different result.\n",
      "  return np.add.reduce(sorted[indexer] * weights, axis=axis) / sumval\n"
     ]
    },
    {
     "data": {
      "text/plain": [
       "<matplotlib.axes._subplots.AxesSubplot at 0x1523e0630>"
      ]
     },
     "execution_count": 239,
     "metadata": {},
     "output_type": "execute_result"
    },
    {
     "data": {
      "image/png": "iVBORw0KGgoAAAANSUhEUgAAAYQAAAELCAYAAADZW/HeAAAABHNCSVQICAgIfAhkiAAAAAlwSFlzAAALEgAACxIB0t1+/AAAADl0RVh0U29mdHdhcmUAbWF0cGxvdGxpYiB2ZXJzaW9uIDIuMi4zLCBodHRwOi8vbWF0cGxvdGxpYi5vcmcvIxREBQAAIABJREFUeJzt3XuUHOV55/Hvr7tnWpfRBV0QAglLrARG+AKOjoBjb05ibCPsxPLuwnpkYpMEh90NJPZx4iw4WdbGUXaxHdvJMTgmBgdjsCA4dhSOYmyMWZvEFgw2NkggGIvbcJNAF3SbS3c/+0e9M2q1emZa0mjU0L/POXOm6q23qp7qnumn632r3lJEYGZmljvaAZiZWXNwQjAzM8AJwczMEicEMzMDnBDMzCxxQjAzM8AJwczMEicEMzMDnBDMzCwpHO0ADsasWbNiwYIFRzsMM7NXjQceeOCliJjdSN1XVUJYsGABXV1dRzsMM7NXDUlPNVrXTUZmZgY4IZiZWeKEYGZmQIMJQdJySRsldUu6vM7yoqRb0/J1khZULbsilW+UdG5V+XRJt0t6VNIjks4eiwMyM7NDM2pCkJQHrgHOA5YAKyUtqal2MbAtIhYBXwCuTusuATqB04DlwLVpewB/A3w3Il4PvBl45PAPx8zMDlUjZwjLgO6I2BQR/cBqYEVNnRXAjWn6duAcSUrlqyOiLyKeALqBZZKmAr8OXA8QEf0Rsf3wD8fMzA5VIwnhBOCZqvmeVFa3TkSUgB3AzBHWPQnYAnxN0s8lfVXS5EM6AjMzGxONJATVKat97uZwdYYrLwBvAb4cEWcAu4ED+iYAJF0iqUtS15YtWxoI18zMDkUjCaEHmF81Pw94brg6kgrANGDrCOv2AD0RsS6V306WIA4QEddFxNKIWDp7dkM325mZ2SFo5E7l+4HFkhYCz5J1En+gps4a4CLgJ8D5wN0REZLWALdI+jxwPLAYuC8iypKekXRKRGwEzgE2jM0h1XfLuqfrln/gzBOP5G7NzF41Rk0IEVGSdBlwJ5AHboiI9ZKuAroiYg1Z5/BNkrrJzgw607rrJd1G9mFfAi6NiHLa9B8BN0tqBzYBvzfGx2ZmZgehobGMImItsLam7Mqq6V7ggmHWXQWsqlP+ILD0YII1M7Mjx3cqm5kZ4IRgZmaJE4KZmQFOCGZmljghmJkZ4IRgZmaJE4KZmQFOCGZmljghmJkZ4IRgZmaJE4KZmQFOCGZmljghmJkZ4IRgZmaJE4KZmQFOCGZmljghmJkZ4IRgZmaJE4KZmQFOCGZmljghmJkZ4IRgZmaJE4KZmQFOCGZmljghmJkZ4IRgZmZJQwlB0nJJGyV1S7q8zvKipFvT8nWSFlQtuyKVb5R0blX5k5IekvSgpK6xOBgzMzt0hdEqSMoD1wDvBHqA+yWtiYgNVdUuBrZFxCJJncDVwPslLQE6gdOA44G7JJ0cEeW03m9GxEtjeDxmZnaIGjlDWAZ0R8SmiOgHVgMrauqsAG5M07cD50hSKl8dEX0R8QTQnbZnZmZNppGEcALwTNV8TyqrWyciSsAOYOYo6wbwPUkPSLrk4EM3M7OxNGqTEaA6ZdFgnZHWfWtEPCfpWOD7kh6NiB8dsPMsWVwCcOKJJzYQrpmZHYpGzhB6gPlV8/OA54arI6kATAO2jrRuRAz+3gx8m2GakiLiuohYGhFLZ8+e3UC4ZmZ2KBpJCPcDiyUtlNRO1km8pqbOGuCiNH0+cHdERCrvTFchLQQWA/dJmixpCoCkycC7gIcP/3DMzOxQjdpkFBElSZcBdwJ54IaIWC/pKqArItYA1wM3SeomOzPoTOuul3QbsAEoAZdGRFnSHODbWb8zBeCWiPjuETg+MzNrUCN9CETEWmBtTdmVVdO9wAXDrLsKWFVTtgl488EGa2ZmR47vVDYzM8AJwczMEicEMzMDnBDMzCxxQjAzM8AJwczMEicEMzMDnBDMzCxxQjAzM8AJwczMEicEMzMDnBDMzCxxQjAzM8AJwczMEicEMzMDnBDMzCxxQjAzM8AJwczMEicEMzMDnBDMzCxxQjAzM8AJwczMEicEMzMDnBDMzCxxQjAzM8AJwczMkoYSgqTlkjZK6pZ0eZ3lRUm3puXrJC2oWnZFKt8o6dya9fKSfi7pjsM9EDMzOzyjJgRJeeAa4DxgCbBS0pKaahcD2yJiEfAF4Oq07hKgEzgNWA5cm7Y36CPAI4d7EGZmdvgaOUNYBnRHxKaI6AdWAytq6qwAbkzTtwPnSFIqXx0RfRHxBNCdtoekecB7gK8e/mGYmdnhaiQhnAA8UzXfk8rq1omIErADmDnKul8E/gyoHHTUZmY25hpJCKpTFg3WqVsu6beAzRHxwKg7ly6R1CWpa8uWLaNHa2Zmh6SRhNADzK+anwc8N1wdSQVgGrB1hHXfCrxX0pNkTVBvl/SNejuPiOsiYmlELJ09e3YD4ZqZ2aFoJCHcDyyWtFBSO1kn8ZqaOmuAi9L0+cDdERGpvDNdhbQQWAzcFxFXRMS8iFiQtnd3RPzOGByPmZkdosJoFSKiJOky4E4gD9wQEeslXQV0RcQa4HrgJkndZGcGnWnd9ZJuAzYAJeDSiCgfoWMxM7PDMGpCAIiItcDamrIrq6Z7gQuGWXcVsGqEbd8D3NNIHGZmduT4TmUzMwOcEMzMLHFCMDMzwAnBzMwSJwQzMwOcEMzMLHFCMDMzwAnBzMwSJwQzMwOcEMzMLHFCMDMzwAnBzMwSJwQzMwOcEMzMLHFCMDMzwAnBzMwSJwQzMwOcEMzMLHFCMDMzwAnBzMwSJwQzMwOcEMzMLHFCMDMzwAnBzMwSJwQzMwNaNCGUyhVuf+AZduwdONqhmJk1jYYSgqTlkjZK6pZ0eZ3lRUm3puXrJC2oWnZFKt8o6dxUNkHSfZJ+IWm9pE+N1QE1YsuuPn729HY2bdk1nrs1M2tqoyYESXngGuA8YAmwUtKSmmoXA9siYhHwBeDqtO4SoBM4DVgOXJu21we8PSLeDJwOLJd01tgc0ugqlex3X6kyXrs0M2t6jZwhLAO6I2JTRPQDq4EVNXVWADem6duBcyQpla+OiL6IeALoBpZFZvDreVv6icM8loaVU0ZwQjAz26eRhHAC8EzVfE8qq1snIkrADmDmSOtKykt6ENgMfD8i1h3KARyKUmS5p79UHq9dmpk1vUYSguqU1X6bH67OsOtGRDkiTgfmAcskvaHuzqVLJHVJ6tqyZUsD4Y7OTUZmZgdqJCH0APOr5ucBzw1XR1IBmAZsbWTdiNgO3EPWx3CAiLguIpZGxNLZs2c3EO7o3GRkZnagRhLC/cBiSQsltZN1Eq+pqbMGuChNnw/cHRGRyjvTVUgLgcXAfZJmS5oOIGki8A7g0cM/nMaUK9kJjhOCmdk+hdEqRERJ0mXAnUAeuCEi1ku6CuiKiDXA9cBNkrrJzgw607rrJd0GbABKwKURUZY0F7gxXXGUA26LiDuOxAHWU04NXu5DMDPbZ9SEABARa4G1NWVXVk33AhcMs+4qYFVN2S+BMw422LEy1GQ04DMEM7NBLXmn8mCTUX/ZCcHMbFCLJoTst/sQzMz2adGEMNhk5D4EM7NBLZoQfJWRmVmtlk4IpUpQcj+CmRnQqgkh9t1ovbvPzUZmZtCqCaFSlRD6S0cxEjOz5uGE0OeEYGYGTgjsckIwMwNaNSG4D8HM7ACtmRB8hmBmdoAWTQj7pt2HYGaWadGEUKFYyA59j68yMjMDWjYhBJPa8wDsch+CmRnQqgkhoFjII9xkZGY2qDUTQqVCIS+KbTl3KpuZJS2aEIKcRHs+5zMEM7OkRRMC5HOiWMh76Aozs6RFE0KFQi5rMvKNaWZmmdZMCJGajApuMjIzG1Q42gEcDZXUZJTL5d2pbGaWtOQZQqkSqQ8h5z4EM7OkJRNCuVLZlxDch2BmBrRsQsjOENoLvg/BzGxQayaEYOgMob9UYcDPVTYza9GEMNRklI1ntMfNRmZmjSUEScslbZTULenyOsuLkm5Ny9dJWlC17IpUvlHSualsvqQfSnpE0npJHxmrA2pEuRLkpaERT3e5Y9nMbPSEICkPXAOcBywBVkpaUlPtYmBbRCwCvgBcndZdAnQCpwHLgWvT9krAn0TEqcBZwKV1tnnEDF522p4Sgu9FMDNr7AxhGdAdEZsioh9YDayoqbMCuDFN3w6cI0mpfHVE9EXEE0A3sCwino+InwFExE7gEeCEwz+c0UUE5Yj9mozcsWxm1lhCOAF4pmq+hwM/vIfqREQJ2AHMbGTd1Lx0BrCu3s4lXSKpS1LXli1bGgh3ZIPPUx7sVAafIZiZQWMJQXXKosE6I64rqQP4FvDRiHil3s4j4rqIWBoRS2fPnt1AuCOrpAuK8qpuMnKnsplZIwmhB5hfNT8PeG64OpIKwDRg60jrSmojSwY3R8Q/HUrwh6Jc8RmCmVk9jSSE+4HFkhZKaifrJF5TU2cNcFGaPh+4OyIilXemq5AWAouB+1L/wvXAIxHx+bE4kEaV0ilCPieKbVkfgoevMDNrYHC7iChJugy4E8gDN0TEeklXAV0RsYbsw/0mSd1kZwadad31km4DNpBdWXRpRJQlvQ34IPCQpAfTrj4REWvH+gBrpROE/c4Q3KlsZtbgaKfpg3ptTdmVVdO9wAXDrLsKWFVTdi/1+xeOuOomo0JO5HNyk5GZGS14p/JQk5GEJCa3592pbGZGCyaEoauMctkJyuRiwWcIZma0YEKobjKClBDcqWxm1ooJYd9VRpAlhF1uMjIza8GEUHWVEcAUNxmZmQGtmBAGm4w0eIaQZ1evE4KZWQsmhP2bjDqKbb4PwcyMlkwI+3cqdxTzTghmZrRiQqjpQ+iYUGBXX4mI2vH6zMxaS+slhKob0yBrMipXgr6Sn6tsZq2tBRPCgU1GADvdsWxmLa4FE0L2u7rJCDwEtplZCyaELCPkBm9Ma88SgjuWzazVtWBCyJqMCjVnCG4yMrNW13oJofYqo6KbjMzMoBUTwmCTkfZPCG4yMrNW14IJIRCQThCcEMzMkhZMCFlzkbR/H4ITgpm1uhZMCJWh/gOAiW15cnIfgplZ6yWEiKH+AyB7jGax4KuMzKzltV5CqOy75HTQlGLBTUZm1vJaMCHEfk1G4Ocqm5lBSyaEytBdyoMGRzw1M2tlrZcQggPOEDrcZGRm1oIJoRIH9CF0FAt+jKaZtbyGEoKk5ZI2SuqWdHmd5UVJt6bl6yQtqFp2RSrfKOncqvIbJG2W9PBYHEijypXKflcZgc8QzMyggYQgKQ9cA5wHLAFWSlpSU+1iYFtELAK+AFyd1l0CdAKnAcuBa9P2AP4hlY2rSuXAJqPJTghmZg2dISwDuiNiU0T0A6uBFTV1VgA3punbgXOU3Qq8AlgdEX0R8QTQnbZHRPwI2DoGx3BQSnWuMpoyIbvKyI/RNLNW1khCOAF4pmq+J5XVrRMRJWAHMLPBdcdV7Z3KkJ0hVAL2DpSPUlRmZkdfIwlBdcpqv0oPV6eRdUfeuXSJpC5JXVu2bDmYVesqRww9T3nQ0AB37lg2sxbWSELoAeZXzc8DnhuujqQCMI2sOaiRdUcUEddFxNKIWDp79uyDWbWuen0Igwlhp/sRzKyFNZIQ7gcWS1ooqZ2sk3hNTZ01wEVp+nzg7sga5NcAnekqpIXAYuC+sQn90NTrQ/BDcszMGkgIqU/gMuBO4BHgtohYL+kqSe9N1a4HZkrqBj4GXJ7WXQ/cBmwAvgtcGhFlAEnfBH4CnCKpR9LFY3to9Q3XhwBuMjKz1lZopFJErAXW1pRdWTXdC1wwzLqrgFV1ylceVKRjpFLnTuUpfiaCmVnr3alcqozQqeyEYGYtrOUSwkhNRu5DMLNW1nIJod5VRoNNRr7KyMxaWcslhHrPQygWcuRzcqeymbW0lkoIEZHdmFaTECTR4YfkmFmLa6mEUEn3SNcmBMg6lt1kZGatrKUSQjllhNqrjACfIZhZy2voPoTXiqGEUHWGcMu6p4FsYLvuzbuG5j9w5onjH6CZ2VHUWmcIcWBCGFQs5OgrVcY7JDOzptFaCWGEJqNiW56+AScEM2tdrZkQhj1D8PMQzKx1OSEkE9xkZGYtriUTQq5OQmgv5OkrVaj4MZpm1qJaMiEU6p0htGUvRb/PEsysRbVYQsg+7Os1GbUXspfCzUZm1qpaKyGMcKfy7I4iAM9u2zOeIZmZNY3XfEIYKFf44PXr+Omml/f1IdS57PTEmZNoL+R47MVd4x2imVlTeM3fqdyWz7Fpy25mdgxwzKQ2oH4fQiGXY9HsDh57cSfhjmUza0Gv+TMEgFPnTuX5Hb2UU/dAvSYjgMVzOti+d4AtO/vGMTozs+bQEglhydwpvLSzj95041m9y04BTpkzBYDHXtw5brGZmTWL1kgIx08lgOe27wWgUKcPAWD6pHaOnVJ0P4KZtaSWSAinzp0KQM+2LCEM12QEcPKcKTzx8m729HsobDNrLS2REOYfM4liIcfzO7KEMFyTEWQJoVwJvr/hxfEKz8ysKbREQsjlxHFTJzBQHn4so0ELZk6io1jgI6sf5Dc/dw9f+7cnxitMM7Mh/9b9Ei/tGt8LXFoiIQDMnT5haLreZadDy/I5Lnv7Iq5acRrTJ7XxqX/ZQPdm9ymY2fh58qXd/M716/jUv2wY1/22TkKYOnFout6NadWmTmjjQ2cv4O8/tJT2Qo5/+HefJZjZ+LnxJ08SAf/60PO8sKN33PbbUEKQtFzSRkndki6vs7wo6da0fJ2kBVXLrkjlGyWd2+g2x1r1GcJITUbVZnUUed/px/OtB55l+55+AJ54aTfPpquVzMwOV6lc4Q++3sXHbn2QSiXY1VfiH7t6WLZwBuUIbl731LjFMuqdypLywDXAO4Ee4H5JayKi+lzmYmBbRCyS1AlcDbxf0hKgEzgNOB64S9LJaZ3Rtjmm5kydwGAaaCQfDD5bec7UCewdKHP5tx5iztQit3Y9w8S2PKsvOZtTjpvCQLnC7Q/0cPr86UNXMwHs2DPA1IkFNMrZiJm9dpXKFbbs6mPutKyFolIJvvTDbh56dgd/9Z/eyOwpRT5758ahi1gWzelgUlueXX0lPvHuU/nS3d3csu5pLv3NRUxoyx/xeBsZumIZ0B0RmwAkrQZWANUf3iuAT6bp24EvKfskXAGsjog+4AlJ3Wl7NLDNMdWWzzFrSpGtu/sP6kN67rSJnDR7Mv/vsS30lcq8/ripvLy7jwu/+lOu/i9v4m9+8Di/7NlBW1589B0nc86px/LZ727kB49uZtnCGXzi3acyfWIb37z/adY/+wrnvuE43nf68WzfM8Bdj7zIK3tL/MYps3njCdN4eusefrLpZdrzOd66aBZzphZ5euseHn72FY6dWuSNJ0yjWMixdXc/z27fy9xpE5nV0Q7Alp19bN3Tz/xjJjG5WCAi2NlXYqBUYcbkdiRRqQQv7+6nLS+mTWwbeh16B8q053NDV1+VK8Gu3hIdEwpDZ1OVStBfruz3Rzk4xMehJL1KJUa82steW+r9rVQqgbSvLCLoK1X2+1usVIK9A2UmteeH6vWXKvSWykwpZl+4IoJtewYoV4JZHdnfeqlc4cWdfUxsy3PMpOxvfVdfiWe37WVmRzszJ7cTAc9u38sLr/TyuhmTmD2lSF+pwobnX2H7nn5OO34ac6ZO4Pkde1m3aSsAZ540g9kdRe5/chv3PLaZY6dM4NzT5jCxLc+tXc/w/Q0vsmzBDC4883U8tXU3n75jA4+9uIu3v/5YPvbOk/nS3d18d/0L5HNixZfu5YNnL+ArP9rEB848kVf2DvC5OzcyY3I7Z5w4ndPnT+f33rqAux55kTt++Tzn/9q8I/4+abRxeySdDyyPiA+n+Q8CZ0bEZVV1Hk51etL8r4AzyZLETyPiG6n8euBf02ojbrOepUuXRldX10EfJGTf+Fff/zSPvrCTT/72aQe17qPPv8LXf/oUC2dN5oNnvY5Xegf4+x8/we6+EhPb8rznTXN59IWdPPzsDiB7HOcZJ07noWdfYXdfdj9DPifmHzORJ1/eQ3s+R38aR0OCCJjYlmfvwP6P8JxSLLCzb9/9EIWcmFwssGPvwFDZ1AkFypVgd/++dWd1FNnbXxoqay/kmDGpna27+4f2O6k9z7SJbWzb00/vQIV8TkP/OC/v6qMSWcwzJ7dTrgTb9vRTiey5EcdMaqe/VGFnb4lyBFMnFJjUXmDvQJldvSXyOdExoUB7PsfO3gF295cpFnJMmZB9/9ixd4DegcpQDOVKsLuvxEA56JhQYFJ7nv5Shb39ZSLF2l7I0TtQYU9/tv3J7Vmy2t1fYk/afkexQE5iT3+J/lKWvCa254c+VErlYEJ7nmIhR3+pwp70+gxuv69Uobe/TCEvJrblyeVE70CF/lKZtnxuKBnuHSgzUKpQbMszoS1HqRzs6S9RrgQT2wtMaMsNxY+y7bflc/QOlNnbX87iL2bx9w6Uhz4Eh9t+OcVfrgQT2/IUq7YvZbEW8lmsvQNZ/JPasg/QPf0l+koVioUck9qzLwq7+8sMlLPXf0JbnoFyhT19ZSoRTCoWKFa91jmJycU8hVyOPem1bs/nmFwskBPs6iuxd6DMxLY8HcUCpUqws7dEf7lCR7FAR7FA70CZV3oHqARDfys7ewfY2Vcir+zLSXv6otNX2v9vcdvufkqVoC0vZkzO/u627RnY7+96+97sb3iwbPrENl7e3T80mOWk9jwT2/K8vLt/v/+tSuz/fzN1QoHd/eWh9QbLXund/56kwf/VQk6Uqp6xUqoErz9uCo9v3jW0jfkzJnLeG+Zyy7qn2dVXIif4xLtP5ayTZvIHX+/i+R29vGneNP7xv5/NQDlY8aV7+dWW3fxN5+msOP0EIoJzv/gj2vI57vijtx3Sly9JD0TE0kbqNnKGUC+C2iwyXJ3hyuv1XdTNTJIuAS5Js7skbRwmzoZduGpochbwUqPrPQXcU6f80Tplj9Up29TojvZ3UDFCFudYaTDmg47xKHCMY8MxjqD2f+8p4N6asj/4v0BVjE8BE/5o/zrvu/rAbec+cshhva7Rio0khB5gftX8POC5Yer0SCoA04Cto6w72jYBiIjrgOsaiPOgSepqNHMeLY5xbDjGseEYx0azxtjIVUb3A4slLZTUTtZJvKamzhrgojR9PnB3ZG1Ra4DOdBXSQmAxcF+D2zQzs3E06hlCRJQkXQbcCeSBGyJivaSrgK6IWANcD9yUOo23kn3Ak+rdRtZZXAIujYgyQL1tjv3hmZlZoxp6QE5ErAXW1pRdWTXdC1wwzLqrgFV1yg/Y5lFwRJqixphjHBuOcWw4xrHRlDGOepWRmZm1hpYZusLMzEbWkglhvIfNqNn3DZI2p3s3BstmSPq+pMfT72NSuST9bYrzl5LeUrXORan+45Iuqrevw4hxvqQfSnpE0npJH2m2OCVNkHSfpF+kGD+Vyhem4VMeT8OptKfygx5eZQxjzUv6uaQ7mjFGSU9KekjSg5K6UlnTvNdp29Ml3S7p0fR3eXYzxSjplPT6Df68IumjzRRjQyKipX7IOrF/BZwEtAO/AJaM4/5/HXgL8HBV2WeAy9P05cDVafrdZDfyCTgLWJfKZ5DdIjADOCZNHzOGMc4F3pKmp5DdVrGkmeJM++pI023AurTv24DOVP53wP9I038I/F2a7gRuTdNL0t9AEViY/jbyY/yefwy4BbgjzTdVjMCTwKyasqZ5r9P2bwQ+nKbbgenNFmNVrHngBbLr/5syxmFjH68dNcsPcDZwZ9X8FcAV4xzDAvZPCBuBuWl6LrAxTX8FWFlbD1gJfKWqfL96RyDefyYbd6op4wQmAT8juzv+JaBQ+16TXdF2dpoupHqqff+r641RbPOAHwBvB+5I+2y2GJ/kwITQNO81MBV4gtTn2Ywx1sT1LuDfmjnG4X5ascnoBOCZqvmeVHY0zYmI5wHS72NT+XCxjtsxpGaLM8i+gTdVnKkp5kFgM/B9sm/O2yNicKyB6v0NxZKW7wBmHukYgS8CfwZU0vzMJowxgO9JekDZyADQXO/1ScAW4Gup6e2rkiY3WYzVOoFvpulmjbGuVkwIjQzF0SwOdkiQsd251AF8C/hoRLwyUtVh4jmicUZEOSJOJ/sWvgw4dYT9jXuMkn4L2BwRD1QXj7C/o/V+vzUi3gKcB1wq6ddHqHs0YiyQNbN+OSLOAHaTNb8M56j936T+oPcC/zha1WFiOaqfT62YEBoZimO8vShpLkD6vTmVDxfrET8GSW1kyeDmiPinZo0TICK2kw0zdRYwXdnwKbX7G4pFjQ+vcrjeCrxX0pPAarJmoy82WYxExHPp92bg22TJtZne6x6gJyLWpfnbyRJEM8U46DzgZxEx+FD2ZoxxWK2YEJpx2IzqoT8uImuzHyz/ULoi4SxgRzrtvBN4l6Rj0lUL70plY0KSyO4+fyQiPt+McUqaLWl6mp4IvAN4BPgh2fAp9WI8mOFVDltEXBER8yJiAdnf2d0RcWEzxShpsqQpg9Nk79HDNNF7HREvAM9IOiUVnUM2+kHTxFhlJfuaiwZjabYYhzdenRXN9EPWw/8YWZvzn4/zvr8JPA8MkH0buJisnfgHwOPp94xUV2QPEvoV8BCwtGo7vw90p5/fG+MY30Z2mvpL4MH08+5mihN4E/DzFOPDwJWp/CSyD8tustP2YiqfkOa70/KTqrb15yn2jcB5R+h9/w32XWXUNDGmWH6RftYP/j8003udtn060JXe7++QXYHTbDFOAl4GplWVNVWMo/34TmUzMwNas8nIzMzqcEIwMzPACcHMzBInBDMzA5wQzMwscUIwMzPACcEOg6Rdw5RfkoYpflTZENVvS+V/Jenqqnqvk7Sp6gaz2ZIGJP23mu09KWlW1fyHq4YZ7te+oZu/nfY5oarunZLOp460nS1p3Uck/X7Vsv+ctvtIGp74t6uWfUPS+9L0vZLWVS07S9Jdkt5dFeMuZcNWPyjpa5I6JK1O239Y0o8lTRomxoKkctW2Hkg3MlXX+bikPYM3mKWyd0j6zjDbnCOpJOnimvIeSbdWzXdK+mrV/HvS/jek1/nqVP6Xkp7hGxkHAAAEbklEQVTV/sM/T8Fefcbzpgf/vLZ+gF11yn4LeIA0eibZEANPA8cBE4FHgVPTsu8AF1at+4fAj4F7arb5JDWjcVYt6wGmV81/Dvhkmj4f+NcR4v8w8MU0fRzZ6KKzUsyPA69Ly/4D2TDEp6X5bwDvS9P3puN7Z5o/C7irZj/3AqdXzf8v4DNV868H2oaJsUA2GN7g/HuAH9TU+Vl63X6nquwdwHeG2eYfp/q1cfak1/qUNN8JfDVNvzm9JidXxTU4bPdfko13ddT/Jv1zeD8+Q7Cx9j+Bj0fESwAR8TOysewvjYi9ZM8GuFbSecCUiLi5at2VwJ8A8yQd6giP/xv4gKQ3kT3L+9JGVopseIQngROBjwOfjoin0rJfAVcDfzrM6p8F/uIgYpwLPFu170cjYqDBdacC2wZn0nAOeeCTZK9fI1YCHwVOknRczbK/Bj5RZ53/SfaaPJZiLkXElxvcn71KOCHYWDuN7AyhWlcqJyLWkg3Y9nWyMwIge0obcFxE3Ef2AJn3H8rOI2I32YfXvcBNEbGpkfUkLSJ7oMmm0Y6hjh+nbfzHBsO8HvgLSf8u6dNp3yOZkpphHgW+TJboBq0kGzjvh8AbJc0caUPKhjM/JrIRWG8H/mtNlW8CZ6Uxk6q9gQNfk2ofr2ouumuU47Em5YRg40HsP4TvNcD9EbGxqqyTLBFA9gHX6LfdA0TEt4FdwLUNVL9Q0s+Bm8meyLW9TrwMU1ZtFQ2eJaQP45PIvo3PAroknTzCKjsj4vSIeD1Zk9zXq5Z1AqsjokLWBFe3v6TKSmCwn6De61xKcR3so2U/m2I8PSLecZDrWpMojF7F7KBsAH4NuLuq7C2pfFCFfQ+MGbQSmCPpwjR/vKTFEfH4IcZRbx/13BwRH60pWw8sZf+Ya49hPxHxPUmfTuuNKiJ2kg0v/i1JIhs2+bEG1rtX0vGSZpA9eW8h8MNsExTJBv37ygibWAnM1L5n9R4vaWFEPFFV5x/IHupTHc96svd1/ehHZ69WPkOwsfYZ4OrBpgtJpwO/ywjf1lM7+OSIOCEiFkQ2XPT/Ifv2ezR8jqxJ58QU30lkzVB/Pcp6q8g+SEck6W1VV1YVyR7s81QjgUk6jSzRbSP7cP+LqtfseLJ+gbr9L5KWkD2Lufp1/iw1r3NE9AN/C3ykqvgzZK/JorStvKSPNRKzvXr4DMEOxyRJPVXzn4+Iz6cPpH+XFMBOsqtfnh9hOyvJHsxS7VtkTRqfTvO/lDT4jf+2iDhiH0YR0SXpz4G1yh5UMwD8SUQ8PMqq/wJc1cAuFgNfTt/qc2m9fx6h/hRljwod9KH0+/1kD90ZjDvSpaadZMNZn1vz/vyC+q/zjWQJuNrfU9W5HBE/l/SnwG3Knj8RNTF/XNLvVs3/dkRUPwrSXgU8/LWZmQFuMjIzs8RNRvaaJ+nDwGU1xT+KiD8+GvHUI+lY4Ht1Fv1GuvLJ7Ihzk5GZmQFuMjIzs8QJwczMACcEMzNLnBDMzAxwQjAzs+T/A4XGEodlJcMAAAAAAElFTkSuQmCC\n",
      "text/plain": [
       "<Figure size 432x288 with 1 Axes>"
      ]
     },
     "metadata": {
      "needs_background": "light"
     },
     "output_type": "display_data"
    }
   ],
   "source": [
    "sns.distplot((y_test-predictions),bins=50)"
   ]
  },
  {
   "cell_type": "code",
   "execution_count": 405,
   "metadata": {},
   "outputs": [
    {
     "data": {
      "text/plain": [
       "0.00995340519997312"
      ]
     },
     "execution_count": 405,
     "metadata": {},
     "output_type": "execute_result"
    }
   ],
   "source": [
    "metrics.r2_score(y_test, predictions)"
   ]
  },
  {
   "cell_type": "code",
   "execution_count": null,
   "metadata": {},
   "outputs": [],
   "source": []
  },
  {
   "cell_type": "code",
   "execution_count": null,
   "metadata": {},
   "outputs": [],
   "source": []
  },
  {
   "cell_type": "code",
   "execution_count": 147,
   "metadata": {},
   "outputs": [],
   "source": [
    "cons_5 = cons_4.loc[cons_4['LOYALTY_POINTS_BALANCE'] < 1000]"
   ]
  },
  {
   "cell_type": "code",
   "execution_count": 148,
   "metadata": {},
   "outputs": [],
   "source": [
    "cons_6 = cons_5.loc[cons_5['TOT_REV'] < 1000]"
   ]
  },
  {
   "cell_type": "code",
   "execution_count": 153,
   "metadata": {},
   "outputs": [],
   "source": [
    "con = line.loc[line['LOYALTY_POINTS_BALANCE'] < 20000]"
   ]
  },
  {
   "cell_type": "code",
   "execution_count": 157,
   "metadata": {},
   "outputs": [],
   "source": [
    "dataa = clean_data.loc[clean_data['LOYALTY_POINTS_REDEEMED'] > 0]"
   ]
  },
  {
   "cell_type": "code",
   "execution_count": 267,
   "metadata": {},
   "outputs": [],
   "source": [
    "males = dataa.loc[dataa['CONS_TYPE'] == 'VH']"
   ]
  },
  {
   "cell_type": "code",
   "execution_count": 268,
   "metadata": {},
   "outputs": [
    {
     "data": {
      "text/plain": [
       "nan"
      ]
     },
     "execution_count": 268,
     "metadata": {},
     "output_type": "execute_result"
    }
   ],
   "source": [
    "males['LOYALTY_POINTS_REDEEMED'].mean()"
   ]
  },
  {
   "cell_type": "code",
   "execution_count": 265,
   "metadata": {},
   "outputs": [
    {
     "data": {
      "text/plain": [
       "3237.44506"
      ]
     },
     "execution_count": 265,
     "metadata": {},
     "output_type": "execute_result"
    }
   ],
   "source": [
    "males['LOYALTY_POINTS_BALANCE'].mean()"
   ]
  },
  {
   "cell_type": "code",
   "execution_count": 266,
   "metadata": {},
   "outputs": [
    {
     "data": {
      "text/plain": [
       "5"
      ]
     },
     "execution_count": 266,
     "metadata": {},
     "output_type": "execute_result"
    }
   ],
   "source": [
    "males['TARIFF_TYPE'].count()"
   ]
  }
 ],
 "metadata": {
  "kernelspec": {
   "display_name": "Python 3",
   "language": "python",
   "name": "python3"
  },
  "language_info": {
   "codemirror_mode": {
    "name": "ipython",
    "version": 3
   },
   "file_extension": ".py",
   "mimetype": "text/x-python",
   "name": "python",
   "nbconvert_exporter": "python",
   "pygments_lexer": "ipython3",
   "version": "3.7.0"
  }
 },
 "nbformat": 4,
 "nbformat_minor": 2
}
