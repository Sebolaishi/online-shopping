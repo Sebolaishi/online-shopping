{
 "cells": [
  {
   "cell_type": "code",
   "execution_count": 1,
   "metadata": {},
   "outputs": [],
   "source": [
    "import numpy as np\n",
    "import pandas as pd\n",
    "import seaborn as sns\n",
    "import matplotlib.pyplot as mat"
   ]
  },
  {
   "cell_type": "code",
   "execution_count": 6,
   "metadata": {},
   "outputs": [],
   "source": [
    "new_data = pd.read_csv(\"watson_20180712.dsv\")"
   ]
  },
  {
   "cell_type": "code",
   "execution_count": 7,
   "metadata": {},
   "outputs": [],
   "source": [
    "data = new_data[['A_MSISDN','PROCESSED_DATE_TIME','DEBIT_CREDIT','REASON_FOR_DEBIT_CREDIT','OPEN_BAL','AMOUNT','CLOSE_BAL','SMS_DISCOUNT_FACTOR','UNIT_OF_MEASURE']]"
   ]
  },
  {
   "cell_type": "code",
   "execution_count": 8,
   "metadata": {},
   "outputs": [],
   "source": [
    "new = data.loc[data['DEBIT_CREDIT'] == 'C']"
   ]
  },
  {
   "cell_type": "code",
   "execution_count": 214,
   "metadata": {},
   "outputs": [],
   "source": [
    "prep = new.loc[new['UNIT_OF_MEASURE'] == 'Points']"
   ]
  },
  {
   "cell_type": "code",
   "execution_count": 215,
   "metadata": {},
   "outputs": [
    {
     "name": "stderr",
     "output_type": "stream",
     "text": [
      "/Users/academy_intern/anaconda3/lib/python3.7/site-packages/ipykernel_launcher.py:1: SettingWithCopyWarning: \n",
      "A value is trying to be set on a copy of a slice from a DataFrame.\n",
      "Try using .loc[row_indexer,col_indexer] = value instead\n",
      "\n",
      "See the caveats in the documentation: http://pandas.pydata.org/pandas-docs/stable/indexing.html#indexing-view-versus-copy\n",
      "  \"\"\"Entry point for launching an IPython kernel.\n"
     ]
    }
   ],
   "source": [
    "prep['PROCESSED_DATE_TIME'] = pd.to_datetime(prep['PROCESSED_DATE_TIME'])"
   ]
  },
  {
   "cell_type": "code",
   "execution_count": 17,
   "metadata": {},
   "outputs": [],
   "source": [
    "def group(value):\n",
    "    if ((value > pd.to_datetime('2018-07-12 00:00:00', format='%Y-%m-%d %H:%M:%S.%f')) \n",
    "            and (value < pd.to_datetime('2018-07-12 04:00:00', format='%Y-%m-%d %H:%M:%S.%f'))):\n",
    "        return '00:00:00-03:59:59'\n",
    "    elif ((value > pd.to_datetime('2018-07-12 03:59:59', format='%Y-%m-%d %H:%M:%S.%f')) \n",
    "             and (value < pd.to_datetime('2018-07-12 11:00:00', format='%Y-%m-%d %H:%M:%S.%f'))):\n",
    "        return '04:00:00-10:59:59'\n",
    "    elif ((value > pd.to_datetime('2018-07-12 10:59:59', format='%Y-%m-%d %H:%M:%S.%f')) \n",
    "            and (value < pd.to_datetime('2018-07-12 15:00:00', format='%Y-%m-%d %H:%M:%S.%f'))):\n",
    "        return '11:00:00-14:59:59'\n",
    "    elif ((value > pd.to_datetime('2018-07-12 14:59:59', format='%Y-%m-%d %H:%M:%S.%f')) \n",
    "             and (value < pd.to_datetime('2018-07-12 18:00:00', format='%Y-%m-%d %H:%M:%S.%f'))):\n",
    "        return '15:00:00-17:59:59'\n",
    "    else:\n",
    "        return '18:00:00-23:59:59'"
   ]
  },
  {
   "cell_type": "code",
   "execution_count": 18,
   "metadata": {},
   "outputs": [
    {
     "name": "stderr",
     "output_type": "stream",
     "text": [
      "/Users/academy_intern/anaconda3/lib/python3.7/site-packages/ipykernel_launcher.py:1: SettingWithCopyWarning: \n",
      "A value is trying to be set on a copy of a slice from a DataFrame.\n",
      "Try using .loc[row_indexer,col_indexer] = value instead\n",
      "\n",
      "See the caveats in the documentation: http://pandas.pydata.org/pandas-docs/stable/indexing.html#indexing-view-versus-copy\n",
      "  \"\"\"Entry point for launching an IPython kernel.\n"
     ]
    }
   ],
   "source": [
    "prep['Times'] = prep['PROCESSED_DATE_TIME'].apply(group)"
   ]
  },
  {
   "cell_type": "code",
   "execution_count": null,
   "metadata": {},
   "outputs": [],
   "source": [
    "sns.set_style('whitegrid')\n",
    "sns.countplot(x='Times',data=prep,palette='RdBu_r')"
   ]
  },
  {
   "cell_type": "code",
   "execution_count": 20,
   "metadata": {},
   "outputs": [
    {
     "data": {
      "image/png": "[encoded data removed]",
      "text/plain": [
       "<Figure size 432x288 with 1 Axes>"
      ]
     },
     "metadata": {},
     "output_type": "display_data"
    }
   ],
   "source": [
    "explode = (0.1, 0.1, 0.1, 0.1, 0.8)\n",
    "\n",
    "prep['Times'].value_counts().plot.pie(autopct='%1.1f%%',explode=explode, shadow=True, startangle=90)\n",
    "\n",
    "mat.gca().set_aspect('equal')"
   ]
  },
  {
   "cell_type": "code",
   "execution_count": null,
   "metadata": {},
   "outputs": [],
   "source": []
  },
  {
   "cell_type": "code",
   "execution_count": 217,
   "metadata": {},
   "outputs": [],
   "source": [
    "def times(value):\n",
    "    if ((value > pd.to_datetime('2018-07-12 00:00:00', format='%Y-%m-%d %H:%M:%S.%f')) \n",
    "            and (value < pd.to_datetime('2018-07-12 04:00:00', format='%Y-%m-%d %H:%M:%S.%f'))):\n",
    "        return 'nighttime'\n",
    "    elif ((value > pd.to_datetime('2018-07-12 03:59:59', format='%Y-%m-%d %H:%M:%S.%f')) \n",
    "             and (value < pd.to_datetime('2018-07-12 11:00:00', format='%Y-%m-%d %H:%M:%S.%f'))):\n",
    "        return 'morning'\n",
    "    elif ((value > pd.to_datetime('2018-07-12 10:59:59', format='%Y-%m-%d %H:%M:%S.%f')) \n",
    "            and (value < pd.to_datetime('2018-07-12 15:00:00', format='%Y-%m-%d %H:%M:%S.%f'))):\n",
    "        return 'midday'\n",
    "    elif ((value > pd.to_datetime('2018-07-12 14:59:59', format='%Y-%m-%d %H:%M:%S.%f')) \n",
    "             and (value < pd.to_datetime('2018-07-12 18:00:00', format='%Y-%m-%d %H:%M:%S.%f'))):\n",
    "        return 'afternoon'\n",
    "    else:\n",
    "        return 'evennig'"
   ]
  },
  {
   "cell_type": "code",
   "execution_count": 218,
   "metadata": {},
   "outputs": [
    {
     "name": "stderr",
     "output_type": "stream",
     "text": [
      "/Users/academy_intern/anaconda3/lib/python3.7/site-packages/ipykernel_launcher.py:1: SettingWithCopyWarning: \n",
      "A value is trying to be set on a copy of a slice from a DataFrame.\n",
      "Try using .loc[row_indexer,col_indexer] = value instead\n",
      "\n",
      "See the caveats in the documentation: http://pandas.pydata.org/pandas-docs/stable/indexing.html#indexing-view-versus-copy\n",
      "  \"\"\"Entry point for launching an IPython kernel.\n"
     ]
    }
   ],
   "source": [
    "prep['GROUPS'] = prep['PROCESSED_DATE_TIME'].apply(times)"
   ]
  },
  {
   "cell_type": "code",
   "execution_count": 219,
   "metadata": {},
   "outputs": [
    {
     "data": {
      "text/plain": [
       "<matplotlib.axes._subplots.AxesSubplot at 0x1a1945ef28>"
      ]
     },
     "execution_count": 219,
     "metadata": {},
     "output_type": "execute_result"
    },
    {
     "data": {
      "image/png": "[encoded data removed]",
      "text/plain": [
       "<Figure size 432x288 with 1 Axes>"
      ]
     },
     "metadata": {},
     "output_type": "display_data"
    }
   ],
   "source": [
    "sns.set_style('whitegrid')\n",
    "sns.countplot(x='GROUPS',data=prep,palette='RdBu_r')"
   ]
  },
  {
   "cell_type": "code",
   "execution_count": 220,
   "metadata": {},
   "outputs": [
    {
     "data": {
      "image/png": "[encoded data removed]",
      "text/plain": [
       "<Figure size 432x288 with 1 Axes>"
      ]
     },
     "metadata": {},
     "output_type": "display_data"
    }
   ],
   "source": [
    "explode = (0.1, 0.1, 0.1, 0.1, 0.8)\n",
    "\n",
    "prep['GROUPS'].value_counts().plot.pie(autopct='%1.1f%%',explode=explode, shadow=True, startangle=90)\n",
    "\n",
    "mat.gca().set_aspect('equal')"
   ]
  },
  {
   "cell_type": "code",
   "execution_count": null,
   "metadata": {},
   "outputs": [],
   "source": []
  },
  {
   "cell_type": "code",
   "execution_count": 52,
   "metadata": {},
   "outputs": [],
   "source": [
    "nighttime = prep.loc[prep['GROUPS'] == 'nighttime']"
   ]
  },
  {
   "cell_type": "code",
   "execution_count": 32,
   "metadata": {},
   "outputs": [],
   "source": [
    "a = nighttime['REASON_FOR_DEBIT_CREDIT'].value_counts()"
   ]
  },
  {
   "cell_type": "code",
   "execution_count": 33,
   "metadata": {},
   "outputs": [],
   "source": [
    "a_1 = pd.DataFrame(data=[a]).T"
   ]
  },
  {
   "cell_type": "code",
   "execution_count": 43,
   "metadata": {},
   "outputs": [],
   "source": [
    "a_1.to_csv('nighttime.csv')"
   ]
  },
  {
   "cell_type": "code",
   "execution_count": null,
   "metadata": {},
   "outputs": [],
   "source": []
  },
  {
   "cell_type": "code",
   "execution_count": 53,
   "metadata": {},
   "outputs": [],
   "source": [
    "morning = prep.loc[prep['GROUPS'] == 'morning']"
   ]
  },
  {
   "cell_type": "code",
   "execution_count": 34,
   "metadata": {},
   "outputs": [],
   "source": [
    "b = morning['REASON_FOR_DEBIT_CREDIT'].value_counts()"
   ]
  },
  {
   "cell_type": "code",
   "execution_count": 35,
   "metadata": {},
   "outputs": [],
   "source": [
    "b_1 = pd.DataFrame(data=[b]).T"
   ]
  },
  {
   "cell_type": "code",
   "execution_count": 44,
   "metadata": {},
   "outputs": [],
   "source": [
    "b_1.to_csv('morning.csv')"
   ]
  },
  {
   "cell_type": "code",
   "execution_count": null,
   "metadata": {},
   "outputs": [],
   "source": []
  },
  {
   "cell_type": "code",
   "execution_count": 54,
   "metadata": {},
   "outputs": [],
   "source": [
    "midday = prep.loc[prep['GROUPS'] == 'midday']"
   ]
  },
  {
   "cell_type": "code",
   "execution_count": 36,
   "metadata": {},
   "outputs": [],
   "source": [
    "c = midday['REASON_FOR_DEBIT_CREDIT'].value_counts()"
   ]
  },
  {
   "cell_type": "code",
   "execution_count": 37,
   "metadata": {},
   "outputs": [],
   "source": [
    "c_1 = pd.DataFrame(data=[c]).T"
   ]
  },
  {
   "cell_type": "code",
   "execution_count": 45,
   "metadata": {},
   "outputs": [],
   "source": [
    "c_1.to_csv('midday.csv')"
   ]
  },
  {
   "cell_type": "code",
   "execution_count": null,
   "metadata": {},
   "outputs": [],
   "source": []
  },
  {
   "cell_type": "code",
   "execution_count": 55,
   "metadata": {},
   "outputs": [],
   "source": [
    "afternoon = prep.loc[prep['GROUPS'] == 'afternoon']"
   ]
  },
  {
   "cell_type": "code",
   "execution_count": 38,
   "metadata": {},
   "outputs": [],
   "source": [
    "d = afternoon['REASON_FOR_DEBIT_CREDIT'].value_counts()"
   ]
  },
  {
   "cell_type": "code",
   "execution_count": 39,
   "metadata": {},
   "outputs": [],
   "source": [
    "d_1 = pd.DataFrame(data=[d]).T"
   ]
  },
  {
   "cell_type": "code",
   "execution_count": 46,
   "metadata": {},
   "outputs": [],
   "source": [
    "d_1.to_csv('afternoon.csv')"
   ]
  },
  {
   "cell_type": "code",
   "execution_count": null,
   "metadata": {},
   "outputs": [],
   "source": []
  },
  {
   "cell_type": "code",
   "execution_count": 56,
   "metadata": {},
   "outputs": [],
   "source": [
    "evenning = prep.loc[prep['GROUPS'] == 'evenning']"
   ]
  },
  {
   "cell_type": "code",
   "execution_count": 41,
   "metadata": {},
   "outputs": [],
   "source": [
    "e = evenning['REASON_FOR_DEBIT_CREDIT'].value_counts()"
   ]
  },
  {
   "cell_type": "code",
   "execution_count": 42,
   "metadata": {},
   "outputs": [],
   "source": [
    "e_1 = pd.DataFrame(data=[e]).T"
   ]
  },
  {
   "cell_type": "code",
   "execution_count": 47,
   "metadata": {},
   "outputs": [],
   "source": [
    "e_1.to_csv('evenning.csv')"
   ]
  },
  {
   "cell_type": "code",
   "execution_count": null,
   "metadata": {},
   "outputs": [],
   "source": []
  },
  {
   "cell_type": "code",
   "execution_count": null,
   "metadata": {},
   "outputs": [],
   "source": [
    "prep['REASON_FOR_DEBIT_CREDIT'].value_counts()"
   ]
  },
  {
   "cell_type": "code",
   "execution_count": null,
   "metadata": {},
   "outputs": [],
   "source": []
  },
  {
   "cell_type": "code",
   "execution_count": null,
   "metadata": {},
   "outputs": [],
   "source": []
  },
  {
   "cell_type": "code",
   "execution_count": null,
   "metadata": {},
   "outputs": [],
   "source": []
  },
  {
   "cell_type": "code",
   "execution_count": 60,
   "metadata": {},
   "outputs": [
    {
     "data": {
      "image/png": "[encoded data removed]",
      "text/plain": [
       "<Figure size 720x432 with 2 Axes>"
      ]
     },
     "metadata": {},
     "output_type": "display_data"
    }
   ],
   "source": [
    "f, ax = mat.subplots(figsize=(10, 6))\n",
    "corr = prep.corr()\n",
    "hm = sns.heatmap(round(corr,2), annot=True, ax=ax, cmap=\"coolwarm\",fmt='.2f',\n",
    "                 linewidths=.05)\n",
    "f.subplots_adjust(top=0.93)\n",
    "t= f.suptitle('Watson Attributes Correlation Heatmap', fontsize=14)"
   ]
  },
  {
   "cell_type": "code",
   "execution_count": 75,
   "metadata": {},
   "outputs": [],
   "source": [
    "def f(phrase):\n",
    "    for i in phrase:\n",
    "        if any(i in 'MB'):\n",
    "            return 'Data'\n"
   ]
  },
  {
   "cell_type": "code",
   "execution_count": 81,
   "metadata": {},
   "outputs": [
    {
     "data": {
      "text/plain": [
       "True"
      ]
     },
     "execution_count": 81,
     "metadata": {},
     "output_type": "execute_result"
    }
   ],
   "source": [
    "any(i in '22' for i in ('11','22','33'))"
   ]
  },
  {
   "cell_type": "code",
   "execution_count": 62,
   "metadata": {},
   "outputs": [
    {
     "ename": "SyntaxError",
     "evalue": "invalid syntax (<ipython-input-62-52ee875063fc>, line 1)",
     "output_type": "error",
     "traceback": [
      "\u001b[0;36m  File \u001b[0;32m\"<ipython-input-62-52ee875063fc>\"\u001b[0;36m, line \u001b[0;32m1\u001b[0m\n\u001b[0;31m    pattern = re.compile(r'\\d\\$,'):\u001b[0m\n\u001b[0m                                  ^\u001b[0m\n\u001b[0;31mSyntaxError\u001b[0m\u001b[0;31m:\u001b[0m invalid syntax\n"
     ]
    }
   ],
   "source": [
    "pattern = re.compile(r'\\d\\$,'):\n",
    "    if pattern.findall(s):\n",
    "        print('Found')\n",
    "    else:\n",
    "        print('Not found')"
   ]
  },
  {
   "cell_type": "code",
   "execution_count": 93,
   "metadata": {},
   "outputs": [],
   "source": [
    "def func():\n",
    "    data = 'data'\n",
    "    for i in data.split():\n",
    "        if i == 'a':\n",
    "            return data\n",
    "    print(data)\n",
    "\n",
    "\n",
    "    "
   ]
  },
  {
   "cell_type": "code",
   "execution_count": 192,
   "metadata": {},
   "outputs": [],
   "source": [
    "dr = prep.head()"
   ]
  },
  {
   "cell_type": "code",
   "execution_count": 193,
   "metadata": {},
   "outputs": [
    {
     "data": {
      "text/html": [
       "<div>\n",
       "<style scoped>\n",
       "    .dataframe tbody tr th:only-of-type {\n",
       "        vertical-align: middle;\n",
       "    }\n",
       "\n",
       "    .dataframe tbody tr th {\n",
       "        vertical-align: top;\n",
       "    }\n",
       "\n",
       "    .dataframe thead th {\n",
       "        text-align: right;\n",
       "    }\n",
       "</style>\n",
       "<table border=\"1\" class=\"dataframe\">\n",
       "  <thead>\n",
       "    <tr style=\"text-align: right;\">\n",
       "      <th></th>\n",
       "      <th>A_MSISDN</th>\n",
       "      <th>PROCESSED_DATE_TIME</th>\n",
       "      <th>DEBIT_CREDIT</th>\n",
       "      <th>REASON_FOR_DEBIT_CREDIT</th>\n",
       "      <th>OPEN_BAL</th>\n",
       "      <th>AMOUNT</th>\n",
       "      <th>CLOSE_BAL</th>\n",
       "      <th>SMS_DISCOUNT_FACTOR</th>\n",
       "      <th>UNIT_OF_MEASURE</th>\n",
       "      <th>Times</th>\n",
       "      <th>GROUPS</th>\n",
       "    </tr>\n",
       "  </thead>\n",
       "  <tbody>\n",
       "    <tr>\n",
       "      <th>1</th>\n",
       "      <td>1897346930</td>\n",
       "      <td>2018-07-12 00:43:00</td>\n",
       "      <td>C</td>\n",
       "      <td>XT1D50MB</td>\n",
       "      <td>119.0</td>\n",
       "      <td>8.0</td>\n",
       "      <td>127.0</td>\n",
       "      <td>0</td>\n",
       "      <td>Points</td>\n",
       "      <td>00:00:00-03:59:59</td>\n",
       "      <td>nighttime</td>\n",
       "    </tr>\n",
       "    <tr>\n",
       "      <th>5</th>\n",
       "      <td>3088462933</td>\n",
       "      <td>2018-07-12 00:51:51</td>\n",
       "      <td>C</td>\n",
       "      <td>Provision</td>\n",
       "      <td>79.0</td>\n",
       "      <td>17.0</td>\n",
       "      <td>96.0</td>\n",
       "      <td>0</td>\n",
       "      <td>Points</td>\n",
       "      <td>00:00:00-03:59:59</td>\n",
       "      <td>nighttime</td>\n",
       "    </tr>\n",
       "    <tr>\n",
       "      <th>7</th>\n",
       "      <td>4032303379</td>\n",
       "      <td>2018-07-12 00:48:19</td>\n",
       "      <td>C</td>\n",
       "      <td>XT1D20MB</td>\n",
       "      <td>601.0</td>\n",
       "      <td>4.0</td>\n",
       "      <td>605.0</td>\n",
       "      <td>0</td>\n",
       "      <td>Points</td>\n",
       "      <td>00:00:00-03:59:59</td>\n",
       "      <td>nighttime</td>\n",
       "    </tr>\n",
       "    <tr>\n",
       "      <th>8</th>\n",
       "      <td>3741909190</td>\n",
       "      <td>2018-07-12 00:48:30</td>\n",
       "      <td>C</td>\n",
       "      <td>Provision</td>\n",
       "      <td>75.0</td>\n",
       "      <td>29.0</td>\n",
       "      <td>104.0</td>\n",
       "      <td>0</td>\n",
       "      <td>Points</td>\n",
       "      <td>00:00:00-03:59:59</td>\n",
       "      <td>nighttime</td>\n",
       "    </tr>\n",
       "    <tr>\n",
       "      <th>13</th>\n",
       "      <td>344542536</td>\n",
       "      <td>2018-07-12 00:48:26</td>\n",
       "      <td>C</td>\n",
       "      <td>XT1D20MB</td>\n",
       "      <td>231.0</td>\n",
       "      <td>4.0</td>\n",
       "      <td>235.0</td>\n",
       "      <td>0</td>\n",
       "      <td>Points</td>\n",
       "      <td>00:00:00-03:59:59</td>\n",
       "      <td>nighttime</td>\n",
       "    </tr>\n",
       "  </tbody>\n",
       "</table>\n",
       "</div>"
      ],
      "text/plain": [
       "      A_MSISDN PROCESSED_DATE_TIME DEBIT_CREDIT REASON_FOR_DEBIT_CREDIT  \\\n",
       "1   1897346930 2018-07-12 00:43:00            C                XT1D50MB   \n",
       "5   3088462933 2018-07-12 00:51:51            C               Provision   \n",
       "7   4032303379 2018-07-12 00:48:19            C                XT1D20MB   \n",
       "8   3741909190 2018-07-12 00:48:30            C               Provision   \n",
       "13   344542536 2018-07-12 00:48:26            C                XT1D20MB   \n",
       "\n",
       "    OPEN_BAL  AMOUNT  CLOSE_BAL  SMS_DISCOUNT_FACTOR UNIT_OF_MEASURE  \\\n",
       "1      119.0     8.0      127.0                    0          Points   \n",
       "5       79.0    17.0       96.0                    0          Points   \n",
       "7      601.0     4.0      605.0                    0          Points   \n",
       "8       75.0    29.0      104.0                    0          Points   \n",
       "13     231.0     4.0      235.0                    0          Points   \n",
       "\n",
       "                Times     GROUPS  \n",
       "1   00:00:00-03:59:59  nighttime  \n",
       "5   00:00:00-03:59:59  nighttime  \n",
       "7   00:00:00-03:59:59  nighttime  \n",
       "8   00:00:00-03:59:59  nighttime  \n",
       "13  00:00:00-03:59:59  nighttime  "
      ]
     },
     "execution_count": 193,
     "metadata": {},
     "output_type": "execute_result"
    }
   ],
   "source": [
    "dr"
   ]
  },
  {
   "cell_type": "code",
   "execution_count": null,
   "metadata": {},
   "outputs": [],
   "source": []
  },
  {
   "cell_type": "code",
   "execution_count": 95,
   "metadata": {},
   "outputs": [],
   "source": [
    "def dataMB(value):\n",
    "    let = 'BDAP3G'\n",
    "    val = value.find(let)\n",
    "    if (val != -1):\n",
    "        return 'Data'\n",
    "    else:\n",
    "        return value"
   ]
  },
  {
   "cell_type": "code",
   "execution_count": 122,
   "metadata": {},
   "outputs": [],
   "source": [
    "def dataGB(value):\n",
    "    let = 'SMAC'\n",
    "    val = value.find(let)\n",
    "    if (val != -1):\n",
    "        return 'Other'\n",
    "    else:\n",
    "        return value"
   ]
  },
  {
   "cell_type": "code",
   "execution_count": 97,
   "metadata": {},
   "outputs": [],
   "source": [
    "def voice(value):\n",
    "    let = 'Airtime'\n",
    "    val = value.find(let)\n",
    "    if (val != -1):\n",
    "        return 'Other'\n",
    "    else:\n",
    "        return value"
   ]
  },
  {
   "cell_type": "code",
   "execution_count": 123,
   "metadata": {},
   "outputs": [
    {
     "name": "stderr",
     "output_type": "stream",
     "text": [
      "/Users/academy_intern/anaconda3/lib/python3.7/site-packages/ipykernel_launcher.py:1: SettingWithCopyWarning: \n",
      "A value is trying to be set on a copy of a slice from a DataFrame.\n",
      "Try using .loc[row_indexer,col_indexer] = value instead\n",
      "\n",
      "See the caveats in the documentation: http://pandas.pydata.org/pandas-docs/stable/indexing.html#indexing-view-versus-copy\n",
      "  \"\"\"Entry point for launching an IPython kernel.\n"
     ]
    }
   ],
   "source": [
    "prep['REASON_FOR_DEBIT_CREDIT'] = prep['REASON_FOR_DEBIT_CREDIT'].apply(dataGB)"
   ]
  },
  {
   "cell_type": "code",
   "execution_count": 124,
   "metadata": {},
   "outputs": [
    {
     "data": {
      "text/plain": [
       "array(['Data', 'Provision', 'Voice', 'PPMED', 'ReProvision', 'ODNX250',\n",
       "       'WIA', '1DAY', 'WIR', 'Me2UPrepaid', 'SMS', 'Other'], dtype=object)"
      ]
     },
     "execution_count": 124,
     "metadata": {},
     "output_type": "execute_result"
    }
   ],
   "source": [
    "prep['REASON_FOR_DEBIT_CREDIT'].unique()"
   ]
  },
  {
   "cell_type": "code",
   "execution_count": 125,
   "metadata": {},
   "outputs": [
    {
     "data": {
      "text/plain": [
       "Provision      294191\n",
       "Data           262255\n",
       "Voice          202703\n",
       "WIA             64235\n",
       "PPMED           50484\n",
       "WIR              6451\n",
       "1DAY             5642\n",
       "ODNX250          3787\n",
       "SMS              3227\n",
       "Other            2444\n",
       "Me2UPrepaid      2439\n",
       "ReProvision      1039\n",
       "Name: REASON_FOR_DEBIT_CREDIT, dtype: int64"
      ]
     },
     "execution_count": 125,
     "metadata": {},
     "output_type": "execute_result"
    }
   ],
   "source": [
    "prep['REASON_FOR_DEBIT_CREDIT'].value_counts()"
   ]
  },
  {
   "cell_type": "code",
   "execution_count": 143,
   "metadata": {},
   "outputs": [
    {
     "data": {
      "text/plain": [
       "array(['Data'], dtype=object)"
      ]
     },
     "execution_count": 143,
     "metadata": {},
     "output_type": "execute_result"
    }
   ],
   "source": [
    "loy_trans = d[d['REASON_FOR_DEBIT_CREDIT'].str.slice(0, 3) == 'LOY'].head()"
   ]
  },
  {
   "cell_type": "code",
   "execution_count": 241,
   "metadata": {},
   "outputs": [],
   "source": [
    "\n"
   ]
  },
  {
   "cell_type": "code",
   "execution_count": 272,
   "metadata": {},
   "outputs": [],
   "source": [
    "t = new_data[['DEBIT_CREDIT','REASON_FOR_DEBIT_CREDIT','OPEN_BAL','AMOUNT','CLOSE_BAL','UNIT_OF_MEASURE']]"
   ]
  },
  {
   "cell_type": "code",
   "execution_count": 298,
   "metadata": {},
   "outputs": [],
   "source": [
    "w = t.loc[t['REASON_FOR_DEBIT_CREDIT'] == 'ReProvision']"
   ]
  },
  {
   "cell_type": "code",
   "execution_count": null,
   "metadata": {},
   "outputs": [],
   "source": []
  },
  {
   "cell_type": "code",
   "execution_count": 288,
   "metadata": {},
   "outputs": [
    {
     "data": {
      "text/plain": [
       "array(['Points'], dtype=object)"
      ]
     },
     "execution_count": 288,
     "metadata": {},
     "output_type": "execute_result"
    }
   ],
   "source": [
    "w['UNIT_OF_MEASURE'].unique()"
   ]
  },
  {
   "cell_type": "code",
   "execution_count": null,
   "metadata": {},
   "outputs": [],
   "source": [
    "w.loc[w['UNIT_OF_MEASURE']=='']"
   ]
  },
  {
   "cell_type": "code",
   "execution_count": null,
   "metadata": {},
   "outputs": [],
   "source": [
    "t.loc[t['UNIT_OF_MEASURE'] == 'Units']"
   ]
  },
  {
   "cell_type": "code",
   "execution_count": 131,
   "metadata": {},
   "outputs": [],
   "source": [
    "\n",
    "prep.to_csv('Prep.csv')"
   ]
  },
  {
   "cell_type": "code",
   "execution_count": 203,
   "metadata": {},
   "outputs": [],
   "source": []
  },
  {
   "cell_type": "code",
   "execution_count": 204,
   "metadata": {},
   "outputs": [],
   "source": [
    "dom = pd.get_dummies(prep['REASON_FOR_DEBIT_CREDIT'])"
   ]
  },
  {
   "cell_type": "code",
   "execution_count": 207,
   "metadata": {},
   "outputs": [
    {
     "data": {
      "text/plain": [
       "0    464958\n",
       "1      2444\n",
       "Name: Other, dtype: int64"
      ]
     },
     "execution_count": 207,
     "metadata": {},
     "output_type": "execute_result"
    }
   ],
   "source": [
    "dom['Other'].value_counts()"
   ]
  },
  {
   "cell_type": "code",
   "execution_count": 183,
   "metadata": {},
   "outputs": [
    {
     "name": "stderr",
     "output_type": "stream",
     "text": [
      "/Users/academy_intern/anaconda3/lib/python3.7/site-packages/pandas/core/frame.py:3697: SettingWithCopyWarning: \n",
      "A value is trying to be set on a copy of a slice from a DataFrame\n",
      "\n",
      "See the caveats in the documentation: http://pandas.pydata.org/pandas-docs/stable/indexing.html#indexing-view-versus-copy\n",
      "  errors=errors)\n"
     ]
    }
   ],
   "source": [
    "dob.drop('REASON_FOR_DEBIT_CREDIT',axis=1,inplace=True)"
   ]
  },
  {
   "cell_type": "code",
   "execution_count": 184,
   "metadata": {},
   "outputs": [],
   "source": [
    "nop = pd.concat([dob,dom], axis = 1)"
   ]
  },
  {
   "cell_type": "code",
   "execution_count": 139,
   "metadata": {},
   "outputs": [
    {
     "data": {
      "text/plain": [
       "<matplotlib.axes._subplots.AxesSubplot at 0x1a18ef6eb8>"
      ]
     },
     "execution_count": 139,
     "metadata": {},
     "output_type": "execute_result"
    },
    {
     "data": {
      "image/png": "[encoded data removed]",
      "text/plain": [
       "<Figure size 432x288 with 1 Axes>"
      ]
     },
     "metadata": {},
     "output_type": "display_data"
    }
   ],
   "source": [
    "sns.heatmap(nop.isnull(),yticklabels=False,cbar=False,cmap='viridis')"
   ]
  },
  {
   "cell_type": "code",
   "execution_count": null,
   "metadata": {},
   "outputs": [],
   "source": []
  },
  {
   "cell_type": "code",
   "execution_count": 140,
   "metadata": {},
   "outputs": [],
   "source": [
    "from sklearn.model_selection import train_test_split"
   ]
  },
  {
   "cell_type": "code",
   "execution_count": 145,
   "metadata": {},
   "outputs": [],
   "source": [
    "#x = nop[['Data','AMOUNT']]"
   ]
  },
  {
   "cell_type": "code",
   "execution_count": 190,
   "metadata": {},
   "outputs": [],
   "source": [
    "X_train, X_test, y_train, y_test = train_test_split(nop.drop(['Data','A_MSISDN','PROCESSED_DATE_TIME','DEBIT_CREDIT','UNIT_OF_MEASURE','SMS_DISCOUNT_FACTOR','GROUPS'], axis=1), \n",
    "                                                    nop['Other'], test_size=0.50)"
   ]
  },
  {
   "cell_type": "code",
   "execution_count": null,
   "metadata": {},
   "outputs": [],
   "source": []
  },
  {
   "cell_type": "code",
   "execution_count": 142,
   "metadata": {},
   "outputs": [],
   "source": [
    "from sklearn.linear_model import LogisticRegression"
   ]
  },
  {
   "cell_type": "code",
   "execution_count": 191,
   "metadata": {},
   "outputs": [
    {
     "data": {
      "text/plain": [
       "LogisticRegression(C=1.0, class_weight=None, dual=False, fit_intercept=True,\n",
       "          intercept_scaling=1, max_iter=100, multi_class='ovr', n_jobs=1,\n",
       "          penalty='l2', random_state=None, solver='liblinear', tol=0.0001,\n",
       "          verbose=0, warm_start=False)"
      ]
     },
     "execution_count": 191,
     "metadata": {},
     "output_type": "execute_result"
    }
   ],
   "source": [
    "logmodel = LogisticRegression()\n",
    "logmodel.fit(X_train,y_train)"
   ]
  },
  {
   "cell_type": "code",
   "execution_count": 192,
   "metadata": {},
   "outputs": [],
   "source": [
    "predictions = logmodel.predict(X_test)"
   ]
  },
  {
   "cell_type": "code",
   "execution_count": null,
   "metadata": {},
   "outputs": [],
   "source": []
  },
  {
   "cell_type": "code",
   "execution_count": 188,
   "metadata": {},
   "outputs": [],
   "source": [
    "from sklearn.metrics import classification_report"
   ]
  },
  {
   "cell_type": "code",
   "execution_count": 193,
   "metadata": {},
   "outputs": [
    {
     "name": "stdout",
     "output_type": "stream",
     "text": [
      "             precision    recall  f1-score   support\n",
      "\n",
      "          0       0.99      1.00      1.00    232512\n",
      "          1       0.33      0.00      0.00      1189\n",
      "\n",
      "avg / total       0.99      0.99      0.99    233701\n",
      "\n"
     ]
    }
   ],
   "source": [
    "print(classification_report(y_test,predictions))"
   ]
  },
  {
   "cell_type": "code",
   "execution_count": null,
   "metadata": {},
   "outputs": [],
   "source": []
  },
  {
   "cell_type": "code",
   "execution_count": 213,
   "metadata": {},
   "outputs": [
    {
     "name": "stdout",
     "output_type": "stream",
     "text": [
      "1 5\n"
     ]
    }
   ],
   "source": [
    "arr = [1,2,3,4,5]\n",
    "print(min(arr),max(arr))"
   ]
  },
  {
   "cell_type": "code",
   "execution_count": null,
   "metadata": {},
   "outputs": [],
   "source": []
  },
  {
   "cell_type": "code",
   "execution_count": 209,
   "metadata": {},
   "outputs": [
    {
     "data": {
      "text/plain": [
       "[1, 2, 3, 4, 5]"
      ]
     },
     "execution_count": 209,
     "metadata": {},
     "output_type": "execute_result"
    }
   ],
   "source": [
    "arr"
   ]
  }
 ],
 "metadata": {
  "kernelspec": {
   "display_name": "Python 3",
   "language": "python",
   "name": "python3"
  },
  "language_info": {
   "codemirror_mode": {
    "name": "ipython",
    "version": 3
   },
   "file_extension": ".py",
   "mimetype": "text/x-python",
   "name": "python",
   "nbconvert_exporter": "python",
   "pygments_lexer": "ipython3",
   "version": "3.7.0"
  }
 },
 "nbformat": 4,
 "nbformat_minor": 2
}
